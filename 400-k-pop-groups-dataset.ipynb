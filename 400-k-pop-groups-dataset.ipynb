{
 "cells": [
  {
   "cell_type": "code",
   "execution_count": 1,
   "id": "d6dfd0e7",
   "metadata": {
    "_cell_guid": "b1076dfc-b9ad-4769-8c92-a6c4dae69d19",
    "_uuid": "8f2839f25d086af736a60e9eeb907d3b93b6e0e5",
    "execution": {
     "iopub.execute_input": "2023-06-09T15:49:15.970173Z",
     "iopub.status.busy": "2023-06-09T15:49:15.969810Z",
     "iopub.status.idle": "2023-06-09T15:49:15.990892Z",
     "shell.execute_reply": "2023-06-09T15:49:15.989852Z"
    },
    "papermill": {
     "duration": 0.033749,
     "end_time": "2023-06-09T15:49:15.993403",
     "exception": false,
     "start_time": "2023-06-09T15:49:15.959654",
     "status": "completed"
    },
    "tags": []
   },
   "outputs": [
    {
     "name": "stdout",
     "output_type": "stream",
     "text": [
      "/kaggle/input/kpop-groups-dataset/kpopgroups.csv\n"
     ]
    }
   ],
   "source": [
    "# This Python 3 environment comes with many helpful analytics libraries installed\n",
    "# It is defined by the kaggle/python Docker image: https://github.com/kaggle/docker-python\n",
    "# For example, here's several helpful packages to load\n",
    "\n",
    "import numpy as np # linear algebra\n",
    "import pandas as pd # data processing, CSV file I/O (e.g. pd.read_csv)\n",
    "\n",
    "# Input data files are available in the read-only \"../input/\" directory\n",
    "# For example, running this (by clicking run or pressing Shift+Enter) will list all files under the input directory\n",
    "\n",
    "import os\n",
    "for dirname, _, filenames in os.walk('/kaggle/input'):\n",
    "    for filename in filenames:\n",
    "        print(os.path.join(dirname, filename))\n",
    "\n",
    "# You can write up to 20GB to the current directory (/kaggle/working/) that gets preserved as output when you create a version using \"Save & Run All\" \n",
    "# You can also write temporary files to /kaggle/temp/, but they won't be saved outside of the current session"
   ]
  },
  {
   "cell_type": "code",
   "execution_count": 2,
   "id": "bf047f99",
   "metadata": {
    "execution": {
     "iopub.execute_input": "2023-06-09T15:49:16.010721Z",
     "iopub.status.busy": "2023-06-09T15:49:16.010353Z",
     "iopub.status.idle": "2023-06-09T15:50:06.443829Z",
     "shell.execute_reply": "2023-06-09T15:50:06.442878Z"
    },
    "papermill": {
     "duration": 50.445379,
     "end_time": "2023-06-09T15:50:06.446633",
     "exception": false,
     "start_time": "2023-06-09T15:49:16.001254",
     "status": "completed"
    },
    "tags": []
   },
   "outputs": [
    {
     "name": "stdout",
     "output_type": "stream",
     "text": [
      "Collecting pyspark\r\n",
      "  Downloading pyspark-3.4.0.tar.gz (310.8 MB)\r\n",
      "\u001b[2K     \u001b[90m━━━━━━━━━━━━━━━━━━━━━━━━━━━━━━━━━━━━━━━\u001b[0m \u001b[32m310.8/310.8 MB\u001b[0m \u001b[31m3.5 MB/s\u001b[0m eta \u001b[36m0:00:00\u001b[0m\r\n",
      "\u001b[?25h  Preparing metadata (setup.py) ... \u001b[?25l-\b \b\\\b \b|\b \bdone\r\n",
      "\u001b[?25hRequirement already satisfied: py4j==0.10.9.7 in /opt/conda/lib/python3.10/site-packages (from pyspark) (0.10.9.7)\r\n",
      "Building wheels for collected packages: pyspark\r\n",
      "  Building wheel for pyspark (setup.py) ... \u001b[?25l-\b \b\\\b \b|\b \b/\b \b-\b \b\\\b \b|\b \b/\b \b-\b \b\\\b \b|\b \b/\b \b-\b \bdone\r\n",
      "\u001b[?25h  Created wheel for pyspark: filename=pyspark-3.4.0-py2.py3-none-any.whl size=311317146 sha256=3cc3b2f048a0527e90c0bd52c7959044e7c1029523f129f4ba0e8a3a7caf7765\r\n",
      "  Stored in directory: /root/.cache/pip/wheels/7b/1b/4b/3363a1d04368e7ff0d408e57ff57966fcdf00583774e761327\r\n",
      "Successfully built pyspark\r\n",
      "Installing collected packages: pyspark\r\n",
      "Successfully installed pyspark-3.4.0\r\n",
      "\u001b[33mWARNING: Running pip as the 'root' user can result in broken permissions and conflicting behaviour with the system package manager. It is recommended to use a virtual environment instead: https://pip.pypa.io/warnings/venv\u001b[0m\u001b[33m\r\n",
      "\u001b[0mNote: you may need to restart the kernel to use updated packages.\n"
     ]
    }
   ],
   "source": [
    "pip install pyspark"
   ]
  },
  {
   "cell_type": "code",
   "execution_count": 3,
   "id": "0816ab96",
   "metadata": {
    "execution": {
     "iopub.execute_input": "2023-06-09T15:50:06.488604Z",
     "iopub.status.busy": "2023-06-09T15:50:06.488169Z",
     "iopub.status.idle": "2023-06-09T15:50:06.573503Z",
     "shell.execute_reply": "2023-06-09T15:50:06.572261Z"
    },
    "papermill": {
     "duration": 0.109072,
     "end_time": "2023-06-09T15:50:06.576374",
     "exception": false,
     "start_time": "2023-06-09T15:50:06.467302",
     "status": "completed"
    },
    "tags": []
   },
   "outputs": [],
   "source": [
    "# Import SparkSession\n",
    "from pyspark.sql import SparkSession"
   ]
  },
  {
   "cell_type": "code",
   "execution_count": 4,
   "id": "03a7458f",
   "metadata": {
    "execution": {
     "iopub.execute_input": "2023-06-09T15:50:06.617599Z",
     "iopub.status.busy": "2023-06-09T15:50:06.616497Z",
     "iopub.status.idle": "2023-06-09T15:50:18.625468Z",
     "shell.execute_reply": "2023-06-09T15:50:18.624161Z"
    },
    "papermill": {
     "duration": 12.033985,
     "end_time": "2023-06-09T15:50:18.629624",
     "exception": false,
     "start_time": "2023-06-09T15:50:06.595639",
     "status": "completed"
    },
    "tags": []
   },
   "outputs": [
    {
     "name": "stderr",
     "output_type": "stream",
     "text": [
      "Setting default log level to \"WARN\".\n",
      "To adjust logging level use sc.setLogLevel(newLevel). For SparkR, use setLogLevel(newLevel).\n",
      "23/06/09 15:50:10 WARN NativeCodeLoader: Unable to load native-hadoop library for your platform... using builtin-java classes where applicable\n"
     ]
    }
   ],
   "source": [
    "spark = SparkSession.Builder().master(\"local[1]\").appName(\"SparkByExamples.com\").getOrCreate()\n",
    "\n",
    "df = spark.read.csv(\"/kaggle/input/kpop-groups-dataset/kpopgroups.csv\")"
   ]
  },
  {
   "cell_type": "code",
   "execution_count": 5,
   "id": "a97dbed7",
   "metadata": {
    "execution": {
     "iopub.execute_input": "2023-06-09T15:50:18.684780Z",
     "iopub.status.busy": "2023-06-09T15:50:18.684376Z",
     "iopub.status.idle": "2023-06-09T15:50:19.017016Z",
     "shell.execute_reply": "2023-06-09T15:50:19.016194Z"
    },
    "papermill": {
     "duration": 0.362836,
     "end_time": "2023-06-09T15:50:19.019579",
     "exception": false,
     "start_time": "2023-06-09T15:50:18.656743",
     "status": "completed"
    },
    "tags": []
   },
   "outputs": [
    {
     "data": {
      "text/plain": [
       "Row(_c0='Name', _c1='Short', _c2='Korean Name', _c3='Gender', _c4='Debut', _c5='Company', _c6='Members', _c7='Orig Memb', _c8='Fanclub Name', _c9='Active')"
      ]
     },
     "execution_count": 5,
     "metadata": {},
     "output_type": "execute_result"
    }
   ],
   "source": [
    "df.head()"
   ]
  },
  {
   "cell_type": "code",
   "execution_count": 6,
   "id": "906e96c7",
   "metadata": {
    "execution": {
     "iopub.execute_input": "2023-06-09T15:50:19.060839Z",
     "iopub.status.busy": "2023-06-09T15:50:19.060103Z",
     "iopub.status.idle": "2023-06-09T15:50:19.338122Z",
     "shell.execute_reply": "2023-06-09T15:50:19.336903Z"
    },
    "papermill": {
     "duration": 0.302449,
     "end_time": "2023-06-09T15:50:19.341574",
     "exception": false,
     "start_time": "2023-06-09T15:50:19.039125",
     "status": "completed"
    },
    "tags": []
   },
   "outputs": [
    {
     "name": "stdout",
     "output_type": "stream",
     "text": [
      "+--------+-----+------------+------+----------+---------+-------+---------+------------+------+\n",
      "|     _c0|  _c1|         _c2|   _c3|       _c4|      _c5|    _c6|      _c7|         _c8|   _c9|\n",
      "+--------+-----+------------+------+----------+---------+-------+---------+------------+------+\n",
      "|    Name|Short| Korean Name|Gender|     Debut|  Company|Members|Orig Memb|Fanclub Name|Active|\n",
      "|(G)I-DLE| null|(여자)아이들|Female| 2/05/2018|     Cube|      5|        6|        null|   Yes|\n",
      "|    100%| null|    백퍼센트|  Male|18/09/2012|TOP Media|      4|        7|  Perfection|   Yes|\n",
      "|     14U| null|      원포유|  Male|17/04/2017|       BG|     14|       14|        null|    No|\n",
      "|     15&| null|  피프틴앤드|Female| 5/10/2012|      JYP|      2|        2|        null|    No|\n",
      "+--------+-----+------------+------+----------+---------+-------+---------+------------+------+\n",
      "only showing top 5 rows\n",
      "\n"
     ]
    }
   ],
   "source": [
    "df.show(5)"
   ]
  },
  {
   "cell_type": "code",
   "execution_count": 7,
   "id": "e5bb4728",
   "metadata": {
    "execution": {
     "iopub.execute_input": "2023-06-09T15:50:19.398155Z",
     "iopub.status.busy": "2023-06-09T15:50:19.397667Z",
     "iopub.status.idle": "2023-06-09T15:50:19.424937Z",
     "shell.execute_reply": "2023-06-09T15:50:19.423698Z"
    },
    "papermill": {
     "duration": 0.059732,
     "end_time": "2023-06-09T15:50:19.428389",
     "exception": false,
     "start_time": "2023-06-09T15:50:19.368657",
     "status": "completed"
    },
    "tags": []
   },
   "outputs": [],
   "source": [
    "df = pd.read_csv(\"/kaggle/input/kpop-groups-dataset/kpopgroups.csv\")"
   ]
  },
  {
   "cell_type": "code",
   "execution_count": 8,
   "id": "3fd574e2",
   "metadata": {
    "execution": {
     "iopub.execute_input": "2023-06-09T15:50:19.487101Z",
     "iopub.status.busy": "2023-06-09T15:50:19.486092Z",
     "iopub.status.idle": "2023-06-09T15:50:19.519957Z",
     "shell.execute_reply": "2023-06-09T15:50:19.519139Z"
    },
    "papermill": {
     "duration": 0.065654,
     "end_time": "2023-06-09T15:50:19.522067",
     "exception": false,
     "start_time": "2023-06-09T15:50:19.456413",
     "status": "completed"
    },
    "tags": []
   },
   "outputs": [
    {
     "data": {
      "text/html": [
       "<div>\n",
       "<style scoped>\n",
       "    .dataframe tbody tr th:only-of-type {\n",
       "        vertical-align: middle;\n",
       "    }\n",
       "\n",
       "    .dataframe tbody tr th {\n",
       "        vertical-align: top;\n",
       "    }\n",
       "\n",
       "    .dataframe thead th {\n",
       "        text-align: right;\n",
       "    }\n",
       "</style>\n",
       "<table border=\"1\" class=\"dataframe\">\n",
       "  <thead>\n",
       "    <tr style=\"text-align: right;\">\n",
       "      <th></th>\n",
       "      <th>Name</th>\n",
       "      <th>Short</th>\n",
       "      <th>Korean Name</th>\n",
       "      <th>Gender</th>\n",
       "      <th>Debut</th>\n",
       "      <th>Company</th>\n",
       "      <th>Members</th>\n",
       "      <th>Orig Memb</th>\n",
       "      <th>Fanclub Name</th>\n",
       "      <th>Active</th>\n",
       "    </tr>\n",
       "  </thead>\n",
       "  <tbody>\n",
       "    <tr>\n",
       "      <th>0</th>\n",
       "      <td>(G)I-DLE</td>\n",
       "      <td>NaN</td>\n",
       "      <td>(여자)아이들</td>\n",
       "      <td>Female</td>\n",
       "      <td>2/05/2018</td>\n",
       "      <td>Cube</td>\n",
       "      <td>5</td>\n",
       "      <td>6</td>\n",
       "      <td>NaN</td>\n",
       "      <td>Yes</td>\n",
       "    </tr>\n",
       "    <tr>\n",
       "      <th>1</th>\n",
       "      <td>100%</td>\n",
       "      <td>NaN</td>\n",
       "      <td>백퍼센트</td>\n",
       "      <td>Male</td>\n",
       "      <td>18/09/2012</td>\n",
       "      <td>TOP Media</td>\n",
       "      <td>4</td>\n",
       "      <td>7</td>\n",
       "      <td>Perfection</td>\n",
       "      <td>Yes</td>\n",
       "    </tr>\n",
       "    <tr>\n",
       "      <th>2</th>\n",
       "      <td>14U</td>\n",
       "      <td>NaN</td>\n",
       "      <td>원포유</td>\n",
       "      <td>Male</td>\n",
       "      <td>17/04/2017</td>\n",
       "      <td>BG</td>\n",
       "      <td>14</td>\n",
       "      <td>14</td>\n",
       "      <td>NaN</td>\n",
       "      <td>No</td>\n",
       "    </tr>\n",
       "    <tr>\n",
       "      <th>3</th>\n",
       "      <td>15&amp;</td>\n",
       "      <td>NaN</td>\n",
       "      <td>피프틴앤드</td>\n",
       "      <td>Female</td>\n",
       "      <td>5/10/2012</td>\n",
       "      <td>JYP</td>\n",
       "      <td>2</td>\n",
       "      <td>2</td>\n",
       "      <td>NaN</td>\n",
       "      <td>No</td>\n",
       "    </tr>\n",
       "    <tr>\n",
       "      <th>4</th>\n",
       "      <td>1TEAM</td>\n",
       "      <td>NaN</td>\n",
       "      <td>원팀</td>\n",
       "      <td>Male</td>\n",
       "      <td>27/03/2019</td>\n",
       "      <td>LiveWorks</td>\n",
       "      <td>5</td>\n",
       "      <td>5</td>\n",
       "      <td>NaN</td>\n",
       "      <td>No</td>\n",
       "    </tr>\n",
       "  </tbody>\n",
       "</table>\n",
       "</div>"
      ],
      "text/plain": [
       "       Name Short Korean Name  Gender       Debut    Company  Members  \\\n",
       "0  (G)I-DLE   NaN     (여자)아이들  Female   2/05/2018       Cube        5   \n",
       "1      100%   NaN        백퍼센트    Male  18/09/2012  TOP Media        4   \n",
       "2       14U   NaN         원포유    Male  17/04/2017         BG       14   \n",
       "3       15&   NaN       피프틴앤드  Female   5/10/2012        JYP        2   \n",
       "4     1TEAM   NaN          원팀    Male  27/03/2019  LiveWorks        5   \n",
       "\n",
       "   Orig Memb Fanclub Name Active  \n",
       "0          6          NaN    Yes  \n",
       "1          7   Perfection    Yes  \n",
       "2         14          NaN     No  \n",
       "3          2          NaN     No  \n",
       "4          5          NaN     No  "
      ]
     },
     "execution_count": 8,
     "metadata": {},
     "output_type": "execute_result"
    }
   ],
   "source": [
    "df.head()"
   ]
  },
  {
   "cell_type": "code",
   "execution_count": 9,
   "id": "c61a41f9",
   "metadata": {
    "execution": {
     "iopub.execute_input": "2023-06-09T15:50:19.563941Z",
     "iopub.status.busy": "2023-06-09T15:50:19.563242Z",
     "iopub.status.idle": "2023-06-09T15:50:19.571673Z",
     "shell.execute_reply": "2023-06-09T15:50:19.570960Z"
    },
    "papermill": {
     "duration": 0.031508,
     "end_time": "2023-06-09T15:50:19.573571",
     "exception": false,
     "start_time": "2023-06-09T15:50:19.542063",
     "status": "completed"
    },
    "tags": []
   },
   "outputs": [
    {
     "data": {
      "text/plain": [
       "0      True\n",
       "1      True\n",
       "2      True\n",
       "3      True\n",
       "4      True\n",
       "       ... \n",
       "421    True\n",
       "422    True\n",
       "423    True\n",
       "424    True\n",
       "425    True\n",
       "Name: Short, Length: 426, dtype: bool"
      ]
     },
     "execution_count": 9,
     "metadata": {},
     "output_type": "execute_result"
    }
   ],
   "source": [
    "df['Short'].isna()"
   ]
  },
  {
   "cell_type": "code",
   "execution_count": 10,
   "id": "92748efe",
   "metadata": {
    "execution": {
     "iopub.execute_input": "2023-06-09T15:50:19.615591Z",
     "iopub.status.busy": "2023-06-09T15:50:19.614895Z",
     "iopub.status.idle": "2023-06-09T15:50:19.713224Z",
     "shell.execute_reply": "2023-06-09T15:50:19.712080Z"
    },
    "papermill": {
     "duration": 0.12254,
     "end_time": "2023-06-09T15:50:19.715932",
     "exception": false,
     "start_time": "2023-06-09T15:50:19.593392",
     "status": "completed"
    },
    "tags": []
   },
   "outputs": [],
   "source": [
    "temp_short = []\n",
    "temp_fanclub = []\n",
    "\n",
    "for i in range(df.shape[0]):\n",
    "    if df['Short'].isna()[i] == True:\n",
    "        temp_short.append(0)\n",
    "    else:\n",
    "        temp_short.append(1)\n",
    "        \n",
    "    if df['Fanclub Name'].isna()[i] == True:\n",
    "        temp_fanclub.append(0)\n",
    "    else:\n",
    "        temp_fanclub.append(1)"
   ]
  },
  {
   "cell_type": "code",
   "execution_count": 11,
   "id": "3950d386",
   "metadata": {
    "execution": {
     "iopub.execute_input": "2023-06-09T15:50:19.758092Z",
     "iopub.status.busy": "2023-06-09T15:50:19.757618Z",
     "iopub.status.idle": "2023-06-09T15:50:19.763659Z",
     "shell.execute_reply": "2023-06-09T15:50:19.762552Z"
    },
    "papermill": {
     "duration": 0.029834,
     "end_time": "2023-06-09T15:50:19.765933",
     "exception": false,
     "start_time": "2023-06-09T15:50:19.736099",
     "status": "completed"
    },
    "tags": []
   },
   "outputs": [],
   "source": [
    "df['Short'] = temp_short\n",
    "df['Fanclub Name'] = temp_fanclub"
   ]
  },
  {
   "cell_type": "code",
   "execution_count": 12,
   "id": "e781d871",
   "metadata": {
    "execution": {
     "iopub.execute_input": "2023-06-09T15:50:19.808066Z",
     "iopub.status.busy": "2023-06-09T15:50:19.807678Z",
     "iopub.status.idle": "2023-06-09T15:50:19.822413Z",
     "shell.execute_reply": "2023-06-09T15:50:19.821296Z"
    },
    "papermill": {
     "duration": 0.039011,
     "end_time": "2023-06-09T15:50:19.824718",
     "exception": false,
     "start_time": "2023-06-09T15:50:19.785707",
     "status": "completed"
    },
    "tags": []
   },
   "outputs": [
    {
     "data": {
      "text/html": [
       "<div>\n",
       "<style scoped>\n",
       "    .dataframe tbody tr th:only-of-type {\n",
       "        vertical-align: middle;\n",
       "    }\n",
       "\n",
       "    .dataframe tbody tr th {\n",
       "        vertical-align: top;\n",
       "    }\n",
       "\n",
       "    .dataframe thead th {\n",
       "        text-align: right;\n",
       "    }\n",
       "</style>\n",
       "<table border=\"1\" class=\"dataframe\">\n",
       "  <thead>\n",
       "    <tr style=\"text-align: right;\">\n",
       "      <th></th>\n",
       "      <th>Name</th>\n",
       "      <th>Short</th>\n",
       "      <th>Korean Name</th>\n",
       "      <th>Gender</th>\n",
       "      <th>Debut</th>\n",
       "      <th>Company</th>\n",
       "      <th>Members</th>\n",
       "      <th>Orig Memb</th>\n",
       "      <th>Fanclub Name</th>\n",
       "      <th>Active</th>\n",
       "    </tr>\n",
       "  </thead>\n",
       "  <tbody>\n",
       "    <tr>\n",
       "      <th>0</th>\n",
       "      <td>(G)I-DLE</td>\n",
       "      <td>0</td>\n",
       "      <td>(여자)아이들</td>\n",
       "      <td>Female</td>\n",
       "      <td>2/05/2018</td>\n",
       "      <td>Cube</td>\n",
       "      <td>5</td>\n",
       "      <td>6</td>\n",
       "      <td>0</td>\n",
       "      <td>Yes</td>\n",
       "    </tr>\n",
       "    <tr>\n",
       "      <th>1</th>\n",
       "      <td>100%</td>\n",
       "      <td>0</td>\n",
       "      <td>백퍼센트</td>\n",
       "      <td>Male</td>\n",
       "      <td>18/09/2012</td>\n",
       "      <td>TOP Media</td>\n",
       "      <td>4</td>\n",
       "      <td>7</td>\n",
       "      <td>1</td>\n",
       "      <td>Yes</td>\n",
       "    </tr>\n",
       "    <tr>\n",
       "      <th>2</th>\n",
       "      <td>14U</td>\n",
       "      <td>0</td>\n",
       "      <td>원포유</td>\n",
       "      <td>Male</td>\n",
       "      <td>17/04/2017</td>\n",
       "      <td>BG</td>\n",
       "      <td>14</td>\n",
       "      <td>14</td>\n",
       "      <td>0</td>\n",
       "      <td>No</td>\n",
       "    </tr>\n",
       "    <tr>\n",
       "      <th>3</th>\n",
       "      <td>15&amp;</td>\n",
       "      <td>0</td>\n",
       "      <td>피프틴앤드</td>\n",
       "      <td>Female</td>\n",
       "      <td>5/10/2012</td>\n",
       "      <td>JYP</td>\n",
       "      <td>2</td>\n",
       "      <td>2</td>\n",
       "      <td>0</td>\n",
       "      <td>No</td>\n",
       "    </tr>\n",
       "    <tr>\n",
       "      <th>4</th>\n",
       "      <td>1TEAM</td>\n",
       "      <td>0</td>\n",
       "      <td>원팀</td>\n",
       "      <td>Male</td>\n",
       "      <td>27/03/2019</td>\n",
       "      <td>LiveWorks</td>\n",
       "      <td>5</td>\n",
       "      <td>5</td>\n",
       "      <td>0</td>\n",
       "      <td>No</td>\n",
       "    </tr>\n",
       "  </tbody>\n",
       "</table>\n",
       "</div>"
      ],
      "text/plain": [
       "       Name  Short Korean Name  Gender       Debut    Company  Members  \\\n",
       "0  (G)I-DLE      0     (여자)아이들  Female   2/05/2018       Cube        5   \n",
       "1      100%      0        백퍼센트    Male  18/09/2012  TOP Media        4   \n",
       "2       14U      0         원포유    Male  17/04/2017         BG       14   \n",
       "3       15&      0       피프틴앤드  Female   5/10/2012        JYP        2   \n",
       "4     1TEAM      0          원팀    Male  27/03/2019  LiveWorks        5   \n",
       "\n",
       "   Orig Memb  Fanclub Name Active  \n",
       "0          6             0    Yes  \n",
       "1          7             1    Yes  \n",
       "2         14             0     No  \n",
       "3          2             0     No  \n",
       "4          5             0     No  "
      ]
     },
     "execution_count": 12,
     "metadata": {},
     "output_type": "execute_result"
    }
   ],
   "source": [
    "df.head()"
   ]
  },
  {
   "cell_type": "code",
   "execution_count": 13,
   "id": "a6fdc48d",
   "metadata": {
    "execution": {
     "iopub.execute_input": "2023-06-09T15:50:19.867442Z",
     "iopub.status.busy": "2023-06-09T15:50:19.867055Z",
     "iopub.status.idle": "2023-06-09T15:50:19.877749Z",
     "shell.execute_reply": "2023-06-09T15:50:19.876978Z"
    },
    "papermill": {
     "duration": 0.034905,
     "end_time": "2023-06-09T15:50:19.880012",
     "exception": false,
     "start_time": "2023-06-09T15:50:19.845107",
     "status": "completed"
    },
    "tags": []
   },
   "outputs": [],
   "source": [
    "df.drop(labels=['Name', 'Korean Name'], inplace=True, axis = 1)"
   ]
  },
  {
   "cell_type": "code",
   "execution_count": 14,
   "id": "f536e50f",
   "metadata": {
    "execution": {
     "iopub.execute_input": "2023-06-09T15:50:19.922785Z",
     "iopub.status.busy": "2023-06-09T15:50:19.922023Z",
     "iopub.status.idle": "2023-06-09T15:50:19.928863Z",
     "shell.execute_reply": "2023-06-09T15:50:19.928124Z"
    },
    "papermill": {
     "duration": 0.030549,
     "end_time": "2023-06-09T15:50:19.930882",
     "exception": false,
     "start_time": "2023-06-09T15:50:19.900333",
     "status": "completed"
    },
    "tags": []
   },
   "outputs": [],
   "source": [
    "df = df.dropna()"
   ]
  },
  {
   "cell_type": "code",
   "execution_count": 15,
   "id": "6e431fa9",
   "metadata": {
    "execution": {
     "iopub.execute_input": "2023-06-09T15:50:19.973015Z",
     "iopub.status.busy": "2023-06-09T15:50:19.972627Z",
     "iopub.status.idle": "2023-06-09T15:50:19.985042Z",
     "shell.execute_reply": "2023-06-09T15:50:19.984273Z"
    },
    "papermill": {
     "duration": 0.036052,
     "end_time": "2023-06-09T15:50:19.986995",
     "exception": false,
     "start_time": "2023-06-09T15:50:19.950943",
     "status": "completed"
    },
    "tags": []
   },
   "outputs": [
    {
     "data": {
      "text/html": [
       "<div>\n",
       "<style scoped>\n",
       "    .dataframe tbody tr th:only-of-type {\n",
       "        vertical-align: middle;\n",
       "    }\n",
       "\n",
       "    .dataframe tbody tr th {\n",
       "        vertical-align: top;\n",
       "    }\n",
       "\n",
       "    .dataframe thead th {\n",
       "        text-align: right;\n",
       "    }\n",
       "</style>\n",
       "<table border=\"1\" class=\"dataframe\">\n",
       "  <thead>\n",
       "    <tr style=\"text-align: right;\">\n",
       "      <th></th>\n",
       "      <th>Short</th>\n",
       "      <th>Gender</th>\n",
       "      <th>Debut</th>\n",
       "      <th>Company</th>\n",
       "      <th>Members</th>\n",
       "      <th>Orig Memb</th>\n",
       "      <th>Fanclub Name</th>\n",
       "      <th>Active</th>\n",
       "    </tr>\n",
       "  </thead>\n",
       "  <tbody>\n",
       "    <tr>\n",
       "      <th>0</th>\n",
       "      <td>0</td>\n",
       "      <td>Female</td>\n",
       "      <td>2/05/2018</td>\n",
       "      <td>Cube</td>\n",
       "      <td>5</td>\n",
       "      <td>6</td>\n",
       "      <td>0</td>\n",
       "      <td>Yes</td>\n",
       "    </tr>\n",
       "    <tr>\n",
       "      <th>1</th>\n",
       "      <td>0</td>\n",
       "      <td>Male</td>\n",
       "      <td>18/09/2012</td>\n",
       "      <td>TOP Media</td>\n",
       "      <td>4</td>\n",
       "      <td>7</td>\n",
       "      <td>1</td>\n",
       "      <td>Yes</td>\n",
       "    </tr>\n",
       "    <tr>\n",
       "      <th>2</th>\n",
       "      <td>0</td>\n",
       "      <td>Male</td>\n",
       "      <td>17/04/2017</td>\n",
       "      <td>BG</td>\n",
       "      <td>14</td>\n",
       "      <td>14</td>\n",
       "      <td>0</td>\n",
       "      <td>No</td>\n",
       "    </tr>\n",
       "    <tr>\n",
       "      <th>3</th>\n",
       "      <td>0</td>\n",
       "      <td>Female</td>\n",
       "      <td>5/10/2012</td>\n",
       "      <td>JYP</td>\n",
       "      <td>2</td>\n",
       "      <td>2</td>\n",
       "      <td>0</td>\n",
       "      <td>No</td>\n",
       "    </tr>\n",
       "    <tr>\n",
       "      <th>4</th>\n",
       "      <td>0</td>\n",
       "      <td>Male</td>\n",
       "      <td>27/03/2019</td>\n",
       "      <td>LiveWorks</td>\n",
       "      <td>5</td>\n",
       "      <td>5</td>\n",
       "      <td>0</td>\n",
       "      <td>No</td>\n",
       "    </tr>\n",
       "  </tbody>\n",
       "</table>\n",
       "</div>"
      ],
      "text/plain": [
       "   Short  Gender       Debut    Company  Members  Orig Memb  Fanclub Name  \\\n",
       "0      0  Female   2/05/2018       Cube        5          6             0   \n",
       "1      0    Male  18/09/2012  TOP Media        4          7             1   \n",
       "2      0    Male  17/04/2017         BG       14         14             0   \n",
       "3      0  Female   5/10/2012        JYP        2          2             0   \n",
       "4      0    Male  27/03/2019  LiveWorks        5          5             0   \n",
       "\n",
       "  Active  \n",
       "0    Yes  \n",
       "1    Yes  \n",
       "2     No  \n",
       "3     No  \n",
       "4     No  "
      ]
     },
     "execution_count": 15,
     "metadata": {},
     "output_type": "execute_result"
    }
   ],
   "source": [
    "df.head()"
   ]
  },
  {
   "cell_type": "code",
   "execution_count": 16,
   "id": "503b2854",
   "metadata": {
    "execution": {
     "iopub.execute_input": "2023-06-09T15:50:20.032081Z",
     "iopub.status.busy": "2023-06-09T15:50:20.031265Z",
     "iopub.status.idle": "2023-06-09T15:50:20.039013Z",
     "shell.execute_reply": "2023-06-09T15:50:20.037915Z"
    },
    "papermill": {
     "duration": 0.031833,
     "end_time": "2023-06-09T15:50:20.041520",
     "exception": false,
     "start_time": "2023-06-09T15:50:20.009687",
     "status": "completed"
    },
    "tags": []
   },
   "outputs": [],
   "source": [
    "debut_day = []\n",
    "debut_month = []\n",
    "debut_year = []\n",
    "\n",
    "for entry in df['Debut']:\n",
    "    entry = entry.split(\"/\")\n",
    "    debut_day.append(int(entry[0]))\n",
    "    debut_month.append(int(entry[1]))\n",
    "    debut_year.append(int(entry[2]))"
   ]
  },
  {
   "cell_type": "code",
   "execution_count": 17,
   "id": "fdba4b08",
   "metadata": {
    "execution": {
     "iopub.execute_input": "2023-06-09T15:50:20.083619Z",
     "iopub.status.busy": "2023-06-09T15:50:20.083191Z",
     "iopub.status.idle": "2023-06-09T15:50:20.089246Z",
     "shell.execute_reply": "2023-06-09T15:50:20.088232Z"
    },
    "papermill": {
     "duration": 0.029448,
     "end_time": "2023-06-09T15:50:20.091402",
     "exception": false,
     "start_time": "2023-06-09T15:50:20.061954",
     "status": "completed"
    },
    "tags": []
   },
   "outputs": [],
   "source": [
    "df.drop(labels=['Debut'], inplace=True, axis=1)"
   ]
  },
  {
   "cell_type": "code",
   "execution_count": 18,
   "id": "3b2164e5",
   "metadata": {
    "execution": {
     "iopub.execute_input": "2023-06-09T15:50:20.133709Z",
     "iopub.status.busy": "2023-06-09T15:50:20.133289Z",
     "iopub.status.idle": "2023-06-09T15:50:20.142078Z",
     "shell.execute_reply": "2023-06-09T15:50:20.141045Z"
    },
    "papermill": {
     "duration": 0.032743,
     "end_time": "2023-06-09T15:50:20.144314",
     "exception": false,
     "start_time": "2023-06-09T15:50:20.111571",
     "status": "completed"
    },
    "tags": []
   },
   "outputs": [],
   "source": [
    "df['Debut_Day'] = debut_day\n",
    "df['Debut_Month'] = debut_month\n",
    "df['Debut_Year'] = debut_year"
   ]
  },
  {
   "cell_type": "code",
   "execution_count": 19,
   "id": "fbb47cf0",
   "metadata": {
    "execution": {
     "iopub.execute_input": "2023-06-09T15:50:20.186910Z",
     "iopub.status.busy": "2023-06-09T15:50:20.186466Z",
     "iopub.status.idle": "2023-06-09T15:50:20.202987Z",
     "shell.execute_reply": "2023-06-09T15:50:20.201968Z"
    },
    "papermill": {
     "duration": 0.040451,
     "end_time": "2023-06-09T15:50:20.205107",
     "exception": false,
     "start_time": "2023-06-09T15:50:20.164656",
     "status": "completed"
    },
    "tags": []
   },
   "outputs": [
    {
     "data": {
      "text/html": [
       "<div>\n",
       "<style scoped>\n",
       "    .dataframe tbody tr th:only-of-type {\n",
       "        vertical-align: middle;\n",
       "    }\n",
       "\n",
       "    .dataframe tbody tr th {\n",
       "        vertical-align: top;\n",
       "    }\n",
       "\n",
       "    .dataframe thead th {\n",
       "        text-align: right;\n",
       "    }\n",
       "</style>\n",
       "<table border=\"1\" class=\"dataframe\">\n",
       "  <thead>\n",
       "    <tr style=\"text-align: right;\">\n",
       "      <th></th>\n",
       "      <th>Short</th>\n",
       "      <th>Gender</th>\n",
       "      <th>Company</th>\n",
       "      <th>Members</th>\n",
       "      <th>Orig Memb</th>\n",
       "      <th>Fanclub Name</th>\n",
       "      <th>Active</th>\n",
       "      <th>Debut_Day</th>\n",
       "      <th>Debut_Month</th>\n",
       "      <th>Debut_Year</th>\n",
       "    </tr>\n",
       "  </thead>\n",
       "  <tbody>\n",
       "    <tr>\n",
       "      <th>0</th>\n",
       "      <td>0</td>\n",
       "      <td>Female</td>\n",
       "      <td>Cube</td>\n",
       "      <td>5</td>\n",
       "      <td>6</td>\n",
       "      <td>0</td>\n",
       "      <td>Yes</td>\n",
       "      <td>2</td>\n",
       "      <td>5</td>\n",
       "      <td>2018</td>\n",
       "    </tr>\n",
       "    <tr>\n",
       "      <th>1</th>\n",
       "      <td>0</td>\n",
       "      <td>Male</td>\n",
       "      <td>TOP Media</td>\n",
       "      <td>4</td>\n",
       "      <td>7</td>\n",
       "      <td>1</td>\n",
       "      <td>Yes</td>\n",
       "      <td>18</td>\n",
       "      <td>9</td>\n",
       "      <td>2012</td>\n",
       "    </tr>\n",
       "    <tr>\n",
       "      <th>2</th>\n",
       "      <td>0</td>\n",
       "      <td>Male</td>\n",
       "      <td>BG</td>\n",
       "      <td>14</td>\n",
       "      <td>14</td>\n",
       "      <td>0</td>\n",
       "      <td>No</td>\n",
       "      <td>17</td>\n",
       "      <td>4</td>\n",
       "      <td>2017</td>\n",
       "    </tr>\n",
       "    <tr>\n",
       "      <th>3</th>\n",
       "      <td>0</td>\n",
       "      <td>Female</td>\n",
       "      <td>JYP</td>\n",
       "      <td>2</td>\n",
       "      <td>2</td>\n",
       "      <td>0</td>\n",
       "      <td>No</td>\n",
       "      <td>5</td>\n",
       "      <td>10</td>\n",
       "      <td>2012</td>\n",
       "    </tr>\n",
       "    <tr>\n",
       "      <th>4</th>\n",
       "      <td>0</td>\n",
       "      <td>Male</td>\n",
       "      <td>LiveWorks</td>\n",
       "      <td>5</td>\n",
       "      <td>5</td>\n",
       "      <td>0</td>\n",
       "      <td>No</td>\n",
       "      <td>27</td>\n",
       "      <td>3</td>\n",
       "      <td>2019</td>\n",
       "    </tr>\n",
       "  </tbody>\n",
       "</table>\n",
       "</div>"
      ],
      "text/plain": [
       "   Short  Gender    Company  Members  Orig Memb  Fanclub Name Active  \\\n",
       "0      0  Female       Cube        5          6             0    Yes   \n",
       "1      0    Male  TOP Media        4          7             1    Yes   \n",
       "2      0    Male         BG       14         14             0     No   \n",
       "3      0  Female        JYP        2          2             0     No   \n",
       "4      0    Male  LiveWorks        5          5             0     No   \n",
       "\n",
       "   Debut_Day  Debut_Month  Debut_Year  \n",
       "0          2            5        2018  \n",
       "1         18            9        2012  \n",
       "2         17            4        2017  \n",
       "3          5           10        2012  \n",
       "4         27            3        2019  "
      ]
     },
     "execution_count": 19,
     "metadata": {},
     "output_type": "execute_result"
    }
   ],
   "source": [
    "df.head()"
   ]
  },
  {
   "cell_type": "code",
   "execution_count": 20,
   "id": "bfebc907",
   "metadata": {
    "execution": {
     "iopub.execute_input": "2023-06-09T15:50:20.247595Z",
     "iopub.status.busy": "2023-06-09T15:50:20.247180Z",
     "iopub.status.idle": "2023-06-09T15:50:20.254964Z",
     "shell.execute_reply": "2023-06-09T15:50:20.253941Z"
    },
    "papermill": {
     "duration": 0.031732,
     "end_time": "2023-06-09T15:50:20.257159",
     "exception": false,
     "start_time": "2023-06-09T15:50:20.225427",
     "status": "completed"
    },
    "tags": []
   },
   "outputs": [],
   "source": [
    "for col in df:\n",
    "    if df[col].dtype == \"object\":\n",
    "        df[col] = df[col].factorize()[0]"
   ]
  },
  {
   "cell_type": "code",
   "execution_count": 21,
   "id": "5b1a50cf",
   "metadata": {
    "execution": {
     "iopub.execute_input": "2023-06-09T15:50:20.300094Z",
     "iopub.status.busy": "2023-06-09T15:50:20.299658Z",
     "iopub.status.idle": "2023-06-09T15:50:20.313067Z",
     "shell.execute_reply": "2023-06-09T15:50:20.312092Z"
    },
    "papermill": {
     "duration": 0.037319,
     "end_time": "2023-06-09T15:50:20.315106",
     "exception": false,
     "start_time": "2023-06-09T15:50:20.277787",
     "status": "completed"
    },
    "tags": []
   },
   "outputs": [
    {
     "data": {
      "text/html": [
       "<div>\n",
       "<style scoped>\n",
       "    .dataframe tbody tr th:only-of-type {\n",
       "        vertical-align: middle;\n",
       "    }\n",
       "\n",
       "    .dataframe tbody tr th {\n",
       "        vertical-align: top;\n",
       "    }\n",
       "\n",
       "    .dataframe thead th {\n",
       "        text-align: right;\n",
       "    }\n",
       "</style>\n",
       "<table border=\"1\" class=\"dataframe\">\n",
       "  <thead>\n",
       "    <tr style=\"text-align: right;\">\n",
       "      <th></th>\n",
       "      <th>Short</th>\n",
       "      <th>Gender</th>\n",
       "      <th>Company</th>\n",
       "      <th>Members</th>\n",
       "      <th>Orig Memb</th>\n",
       "      <th>Fanclub Name</th>\n",
       "      <th>Active</th>\n",
       "      <th>Debut_Day</th>\n",
       "      <th>Debut_Month</th>\n",
       "      <th>Debut_Year</th>\n",
       "    </tr>\n",
       "  </thead>\n",
       "  <tbody>\n",
       "    <tr>\n",
       "      <th>0</th>\n",
       "      <td>0</td>\n",
       "      <td>0</td>\n",
       "      <td>0</td>\n",
       "      <td>5</td>\n",
       "      <td>6</td>\n",
       "      <td>0</td>\n",
       "      <td>0</td>\n",
       "      <td>2</td>\n",
       "      <td>5</td>\n",
       "      <td>2018</td>\n",
       "    </tr>\n",
       "    <tr>\n",
       "      <th>1</th>\n",
       "      <td>0</td>\n",
       "      <td>1</td>\n",
       "      <td>1</td>\n",
       "      <td>4</td>\n",
       "      <td>7</td>\n",
       "      <td>1</td>\n",
       "      <td>0</td>\n",
       "      <td>18</td>\n",
       "      <td>9</td>\n",
       "      <td>2012</td>\n",
       "    </tr>\n",
       "    <tr>\n",
       "      <th>2</th>\n",
       "      <td>0</td>\n",
       "      <td>1</td>\n",
       "      <td>2</td>\n",
       "      <td>14</td>\n",
       "      <td>14</td>\n",
       "      <td>0</td>\n",
       "      <td>1</td>\n",
       "      <td>17</td>\n",
       "      <td>4</td>\n",
       "      <td>2017</td>\n",
       "    </tr>\n",
       "    <tr>\n",
       "      <th>3</th>\n",
       "      <td>0</td>\n",
       "      <td>0</td>\n",
       "      <td>3</td>\n",
       "      <td>2</td>\n",
       "      <td>2</td>\n",
       "      <td>0</td>\n",
       "      <td>1</td>\n",
       "      <td>5</td>\n",
       "      <td>10</td>\n",
       "      <td>2012</td>\n",
       "    </tr>\n",
       "    <tr>\n",
       "      <th>4</th>\n",
       "      <td>0</td>\n",
       "      <td>1</td>\n",
       "      <td>4</td>\n",
       "      <td>5</td>\n",
       "      <td>5</td>\n",
       "      <td>0</td>\n",
       "      <td>1</td>\n",
       "      <td>27</td>\n",
       "      <td>3</td>\n",
       "      <td>2019</td>\n",
       "    </tr>\n",
       "  </tbody>\n",
       "</table>\n",
       "</div>"
      ],
      "text/plain": [
       "   Short  Gender  Company  Members  Orig Memb  Fanclub Name  Active  \\\n",
       "0      0       0        0        5          6             0       0   \n",
       "1      0       1        1        4          7             1       0   \n",
       "2      0       1        2       14         14             0       1   \n",
       "3      0       0        3        2          2             0       1   \n",
       "4      0       1        4        5          5             0       1   \n",
       "\n",
       "   Debut_Day  Debut_Month  Debut_Year  \n",
       "0          2            5        2018  \n",
       "1         18            9        2012  \n",
       "2         17            4        2017  \n",
       "3          5           10        2012  \n",
       "4         27            3        2019  "
      ]
     },
     "execution_count": 21,
     "metadata": {},
     "output_type": "execute_result"
    }
   ],
   "source": [
    "df.head()"
   ]
  },
  {
   "cell_type": "code",
   "execution_count": 22,
   "id": "3c2566af",
   "metadata": {
    "execution": {
     "iopub.execute_input": "2023-06-09T15:50:20.358970Z",
     "iopub.status.busy": "2023-06-09T15:50:20.358553Z",
     "iopub.status.idle": "2023-06-09T15:50:22.334278Z",
     "shell.execute_reply": "2023-06-09T15:50:22.333201Z"
    },
    "papermill": {
     "duration": 2.0003,
     "end_time": "2023-06-09T15:50:22.336569",
     "exception": false,
     "start_time": "2023-06-09T15:50:20.336269",
     "status": "completed"
    },
    "tags": []
   },
   "outputs": [
    {
     "data": {
      "text/plain": [
       "array([[<Axes: title={'center': 'Short'}>,\n",
       "        <Axes: title={'center': 'Gender'}>,\n",
       "        <Axes: title={'center': 'Company'}>],\n",
       "       [<Axes: title={'center': 'Members'}>,\n",
       "        <Axes: title={'center': 'Orig Memb'}>,\n",
       "        <Axes: title={'center': 'Fanclub Name'}>],\n",
       "       [<Axes: title={'center': 'Active'}>,\n",
       "        <Axes: title={'center': 'Debut_Day'}>,\n",
       "        <Axes: title={'center': 'Debut_Month'}>],\n",
       "       [<Axes: title={'center': 'Debut_Year'}>, <Axes: >, <Axes: >]],\n",
       "      dtype=object)"
      ]
     },
     "execution_count": 22,
     "metadata": {},
     "output_type": "execute_result"
    },
    {
     "data": {
      "image/png": "[encoded data removed]",
      "text/plain": [
       "<Figure size 640x480 with 12 Axes>"
      ]
     },
     "metadata": {},
     "output_type": "display_data"
    }
   ],
   "source": [
    "df.hist()"
   ]
  },
  {
   "cell_type": "code",
   "execution_count": 23,
   "id": "4e4fdadb",
   "metadata": {
    "execution": {
     "iopub.execute_input": "2023-06-09T15:50:22.382498Z",
     "iopub.status.busy": "2023-06-09T15:50:22.381865Z",
     "iopub.status.idle": "2023-06-09T15:50:24.570575Z",
     "shell.execute_reply": "2023-06-09T15:50:24.569757Z"
    },
    "papermill": {
     "duration": 2.214715,
     "end_time": "2023-06-09T15:50:24.573278",
     "exception": false,
     "start_time": "2023-06-09T15:50:22.358563",
     "status": "completed"
    },
    "tags": []
   },
   "outputs": [
    {
     "data": {
      "image/png": "[encoded data removed]",
      "text/plain": [
       "<Figure size 1200x600 with 2 Axes>"
      ]
     },
     "metadata": {},
     "output_type": "display_data"
    }
   ],
   "source": [
    "import matplotlib.pyplot as plt\n",
    "import seaborn as sns\n",
    "\n",
    "figure = plt.figure(figsize=(12, 6))\n",
    "sns.heatmap(df.corr(), annot=True)\n",
    "plt.tight_layout()\n",
    "plt.xlabel('Corr')\n",
    "plt.show()"
   ]
  },
  {
   "cell_type": "code",
   "execution_count": null,
   "id": "44f95da8",
   "metadata": {
    "papermill": {
     "duration": 0.024169,
     "end_time": "2023-06-09T15:50:24.621572",
     "exception": false,
     "start_time": "2023-06-09T15:50:24.597403",
     "status": "completed"
    },
    "tags": []
   },
   "outputs": [],
   "source": []
  }
 ],
 "metadata": {
  "kernelspec": {
   "display_name": "Python 3",
   "language": "python",
   "name": "python3"
  },
  "language_info": {
   "codemirror_mode": {
    "name": "ipython",
    "version": 3
   },
   "file_extension": ".py",
   "mimetype": "text/x-python",
   "name": "python",
   "nbconvert_exporter": "python",
   "pygments_lexer": "ipython3",
   "version": "3.10.10"
  },
  "papermill": {
   "default_parameters": {},
   "duration": 82.624672,
   "end_time": "2023-06-09T15:50:27.264944",
   "environment_variables": {},
   "exception": null,
   "input_path": "__notebook__.ipynb",
   "output_path": "__notebook__.ipynb",
   "parameters": {},
   "start_time": "2023-06-09T15:49:04.640272",
   "version": "2.4.0"
  }
 },
 "nbformat": 4,
 "nbformat_minor": 5
}
