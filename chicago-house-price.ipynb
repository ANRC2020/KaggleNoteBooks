{
 "cells": [
  {
   "cell_type": "code",
   "execution_count": 1,
   "id": "5508f08b",
   "metadata": {
    "_cell_guid": "b1076dfc-b9ad-4769-8c92-a6c4dae69d19",
    "_uuid": "8f2839f25d086af736a60e9eeb907d3b93b6e0e5",
    "execution": {
     "iopub.execute_input": "2023-05-23T23:52:45.306424Z",
     "iopub.status.busy": "2023-05-23T23:52:45.306115Z",
     "iopub.status.idle": "2023-05-23T23:52:45.321568Z",
     "shell.execute_reply": "2023-05-23T23:52:45.320932Z"
    },
    "papermill": {
     "duration": 0.023269,
     "end_time": "2023-05-23T23:52:45.323595",
     "exception": false,
     "start_time": "2023-05-23T23:52:45.300326",
     "status": "completed"
    },
    "tags": []
   },
   "outputs": [
    {
     "name": "stdout",
     "output_type": "stream",
     "text": [
      "/kaggle/input/chicago-house-price/realest.csv\n"
     ]
    }
   ],
   "source": [
    "# This Python 3 environment comes with many helpful analytics libraries installed\n",
    "# It is defined by the kaggle/python Docker image: https://github.com/kaggle/docker-python\n",
    "# For example, here's several helpful packages to load\n",
    "\n",
    "import numpy as np # linear algebra\n",
    "import pandas as pd # data processing, CSV file I/O (e.g. pd.read_csv)\n",
    "\n",
    "# Input data files are available in the read-only \"../input/\" directory\n",
    "# For example, running this (by clicking run or pressing Shift+Enter) will list all files under the input directory\n",
    "\n",
    "import os\n",
    "for dirname, _, filenames in os.walk('/kaggle/input'):\n",
    "    for filename in filenames:\n",
    "        print(os.path.join(dirname, filename))\n",
    "\n",
    "# You can write up to 20GB to the current directory (/kaggle/working/) that gets preserved as output when you create a version using \"Save & Run All\" \n",
    "# You can also write temporary files to /kaggle/temp/, but they won't be saved outside of the current session"
   ]
  },
  {
   "cell_type": "code",
   "execution_count": 2,
   "id": "7f00bc58",
   "metadata": {
    "execution": {
     "iopub.execute_input": "2023-05-23T23:52:45.332864Z",
     "iopub.status.busy": "2023-05-23T23:52:45.332501Z",
     "iopub.status.idle": "2023-05-23T23:52:45.381116Z",
     "shell.execute_reply": "2023-05-23T23:52:45.380066Z"
    },
    "papermill": {
     "duration": 0.055462,
     "end_time": "2023-05-23T23:52:45.383171",
     "exception": false,
     "start_time": "2023-05-23T23:52:45.327709",
     "status": "completed"
    },
    "tags": []
   },
   "outputs": [
    {
     "data": {
      "text/html": [
       "<div>\n",
       "<style scoped>\n",
       "    .dataframe tbody tr th:only-of-type {\n",
       "        vertical-align: middle;\n",
       "    }\n",
       "\n",
       "    .dataframe tbody tr th {\n",
       "        vertical-align: top;\n",
       "    }\n",
       "\n",
       "    .dataframe thead th {\n",
       "        text-align: right;\n",
       "    }\n",
       "</style>\n",
       "<table border=\"1\" class=\"dataframe\">\n",
       "  <thead>\n",
       "    <tr style=\"text-align: right;\">\n",
       "      <th></th>\n",
       "      <th>Price</th>\n",
       "      <th>Bedroom</th>\n",
       "      <th>Space</th>\n",
       "      <th>Room</th>\n",
       "      <th>Lot</th>\n",
       "      <th>Tax</th>\n",
       "      <th>Bathroom</th>\n",
       "      <th>Garage</th>\n",
       "      <th>Condition</th>\n",
       "    </tr>\n",
       "  </thead>\n",
       "  <tbody>\n",
       "    <tr>\n",
       "      <th>0</th>\n",
       "      <td>53.0</td>\n",
       "      <td>2.0</td>\n",
       "      <td>967.0</td>\n",
       "      <td>5.0</td>\n",
       "      <td>39.0</td>\n",
       "      <td>652.0</td>\n",
       "      <td>1.5</td>\n",
       "      <td>0.0</td>\n",
       "      <td>0.0</td>\n",
       "    </tr>\n",
       "    <tr>\n",
       "      <th>1</th>\n",
       "      <td>55.0</td>\n",
       "      <td>2.0</td>\n",
       "      <td>815.0</td>\n",
       "      <td>5.0</td>\n",
       "      <td>33.0</td>\n",
       "      <td>1000.0</td>\n",
       "      <td>1.0</td>\n",
       "      <td>2.0</td>\n",
       "      <td>1.0</td>\n",
       "    </tr>\n",
       "    <tr>\n",
       "      <th>2</th>\n",
       "      <td>56.0</td>\n",
       "      <td>3.0</td>\n",
       "      <td>900.0</td>\n",
       "      <td>5.0</td>\n",
       "      <td>35.0</td>\n",
       "      <td>897.0</td>\n",
       "      <td>1.5</td>\n",
       "      <td>1.0</td>\n",
       "      <td>0.0</td>\n",
       "    </tr>\n",
       "    <tr>\n",
       "      <th>3</th>\n",
       "      <td>58.0</td>\n",
       "      <td>3.0</td>\n",
       "      <td>1007.0</td>\n",
       "      <td>6.0</td>\n",
       "      <td>24.0</td>\n",
       "      <td>964.0</td>\n",
       "      <td>1.5</td>\n",
       "      <td>2.0</td>\n",
       "      <td>0.0</td>\n",
       "    </tr>\n",
       "    <tr>\n",
       "      <th>4</th>\n",
       "      <td>64.0</td>\n",
       "      <td>3.0</td>\n",
       "      <td>1100.0</td>\n",
       "      <td>7.0</td>\n",
       "      <td>50.0</td>\n",
       "      <td>1099.0</td>\n",
       "      <td>1.5</td>\n",
       "      <td>1.5</td>\n",
       "      <td>0.0</td>\n",
       "    </tr>\n",
       "  </tbody>\n",
       "</table>\n",
       "</div>"
      ],
      "text/plain": [
       "   Price  Bedroom   Space  Room   Lot     Tax  Bathroom  Garage  Condition\n",
       "0   53.0      2.0   967.0   5.0  39.0   652.0       1.5     0.0        0.0\n",
       "1   55.0      2.0   815.0   5.0  33.0  1000.0       1.0     2.0        1.0\n",
       "2   56.0      3.0   900.0   5.0  35.0   897.0       1.5     1.0        0.0\n",
       "3   58.0      3.0  1007.0   6.0  24.0   964.0       1.5     2.0        0.0\n",
       "4   64.0      3.0  1100.0   7.0  50.0  1099.0       1.5     1.5        0.0"
      ]
     },
     "execution_count": 2,
     "metadata": {},
     "output_type": "execute_result"
    }
   ],
   "source": [
    "df = pd.read_csv(\"/kaggle/input/chicago-house-price/realest.csv\")\n",
    "\n",
    "df.head()"
   ]
  },
  {
   "cell_type": "code",
   "execution_count": 3,
   "id": "eb48e15d",
   "metadata": {
    "execution": {
     "iopub.execute_input": "2023-05-23T23:52:45.395420Z",
     "iopub.status.busy": "2023-05-23T23:52:45.394582Z",
     "iopub.status.idle": "2023-05-23T23:52:46.514524Z",
     "shell.execute_reply": "2023-05-23T23:52:46.513452Z"
    },
    "papermill": {
     "duration": 1.128471,
     "end_time": "2023-05-23T23:52:46.516375",
     "exception": false,
     "start_time": "2023-05-23T23:52:45.387904",
     "status": "completed"
    },
    "tags": []
   },
   "outputs": [
    {
     "data": {
      "text/plain": [
       "array([[<AxesSubplot: title={'center': 'Price'}>,\n",
       "        <AxesSubplot: title={'center': 'Bedroom'}>,\n",
       "        <AxesSubplot: title={'center': 'Space'}>],\n",
       "       [<AxesSubplot: title={'center': 'Room'}>,\n",
       "        <AxesSubplot: title={'center': 'Lot'}>,\n",
       "        <AxesSubplot: title={'center': 'Tax'}>],\n",
       "       [<AxesSubplot: title={'center': 'Bathroom'}>,\n",
       "        <AxesSubplot: title={'center': 'Garage'}>,\n",
       "        <AxesSubplot: title={'center': 'Condition'}>]], dtype=object)"
      ]
     },
     "execution_count": 3,
     "metadata": {},
     "output_type": "execute_result"
    },
    {
     "data": {
      "image/png": "[encoded data removed]",
      "text/plain": [
       "<Figure size 640x480 with 9 Axes>"
      ]
     },
     "metadata": {},
     "output_type": "display_data"
    }
   ],
   "source": [
    "df.hist()"
   ]
  },
  {
   "cell_type": "code",
   "execution_count": 4,
   "id": "a7c205f4",
   "metadata": {
    "execution": {
     "iopub.execute_input": "2023-05-23T23:52:46.527900Z",
     "iopub.status.busy": "2023-05-23T23:52:46.527561Z",
     "iopub.status.idle": "2023-05-23T23:52:46.533902Z",
     "shell.execute_reply": "2023-05-23T23:52:46.532824Z"
    },
    "papermill": {
     "duration": 0.015096,
     "end_time": "2023-05-23T23:52:46.536521",
     "exception": false,
     "start_time": "2023-05-23T23:52:46.521425",
     "status": "completed"
    },
    "tags": []
   },
   "outputs": [
    {
     "data": {
      "text/plain": [
       "(157, 9)"
      ]
     },
     "execution_count": 4,
     "metadata": {},
     "output_type": "execute_result"
    }
   ],
   "source": [
    "df.shape"
   ]
  },
  {
   "cell_type": "code",
   "execution_count": 5,
   "id": "5248e2f7",
   "metadata": {
    "execution": {
     "iopub.execute_input": "2023-05-23T23:52:46.548191Z",
     "iopub.status.busy": "2023-05-23T23:52:46.547785Z",
     "iopub.status.idle": "2023-05-23T23:52:46.554579Z",
     "shell.execute_reply": "2023-05-23T23:52:46.553695Z"
    },
    "papermill": {
     "duration": 0.014726,
     "end_time": "2023-05-23T23:52:46.556455",
     "exception": false,
     "start_time": "2023-05-23T23:52:46.541729",
     "status": "completed"
    },
    "tags": []
   },
   "outputs": [
    {
     "name": "stdout",
     "output_type": "stream",
     "text": [
      "Price 1\n",
      "Bedroom 1\n",
      "Space 11\n",
      "Room 1\n",
      "Lot 11\n",
      "Tax 10\n",
      "Bathroom 1\n",
      "Garage 1\n",
      "Condition 1\n"
     ]
    }
   ],
   "source": [
    "for col in df:\n",
    "    print(col, df[col].isna().sum())"
   ]
  },
  {
   "cell_type": "code",
   "execution_count": 6,
   "id": "0cb1a7fe",
   "metadata": {
    "execution": {
     "iopub.execute_input": "2023-05-23T23:52:46.568143Z",
     "iopub.status.busy": "2023-05-23T23:52:46.567829Z",
     "iopub.status.idle": "2023-05-23T23:52:46.575560Z",
     "shell.execute_reply": "2023-05-23T23:52:46.574429Z"
    },
    "papermill": {
     "duration": 0.015806,
     "end_time": "2023-05-23T23:52:46.577401",
     "exception": false,
     "start_time": "2023-05-23T23:52:46.561595",
     "status": "completed"
    },
    "tags": []
   },
   "outputs": [],
   "source": [
    "df.dropna(inplace=True)"
   ]
  },
  {
   "cell_type": "code",
   "execution_count": 7,
   "id": "027601ea",
   "metadata": {
    "execution": {
     "iopub.execute_input": "2023-05-23T23:52:46.588979Z",
     "iopub.status.busy": "2023-05-23T23:52:46.588688Z",
     "iopub.status.idle": "2023-05-23T23:52:46.593953Z",
     "shell.execute_reply": "2023-05-23T23:52:46.593135Z"
    },
    "papermill": {
     "duration": 0.013413,
     "end_time": "2023-05-23T23:52:46.596128",
     "exception": false,
     "start_time": "2023-05-23T23:52:46.582715",
     "status": "completed"
    },
    "tags": []
   },
   "outputs": [
    {
     "data": {
      "text/plain": [
       "(128, 9)"
      ]
     },
     "execution_count": 7,
     "metadata": {},
     "output_type": "execute_result"
    }
   ],
   "source": [
    "df.shape"
   ]
  },
  {
   "cell_type": "code",
   "execution_count": 8,
   "id": "fc453a9f",
   "metadata": {
    "execution": {
     "iopub.execute_input": "2023-05-23T23:52:46.607747Z",
     "iopub.status.busy": "2023-05-23T23:52:46.607414Z",
     "iopub.status.idle": "2023-05-23T23:52:46.623402Z",
     "shell.execute_reply": "2023-05-23T23:52:46.622454Z"
    },
    "papermill": {
     "duration": 0.0242,
     "end_time": "2023-05-23T23:52:46.625550",
     "exception": false,
     "start_time": "2023-05-23T23:52:46.601350",
     "status": "completed"
    },
    "tags": []
   },
   "outputs": [
    {
     "data": {
      "text/html": [
       "<div>\n",
       "<style scoped>\n",
       "    .dataframe tbody tr th:only-of-type {\n",
       "        vertical-align: middle;\n",
       "    }\n",
       "\n",
       "    .dataframe tbody tr th {\n",
       "        vertical-align: top;\n",
       "    }\n",
       "\n",
       "    .dataframe thead th {\n",
       "        text-align: right;\n",
       "    }\n",
       "</style>\n",
       "<table border=\"1\" class=\"dataframe\">\n",
       "  <thead>\n",
       "    <tr style=\"text-align: right;\">\n",
       "      <th></th>\n",
       "      <th>Price</th>\n",
       "      <th>Bedroom</th>\n",
       "      <th>Space</th>\n",
       "      <th>Room</th>\n",
       "      <th>Lot</th>\n",
       "      <th>Tax</th>\n",
       "      <th>Bathroom</th>\n",
       "      <th>Garage</th>\n",
       "      <th>Condition</th>\n",
       "    </tr>\n",
       "  </thead>\n",
       "  <tbody>\n",
       "    <tr>\n",
       "      <th>0</th>\n",
       "      <td>53.0</td>\n",
       "      <td>2.0</td>\n",
       "      <td>967.0</td>\n",
       "      <td>5.0</td>\n",
       "      <td>39.0</td>\n",
       "      <td>652.0</td>\n",
       "      <td>1.5</td>\n",
       "      <td>0.0</td>\n",
       "      <td>0.0</td>\n",
       "    </tr>\n",
       "    <tr>\n",
       "      <th>1</th>\n",
       "      <td>55.0</td>\n",
       "      <td>2.0</td>\n",
       "      <td>815.0</td>\n",
       "      <td>5.0</td>\n",
       "      <td>33.0</td>\n",
       "      <td>1000.0</td>\n",
       "      <td>1.0</td>\n",
       "      <td>2.0</td>\n",
       "      <td>1.0</td>\n",
       "    </tr>\n",
       "    <tr>\n",
       "      <th>2</th>\n",
       "      <td>56.0</td>\n",
       "      <td>3.0</td>\n",
       "      <td>900.0</td>\n",
       "      <td>5.0</td>\n",
       "      <td>35.0</td>\n",
       "      <td>897.0</td>\n",
       "      <td>1.5</td>\n",
       "      <td>1.0</td>\n",
       "      <td>0.0</td>\n",
       "    </tr>\n",
       "    <tr>\n",
       "      <th>3</th>\n",
       "      <td>58.0</td>\n",
       "      <td>3.0</td>\n",
       "      <td>1007.0</td>\n",
       "      <td>6.0</td>\n",
       "      <td>24.0</td>\n",
       "      <td>964.0</td>\n",
       "      <td>1.5</td>\n",
       "      <td>2.0</td>\n",
       "      <td>0.0</td>\n",
       "    </tr>\n",
       "    <tr>\n",
       "      <th>4</th>\n",
       "      <td>64.0</td>\n",
       "      <td>3.0</td>\n",
       "      <td>1100.0</td>\n",
       "      <td>7.0</td>\n",
       "      <td>50.0</td>\n",
       "      <td>1099.0</td>\n",
       "      <td>1.5</td>\n",
       "      <td>1.5</td>\n",
       "      <td>0.0</td>\n",
       "    </tr>\n",
       "  </tbody>\n",
       "</table>\n",
       "</div>"
      ],
      "text/plain": [
       "   Price  Bedroom   Space  Room   Lot     Tax  Bathroom  Garage  Condition\n",
       "0   53.0      2.0   967.0   5.0  39.0   652.0       1.5     0.0        0.0\n",
       "1   55.0      2.0   815.0   5.0  33.0  1000.0       1.0     2.0        1.0\n",
       "2   56.0      3.0   900.0   5.0  35.0   897.0       1.5     1.0        0.0\n",
       "3   58.0      3.0  1007.0   6.0  24.0   964.0       1.5     2.0        0.0\n",
       "4   64.0      3.0  1100.0   7.0  50.0  1099.0       1.5     1.5        0.0"
      ]
     },
     "execution_count": 8,
     "metadata": {},
     "output_type": "execute_result"
    }
   ],
   "source": [
    "df.head()"
   ]
  },
  {
   "cell_type": "code",
   "execution_count": 9,
   "id": "76dd0921",
   "metadata": {
    "execution": {
     "iopub.execute_input": "2023-05-23T23:52:46.638325Z",
     "iopub.status.busy": "2023-05-23T23:52:46.637898Z",
     "iopub.status.idle": "2023-05-23T23:52:47.555143Z",
     "shell.execute_reply": "2023-05-23T23:52:47.554486Z"
    },
    "papermill": {
     "duration": 0.925559,
     "end_time": "2023-05-23T23:52:47.556611",
     "exception": false,
     "start_time": "2023-05-23T23:52:46.631052",
     "status": "completed"
    },
    "tags": []
   },
   "outputs": [
    {
     "data": {
      "text/plain": [
       "array([[<AxesSubplot: title={'center': 'Price'}>,\n",
       "        <AxesSubplot: title={'center': 'Bedroom'}>,\n",
       "        <AxesSubplot: title={'center': 'Space'}>],\n",
       "       [<AxesSubplot: title={'center': 'Room'}>,\n",
       "        <AxesSubplot: title={'center': 'Lot'}>,\n",
       "        <AxesSubplot: title={'center': 'Tax'}>],\n",
       "       [<AxesSubplot: title={'center': 'Bathroom'}>,\n",
       "        <AxesSubplot: title={'center': 'Garage'}>,\n",
       "        <AxesSubplot: title={'center': 'Condition'}>]], dtype=object)"
      ]
     },
     "execution_count": 9,
     "metadata": {},
     "output_type": "execute_result"
    },
    {
     "data": {
      "image/png": "[encoded data removed]",
      "text/plain": [
       "<Figure size 640x480 with 9 Axes>"
      ]
     },
     "metadata": {},
     "output_type": "display_data"
    }
   ],
   "source": [
    "df.hist()"
   ]
  },
  {
   "cell_type": "code",
   "execution_count": 10,
   "id": "4b8a00d2",
   "metadata": {
    "execution": {
     "iopub.execute_input": "2023-05-23T23:52:47.569755Z",
     "iopub.status.busy": "2023-05-23T23:52:47.568639Z",
     "iopub.status.idle": "2023-05-23T23:52:48.532533Z",
     "shell.execute_reply": "2023-05-23T23:52:48.531876Z"
    },
    "papermill": {
     "duration": 0.972273,
     "end_time": "2023-05-23T23:52:48.534491",
     "exception": false,
     "start_time": "2023-05-23T23:52:47.562218",
     "status": "completed"
    },
    "tags": []
   },
   "outputs": [
    {
     "name": "stderr",
     "output_type": "stream",
     "text": [
      "/opt/conda/lib/python3.10/site-packages/scipy/__init__.py:146: UserWarning: A NumPy version >=1.16.5 and <1.23.0 is required for this version of SciPy (detected version 1.23.5\n",
      "  warnings.warn(f\"A NumPy version >={np_minversion} and <{np_maxversion}\"\n"
     ]
    }
   ],
   "source": [
    "from sklearn.model_selection import train_test_split\n",
    "\n",
    "X_train, X_test, y_train, y_test = train_test_split(df.loc[:,df.columns != 'Condition'], df['Condition'], test_size=0.3)"
   ]
  },
  {
   "cell_type": "code",
   "execution_count": 11,
   "id": "cac05f7b",
   "metadata": {
    "execution": {
     "iopub.execute_input": "2023-05-23T23:52:48.546788Z",
     "iopub.status.busy": "2023-05-23T23:52:48.546525Z",
     "iopub.status.idle": "2023-05-23T23:52:48.554876Z",
     "shell.execute_reply": "2023-05-23T23:52:48.554299Z"
    },
    "papermill": {
     "duration": 0.01629,
     "end_time": "2023-05-23T23:52:48.556500",
     "exception": false,
     "start_time": "2023-05-23T23:52:48.540210",
     "status": "completed"
    },
    "tags": []
   },
   "outputs": [],
   "source": [
    "from sklearn.preprocessing import StandardScaler\n",
    "sc = StandardScaler()\n",
    " \n",
    "X_train = sc.fit_transform(X_train)\n",
    "X_test = sc.transform(X_test)"
   ]
  },
  {
   "cell_type": "code",
   "execution_count": 12,
   "id": "45a815a4",
   "metadata": {
    "execution": {
     "iopub.execute_input": "2023-05-23T23:52:48.569176Z",
     "iopub.status.busy": "2023-05-23T23:52:48.568687Z",
     "iopub.status.idle": "2023-05-23T23:52:48.672349Z",
     "shell.execute_reply": "2023-05-23T23:52:48.671744Z"
    },
    "papermill": {
     "duration": 0.112177,
     "end_time": "2023-05-23T23:52:48.674266",
     "exception": false,
     "start_time": "2023-05-23T23:52:48.562089",
     "status": "completed"
    },
    "tags": []
   },
   "outputs": [
    {
     "data": {
      "text/plain": [
       "0.717948717948718"
      ]
     },
     "execution_count": 12,
     "metadata": {},
     "output_type": "execute_result"
    }
   ],
   "source": [
    "# Apply Logistic Reg On Data Before PCA\n",
    "\n",
    "from sklearn.linear_model import LogisticRegression\n",
    "LR = LogisticRegression(random_state=0).fit(X_train, y_train)\n",
    "\n",
    "LR.score(X_test, y_test)"
   ]
  },
  {
   "cell_type": "code",
   "execution_count": 13,
   "id": "2fe341f0",
   "metadata": {
    "execution": {
     "iopub.execute_input": "2023-05-23T23:52:48.687501Z",
     "iopub.status.busy": "2023-05-23T23:52:48.686976Z",
     "iopub.status.idle": "2023-05-23T23:52:48.977729Z",
     "shell.execute_reply": "2023-05-23T23:52:48.976782Z"
    },
    "papermill": {
     "duration": 0.299603,
     "end_time": "2023-05-23T23:52:48.979775",
     "exception": false,
     "start_time": "2023-05-23T23:52:48.680172",
     "status": "completed"
    },
    "tags": []
   },
   "outputs": [
    {
     "data": {
      "text/plain": [
       "0.9743589743589743"
      ]
     },
     "execution_count": 13,
     "metadata": {},
     "output_type": "execute_result"
    }
   ],
   "source": [
    "# Apply Decision Tree On Data Before PCA\n",
    "\n",
    "from sklearn import tree\n",
    "\n",
    "clf = tree.DecisionTreeClassifier()\n",
    "clf = clf.fit(X_train, y_train)\n",
    "\n",
    "clf.score(X_test, y_test)"
   ]
  },
  {
   "cell_type": "code",
   "execution_count": 14,
   "id": "7283cb88",
   "metadata": {
    "execution": {
     "iopub.execute_input": "2023-05-23T23:52:48.992805Z",
     "iopub.status.busy": "2023-05-23T23:52:48.992502Z",
     "iopub.status.idle": "2023-05-23T23:52:49.041964Z",
     "shell.execute_reply": "2023-05-23T23:52:49.040940Z"
    },
    "papermill": {
     "duration": 0.058638,
     "end_time": "2023-05-23T23:52:49.044422",
     "exception": false,
     "start_time": "2023-05-23T23:52:48.985784",
     "status": "completed"
    },
    "tags": []
   },
   "outputs": [
    {
     "name": "stdout",
     "output_type": "stream",
     "text": [
      "1 [0.56196041] 0.717948717948718\n",
      "2 [0.56196041 0.16541343] 0.717948717948718\n",
      "3 [0.56196041 0.16541343 0.09425325] 0.717948717948718\n",
      "4 [0.56196041 0.16541343 0.09425325 0.07858185] 0.717948717948718\n",
      "5 [0.56196041 0.16541343 0.09425325 0.07858185 0.04968733] 0.7435897435897436\n",
      "6 [0.56196041 0.16541343 0.09425325 0.07858185 0.04968733 0.02557429] 0.6410256410256411\n",
      "7 [0.56196041 0.16541343 0.09425325 0.07858185 0.04968733 0.02557429\n",
      " 0.01630969] 0.717948717948718\n",
      "8 [0.56196041 0.16541343 0.09425325 0.07858185 0.04968733 0.02557429\n",
      " 0.01630969 0.00821976] 0.717948717948718\n"
     ]
    }
   ],
   "source": [
    "from sklearn.decomposition import PCA\n",
    "\n",
    "for i in range(1, 9):\n",
    "    \n",
    "    pca = PCA(n_components = i)\n",
    "\n",
    "    X_train_t = pca.fit_transform(X_train)\n",
    "    X_test_t = pca.transform(X_test)\n",
    "\n",
    "    explained_variance = pca.explained_variance_ratio_\n",
    "\n",
    "    # Apply Logistic Reg On Data After PCA\n",
    "\n",
    "    from sklearn.linear_model import LogisticRegression\n",
    "    LR = LogisticRegression(random_state=0).fit(X_train_t, y_train)\n",
    "\n",
    "    print(i, explained_variance, LR.score(X_test_t, y_test))"
   ]
  },
  {
   "cell_type": "code",
   "execution_count": 15,
   "id": "c6065ff2",
   "metadata": {
    "execution": {
     "iopub.execute_input": "2023-05-23T23:52:49.058125Z",
     "iopub.status.busy": "2023-05-23T23:52:49.057785Z",
     "iopub.status.idle": "2023-05-23T23:52:49.082997Z",
     "shell.execute_reply": "2023-05-23T23:52:49.081836Z"
    },
    "papermill": {
     "duration": 0.034394,
     "end_time": "2023-05-23T23:52:49.084871",
     "exception": false,
     "start_time": "2023-05-23T23:52:49.050477",
     "status": "completed"
    },
    "tags": []
   },
   "outputs": [
    {
     "name": "stdout",
     "output_type": "stream",
     "text": [
      "1 [0.56196041] 0.7435897435897436\n",
      "2 [0.56196041 0.16541343] 0.8717948717948718\n",
      "3 [0.56196041 0.16541343 0.09425325] 0.9230769230769231\n",
      "4 [0.56196041 0.16541343 0.09425325 0.07858185] 0.9230769230769231\n",
      "5 [0.56196041 0.16541343 0.09425325 0.07858185 0.04968733] 0.8717948717948718\n",
      "6 [0.56196041 0.16541343 0.09425325 0.07858185 0.04968733 0.02557429] 0.8717948717948718\n",
      "7 [0.56196041 0.16541343 0.09425325 0.07858185 0.04968733 0.02557429\n",
      " 0.01630969] 0.8205128205128205\n",
      "8 [0.56196041 0.16541343 0.09425325 0.07858185 0.04968733 0.02557429\n",
      " 0.01630969 0.00821976] 0.7948717948717948\n"
     ]
    }
   ],
   "source": [
    "for i in range(1, 9):\n",
    "    \n",
    "    pca = PCA(n_components = i)\n",
    "\n",
    "    X_train_t = pca.fit_transform(X_train)\n",
    "    X_test_t = pca.transform(X_test)\n",
    "\n",
    "    explained_variance = pca.explained_variance_ratio_\n",
    "\n",
    "    # Apply Decision Tree On Data After PCA\n",
    "\n",
    "    from sklearn import tree\n",
    "\n",
    "    clf = tree.DecisionTreeClassifier()\n",
    "    clf = clf.fit(X_train_t, y_train)\n",
    "\n",
    "    print(i, explained_variance, clf.score(X_test_t, y_test))"
   ]
  },
  {
   "cell_type": "code",
   "execution_count": 16,
   "id": "d3b3f82c",
   "metadata": {
    "execution": {
     "iopub.execute_input": "2023-05-23T23:52:49.098930Z",
     "iopub.status.busy": "2023-05-23T23:52:49.097860Z",
     "iopub.status.idle": "2023-05-23T23:52:49.135964Z",
     "shell.execute_reply": "2023-05-23T23:52:49.134969Z"
    },
    "papermill": {
     "duration": 0.047158,
     "end_time": "2023-05-23T23:52:49.138056",
     "exception": false,
     "start_time": "2023-05-23T23:52:49.090898",
     "status": "completed"
    },
    "tags": []
   },
   "outputs": [
    {
     "name": "stdout",
     "output_type": "stream",
     "text": [
      "0.7948717948717948\n"
     ]
    }
   ],
   "source": [
    "from sklearn.discriminant_analysis import LinearDiscriminantAnalysis\n",
    "\n",
    "clf = LinearDiscriminantAnalysis()\n",
    "clf.fit(X_train, y_train)\n",
    "\n",
    "print(clf.score(X_test, y_test))"
   ]
  },
  {
   "cell_type": "code",
   "execution_count": null,
   "id": "b7e2c914",
   "metadata": {
    "papermill": {
     "duration": 0.006165,
     "end_time": "2023-05-23T23:52:49.150687",
     "exception": false,
     "start_time": "2023-05-23T23:52:49.144522",
     "status": "completed"
    },
    "tags": []
   },
   "outputs": [],
   "source": []
  },
  {
   "cell_type": "code",
   "execution_count": null,
   "id": "8e6d6833",
   "metadata": {
    "papermill": {
     "duration": 0.005919,
     "end_time": "2023-05-23T23:52:49.162937",
     "exception": false,
     "start_time": "2023-05-23T23:52:49.157018",
     "status": "completed"
    },
    "tags": []
   },
   "outputs": [],
   "source": []
  }
 ],
 "metadata": {
  "kernelspec": {
   "display_name": "Python 3",
   "language": "python",
   "name": "python3"
  },
  "language_info": {
   "codemirror_mode": {
    "name": "ipython",
    "version": 3
   },
   "file_extension": ".py",
   "mimetype": "text/x-python",
   "name": "python",
   "nbconvert_exporter": "python",
   "pygments_lexer": "ipython3",
   "version": "3.10.10"
  },
  "papermill": {
   "default_parameters": {},
   "duration": 15.203351,
   "end_time": "2023-05-23T23:52:50.090586",
   "environment_variables": {},
   "exception": null,
   "input_path": "__notebook__.ipynb",
   "output_path": "__notebook__.ipynb",
   "parameters": {},
   "start_time": "2023-05-23T23:52:34.887235",
   "version": "2.4.0"
  }
 },
 "nbformat": 4,
 "nbformat_minor": 5
}
