{
 "cells": [
  {
   "cell_type": "code",
   "execution_count": 1,
   "id": "c4fef6f0",
   "metadata": {
    "_cell_guid": "b1076dfc-b9ad-4769-8c92-a6c4dae69d19",
    "_uuid": "8f2839f25d086af736a60e9eeb907d3b93b6e0e5",
    "execution": {
     "iopub.execute_input": "2023-05-25T20:53:06.743361Z",
     "iopub.status.busy": "2023-05-25T20:53:06.742507Z",
     "iopub.status.idle": "2023-05-25T20:53:06.761706Z",
     "shell.execute_reply": "2023-05-25T20:53:06.760669Z"
    },
    "papermill": {
     "duration": 0.027893,
     "end_time": "2023-05-25T20:53:06.763779",
     "exception": false,
     "start_time": "2023-05-25T20:53:06.735886",
     "status": "completed"
    },
    "tags": []
   },
   "outputs": [
    {
     "name": "stdout",
     "output_type": "stream",
     "text": [
      "/kaggle/input/credit-score-classification-dataset/Credit Score Classification Dataset.csv\n"
     ]
    }
   ],
   "source": [
    "# This Python 3 environment comes with many helpful analytics libraries installed\n",
    "# It is defined by the kaggle/python Docker image: https://github.com/kaggle/docker-python\n",
    "# For example, here's several helpful packages to load\n",
    "\n",
    "import numpy as np # linear algebra\n",
    "import pandas as pd # data processing, CSV file I/O (e.g. pd.read_csv)\n",
    "\n",
    "# Input data files are available in the read-only \"../input/\" directory\n",
    "# For example, running this (by clicking run or pressing Shift+Enter) will list all files under the input directory\n",
    "\n",
    "import os\n",
    "for dirname, _, filenames in os.walk('/kaggle/input'):\n",
    "    for filename in filenames:\n",
    "        print(os.path.join(dirname, filename))\n",
    "\n",
    "# You can write up to 20GB to the current directory (/kaggle/working/) that gets preserved as output when you create a version using \"Save & Run All\" \n",
    "# You can also write temporary files to /kaggle/temp/, but they won't be saved outside of the current session"
   ]
  },
  {
   "cell_type": "code",
   "execution_count": 2,
   "id": "a2077dc6",
   "metadata": {
    "execution": {
     "iopub.execute_input": "2023-05-25T20:53:06.774420Z",
     "iopub.status.busy": "2023-05-25T20:53:06.773841Z",
     "iopub.status.idle": "2023-05-25T20:53:06.793595Z",
     "shell.execute_reply": "2023-05-25T20:53:06.792742Z"
    },
    "papermill": {
     "duration": 0.02755,
     "end_time": "2023-05-25T20:53:06.795971",
     "exception": false,
     "start_time": "2023-05-25T20:53:06.768421",
     "status": "completed"
    },
    "tags": []
   },
   "outputs": [],
   "source": [
    "df = pd.read_csv(\"/kaggle/input/credit-score-classification-dataset/Credit Score Classification Dataset.csv\")"
   ]
  },
  {
   "cell_type": "code",
   "execution_count": 3,
   "id": "5cbf1f64",
   "metadata": {
    "execution": {
     "iopub.execute_input": "2023-05-25T20:53:06.807258Z",
     "iopub.status.busy": "2023-05-25T20:53:06.806294Z",
     "iopub.status.idle": "2023-05-25T20:53:06.834437Z",
     "shell.execute_reply": "2023-05-25T20:53:06.833437Z"
    },
    "papermill": {
     "duration": 0.036434,
     "end_time": "2023-05-25T20:53:06.837080",
     "exception": false,
     "start_time": "2023-05-25T20:53:06.800646",
     "status": "completed"
    },
    "tags": []
   },
   "outputs": [
    {
     "data": {
      "text/html": [
       "<div>\n",
       "<style scoped>\n",
       "    .dataframe tbody tr th:only-of-type {\n",
       "        vertical-align: middle;\n",
       "    }\n",
       "\n",
       "    .dataframe tbody tr th {\n",
       "        vertical-align: top;\n",
       "    }\n",
       "\n",
       "    .dataframe thead th {\n",
       "        text-align: right;\n",
       "    }\n",
       "</style>\n",
       "<table border=\"1\" class=\"dataframe\">\n",
       "  <thead>\n",
       "    <tr style=\"text-align: right;\">\n",
       "      <th></th>\n",
       "      <th>Age</th>\n",
       "      <th>Gender</th>\n",
       "      <th>Income</th>\n",
       "      <th>Education</th>\n",
       "      <th>Marital Status</th>\n",
       "      <th>Number of Children</th>\n",
       "      <th>Home Ownership</th>\n",
       "      <th>Credit Score</th>\n",
       "    </tr>\n",
       "  </thead>\n",
       "  <tbody>\n",
       "    <tr>\n",
       "      <th>0</th>\n",
       "      <td>25</td>\n",
       "      <td>Female</td>\n",
       "      <td>50000</td>\n",
       "      <td>Bachelor's Degree</td>\n",
       "      <td>Single</td>\n",
       "      <td>0</td>\n",
       "      <td>Rented</td>\n",
       "      <td>High</td>\n",
       "    </tr>\n",
       "    <tr>\n",
       "      <th>1</th>\n",
       "      <td>30</td>\n",
       "      <td>Male</td>\n",
       "      <td>100000</td>\n",
       "      <td>Master's Degree</td>\n",
       "      <td>Married</td>\n",
       "      <td>2</td>\n",
       "      <td>Owned</td>\n",
       "      <td>High</td>\n",
       "    </tr>\n",
       "    <tr>\n",
       "      <th>2</th>\n",
       "      <td>35</td>\n",
       "      <td>Female</td>\n",
       "      <td>75000</td>\n",
       "      <td>Doctorate</td>\n",
       "      <td>Married</td>\n",
       "      <td>1</td>\n",
       "      <td>Owned</td>\n",
       "      <td>High</td>\n",
       "    </tr>\n",
       "    <tr>\n",
       "      <th>3</th>\n",
       "      <td>40</td>\n",
       "      <td>Male</td>\n",
       "      <td>125000</td>\n",
       "      <td>High School Diploma</td>\n",
       "      <td>Single</td>\n",
       "      <td>0</td>\n",
       "      <td>Owned</td>\n",
       "      <td>High</td>\n",
       "    </tr>\n",
       "    <tr>\n",
       "      <th>4</th>\n",
       "      <td>45</td>\n",
       "      <td>Female</td>\n",
       "      <td>100000</td>\n",
       "      <td>Bachelor's Degree</td>\n",
       "      <td>Married</td>\n",
       "      <td>3</td>\n",
       "      <td>Owned</td>\n",
       "      <td>High</td>\n",
       "    </tr>\n",
       "  </tbody>\n",
       "</table>\n",
       "</div>"
      ],
      "text/plain": [
       "   Age  Gender  Income            Education Marital Status  \\\n",
       "0   25  Female   50000    Bachelor's Degree         Single   \n",
       "1   30    Male  100000      Master's Degree        Married   \n",
       "2   35  Female   75000            Doctorate        Married   \n",
       "3   40    Male  125000  High School Diploma         Single   \n",
       "4   45  Female  100000    Bachelor's Degree        Married   \n",
       "\n",
       "   Number of Children Home Ownership Credit Score  \n",
       "0                   0         Rented         High  \n",
       "1                   2          Owned         High  \n",
       "2                   1          Owned         High  \n",
       "3                   0          Owned         High  \n",
       "4                   3          Owned         High  "
      ]
     },
     "execution_count": 3,
     "metadata": {},
     "output_type": "execute_result"
    }
   ],
   "source": [
    "df.head()"
   ]
  },
  {
   "cell_type": "code",
   "execution_count": 4,
   "id": "328cd685",
   "metadata": {
    "execution": {
     "iopub.execute_input": "2023-05-25T20:53:06.848427Z",
     "iopub.status.busy": "2023-05-25T20:53:06.848073Z",
     "iopub.status.idle": "2023-05-25T20:53:06.859644Z",
     "shell.execute_reply": "2023-05-25T20:53:06.858567Z"
    },
    "papermill": {
     "duration": 0.019743,
     "end_time": "2023-05-25T20:53:06.861831",
     "exception": false,
     "start_time": "2023-05-25T20:53:06.842088",
     "status": "completed"
    },
    "tags": []
   },
   "outputs": [
    {
     "data": {
      "text/plain": [
       "Age                   0\n",
       "Gender                0\n",
       "Income                0\n",
       "Education             0\n",
       "Marital Status        0\n",
       "Number of Children    0\n",
       "Home Ownership        0\n",
       "Credit Score          0\n",
       "dtype: int64"
      ]
     },
     "execution_count": 4,
     "metadata": {},
     "output_type": "execute_result"
    }
   ],
   "source": [
    "df.isna().sum()"
   ]
  },
  {
   "cell_type": "code",
   "execution_count": 5,
   "id": "157b2127",
   "metadata": {
    "execution": {
     "iopub.execute_input": "2023-05-25T20:53:06.872854Z",
     "iopub.status.busy": "2023-05-25T20:53:06.872491Z",
     "iopub.status.idle": "2023-05-25T20:53:06.883406Z",
     "shell.execute_reply": "2023-05-25T20:53:06.882742Z"
    },
    "papermill": {
     "duration": 0.018891,
     "end_time": "2023-05-25T20:53:06.885428",
     "exception": false,
     "start_time": "2023-05-25T20:53:06.866537",
     "status": "completed"
    },
    "tags": []
   },
   "outputs": [],
   "source": [
    "for col in df:\n",
    "    if df[col].dtype == 'object':\n",
    "        df[col] = df[col].factorize()[0]"
   ]
  },
  {
   "cell_type": "code",
   "execution_count": 6,
   "id": "65a7d2d4",
   "metadata": {
    "execution": {
     "iopub.execute_input": "2023-05-25T20:53:06.896949Z",
     "iopub.status.busy": "2023-05-25T20:53:06.896576Z",
     "iopub.status.idle": "2023-05-25T20:53:08.567830Z",
     "shell.execute_reply": "2023-05-25T20:53:08.566730Z"
    },
    "papermill": {
     "duration": 1.679566,
     "end_time": "2023-05-25T20:53:08.570015",
     "exception": false,
     "start_time": "2023-05-25T20:53:06.890449",
     "status": "completed"
    },
    "tags": []
   },
   "outputs": [
    {
     "data": {
      "text/plain": [
       "array([[<Axes: title={'center': 'Age'}>,\n",
       "        <Axes: title={'center': 'Gender'}>,\n",
       "        <Axes: title={'center': 'Income'}>],\n",
       "       [<Axes: title={'center': 'Education'}>,\n",
       "        <Axes: title={'center': 'Marital Status'}>,\n",
       "        <Axes: title={'center': 'Number of Children'}>],\n",
       "       [<Axes: title={'center': 'Home Ownership'}>,\n",
       "        <Axes: title={'center': 'Credit Score'}>, <Axes: >]], dtype=object)"
      ]
     },
     "execution_count": 6,
     "metadata": {},
     "output_type": "execute_result"
    },
    {
     "data": {
      "image/png": "[encoded data removed]",
      "text/plain": [
       "<Figure size 640x480 with 9 Axes>"
      ]
     },
     "metadata": {},
     "output_type": "display_data"
    }
   ],
   "source": [
    "df.hist()"
   ]
  },
  {
   "cell_type": "code",
   "execution_count": 7,
   "id": "b7d9d27f",
   "metadata": {
    "execution": {
     "iopub.execute_input": "2023-05-25T20:53:08.582436Z",
     "iopub.status.busy": "2023-05-25T20:53:08.582078Z",
     "iopub.status.idle": "2023-05-25T20:53:09.628192Z",
     "shell.execute_reply": "2023-05-25T20:53:09.627244Z"
    },
    "papermill": {
     "duration": 1.055259,
     "end_time": "2023-05-25T20:53:09.630778",
     "exception": false,
     "start_time": "2023-05-25T20:53:08.575519",
     "status": "completed"
    },
    "tags": []
   },
   "outputs": [],
   "source": [
    "from sklearn.model_selection import train_test_split\n",
    "\n",
    "X_train, X_test, y_train, y_test = train_test_split(df.loc[:,df.columns != 'Credit Score'], df['Credit Score'], test_size=0.3)"
   ]
  },
  {
   "cell_type": "code",
   "execution_count": 8,
   "id": "34905810",
   "metadata": {
    "execution": {
     "iopub.execute_input": "2023-05-25T20:53:09.644166Z",
     "iopub.status.busy": "2023-05-25T20:53:09.643787Z",
     "iopub.status.idle": "2023-05-25T20:53:09.767573Z",
     "shell.execute_reply": "2023-05-25T20:53:09.766526Z"
    },
    "papermill": {
     "duration": 0.133479,
     "end_time": "2023-05-25T20:53:09.770151",
     "exception": false,
     "start_time": "2023-05-25T20:53:09.636672",
     "status": "completed"
    },
    "tags": []
   },
   "outputs": [
    {
     "data": {
      "text/plain": [
       "(0.9210526315789473, 0.74)"
      ]
     },
     "execution_count": 8,
     "metadata": {},
     "output_type": "execute_result"
    }
   ],
   "source": [
    "# Base Acc: 0.8859649122807017, 0.82\n",
    "from sklearn.linear_model import LogisticRegression\n",
    "\n",
    "model = LogisticRegression(multi_class='multinomial')\n",
    "\n",
    "model.fit(X_train, y_train)\n",
    "\n",
    "model.score(X_train, y_train), model.score(X_test, y_test)"
   ]
  },
  {
   "cell_type": "code",
   "execution_count": 9,
   "id": "24f29647",
   "metadata": {
    "execution": {
     "iopub.execute_input": "2023-05-25T20:53:09.783450Z",
     "iopub.status.busy": "2023-05-25T20:53:09.783101Z",
     "iopub.status.idle": "2023-05-25T20:53:09.950873Z",
     "shell.execute_reply": "2023-05-25T20:53:09.949626Z"
    },
    "papermill": {
     "duration": 0.177227,
     "end_time": "2023-05-25T20:53:09.953332",
     "exception": false,
     "start_time": "2023-05-25T20:53:09.776105",
     "status": "completed"
    },
    "tags": []
   },
   "outputs": [
    {
     "data": {
      "text/plain": [
       "(1.0, 0.98)"
      ]
     },
     "execution_count": 9,
     "metadata": {},
     "output_type": "execute_result"
    }
   ],
   "source": [
    "# Base Acc: 1.0, 0.98\n",
    "\n",
    "from sklearn import tree\n",
    "\n",
    "clf = tree.DecisionTreeClassifier()\n",
    "clf = clf.fit(X_train, y_train)\n",
    "\n",
    "clf.score(X_train, y_train), clf.score(X_test, y_test)"
   ]
  },
  {
   "cell_type": "code",
   "execution_count": 10,
   "id": "a1e899af",
   "metadata": {
    "execution": {
     "iopub.execute_input": "2023-05-25T20:53:09.968860Z",
     "iopub.status.busy": "2023-05-25T20:53:09.968131Z",
     "iopub.status.idle": "2023-05-25T20:53:09.974588Z",
     "shell.execute_reply": "2023-05-25T20:53:09.973513Z"
    },
    "papermill": {
     "duration": 0.017682,
     "end_time": "2023-05-25T20:53:09.977154",
     "exception": false,
     "start_time": "2023-05-25T20:53:09.959472",
     "status": "completed"
    },
    "tags": []
   },
   "outputs": [
    {
     "name": "stdout",
     "output_type": "stream",
     "text": [
      "Age 0.05274254561637735\n",
      "Gender 0.0\n",
      "Income 0.3359034267912772\n",
      "Education 0.0\n",
      "Marital Status 0.0\n",
      "Number of Children 0.0\n",
      "Home Ownership 0.6113540275923455\n"
     ]
    }
   ],
   "source": [
    "for i in range(len(clf.feature_names_in_)):\n",
    "    print(clf.feature_names_in_[i], clf.feature_importances_[i])"
   ]
  },
  {
   "cell_type": "code",
   "execution_count": 11,
   "id": "e3fabd0a",
   "metadata": {
    "execution": {
     "iopub.execute_input": "2023-05-25T20:53:09.991035Z",
     "iopub.status.busy": "2023-05-25T20:53:09.990645Z",
     "iopub.status.idle": "2023-05-25T20:53:10.344743Z",
     "shell.execute_reply": "2023-05-25T20:53:10.343769Z"
    },
    "papermill": {
     "duration": 0.363701,
     "end_time": "2023-05-25T20:53:10.346979",
     "exception": false,
     "start_time": "2023-05-25T20:53:09.983278",
     "status": "completed"
    },
    "tags": []
   },
   "outputs": [
    {
     "data": {
      "text/plain": [
       "(1.0, 1.0)"
      ]
     },
     "execution_count": 11,
     "metadata": {},
     "output_type": "execute_result"
    }
   ],
   "source": [
    "from sklearn.ensemble import RandomForestClassifier\n",
    "\n",
    "model = RandomForestClassifier()\n",
    "model.fit(X_train, y_train)\n",
    "\n",
    "model.score(X_train, y_train), model.score(X_test, y_test)"
   ]
  },
  {
   "cell_type": "code",
   "execution_count": null,
   "id": "67a75fe1",
   "metadata": {
    "papermill": {
     "duration": 0.005915,
     "end_time": "2023-05-25T20:53:10.359142",
     "exception": false,
     "start_time": "2023-05-25T20:53:10.353227",
     "status": "completed"
    },
    "tags": []
   },
   "outputs": [],
   "source": []
  }
 ],
 "metadata": {
  "kernelspec": {
   "display_name": "Python 3",
   "language": "python",
   "name": "python3"
  },
  "language_info": {
   "codemirror_mode": {
    "name": "ipython",
    "version": 3
   },
   "file_extension": ".py",
   "mimetype": "text/x-python",
   "name": "python",
   "nbconvert_exporter": "python",
   "pygments_lexer": "ipython3",
   "version": "3.10.10"
  },
  "papermill": {
   "default_parameters": {},
   "duration": 15.633141,
   "end_time": "2023-05-25T20:53:11.286100",
   "environment_variables": {},
   "exception": null,
   "input_path": "__notebook__.ipynb",
   "output_path": "__notebook__.ipynb",
   "parameters": {},
   "start_time": "2023-05-25T20:52:55.652959",
   "version": "2.4.0"
  }
 },
 "nbformat": 4,
 "nbformat_minor": 5
}
