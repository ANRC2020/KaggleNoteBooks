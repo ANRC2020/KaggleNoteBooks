{
 "cells": [
  {
   "cell_type": "code",
   "execution_count": 1,
   "id": "fa97fd0d",
   "metadata": {
    "_cell_guid": "b1076dfc-b9ad-4769-8c92-a6c4dae69d19",
    "_uuid": "8f2839f25d086af736a60e9eeb907d3b93b6e0e5",
    "execution": {
     "iopub.execute_input": "2023-05-22T12:08:00.981489Z",
     "iopub.status.busy": "2023-05-22T12:08:00.980847Z",
     "iopub.status.idle": "2023-05-22T12:08:00.999455Z",
     "shell.execute_reply": "2023-05-22T12:08:00.998311Z"
    },
    "papermill": {
     "duration": 0.028114,
     "end_time": "2023-05-22T12:08:01.002696",
     "exception": false,
     "start_time": "2023-05-22T12:08:00.974582",
     "status": "completed"
    },
    "tags": []
   },
   "outputs": [
    {
     "name": "stdout",
     "output_type": "stream",
     "text": [
      "/kaggle/input/data-science-salaries-2023/ds_salaries.csv\n"
     ]
    }
   ],
   "source": [
    "# This Python 3 environment comes with many helpful analytics libraries installed\n",
    "# It is defined by the kaggle/python Docker image: https://github.com/kaggle/docker-python\n",
    "# For example, here's several helpful packages to load\n",
    "\n",
    "import numpy as np # linear algebra\n",
    "import pandas as pd # data processing, CSV file I/O (e.g. pd.read_csv)\n",
    "\n",
    "# Input data files are available in the read-only \"../input/\" directory\n",
    "# For example, running this (by clicking run or pressing Shift+Enter) will list all files under the input directory\n",
    "\n",
    "import os\n",
    "for dirname, _, filenames in os.walk('/kaggle/input'):\n",
    "    for filename in filenames:\n",
    "        print(os.path.join(dirname, filename))\n",
    "\n",
    "# You can write up to 20GB to the current directory (/kaggle/working/) that gets preserved as output when you create a version using \"Save & Run All\" \n",
    "# You can also write temporary files to /kaggle/temp/, but they won't be saved outside of the current session"
   ]
  },
  {
   "cell_type": "code",
   "execution_count": 2,
   "id": "f6bf04e9",
   "metadata": {
    "execution": {
     "iopub.execute_input": "2023-05-22T12:08:01.014500Z",
     "iopub.status.busy": "2023-05-22T12:08:01.013143Z",
     "iopub.status.idle": "2023-05-22T12:08:01.052250Z",
     "shell.execute_reply": "2023-05-22T12:08:01.051218Z"
    },
    "papermill": {
     "duration": 0.047518,
     "end_time": "2023-05-22T12:08:01.054852",
     "exception": false,
     "start_time": "2023-05-22T12:08:01.007334",
     "status": "completed"
    },
    "tags": []
   },
   "outputs": [],
   "source": [
    "df = pd.read_csv(\"/kaggle/input/data-science-salaries-2023/ds_salaries.csv\")"
   ]
  },
  {
   "cell_type": "code",
   "execution_count": 3,
   "id": "cecc5cdc",
   "metadata": {
    "execution": {
     "iopub.execute_input": "2023-05-22T12:08:01.065468Z",
     "iopub.status.busy": "2023-05-22T12:08:01.064836Z",
     "iopub.status.idle": "2023-05-22T12:08:01.100743Z",
     "shell.execute_reply": "2023-05-22T12:08:01.099544Z"
    },
    "papermill": {
     "duration": 0.044333,
     "end_time": "2023-05-22T12:08:01.103529",
     "exception": false,
     "start_time": "2023-05-22T12:08:01.059196",
     "status": "completed"
    },
    "tags": []
   },
   "outputs": [
    {
     "data": {
      "text/html": [
       "<div>\n",
       "<style scoped>\n",
       "    .dataframe tbody tr th:only-of-type {\n",
       "        vertical-align: middle;\n",
       "    }\n",
       "\n",
       "    .dataframe tbody tr th {\n",
       "        vertical-align: top;\n",
       "    }\n",
       "\n",
       "    .dataframe thead th {\n",
       "        text-align: right;\n",
       "    }\n",
       "</style>\n",
       "<table border=\"1\" class=\"dataframe\">\n",
       "  <thead>\n",
       "    <tr style=\"text-align: right;\">\n",
       "      <th></th>\n",
       "      <th>work_year</th>\n",
       "      <th>experience_level</th>\n",
       "      <th>employment_type</th>\n",
       "      <th>job_title</th>\n",
       "      <th>salary</th>\n",
       "      <th>salary_currency</th>\n",
       "      <th>salary_in_usd</th>\n",
       "      <th>employee_residence</th>\n",
       "      <th>remote_ratio</th>\n",
       "      <th>company_location</th>\n",
       "      <th>company_size</th>\n",
       "    </tr>\n",
       "  </thead>\n",
       "  <tbody>\n",
       "    <tr>\n",
       "      <th>0</th>\n",
       "      <td>2023</td>\n",
       "      <td>SE</td>\n",
       "      <td>FT</td>\n",
       "      <td>Principal Data Scientist</td>\n",
       "      <td>80000</td>\n",
       "      <td>EUR</td>\n",
       "      <td>85847</td>\n",
       "      <td>ES</td>\n",
       "      <td>100</td>\n",
       "      <td>ES</td>\n",
       "      <td>L</td>\n",
       "    </tr>\n",
       "    <tr>\n",
       "      <th>1</th>\n",
       "      <td>2023</td>\n",
       "      <td>MI</td>\n",
       "      <td>CT</td>\n",
       "      <td>ML Engineer</td>\n",
       "      <td>30000</td>\n",
       "      <td>USD</td>\n",
       "      <td>30000</td>\n",
       "      <td>US</td>\n",
       "      <td>100</td>\n",
       "      <td>US</td>\n",
       "      <td>S</td>\n",
       "    </tr>\n",
       "    <tr>\n",
       "      <th>2</th>\n",
       "      <td>2023</td>\n",
       "      <td>MI</td>\n",
       "      <td>CT</td>\n",
       "      <td>ML Engineer</td>\n",
       "      <td>25500</td>\n",
       "      <td>USD</td>\n",
       "      <td>25500</td>\n",
       "      <td>US</td>\n",
       "      <td>100</td>\n",
       "      <td>US</td>\n",
       "      <td>S</td>\n",
       "    </tr>\n",
       "    <tr>\n",
       "      <th>3</th>\n",
       "      <td>2023</td>\n",
       "      <td>SE</td>\n",
       "      <td>FT</td>\n",
       "      <td>Data Scientist</td>\n",
       "      <td>175000</td>\n",
       "      <td>USD</td>\n",
       "      <td>175000</td>\n",
       "      <td>CA</td>\n",
       "      <td>100</td>\n",
       "      <td>CA</td>\n",
       "      <td>M</td>\n",
       "    </tr>\n",
       "    <tr>\n",
       "      <th>4</th>\n",
       "      <td>2023</td>\n",
       "      <td>SE</td>\n",
       "      <td>FT</td>\n",
       "      <td>Data Scientist</td>\n",
       "      <td>120000</td>\n",
       "      <td>USD</td>\n",
       "      <td>120000</td>\n",
       "      <td>CA</td>\n",
       "      <td>100</td>\n",
       "      <td>CA</td>\n",
       "      <td>M</td>\n",
       "    </tr>\n",
       "  </tbody>\n",
       "</table>\n",
       "</div>"
      ],
      "text/plain": [
       "   work_year experience_level employment_type                 job_title  \\\n",
       "0       2023               SE              FT  Principal Data Scientist   \n",
       "1       2023               MI              CT               ML Engineer   \n",
       "2       2023               MI              CT               ML Engineer   \n",
       "3       2023               SE              FT            Data Scientist   \n",
       "4       2023               SE              FT            Data Scientist   \n",
       "\n",
       "   salary salary_currency  salary_in_usd employee_residence  remote_ratio  \\\n",
       "0   80000             EUR          85847                 ES           100   \n",
       "1   30000             USD          30000                 US           100   \n",
       "2   25500             USD          25500                 US           100   \n",
       "3  175000             USD         175000                 CA           100   \n",
       "4  120000             USD         120000                 CA           100   \n",
       "\n",
       "  company_location company_size  \n",
       "0               ES            L  \n",
       "1               US            S  \n",
       "2               US            S  \n",
       "3               CA            M  \n",
       "4               CA            M  "
      ]
     },
     "execution_count": 3,
     "metadata": {},
     "output_type": "execute_result"
    }
   ],
   "source": [
    "df.head()"
   ]
  },
  {
   "cell_type": "code",
   "execution_count": 4,
   "id": "d459eb7f",
   "metadata": {
    "execution": {
     "iopub.execute_input": "2023-05-22T12:08:01.114554Z",
     "iopub.status.busy": "2023-05-22T12:08:01.114162Z",
     "iopub.status.idle": "2023-05-22T12:08:01.129866Z",
     "shell.execute_reply": "2023-05-22T12:08:01.128687Z"
    },
    "papermill": {
     "duration": 0.024364,
     "end_time": "2023-05-22T12:08:01.132633",
     "exception": false,
     "start_time": "2023-05-22T12:08:01.108269",
     "status": "completed"
    },
    "tags": []
   },
   "outputs": [],
   "source": [
    "df.dropna(inplace=True)"
   ]
  },
  {
   "cell_type": "code",
   "execution_count": 5,
   "id": "676a5467",
   "metadata": {
    "execution": {
     "iopub.execute_input": "2023-05-22T12:08:01.143998Z",
     "iopub.status.busy": "2023-05-22T12:08:01.143535Z",
     "iopub.status.idle": "2023-05-22T12:08:01.150722Z",
     "shell.execute_reply": "2023-05-22T12:08:01.149494Z"
    },
    "papermill": {
     "duration": 0.015704,
     "end_time": "2023-05-22T12:08:01.153095",
     "exception": false,
     "start_time": "2023-05-22T12:08:01.137391",
     "status": "completed"
    },
    "tags": []
   },
   "outputs": [
    {
     "data": {
      "text/plain": [
       "(3755, 11)"
      ]
     },
     "execution_count": 5,
     "metadata": {},
     "output_type": "execute_result"
    }
   ],
   "source": [
    "df.shape"
   ]
  },
  {
   "cell_type": "code",
   "execution_count": 6,
   "id": "80697654",
   "metadata": {
    "execution": {
     "iopub.execute_input": "2023-05-22T12:08:01.164457Z",
     "iopub.status.busy": "2023-05-22T12:08:01.164053Z",
     "iopub.status.idle": "2023-05-22T12:08:01.179388Z",
     "shell.execute_reply": "2023-05-22T12:08:01.178342Z"
    },
    "papermill": {
     "duration": 0.02414,
     "end_time": "2023-05-22T12:08:01.182052",
     "exception": false,
     "start_time": "2023-05-22T12:08:01.157912",
     "status": "completed"
    },
    "tags": []
   },
   "outputs": [],
   "source": [
    "for col in df:\n",
    "    if df[col].dtype == 'object':\n",
    "        df[col] = df[col].factorize()[0]"
   ]
  },
  {
   "cell_type": "code",
   "execution_count": 7,
   "id": "c56bf22a",
   "metadata": {
    "execution": {
     "iopub.execute_input": "2023-05-22T12:08:01.193498Z",
     "iopub.status.busy": "2023-05-22T12:08:01.193051Z",
     "iopub.status.idle": "2023-05-22T12:08:01.208725Z",
     "shell.execute_reply": "2023-05-22T12:08:01.207409Z"
    },
    "papermill": {
     "duration": 0.024667,
     "end_time": "2023-05-22T12:08:01.211580",
     "exception": false,
     "start_time": "2023-05-22T12:08:01.186913",
     "status": "completed"
    },
    "tags": []
   },
   "outputs": [
    {
     "data": {
      "text/html": [
       "<div>\n",
       "<style scoped>\n",
       "    .dataframe tbody tr th:only-of-type {\n",
       "        vertical-align: middle;\n",
       "    }\n",
       "\n",
       "    .dataframe tbody tr th {\n",
       "        vertical-align: top;\n",
       "    }\n",
       "\n",
       "    .dataframe thead th {\n",
       "        text-align: right;\n",
       "    }\n",
       "</style>\n",
       "<table border=\"1\" class=\"dataframe\">\n",
       "  <thead>\n",
       "    <tr style=\"text-align: right;\">\n",
       "      <th></th>\n",
       "      <th>work_year</th>\n",
       "      <th>experience_level</th>\n",
       "      <th>employment_type</th>\n",
       "      <th>job_title</th>\n",
       "      <th>salary</th>\n",
       "      <th>salary_currency</th>\n",
       "      <th>salary_in_usd</th>\n",
       "      <th>employee_residence</th>\n",
       "      <th>remote_ratio</th>\n",
       "      <th>company_location</th>\n",
       "      <th>company_size</th>\n",
       "    </tr>\n",
       "  </thead>\n",
       "  <tbody>\n",
       "    <tr>\n",
       "      <th>0</th>\n",
       "      <td>2023</td>\n",
       "      <td>0</td>\n",
       "      <td>0</td>\n",
       "      <td>0</td>\n",
       "      <td>80000</td>\n",
       "      <td>0</td>\n",
       "      <td>85847</td>\n",
       "      <td>0</td>\n",
       "      <td>100</td>\n",
       "      <td>0</td>\n",
       "      <td>0</td>\n",
       "    </tr>\n",
       "    <tr>\n",
       "      <th>1</th>\n",
       "      <td>2023</td>\n",
       "      <td>1</td>\n",
       "      <td>1</td>\n",
       "      <td>1</td>\n",
       "      <td>30000</td>\n",
       "      <td>1</td>\n",
       "      <td>30000</td>\n",
       "      <td>1</td>\n",
       "      <td>100</td>\n",
       "      <td>1</td>\n",
       "      <td>1</td>\n",
       "    </tr>\n",
       "    <tr>\n",
       "      <th>2</th>\n",
       "      <td>2023</td>\n",
       "      <td>1</td>\n",
       "      <td>1</td>\n",
       "      <td>1</td>\n",
       "      <td>25500</td>\n",
       "      <td>1</td>\n",
       "      <td>25500</td>\n",
       "      <td>1</td>\n",
       "      <td>100</td>\n",
       "      <td>1</td>\n",
       "      <td>1</td>\n",
       "    </tr>\n",
       "    <tr>\n",
       "      <th>3</th>\n",
       "      <td>2023</td>\n",
       "      <td>0</td>\n",
       "      <td>0</td>\n",
       "      <td>2</td>\n",
       "      <td>175000</td>\n",
       "      <td>1</td>\n",
       "      <td>175000</td>\n",
       "      <td>2</td>\n",
       "      <td>100</td>\n",
       "      <td>2</td>\n",
       "      <td>2</td>\n",
       "    </tr>\n",
       "    <tr>\n",
       "      <th>4</th>\n",
       "      <td>2023</td>\n",
       "      <td>0</td>\n",
       "      <td>0</td>\n",
       "      <td>2</td>\n",
       "      <td>120000</td>\n",
       "      <td>1</td>\n",
       "      <td>120000</td>\n",
       "      <td>2</td>\n",
       "      <td>100</td>\n",
       "      <td>2</td>\n",
       "      <td>2</td>\n",
       "    </tr>\n",
       "  </tbody>\n",
       "</table>\n",
       "</div>"
      ],
      "text/plain": [
       "   work_year  experience_level  employment_type  job_title  salary  \\\n",
       "0       2023                 0                0          0   80000   \n",
       "1       2023                 1                1          1   30000   \n",
       "2       2023                 1                1          1   25500   \n",
       "3       2023                 0                0          2  175000   \n",
       "4       2023                 0                0          2  120000   \n",
       "\n",
       "   salary_currency  salary_in_usd  employee_residence  remote_ratio  \\\n",
       "0                0          85847                   0           100   \n",
       "1                1          30000                   1           100   \n",
       "2                1          25500                   1           100   \n",
       "3                1         175000                   2           100   \n",
       "4                1         120000                   2           100   \n",
       "\n",
       "   company_location  company_size  \n",
       "0                 0             0  \n",
       "1                 1             1  \n",
       "2                 1             1  \n",
       "3                 2             2  \n",
       "4                 2             2  "
      ]
     },
     "execution_count": 7,
     "metadata": {},
     "output_type": "execute_result"
    }
   ],
   "source": [
    "df.head()"
   ]
  },
  {
   "cell_type": "code",
   "execution_count": 8,
   "id": "33689da1",
   "metadata": {
    "execution": {
     "iopub.execute_input": "2023-05-22T12:08:01.224111Z",
     "iopub.status.busy": "2023-05-22T12:08:01.223635Z",
     "iopub.status.idle": "2023-05-22T12:08:02.868609Z",
     "shell.execute_reply": "2023-05-22T12:08:02.866747Z"
    },
    "papermill": {
     "duration": 1.655493,
     "end_time": "2023-05-22T12:08:02.872362",
     "exception": false,
     "start_time": "2023-05-22T12:08:01.216869",
     "status": "completed"
    },
    "tags": []
   },
   "outputs": [
    {
     "name": "stderr",
     "output_type": "stream",
     "text": [
      "/opt/conda/lib/python3.10/site-packages/scipy/__init__.py:146: UserWarning: A NumPy version >=1.16.5 and <1.23.0 is required for this version of SciPy (detected version 1.23.5\n",
      "  warnings.warn(f\"A NumPy version >={np_minversion} and <{np_maxversion}\"\n"
     ]
    }
   ],
   "source": [
    "from sklearn.model_selection import train_test_split\n",
    "\n",
    "X_train, X_test, y_train, y_test = train_test_split(df.loc[:,df.columns != \"salary_in_usd\"], df['salary_in_usd'], test_size=0.3)"
   ]
  },
  {
   "cell_type": "code",
   "execution_count": 9,
   "id": "3acd15d7",
   "metadata": {
    "execution": {
     "iopub.execute_input": "2023-05-22T12:08:02.887289Z",
     "iopub.status.busy": "2023-05-22T12:08:02.885596Z",
     "iopub.status.idle": "2023-05-22T12:08:03.156232Z",
     "shell.execute_reply": "2023-05-22T12:08:03.154534Z"
    },
    "papermill": {
     "duration": 0.282688,
     "end_time": "2023-05-22T12:08:03.160724",
     "exception": false,
     "start_time": "2023-05-22T12:08:02.878036",
     "status": "completed"
    },
    "tags": []
   },
   "outputs": [
    {
     "name": "stdout",
     "output_type": "stream",
     "text": [
      "58172.4379391793\n"
     ]
    }
   ],
   "source": [
    "# Apply a linear reg model\n",
    "\n",
    "from sklearn.linear_model import LinearRegression\n",
    "from math import sqrt\n",
    "\n",
    "reg = LinearRegression()\n",
    "\n",
    "reg.fit(X_train, y_train)\n",
    "\n",
    "preds = reg.predict(X_test)\n",
    "\n",
    "RMSE = 0\n",
    "\n",
    "for i, entry in enumerate(preds):\n",
    "#     print(y_test.iloc[i], entry)\n",
    "    RMSE += abs(entry - y_test.iloc[i])**2\n",
    "    \n",
    "RMSE = sqrt(RMSE / y_test.shape[0])\n",
    "\n",
    "print(RMSE)"
   ]
  },
  {
   "cell_type": "code",
   "execution_count": 10,
   "id": "8c5168e8",
   "metadata": {
    "execution": {
     "iopub.execute_input": "2023-05-22T12:08:03.199687Z",
     "iopub.status.busy": "2023-05-22T12:08:03.198848Z",
     "iopub.status.idle": "2023-05-22T12:08:03.206220Z",
     "shell.execute_reply": "2023-05-22T12:08:03.204731Z"
    },
    "papermill": {
     "duration": 0.036228,
     "end_time": "2023-05-22T12:08:03.208794",
     "exception": false,
     "start_time": "2023-05-22T12:08:03.172566",
     "status": "completed"
    },
    "tags": []
   },
   "outputs": [],
   "source": [
    "# Apply a Random Forest Model\n",
    "\n",
    "\n"
   ]
  }
 ],
 "metadata": {
  "kernelspec": {
   "display_name": "Python 3",
   "language": "python",
   "name": "python3"
  },
  "language_info": {
   "codemirror_mode": {
    "name": "ipython",
    "version": 3
   },
   "file_extension": ".py",
   "mimetype": "text/x-python",
   "name": "python",
   "nbconvert_exporter": "python",
   "pygments_lexer": "ipython3",
   "version": "3.10.10"
  },
  "papermill": {
   "default_parameters": {},
   "duration": 17.272902,
   "end_time": "2023-05-22T12:08:04.239858",
   "environment_variables": {},
   "exception": null,
   "input_path": "__notebook__.ipynb",
   "output_path": "__notebook__.ipynb",
   "parameters": {},
   "start_time": "2023-05-22T12:07:46.966956",
   "version": "2.4.0"
  }
 },
 "nbformat": 4,
 "nbformat_minor": 5
}
