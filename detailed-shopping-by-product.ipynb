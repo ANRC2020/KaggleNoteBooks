{
 "cells": [
  {
   "cell_type": "code",
   "execution_count": 1,
   "id": "1c31faae",
   "metadata": {
    "_cell_guid": "b1076dfc-b9ad-4769-8c92-a6c4dae69d19",
    "_uuid": "8f2839f25d086af736a60e9eeb907d3b93b6e0e5",
    "execution": {
     "iopub.execute_input": "2023-05-22T12:07:10.729156Z",
     "iopub.status.busy": "2023-05-22T12:07:10.728716Z",
     "iopub.status.idle": "2023-05-22T12:07:10.747342Z",
     "shell.execute_reply": "2023-05-22T12:07:10.746539Z"
    },
    "papermill": {
     "duration": 0.02689,
     "end_time": "2023-05-22T12:07:10.749640",
     "exception": false,
     "start_time": "2023-05-22T12:07:10.722750",
     "status": "completed"
    },
    "tags": []
   },
   "outputs": [
    {
     "name": "stdout",
     "output_type": "stream",
     "text": [
      "/kaggle/input/detailed-shopping-by-product-supermarket/Compras2022.xlsx\n"
     ]
    }
   ],
   "source": [
    "# This Python 3 environment comes with many helpful analytics libraries installed\n",
    "# It is defined by the kaggle/python Docker image: https://github.com/kaggle/docker-python\n",
    "# For example, here's several helpful packages to load\n",
    "\n",
    "import numpy as np # linear algebra\n",
    "import pandas as pd # data processing, CSV file I/O (e.g. pd.read_csv)\n",
    "\n",
    "# Input data files are available in the read-only \"../input/\" directory\n",
    "# For example, running this (by clicking run or pressing Shift+Enter) will list all files under the input directory\n",
    "\n",
    "import os\n",
    "for dirname, _, filenames in os.walk('/kaggle/input'):\n",
    "    for filename in filenames:\n",
    "        print(os.path.join(dirname, filename))\n",
    "\n",
    "# You can write up to 20GB to the current directory (/kaggle/working/) that gets preserved as output when you create a version using \"Save & Run All\" \n",
    "# You can also write temporary files to /kaggle/temp/, but they won't be saved outside of the current session"
   ]
  },
  {
   "cell_type": "code",
   "execution_count": 2,
   "id": "7ea49a64",
   "metadata": {
    "execution": {
     "iopub.execute_input": "2023-05-22T12:07:10.759963Z",
     "iopub.status.busy": "2023-05-22T12:07:10.759581Z",
     "iopub.status.idle": "2023-05-22T12:07:15.776928Z",
     "shell.execute_reply": "2023-05-22T12:07:15.775977Z"
    },
    "papermill": {
     "duration": 5.025373,
     "end_time": "2023-05-22T12:07:15.779514",
     "exception": false,
     "start_time": "2023-05-22T12:07:10.754141",
     "status": "completed"
    },
    "tags": []
   },
   "outputs": [],
   "source": [
    "df = pd.read_excel(\"/kaggle/input/detailed-shopping-by-product-supermarket/Compras2022.xlsx\")"
   ]
  },
  {
   "cell_type": "code",
   "execution_count": 3,
   "id": "588b1365",
   "metadata": {
    "execution": {
     "iopub.execute_input": "2023-05-22T12:07:15.790026Z",
     "iopub.status.busy": "2023-05-22T12:07:15.789451Z",
     "iopub.status.idle": "2023-05-22T12:07:15.833816Z",
     "shell.execute_reply": "2023-05-22T12:07:15.832678Z"
    },
    "papermill": {
     "duration": 0.052426,
     "end_time": "2023-05-22T12:07:15.836107",
     "exception": false,
     "start_time": "2023-05-22T12:07:15.783681",
     "status": "completed"
    },
    "tags": []
   },
   "outputs": [
    {
     "data": {
      "text/html": [
       "<div>\n",
       "<style scoped>\n",
       "    .dataframe tbody tr th:only-of-type {\n",
       "        vertical-align: middle;\n",
       "    }\n",
       "\n",
       "    .dataframe tbody tr th {\n",
       "        vertical-align: top;\n",
       "    }\n",
       "\n",
       "    .dataframe thead th {\n",
       "        text-align: right;\n",
       "    }\n",
       "</style>\n",
       "<table border=\"1\" class=\"dataframe\">\n",
       "  <thead>\n",
       "    <tr style=\"text-align: right;\">\n",
       "      <th></th>\n",
       "      <th>proveedor</th>\n",
       "      <th>fecha</th>\n",
       "      <th>tipo</th>\n",
       "      <th>numero</th>\n",
       "      <th>bodega</th>\n",
       "      <th>producto</th>\n",
       "      <th>descripcion</th>\n",
       "      <th>cant</th>\n",
       "      <th>unidad</th>\n",
       "      <th>vlrunit</th>\n",
       "      <th>total_siniva</th>\n",
       "      <th>iva_tasa</th>\n",
       "      <th>valor_iva</th>\n",
       "      <th>cuenta</th>\n",
       "      <th>precio_actual</th>\n",
       "      <th>precio_nuevo</th>\n",
       "      <th>saldo_actual</th>\n",
       "      <th>margen_bruto</th>\n",
       "    </tr>\n",
       "  </thead>\n",
       "  <tbody>\n",
       "    <tr>\n",
       "      <th>0</th>\n",
       "      <td>CAMILO ANDRES JARAMILLO GORDILLO</td>\n",
       "      <td>2022-01-14</td>\n",
       "      <td>FC</td>\n",
       "      <td>28266</td>\n",
       "      <td>1</td>\n",
       "      <td>7704987009249</td>\n",
       "      <td>TINTE IRIS</td>\n",
       "      <td>12.0</td>\n",
       "      <td>UND</td>\n",
       "      <td>1716</td>\n",
       "      <td>20588</td>\n",
       "      <td>19</td>\n",
       "      <td>3912</td>\n",
       "      <td>14351601</td>\n",
       "      <td>2800.0</td>\n",
       "      <td>0.0</td>\n",
       "      <td>4.0</td>\n",
       "      <td>0</td>\n",
       "    </tr>\n",
       "    <tr>\n",
       "      <th>1</th>\n",
       "      <td>CAMILO ANDRES JARAMILLO GORDILLO</td>\n",
       "      <td>2022-01-14</td>\n",
       "      <td>FC</td>\n",
       "      <td>28266</td>\n",
       "      <td>1</td>\n",
       "      <td>5210</td>\n",
       "      <td>CANDELA CON EXTENSOR</td>\n",
       "      <td>25.0</td>\n",
       "      <td>UND</td>\n",
       "      <td>2286</td>\n",
       "      <td>57143</td>\n",
       "      <td>19</td>\n",
       "      <td>10857</td>\n",
       "      <td>14351601</td>\n",
       "      <td>4000.0</td>\n",
       "      <td>0.0</td>\n",
       "      <td>688.0</td>\n",
       "      <td>0</td>\n",
       "    </tr>\n",
       "    <tr>\n",
       "      <th>2</th>\n",
       "      <td>CAMILO ANDRES JARAMILLO GORDILLO</td>\n",
       "      <td>2022-01-14</td>\n",
       "      <td>FC</td>\n",
       "      <td>28266</td>\n",
       "      <td>1</td>\n",
       "      <td>7453088046287</td>\n",
       "      <td>SUPER GLUE *10G</td>\n",
       "      <td>12.0</td>\n",
       "      <td>UND</td>\n",
       "      <td>575</td>\n",
       "      <td>6900</td>\n",
       "      <td>0</td>\n",
       "      <td>0</td>\n",
       "      <td>14350101</td>\n",
       "      <td>900.0</td>\n",
       "      <td>0.0</td>\n",
       "      <td>133.0</td>\n",
       "      <td>0</td>\n",
       "    </tr>\n",
       "    <tr>\n",
       "      <th>3</th>\n",
       "      <td>CAMILO ANDRES JARAMILLO GORDILLO</td>\n",
       "      <td>2022-01-14</td>\n",
       "      <td>FC</td>\n",
       "      <td>28266</td>\n",
       "      <td>1</td>\n",
       "      <td>6984240170102</td>\n",
       "      <td>CINTA NEGRA AISLANTE</td>\n",
       "      <td>10.0</td>\n",
       "      <td>UND</td>\n",
       "      <td>886</td>\n",
       "      <td>8858</td>\n",
       "      <td>0</td>\n",
       "      <td>0</td>\n",
       "      <td>14350101</td>\n",
       "      <td>1200.0</td>\n",
       "      <td>0.0</td>\n",
       "      <td>3.0</td>\n",
       "      <td>0</td>\n",
       "    </tr>\n",
       "    <tr>\n",
       "      <th>4</th>\n",
       "      <td>CAMILO ANDRES JARAMILLO GORDILLO</td>\n",
       "      <td>2022-01-14</td>\n",
       "      <td>FC</td>\n",
       "      <td>28266</td>\n",
       "      <td>1</td>\n",
       "      <td>6946614108821</td>\n",
       "      <td>PEGANTE SMATPEGA *5GR</td>\n",
       "      <td>12.0</td>\n",
       "      <td>UND</td>\n",
       "      <td>263</td>\n",
       "      <td>3156</td>\n",
       "      <td>19</td>\n",
       "      <td>600</td>\n",
       "      <td>14351601</td>\n",
       "      <td>500.0</td>\n",
       "      <td>0.0</td>\n",
       "      <td>7.0</td>\n",
       "      <td>0</td>\n",
       "    </tr>\n",
       "  </tbody>\n",
       "</table>\n",
       "</div>"
      ],
      "text/plain": [
       "                          proveedor      fecha tipo  numero bodega  \\\n",
       "0  CAMILO ANDRES JARAMILLO GORDILLO 2022-01-14   FC   28266      1   \n",
       "1  CAMILO ANDRES JARAMILLO GORDILLO 2022-01-14   FC   28266      1   \n",
       "2  CAMILO ANDRES JARAMILLO GORDILLO 2022-01-14   FC   28266      1   \n",
       "3  CAMILO ANDRES JARAMILLO GORDILLO 2022-01-14   FC   28266      1   \n",
       "4  CAMILO ANDRES JARAMILLO GORDILLO 2022-01-14   FC   28266      1   \n",
       "\n",
       "        producto            descripcion  cant unidad  vlrunit  total_siniva  \\\n",
       "0  7704987009249             TINTE IRIS  12.0    UND     1716         20588   \n",
       "1           5210   CANDELA CON EXTENSOR  25.0    UND     2286         57143   \n",
       "2  7453088046287        SUPER GLUE *10G  12.0    UND      575          6900   \n",
       "3  6984240170102   CINTA NEGRA AISLANTE  10.0    UND      886          8858   \n",
       "4  6946614108821  PEGANTE SMATPEGA *5GR  12.0    UND      263          3156   \n",
       "\n",
       "   iva_tasa  valor_iva    cuenta  precio_actual  precio_nuevo  saldo_actual  \\\n",
       "0        19       3912  14351601         2800.0           0.0           4.0   \n",
       "1        19      10857  14351601         4000.0           0.0         688.0   \n",
       "2         0          0  14350101          900.0           0.0         133.0   \n",
       "3         0          0  14350101         1200.0           0.0           3.0   \n",
       "4        19        600  14351601          500.0           0.0           7.0   \n",
       "\n",
       "   margen_bruto  \n",
       "0             0  \n",
       "1             0  \n",
       "2             0  \n",
       "3             0  \n",
       "4             0  "
      ]
     },
     "execution_count": 3,
     "metadata": {},
     "output_type": "execute_result"
    }
   ],
   "source": [
    "df.head()"
   ]
  },
  {
   "cell_type": "code",
   "execution_count": 4,
   "id": "9feac4e8",
   "metadata": {
    "execution": {
     "iopub.execute_input": "2023-05-22T12:07:15.847266Z",
     "iopub.status.busy": "2023-05-22T12:07:15.846266Z",
     "iopub.status.idle": "2023-05-22T12:07:15.853507Z",
     "shell.execute_reply": "2023-05-22T12:07:15.852452Z"
    },
    "papermill": {
     "duration": 0.015224,
     "end_time": "2023-05-22T12:07:15.855877",
     "exception": false,
     "start_time": "2023-05-22T12:07:15.840653",
     "status": "completed"
    },
    "tags": []
   },
   "outputs": [
    {
     "data": {
      "text/plain": [
       "(16383, 18)"
      ]
     },
     "execution_count": 4,
     "metadata": {},
     "output_type": "execute_result"
    }
   ],
   "source": [
    "df.shape"
   ]
  },
  {
   "cell_type": "code",
   "execution_count": 5,
   "id": "d94c3fa3",
   "metadata": {
    "execution": {
     "iopub.execute_input": "2023-05-22T12:07:15.866638Z",
     "iopub.status.busy": "2023-05-22T12:07:15.866212Z",
     "iopub.status.idle": "2023-05-22T12:07:15.917506Z",
     "shell.execute_reply": "2023-05-22T12:07:15.916646Z"
    },
    "papermill": {
     "duration": 0.059466,
     "end_time": "2023-05-22T12:07:15.919882",
     "exception": false,
     "start_time": "2023-05-22T12:07:15.860416",
     "status": "completed"
    },
    "tags": []
   },
   "outputs": [
    {
     "data": {
      "text/html": [
       "<div>\n",
       "<style scoped>\n",
       "    .dataframe tbody tr th:only-of-type {\n",
       "        vertical-align: middle;\n",
       "    }\n",
       "\n",
       "    .dataframe tbody tr th {\n",
       "        vertical-align: top;\n",
       "    }\n",
       "\n",
       "    .dataframe thead th {\n",
       "        text-align: right;\n",
       "    }\n",
       "</style>\n",
       "<table border=\"1\" class=\"dataframe\">\n",
       "  <thead>\n",
       "    <tr style=\"text-align: right;\">\n",
       "      <th></th>\n",
       "      <th>numero</th>\n",
       "      <th>cant</th>\n",
       "      <th>vlrunit</th>\n",
       "      <th>total_siniva</th>\n",
       "      <th>iva_tasa</th>\n",
       "      <th>valor_iva</th>\n",
       "      <th>cuenta</th>\n",
       "      <th>precio_actual</th>\n",
       "      <th>precio_nuevo</th>\n",
       "      <th>saldo_actual</th>\n",
       "      <th>margen_bruto</th>\n",
       "    </tr>\n",
       "  </thead>\n",
       "  <tbody>\n",
       "    <tr>\n",
       "      <th>count</th>\n",
       "      <td>1.638300e+04</td>\n",
       "      <td>16383.000000</td>\n",
       "      <td>16383.000000</td>\n",
       "      <td>1.638300e+04</td>\n",
       "      <td>16383.000000</td>\n",
       "      <td>16383.000000</td>\n",
       "      <td>1.638300e+04</td>\n",
       "      <td>16378.000000</td>\n",
       "      <td>16378.000000</td>\n",
       "      <td>1.581000e+04</td>\n",
       "      <td>16383.0</td>\n",
       "    </tr>\n",
       "    <tr>\n",
       "      <th>mean</th>\n",
       "      <td>2.465965e+06</td>\n",
       "      <td>14.615445</td>\n",
       "      <td>4701.047916</td>\n",
       "      <td>4.386161e+04</td>\n",
       "      <td>13.663615</td>\n",
       "      <td>4189.371361</td>\n",
       "      <td>1.435119e+07</td>\n",
       "      <td>6691.086824</td>\n",
       "      <td>17.753694</td>\n",
       "      <td>8.059284e+04</td>\n",
       "      <td>0.0</td>\n",
       "    </tr>\n",
       "    <tr>\n",
       "      <th>std</th>\n",
       "      <td>1.090836e+08</td>\n",
       "      <td>28.994964</td>\n",
       "      <td>10482.810287</td>\n",
       "      <td>1.085276e+05</td>\n",
       "      <td>8.450720</td>\n",
       "      <td>11405.577963</td>\n",
       "      <td>6.719223e+02</td>\n",
       "      <td>11482.401970</td>\n",
       "      <td>1011.098776</td>\n",
       "      <td>8.149412e+05</td>\n",
       "      <td>0.0</td>\n",
       "    </tr>\n",
       "    <tr>\n",
       "      <th>min</th>\n",
       "      <td>1.000000e+00</td>\n",
       "      <td>0.000000</td>\n",
       "      <td>0.000000</td>\n",
       "      <td>0.000000e+00</td>\n",
       "      <td>0.000000</td>\n",
       "      <td>0.000000</td>\n",
       "      <td>1.435010e+07</td>\n",
       "      <td>0.000000</td>\n",
       "      <td>0.000000</td>\n",
       "      <td>-2.517504e+04</td>\n",
       "      <td>0.0</td>\n",
       "    </tr>\n",
       "    <tr>\n",
       "      <th>25%</th>\n",
       "      <td>2.320000e+02</td>\n",
       "      <td>4.000000</td>\n",
       "      <td>1256.000000</td>\n",
       "      <td>9.076000e+03</td>\n",
       "      <td>0.000000</td>\n",
       "      <td>0.000000</td>\n",
       "      <td>1.435010e+07</td>\n",
       "      <td>2000.000000</td>\n",
       "      <td>0.000000</td>\n",
       "      <td>4.000000e+00</td>\n",
       "      <td>0.0</td>\n",
       "    </tr>\n",
       "    <tr>\n",
       "      <th>50%</th>\n",
       "      <td>5.650000e+02</td>\n",
       "      <td>7.000000</td>\n",
       "      <td>2284.000000</td>\n",
       "      <td>2.000000e+04</td>\n",
       "      <td>19.000000</td>\n",
       "      <td>1748.000000</td>\n",
       "      <td>1.435160e+07</td>\n",
       "      <td>3500.000000</td>\n",
       "      <td>0.000000</td>\n",
       "      <td>3.700000e+01</td>\n",
       "      <td>0.0</td>\n",
       "    </tr>\n",
       "    <tr>\n",
       "      <th>75%</th>\n",
       "      <td>4.648900e+04</td>\n",
       "      <td>15.000000</td>\n",
       "      <td>4483.000000</td>\n",
       "      <td>4.320000e+04</td>\n",
       "      <td>19.000000</td>\n",
       "      <td>4416.500000</td>\n",
       "      <td>1.435160e+07</td>\n",
       "      <td>7000.000000</td>\n",
       "      <td>0.000000</td>\n",
       "      <td>9.810000e+02</td>\n",
       "      <td>0.0</td>\n",
       "    </tr>\n",
       "    <tr>\n",
       "      <th>max</th>\n",
       "      <td>6.225022e+09</td>\n",
       "      <td>2000.000000</td>\n",
       "      <td>206000.000000</td>\n",
       "      <td>4.057143e+06</td>\n",
       "      <td>19.000000</td>\n",
       "      <td>583891.000000</td>\n",
       "      <td>1.435301e+07</td>\n",
       "      <td>218100.000000</td>\n",
       "      <td>109480.000000</td>\n",
       "      <td>4.811964e+07</td>\n",
       "      <td>0.0</td>\n",
       "    </tr>\n",
       "  </tbody>\n",
       "</table>\n",
       "</div>"
      ],
      "text/plain": [
       "             numero          cant        vlrunit  total_siniva      iva_tasa  \\\n",
       "count  1.638300e+04  16383.000000   16383.000000  1.638300e+04  16383.000000   \n",
       "mean   2.465965e+06     14.615445    4701.047916  4.386161e+04     13.663615   \n",
       "std    1.090836e+08     28.994964   10482.810287  1.085276e+05      8.450720   \n",
       "min    1.000000e+00      0.000000       0.000000  0.000000e+00      0.000000   \n",
       "25%    2.320000e+02      4.000000    1256.000000  9.076000e+03      0.000000   \n",
       "50%    5.650000e+02      7.000000    2284.000000  2.000000e+04     19.000000   \n",
       "75%    4.648900e+04     15.000000    4483.000000  4.320000e+04     19.000000   \n",
       "max    6.225022e+09   2000.000000  206000.000000  4.057143e+06     19.000000   \n",
       "\n",
       "           valor_iva        cuenta  precio_actual   precio_nuevo  \\\n",
       "count   16383.000000  1.638300e+04   16378.000000   16378.000000   \n",
       "mean     4189.371361  1.435119e+07    6691.086824      17.753694   \n",
       "std     11405.577963  6.719223e+02   11482.401970    1011.098776   \n",
       "min         0.000000  1.435010e+07       0.000000       0.000000   \n",
       "25%         0.000000  1.435010e+07    2000.000000       0.000000   \n",
       "50%      1748.000000  1.435160e+07    3500.000000       0.000000   \n",
       "75%      4416.500000  1.435160e+07    7000.000000       0.000000   \n",
       "max    583891.000000  1.435301e+07  218100.000000  109480.000000   \n",
       "\n",
       "       saldo_actual  margen_bruto  \n",
       "count  1.581000e+04       16383.0  \n",
       "mean   8.059284e+04           0.0  \n",
       "std    8.149412e+05           0.0  \n",
       "min   -2.517504e+04           0.0  \n",
       "25%    4.000000e+00           0.0  \n",
       "50%    3.700000e+01           0.0  \n",
       "75%    9.810000e+02           0.0  \n",
       "max    4.811964e+07           0.0  "
      ]
     },
     "execution_count": 5,
     "metadata": {},
     "output_type": "execute_result"
    }
   ],
   "source": [
    "df.describe()"
   ]
  },
  {
   "cell_type": "code",
   "execution_count": 6,
   "id": "0a5c7ba7",
   "metadata": {
    "execution": {
     "iopub.execute_input": "2023-05-22T12:07:15.931306Z",
     "iopub.status.busy": "2023-05-22T12:07:15.930461Z",
     "iopub.status.idle": "2023-05-22T12:07:16.241060Z",
     "shell.execute_reply": "2023-05-22T12:07:16.239899Z"
    },
    "papermill": {
     "duration": 0.31854,
     "end_time": "2023-05-22T12:07:16.243311",
     "exception": false,
     "start_time": "2023-05-22T12:07:15.924771",
     "status": "completed"
    },
    "tags": []
   },
   "outputs": [
    {
     "data": {
      "text/plain": [
       "<AxesSubplot: >"
      ]
     },
     "execution_count": 6,
     "metadata": {},
     "output_type": "execute_result"
    },
    {
     "data": {
      "image/png": "[encoded data removed]",
      "text/plain": [
       "<Figure size 640x480 with 1 Axes>"
      ]
     },
     "metadata": {},
     "output_type": "display_data"
    }
   ],
   "source": [
    "df['saldo_actual'].plot()"
   ]
  },
  {
   "cell_type": "code",
   "execution_count": 7,
   "id": "a8ce4373",
   "metadata": {
    "execution": {
     "iopub.execute_input": "2023-05-22T12:07:16.255467Z",
     "iopub.status.busy": "2023-05-22T12:07:16.254784Z",
     "iopub.status.idle": "2023-05-22T12:07:16.281577Z",
     "shell.execute_reply": "2023-05-22T12:07:16.280505Z"
    },
    "papermill": {
     "duration": 0.035565,
     "end_time": "2023-05-22T12:07:16.284060",
     "exception": false,
     "start_time": "2023-05-22T12:07:16.248495",
     "status": "completed"
    },
    "tags": []
   },
   "outputs": [],
   "source": [
    "df.dropna(inplace=True)"
   ]
  },
  {
   "cell_type": "code",
   "execution_count": 8,
   "id": "c26fb990",
   "metadata": {
    "execution": {
     "iopub.execute_input": "2023-05-22T12:07:16.296844Z",
     "iopub.status.busy": "2023-05-22T12:07:16.296467Z",
     "iopub.status.idle": "2023-05-22T12:07:16.316551Z",
     "shell.execute_reply": "2023-05-22T12:07:16.315195Z"
    },
    "papermill": {
     "duration": 0.02919,
     "end_time": "2023-05-22T12:07:16.318815",
     "exception": false,
     "start_time": "2023-05-22T12:07:16.289625",
     "status": "completed"
    },
    "tags": []
   },
   "outputs": [
    {
     "name": "stdout",
     "output_type": "stream",
     "text": [
      "proveedor 20\n",
      "fecha 314\n",
      "tipo 3\n",
      "numero 988\n",
      "bodega 1\n",
      "producto 3711\n",
      "descripcion 3706\n",
      "cant 307\n",
      "unidad 18\n",
      "vlrunit 3179\n",
      "total_siniva 4967\n",
      "iva_tasa 3\n",
      "valor_iva 3275\n",
      "cuenta 5\n",
      "precio_actual 420\n",
      "precio_nuevo 3\n",
      "saldo_actual 1025\n",
      "margen_bruto 1\n"
     ]
    }
   ],
   "source": [
    "for col in df:\n",
    "    print(col, len(df[col].unique()))"
   ]
  },
  {
   "cell_type": "code",
   "execution_count": 9,
   "id": "912c8cb8",
   "metadata": {
    "execution": {
     "iopub.execute_input": "2023-05-22T12:07:16.331157Z",
     "iopub.status.busy": "2023-05-22T12:07:16.330412Z",
     "iopub.status.idle": "2023-05-22T12:07:16.340249Z",
     "shell.execute_reply": "2023-05-22T12:07:16.339420Z"
    },
    "papermill": {
     "duration": 0.018245,
     "end_time": "2023-05-22T12:07:16.342252",
     "exception": false,
     "start_time": "2023-05-22T12:07:16.324007",
     "status": "completed"
    },
    "tags": []
   },
   "outputs": [],
   "source": [
    "df.drop(labels=['bodega', 'margen_bruto', 'fecha'], inplace=True, axis=1)"
   ]
  },
  {
   "cell_type": "code",
   "execution_count": 10,
   "id": "d7b34b96",
   "metadata": {
    "execution": {
     "iopub.execute_input": "2023-05-22T12:07:16.355087Z",
     "iopub.status.busy": "2023-05-22T12:07:16.354431Z",
     "iopub.status.idle": "2023-05-22T12:07:16.370797Z",
     "shell.execute_reply": "2023-05-22T12:07:16.369952Z"
    },
    "papermill": {
     "duration": 0.025388,
     "end_time": "2023-05-22T12:07:16.373196",
     "exception": false,
     "start_time": "2023-05-22T12:07:16.347808",
     "status": "completed"
    },
    "tags": []
   },
   "outputs": [],
   "source": [
    "for col in df:\n",
    "    if df[col].dtype == 'object' or df[col].dtype == 'datetime64':\n",
    "        df[col] = df[col].factorize()[0]"
   ]
  },
  {
   "cell_type": "code",
   "execution_count": 11,
   "id": "69b01233",
   "metadata": {
    "execution": {
     "iopub.execute_input": "2023-05-22T12:07:16.385505Z",
     "iopub.status.busy": "2023-05-22T12:07:16.384887Z",
     "iopub.status.idle": "2023-05-22T12:07:16.402229Z",
     "shell.execute_reply": "2023-05-22T12:07:16.400977Z"
    },
    "papermill": {
     "duration": 0.02619,
     "end_time": "2023-05-22T12:07:16.404593",
     "exception": false,
     "start_time": "2023-05-22T12:07:16.378403",
     "status": "completed"
    },
    "tags": []
   },
   "outputs": [
    {
     "data": {
      "text/html": [
       "<div>\n",
       "<style scoped>\n",
       "    .dataframe tbody tr th:only-of-type {\n",
       "        vertical-align: middle;\n",
       "    }\n",
       "\n",
       "    .dataframe tbody tr th {\n",
       "        vertical-align: top;\n",
       "    }\n",
       "\n",
       "    .dataframe thead th {\n",
       "        text-align: right;\n",
       "    }\n",
       "</style>\n",
       "<table border=\"1\" class=\"dataframe\">\n",
       "  <thead>\n",
       "    <tr style=\"text-align: right;\">\n",
       "      <th></th>\n",
       "      <th>proveedor</th>\n",
       "      <th>tipo</th>\n",
       "      <th>numero</th>\n",
       "      <th>producto</th>\n",
       "      <th>descripcion</th>\n",
       "      <th>cant</th>\n",
       "      <th>unidad</th>\n",
       "      <th>vlrunit</th>\n",
       "      <th>total_siniva</th>\n",
       "      <th>iva_tasa</th>\n",
       "      <th>valor_iva</th>\n",
       "      <th>cuenta</th>\n",
       "      <th>precio_actual</th>\n",
       "      <th>precio_nuevo</th>\n",
       "      <th>saldo_actual</th>\n",
       "    </tr>\n",
       "  </thead>\n",
       "  <tbody>\n",
       "    <tr>\n",
       "      <th>0</th>\n",
       "      <td>0</td>\n",
       "      <td>0</td>\n",
       "      <td>28266</td>\n",
       "      <td>0</td>\n",
       "      <td>0</td>\n",
       "      <td>12.0</td>\n",
       "      <td>0</td>\n",
       "      <td>1716</td>\n",
       "      <td>20588</td>\n",
       "      <td>19</td>\n",
       "      <td>3912</td>\n",
       "      <td>14351601</td>\n",
       "      <td>2800.0</td>\n",
       "      <td>0.0</td>\n",
       "      <td>4.0</td>\n",
       "    </tr>\n",
       "    <tr>\n",
       "      <th>1</th>\n",
       "      <td>0</td>\n",
       "      <td>0</td>\n",
       "      <td>28266</td>\n",
       "      <td>1</td>\n",
       "      <td>1</td>\n",
       "      <td>25.0</td>\n",
       "      <td>0</td>\n",
       "      <td>2286</td>\n",
       "      <td>57143</td>\n",
       "      <td>19</td>\n",
       "      <td>10857</td>\n",
       "      <td>14351601</td>\n",
       "      <td>4000.0</td>\n",
       "      <td>0.0</td>\n",
       "      <td>688.0</td>\n",
       "    </tr>\n",
       "    <tr>\n",
       "      <th>2</th>\n",
       "      <td>0</td>\n",
       "      <td>0</td>\n",
       "      <td>28266</td>\n",
       "      <td>2</td>\n",
       "      <td>2</td>\n",
       "      <td>12.0</td>\n",
       "      <td>0</td>\n",
       "      <td>575</td>\n",
       "      <td>6900</td>\n",
       "      <td>0</td>\n",
       "      <td>0</td>\n",
       "      <td>14350101</td>\n",
       "      <td>900.0</td>\n",
       "      <td>0.0</td>\n",
       "      <td>133.0</td>\n",
       "    </tr>\n",
       "    <tr>\n",
       "      <th>3</th>\n",
       "      <td>0</td>\n",
       "      <td>0</td>\n",
       "      <td>28266</td>\n",
       "      <td>3</td>\n",
       "      <td>3</td>\n",
       "      <td>10.0</td>\n",
       "      <td>0</td>\n",
       "      <td>886</td>\n",
       "      <td>8858</td>\n",
       "      <td>0</td>\n",
       "      <td>0</td>\n",
       "      <td>14350101</td>\n",
       "      <td>1200.0</td>\n",
       "      <td>0.0</td>\n",
       "      <td>3.0</td>\n",
       "    </tr>\n",
       "    <tr>\n",
       "      <th>4</th>\n",
       "      <td>0</td>\n",
       "      <td>0</td>\n",
       "      <td>28266</td>\n",
       "      <td>4</td>\n",
       "      <td>4</td>\n",
       "      <td>12.0</td>\n",
       "      <td>0</td>\n",
       "      <td>263</td>\n",
       "      <td>3156</td>\n",
       "      <td>19</td>\n",
       "      <td>600</td>\n",
       "      <td>14351601</td>\n",
       "      <td>500.0</td>\n",
       "      <td>0.0</td>\n",
       "      <td>7.0</td>\n",
       "    </tr>\n",
       "  </tbody>\n",
       "</table>\n",
       "</div>"
      ],
      "text/plain": [
       "   proveedor  tipo  numero  producto  descripcion  cant  unidad  vlrunit  \\\n",
       "0          0     0   28266         0            0  12.0       0     1716   \n",
       "1          0     0   28266         1            1  25.0       0     2286   \n",
       "2          0     0   28266         2            2  12.0       0      575   \n",
       "3          0     0   28266         3            3  10.0       0      886   \n",
       "4          0     0   28266         4            4  12.0       0      263   \n",
       "\n",
       "   total_siniva  iva_tasa  valor_iva    cuenta  precio_actual  precio_nuevo  \\\n",
       "0         20588        19       3912  14351601         2800.0           0.0   \n",
       "1         57143        19      10857  14351601         4000.0           0.0   \n",
       "2          6900         0          0  14350101          900.0           0.0   \n",
       "3          8858         0          0  14350101         1200.0           0.0   \n",
       "4          3156        19        600  14351601          500.0           0.0   \n",
       "\n",
       "   saldo_actual  \n",
       "0           4.0  \n",
       "1         688.0  \n",
       "2         133.0  \n",
       "3           3.0  \n",
       "4           7.0  "
      ]
     },
     "execution_count": 11,
     "metadata": {},
     "output_type": "execute_result"
    }
   ],
   "source": [
    "df.head()"
   ]
  },
  {
   "cell_type": "code",
   "execution_count": 12,
   "id": "9b6413f7",
   "metadata": {
    "execution": {
     "iopub.execute_input": "2023-05-22T12:07:16.417522Z",
     "iopub.status.busy": "2023-05-22T12:07:16.417062Z",
     "iopub.status.idle": "2023-05-22T12:07:17.747837Z",
     "shell.execute_reply": "2023-05-22T12:07:17.746595Z"
    },
    "papermill": {
     "duration": 1.341037,
     "end_time": "2023-05-22T12:07:17.751357",
     "exception": false,
     "start_time": "2023-05-22T12:07:16.410320",
     "status": "completed"
    },
    "tags": []
   },
   "outputs": [
    {
     "name": "stderr",
     "output_type": "stream",
     "text": [
      "/opt/conda/lib/python3.10/site-packages/scipy/__init__.py:146: UserWarning: A NumPy version >=1.16.5 and <1.23.0 is required for this version of SciPy (detected version 1.23.5\n",
      "  warnings.warn(f\"A NumPy version >={np_minversion} and <{np_maxversion}\"\n"
     ]
    }
   ],
   "source": [
    "from sklearn.model_selection import train_test_split\n",
    "\n",
    "X_train, X_test, y_train, y_test = train_test_split(df.loc[:, df.columns != 'saldo_actual'], df['saldo_actual'], test_size=0.3)"
   ]
  },
  {
   "cell_type": "code",
   "execution_count": 13,
   "id": "4a31c0bb",
   "metadata": {
    "execution": {
     "iopub.execute_input": "2023-05-22T12:07:17.764806Z",
     "iopub.status.busy": "2023-05-22T12:07:17.764405Z",
     "iopub.status.idle": "2023-05-22T12:07:20.424173Z",
     "shell.execute_reply": "2023-05-22T12:07:20.421487Z"
    },
    "papermill": {
     "duration": 2.669446,
     "end_time": "2023-05-22T12:07:20.426708",
     "exception": false,
     "start_time": "2023-05-22T12:07:17.757262",
     "status": "completed"
    },
    "tags": []
   },
   "outputs": [
    {
     "name": "stdout",
     "output_type": "stream",
     "text": [
      "548870.4603724346\n"
     ]
    }
   ],
   "source": [
    "from sklearn.ensemble import GradientBoostingRegressor\n",
    "from math import sqrt\n",
    "\n",
    "clf = GradientBoostingRegressor()\n",
    "\n",
    "clf.fit(X_train, y_train)\n",
    "\n",
    "preds = clf.predict(X_test)\n",
    "\n",
    "RMSE = 0\n",
    "\n",
    "for i, entry in enumerate(preds):\n",
    "    \n",
    "    RMSE += abs(entry - y_test.iloc[i])**2\n",
    "    \n",
    "RMSE = sqrt(RMSE / y_test.shape[0])\n",
    "\n",
    "print(RMSE)"
   ]
  },
  {
   "cell_type": "code",
   "execution_count": null,
   "id": "367e1fd3",
   "metadata": {
    "papermill": {
     "duration": 0.005204,
     "end_time": "2023-05-22T12:07:20.437957",
     "exception": false,
     "start_time": "2023-05-22T12:07:20.432753",
     "status": "completed"
    },
    "tags": []
   },
   "outputs": [],
   "source": []
  }
 ],
 "metadata": {
  "kernelspec": {
   "display_name": "Python 3",
   "language": "python",
   "name": "python3"
  },
  "language_info": {
   "codemirror_mode": {
    "name": "ipython",
    "version": 3
   },
   "file_extension": ".py",
   "mimetype": "text/x-python",
   "name": "python",
   "nbconvert_exporter": "python",
   "pygments_lexer": "ipython3",
   "version": "3.10.10"
  },
  "papermill": {
   "default_parameters": {},
   "duration": 21.847978,
   "end_time": "2023-05-22T12:07:21.468732",
   "environment_variables": {},
   "exception": null,
   "input_path": "__notebook__.ipynb",
   "output_path": "__notebook__.ipynb",
   "parameters": {},
   "start_time": "2023-05-22T12:06:59.620754",
   "version": "2.4.0"
  }
 },
 "nbformat": 4,
 "nbformat_minor": 5
}
