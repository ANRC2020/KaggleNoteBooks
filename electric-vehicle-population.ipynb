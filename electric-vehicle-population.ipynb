{
 "cells": [
  {
   "cell_type": "code",
   "execution_count": 1,
   "id": "003a04c1",
   "metadata": {
    "_cell_guid": "b1076dfc-b9ad-4769-8c92-a6c4dae69d19",
    "_uuid": "8f2839f25d086af736a60e9eeb907d3b93b6e0e5",
    "execution": {
     "iopub.execute_input": "2023-05-22T12:23:58.214065Z",
     "iopub.status.busy": "2023-05-22T12:23:58.213482Z",
     "iopub.status.idle": "2023-05-22T12:23:58.245107Z",
     "shell.execute_reply": "2023-05-22T12:23:58.243673Z"
    },
    "papermill": {
     "duration": 0.044825,
     "end_time": "2023-05-22T12:23:58.248712",
     "exception": false,
     "start_time": "2023-05-22T12:23:58.203887",
     "status": "completed"
    },
    "tags": []
   },
   "outputs": [
    {
     "name": "stdout",
     "output_type": "stream",
     "text": [
      "/kaggle/input/electric-vehicle-population-data/Electric_Vehicle_Population_Data.csv\n"
     ]
    }
   ],
   "source": [
    "# This Python 3 environment comes with many helpful analytics libraries installed\n",
    "# It is defined by the kaggle/python Docker image: https://github.com/kaggle/docker-python\n",
    "# For example, here's several helpful packages to load\n",
    "\n",
    "import numpy as np # linear algebra\n",
    "import pandas as pd # data processing, CSV file I/O (e.g. pd.read_csv)\n",
    "\n",
    "# Input data files are available in the read-only \"../input/\" directory\n",
    "# For example, running this (by clicking run or pressing Shift+Enter) will list all files under the input directory\n",
    "\n",
    "import os\n",
    "for dirname, _, filenames in os.walk('/kaggle/input'):\n",
    "    for filename in filenames:\n",
    "        print(os.path.join(dirname, filename))\n",
    "\n",
    "# You can write up to 20GB to the current directory (/kaggle/working/) that gets preserved as output when you create a version using \"Save & Run All\" \n",
    "# You can also write temporary files to /kaggle/temp/, but they won't be saved outside of the current session"
   ]
  },
  {
   "cell_type": "code",
   "execution_count": 2,
   "id": "bfdc349e",
   "metadata": {
    "execution": {
     "iopub.execute_input": "2023-05-22T12:23:58.262817Z",
     "iopub.status.busy": "2023-05-22T12:23:58.262358Z",
     "iopub.status.idle": "2023-05-22T12:23:59.158133Z",
     "shell.execute_reply": "2023-05-22T12:23:59.156727Z"
    },
    "papermill": {
     "duration": 0.906845,
     "end_time": "2023-05-22T12:23:59.161841",
     "exception": false,
     "start_time": "2023-05-22T12:23:58.254996",
     "status": "completed"
    },
    "tags": []
   },
   "outputs": [],
   "source": [
    "df = pd.read_csv(\"/kaggle/input/electric-vehicle-population-data/Electric_Vehicle_Population_Data.csv\")"
   ]
  },
  {
   "cell_type": "code",
   "execution_count": 3,
   "id": "eff4f5ff",
   "metadata": {
    "execution": {
     "iopub.execute_input": "2023-05-22T12:23:59.180880Z",
     "iopub.status.busy": "2023-05-22T12:23:59.180351Z",
     "iopub.status.idle": "2023-05-22T12:23:59.381031Z",
     "shell.execute_reply": "2023-05-22T12:23:59.379418Z"
    },
    "papermill": {
     "duration": 0.213945,
     "end_time": "2023-05-22T12:23:59.384217",
     "exception": false,
     "start_time": "2023-05-22T12:23:59.170272",
     "status": "completed"
    },
    "tags": []
   },
   "outputs": [],
   "source": [
    "df.dropna(inplace=True)"
   ]
  },
  {
   "cell_type": "code",
   "execution_count": 4,
   "id": "e54e9d35",
   "metadata": {
    "execution": {
     "iopub.execute_input": "2023-05-22T12:23:59.399055Z",
     "iopub.status.busy": "2023-05-22T12:23:59.397757Z",
     "iopub.status.idle": "2023-05-22T12:23:59.410055Z",
     "shell.execute_reply": "2023-05-22T12:23:59.408286Z"
    },
    "papermill": {
     "duration": 0.022732,
     "end_time": "2023-05-22T12:23:59.413002",
     "exception": false,
     "start_time": "2023-05-22T12:23:59.390270",
     "status": "completed"
    },
    "tags": []
   },
   "outputs": [
    {
     "data": {
      "text/plain": [
       "(124038, 17)"
      ]
     },
     "execution_count": 4,
     "metadata": {},
     "output_type": "execute_result"
    }
   ],
   "source": [
    "df.shape"
   ]
  },
  {
   "cell_type": "code",
   "execution_count": 5,
   "id": "64933350",
   "metadata": {
    "execution": {
     "iopub.execute_input": "2023-05-22T12:23:59.430295Z",
     "iopub.status.busy": "2023-05-22T12:23:59.429858Z",
     "iopub.status.idle": "2023-05-22T12:23:59.469729Z",
     "shell.execute_reply": "2023-05-22T12:23:59.468304Z"
    },
    "papermill": {
     "duration": 0.051985,
     "end_time": "2023-05-22T12:23:59.472682",
     "exception": false,
     "start_time": "2023-05-22T12:23:59.420697",
     "status": "completed"
    },
    "tags": []
   },
   "outputs": [
    {
     "data": {
      "text/html": [
       "<div>\n",
       "<style scoped>\n",
       "    .dataframe tbody tr th:only-of-type {\n",
       "        vertical-align: middle;\n",
       "    }\n",
       "\n",
       "    .dataframe tbody tr th {\n",
       "        vertical-align: top;\n",
       "    }\n",
       "\n",
       "    .dataframe thead th {\n",
       "        text-align: right;\n",
       "    }\n",
       "</style>\n",
       "<table border=\"1\" class=\"dataframe\">\n",
       "  <thead>\n",
       "    <tr style=\"text-align: right;\">\n",
       "      <th></th>\n",
       "      <th>VIN (1-10)</th>\n",
       "      <th>County</th>\n",
       "      <th>City</th>\n",
       "      <th>State</th>\n",
       "      <th>Postal Code</th>\n",
       "      <th>Model Year</th>\n",
       "      <th>Make</th>\n",
       "      <th>Model</th>\n",
       "      <th>Electric Vehicle Type</th>\n",
       "      <th>Clean Alternative Fuel Vehicle (CAFV) Eligibility</th>\n",
       "      <th>Electric Range</th>\n",
       "      <th>Base MSRP</th>\n",
       "      <th>Legislative District</th>\n",
       "      <th>DOL Vehicle ID</th>\n",
       "      <th>Vehicle Location</th>\n",
       "      <th>Electric Utility</th>\n",
       "      <th>2020 Census Tract</th>\n",
       "    </tr>\n",
       "  </thead>\n",
       "  <tbody>\n",
       "    <tr>\n",
       "      <th>0</th>\n",
       "      <td>5YJ3E1EB4L</td>\n",
       "      <td>Yakima</td>\n",
       "      <td>Yakima</td>\n",
       "      <td>WA</td>\n",
       "      <td>98908.0</td>\n",
       "      <td>2020</td>\n",
       "      <td>TESLA</td>\n",
       "      <td>MODEL 3</td>\n",
       "      <td>Battery Electric Vehicle (BEV)</td>\n",
       "      <td>Clean Alternative Fuel Vehicle Eligible</td>\n",
       "      <td>322</td>\n",
       "      <td>0</td>\n",
       "      <td>14.0</td>\n",
       "      <td>127175366</td>\n",
       "      <td>POINT (-120.56916 46.58514)</td>\n",
       "      <td>PACIFICORP</td>\n",
       "      <td>5.307700e+10</td>\n",
       "    </tr>\n",
       "    <tr>\n",
       "      <th>3</th>\n",
       "      <td>5YJXCBE21K</td>\n",
       "      <td>Yakima</td>\n",
       "      <td>Yakima</td>\n",
       "      <td>WA</td>\n",
       "      <td>98908.0</td>\n",
       "      <td>2019</td>\n",
       "      <td>TESLA</td>\n",
       "      <td>MODEL X</td>\n",
       "      <td>Battery Electric Vehicle (BEV)</td>\n",
       "      <td>Clean Alternative Fuel Vehicle Eligible</td>\n",
       "      <td>289</td>\n",
       "      <td>0</td>\n",
       "      <td>14.0</td>\n",
       "      <td>477039944</td>\n",
       "      <td>POINT (-120.56916 46.58514)</td>\n",
       "      <td>PACIFICORP</td>\n",
       "      <td>5.307700e+10</td>\n",
       "    </tr>\n",
       "    <tr>\n",
       "      <th>4</th>\n",
       "      <td>5UXKT0C5XH</td>\n",
       "      <td>Snohomish</td>\n",
       "      <td>Bothell</td>\n",
       "      <td>WA</td>\n",
       "      <td>98021.0</td>\n",
       "      <td>2017</td>\n",
       "      <td>BMW</td>\n",
       "      <td>X5</td>\n",
       "      <td>Plug-in Hybrid Electric Vehicle (PHEV)</td>\n",
       "      <td>Not eligible due to low battery range</td>\n",
       "      <td>14</td>\n",
       "      <td>0</td>\n",
       "      <td>1.0</td>\n",
       "      <td>106314946</td>\n",
       "      <td>POINT (-122.18384 47.8031)</td>\n",
       "      <td>PUGET SOUND ENERGY INC</td>\n",
       "      <td>5.306105e+10</td>\n",
       "    </tr>\n",
       "    <tr>\n",
       "      <th>5</th>\n",
       "      <td>1N4AZ0CP4F</td>\n",
       "      <td>Snohomish</td>\n",
       "      <td>Everett</td>\n",
       "      <td>WA</td>\n",
       "      <td>98201.0</td>\n",
       "      <td>2015</td>\n",
       "      <td>NISSAN</td>\n",
       "      <td>LEAF</td>\n",
       "      <td>Battery Electric Vehicle (BEV)</td>\n",
       "      <td>Clean Alternative Fuel Vehicle Eligible</td>\n",
       "      <td>84</td>\n",
       "      <td>0</td>\n",
       "      <td>38.0</td>\n",
       "      <td>107901699</td>\n",
       "      <td>POINT (-122.20596 47.97659)</td>\n",
       "      <td>PUGET SOUND ENERGY INC</td>\n",
       "      <td>5.306104e+10</td>\n",
       "    </tr>\n",
       "    <tr>\n",
       "      <th>6</th>\n",
       "      <td>5YJ3E1EBXJ</td>\n",
       "      <td>Kitsap</td>\n",
       "      <td>Poulsbo</td>\n",
       "      <td>WA</td>\n",
       "      <td>98370.0</td>\n",
       "      <td>2018</td>\n",
       "      <td>TESLA</td>\n",
       "      <td>MODEL 3</td>\n",
       "      <td>Battery Electric Vehicle (BEV)</td>\n",
       "      <td>Clean Alternative Fuel Vehicle Eligible</td>\n",
       "      <td>215</td>\n",
       "      <td>0</td>\n",
       "      <td>23.0</td>\n",
       "      <td>475036313</td>\n",
       "      <td>POINT (-122.64681 47.73689)</td>\n",
       "      <td>PUGET SOUND ENERGY INC</td>\n",
       "      <td>5.303594e+10</td>\n",
       "    </tr>\n",
       "  </tbody>\n",
       "</table>\n",
       "</div>"
      ],
      "text/plain": [
       "   VIN (1-10)     County     City State  Postal Code  Model Year    Make  \\\n",
       "0  5YJ3E1EB4L     Yakima   Yakima    WA      98908.0        2020   TESLA   \n",
       "3  5YJXCBE21K     Yakima   Yakima    WA      98908.0        2019   TESLA   \n",
       "4  5UXKT0C5XH  Snohomish  Bothell    WA      98021.0        2017     BMW   \n",
       "5  1N4AZ0CP4F  Snohomish  Everett    WA      98201.0        2015  NISSAN   \n",
       "6  5YJ3E1EBXJ     Kitsap  Poulsbo    WA      98370.0        2018   TESLA   \n",
       "\n",
       "     Model                   Electric Vehicle Type  \\\n",
       "0  MODEL 3          Battery Electric Vehicle (BEV)   \n",
       "3  MODEL X          Battery Electric Vehicle (BEV)   \n",
       "4       X5  Plug-in Hybrid Electric Vehicle (PHEV)   \n",
       "5     LEAF          Battery Electric Vehicle (BEV)   \n",
       "6  MODEL 3          Battery Electric Vehicle (BEV)   \n",
       "\n",
       "  Clean Alternative Fuel Vehicle (CAFV) Eligibility  Electric Range  \\\n",
       "0           Clean Alternative Fuel Vehicle Eligible             322   \n",
       "3           Clean Alternative Fuel Vehicle Eligible             289   \n",
       "4             Not eligible due to low battery range              14   \n",
       "5           Clean Alternative Fuel Vehicle Eligible              84   \n",
       "6           Clean Alternative Fuel Vehicle Eligible             215   \n",
       "\n",
       "   Base MSRP  Legislative District  DOL Vehicle ID  \\\n",
       "0          0                  14.0       127175366   \n",
       "3          0                  14.0       477039944   \n",
       "4          0                   1.0       106314946   \n",
       "5          0                  38.0       107901699   \n",
       "6          0                  23.0       475036313   \n",
       "\n",
       "              Vehicle Location        Electric Utility  2020 Census Tract  \n",
       "0  POINT (-120.56916 46.58514)              PACIFICORP       5.307700e+10  \n",
       "3  POINT (-120.56916 46.58514)              PACIFICORP       5.307700e+10  \n",
       "4   POINT (-122.18384 47.8031)  PUGET SOUND ENERGY INC       5.306105e+10  \n",
       "5  POINT (-122.20596 47.97659)  PUGET SOUND ENERGY INC       5.306104e+10  \n",
       "6  POINT (-122.64681 47.73689)  PUGET SOUND ENERGY INC       5.303594e+10  "
      ]
     },
     "execution_count": 5,
     "metadata": {},
     "output_type": "execute_result"
    }
   ],
   "source": [
    "df.head()"
   ]
  },
  {
   "cell_type": "code",
   "execution_count": 6,
   "id": "56a158e4",
   "metadata": {
    "execution": {
     "iopub.execute_input": "2023-05-22T12:23:59.488330Z",
     "iopub.status.busy": "2023-05-22T12:23:59.487447Z",
     "iopub.status.idle": "2023-05-22T12:23:59.765802Z",
     "shell.execute_reply": "2023-05-22T12:23:59.764421Z"
    },
    "papermill": {
     "duration": 0.289774,
     "end_time": "2023-05-22T12:23:59.769188",
     "exception": false,
     "start_time": "2023-05-22T12:23:59.479414",
     "status": "completed"
    },
    "tags": []
   },
   "outputs": [
    {
     "data": {
      "text/html": [
       "<div>\n",
       "<style scoped>\n",
       "    .dataframe tbody tr th:only-of-type {\n",
       "        vertical-align: middle;\n",
       "    }\n",
       "\n",
       "    .dataframe tbody tr th {\n",
       "        vertical-align: top;\n",
       "    }\n",
       "\n",
       "    .dataframe thead th {\n",
       "        text-align: right;\n",
       "    }\n",
       "</style>\n",
       "<table border=\"1\" class=\"dataframe\">\n",
       "  <thead>\n",
       "    <tr style=\"text-align: right;\">\n",
       "      <th></th>\n",
       "      <th>VIN (1-10)</th>\n",
       "      <th>County</th>\n",
       "      <th>City</th>\n",
       "      <th>State</th>\n",
       "      <th>Postal Code</th>\n",
       "      <th>Model Year</th>\n",
       "      <th>Make</th>\n",
       "      <th>Model</th>\n",
       "      <th>Electric Vehicle Type</th>\n",
       "      <th>Clean Alternative Fuel Vehicle (CAFV) Eligibility</th>\n",
       "      <th>Electric Range</th>\n",
       "      <th>Base MSRP</th>\n",
       "      <th>Legislative District</th>\n",
       "      <th>DOL Vehicle ID</th>\n",
       "      <th>Vehicle Location</th>\n",
       "      <th>Electric Utility</th>\n",
       "      <th>2020 Census Tract</th>\n",
       "    </tr>\n",
       "  </thead>\n",
       "  <tbody>\n",
       "    <tr>\n",
       "      <th>0</th>\n",
       "      <td>0</td>\n",
       "      <td>0</td>\n",
       "      <td>0</td>\n",
       "      <td>0</td>\n",
       "      <td>0</td>\n",
       "      <td>0</td>\n",
       "      <td>0</td>\n",
       "      <td>0</td>\n",
       "      <td>0</td>\n",
       "      <td>0</td>\n",
       "      <td>0</td>\n",
       "      <td>0</td>\n",
       "      <td>0</td>\n",
       "      <td>0</td>\n",
       "      <td>0</td>\n",
       "      <td>0</td>\n",
       "      <td>0</td>\n",
       "    </tr>\n",
       "    <tr>\n",
       "      <th>3</th>\n",
       "      <td>1</td>\n",
       "      <td>0</td>\n",
       "      <td>0</td>\n",
       "      <td>0</td>\n",
       "      <td>0</td>\n",
       "      <td>1</td>\n",
       "      <td>0</td>\n",
       "      <td>1</td>\n",
       "      <td>0</td>\n",
       "      <td>0</td>\n",
       "      <td>1</td>\n",
       "      <td>0</td>\n",
       "      <td>0</td>\n",
       "      <td>1</td>\n",
       "      <td>0</td>\n",
       "      <td>0</td>\n",
       "      <td>1</td>\n",
       "    </tr>\n",
       "    <tr>\n",
       "      <th>4</th>\n",
       "      <td>2</td>\n",
       "      <td>1</td>\n",
       "      <td>1</td>\n",
       "      <td>0</td>\n",
       "      <td>1</td>\n",
       "      <td>2</td>\n",
       "      <td>1</td>\n",
       "      <td>2</td>\n",
       "      <td>1</td>\n",
       "      <td>1</td>\n",
       "      <td>2</td>\n",
       "      <td>0</td>\n",
       "      <td>1</td>\n",
       "      <td>2</td>\n",
       "      <td>1</td>\n",
       "      <td>1</td>\n",
       "      <td>2</td>\n",
       "    </tr>\n",
       "    <tr>\n",
       "      <th>5</th>\n",
       "      <td>3</td>\n",
       "      <td>1</td>\n",
       "      <td>2</td>\n",
       "      <td>0</td>\n",
       "      <td>2</td>\n",
       "      <td>3</td>\n",
       "      <td>2</td>\n",
       "      <td>3</td>\n",
       "      <td>0</td>\n",
       "      <td>0</td>\n",
       "      <td>3</td>\n",
       "      <td>0</td>\n",
       "      <td>2</td>\n",
       "      <td>3</td>\n",
       "      <td>2</td>\n",
       "      <td>1</td>\n",
       "      <td>3</td>\n",
       "    </tr>\n",
       "    <tr>\n",
       "      <th>6</th>\n",
       "      <td>4</td>\n",
       "      <td>2</td>\n",
       "      <td>3</td>\n",
       "      <td>0</td>\n",
       "      <td>3</td>\n",
       "      <td>4</td>\n",
       "      <td>0</td>\n",
       "      <td>0</td>\n",
       "      <td>0</td>\n",
       "      <td>0</td>\n",
       "      <td>4</td>\n",
       "      <td>0</td>\n",
       "      <td>3</td>\n",
       "      <td>4</td>\n",
       "      <td>3</td>\n",
       "      <td>1</td>\n",
       "      <td>4</td>\n",
       "    </tr>\n",
       "    <tr>\n",
       "      <th>...</th>\n",
       "      <td>...</td>\n",
       "      <td>...</td>\n",
       "      <td>...</td>\n",
       "      <td>...</td>\n",
       "      <td>...</td>\n",
       "      <td>...</td>\n",
       "      <td>...</td>\n",
       "      <td>...</td>\n",
       "      <td>...</td>\n",
       "      <td>...</td>\n",
       "      <td>...</td>\n",
       "      <td>...</td>\n",
       "      <td>...</td>\n",
       "      <td>...</td>\n",
       "      <td>...</td>\n",
       "      <td>...</td>\n",
       "      <td>...</td>\n",
       "    </tr>\n",
       "    <tr>\n",
       "      <th>124711</th>\n",
       "      <td>108</td>\n",
       "      <td>1</td>\n",
       "      <td>52</td>\n",
       "      <td>0</td>\n",
       "      <td>75</td>\n",
       "      <td>7</td>\n",
       "      <td>0</td>\n",
       "      <td>0</td>\n",
       "      <td>0</td>\n",
       "      <td>2</td>\n",
       "      <td>9</td>\n",
       "      <td>0</td>\n",
       "      <td>36</td>\n",
       "      <td>124033</td>\n",
       "      <td>75</td>\n",
       "      <td>1</td>\n",
       "      <td>111</td>\n",
       "    </tr>\n",
       "    <tr>\n",
       "      <th>124712</th>\n",
       "      <td>3493</td>\n",
       "      <td>14</td>\n",
       "      <td>46</td>\n",
       "      <td>0</td>\n",
       "      <td>189</td>\n",
       "      <td>0</td>\n",
       "      <td>4</td>\n",
       "      <td>5</td>\n",
       "      <td>1</td>\n",
       "      <td>1</td>\n",
       "      <td>7</td>\n",
       "      <td>0</td>\n",
       "      <td>31</td>\n",
       "      <td>124034</td>\n",
       "      <td>189</td>\n",
       "      <td>7</td>\n",
       "      <td>1152</td>\n",
       "    </tr>\n",
       "    <tr>\n",
       "      <th>124713</th>\n",
       "      <td>95</td>\n",
       "      <td>17</td>\n",
       "      <td>54</td>\n",
       "      <td>0</td>\n",
       "      <td>78</td>\n",
       "      <td>11</td>\n",
       "      <td>0</td>\n",
       "      <td>11</td>\n",
       "      <td>0</td>\n",
       "      <td>2</td>\n",
       "      <td>9</td>\n",
       "      <td>0</td>\n",
       "      <td>42</td>\n",
       "      <td>124035</td>\n",
       "      <td>78</td>\n",
       "      <td>13</td>\n",
       "      <td>775</td>\n",
       "    </tr>\n",
       "    <tr>\n",
       "      <th>124714</th>\n",
       "      <td>3628</td>\n",
       "      <td>14</td>\n",
       "      <td>46</td>\n",
       "      <td>0</td>\n",
       "      <td>98</td>\n",
       "      <td>4</td>\n",
       "      <td>5</td>\n",
       "      <td>13</td>\n",
       "      <td>0</td>\n",
       "      <td>0</td>\n",
       "      <td>29</td>\n",
       "      <td>0</td>\n",
       "      <td>41</td>\n",
       "      <td>124036</td>\n",
       "      <td>98</td>\n",
       "      <td>37</td>\n",
       "      <td>1522</td>\n",
       "    </tr>\n",
       "    <tr>\n",
       "      <th>124715</th>\n",
       "      <td>3984</td>\n",
       "      <td>25</td>\n",
       "      <td>134</td>\n",
       "      <td>0</td>\n",
       "      <td>220</td>\n",
       "      <td>3</td>\n",
       "      <td>5</td>\n",
       "      <td>8</td>\n",
       "      <td>1</td>\n",
       "      <td>0</td>\n",
       "      <td>24</td>\n",
       "      <td>0</td>\n",
       "      <td>21</td>\n",
       "      <td>124037</td>\n",
       "      <td>220</td>\n",
       "      <td>24</td>\n",
       "      <td>1700</td>\n",
       "    </tr>\n",
       "  </tbody>\n",
       "</table>\n",
       "<p>124038 rows × 17 columns</p>\n",
       "</div>"
      ],
      "text/plain": [
       "        VIN (1-10)  County  City  State  Postal Code  Model Year  Make  Model  \\\n",
       "0                0       0     0      0            0           0     0      0   \n",
       "3                1       0     0      0            0           1     0      1   \n",
       "4                2       1     1      0            1           2     1      2   \n",
       "5                3       1     2      0            2           3     2      3   \n",
       "6                4       2     3      0            3           4     0      0   \n",
       "...            ...     ...   ...    ...          ...         ...   ...    ...   \n",
       "124711         108       1    52      0           75           7     0      0   \n",
       "124712        3493      14    46      0          189           0     4      5   \n",
       "124713          95      17    54      0           78          11     0     11   \n",
       "124714        3628      14    46      0           98           4     5     13   \n",
       "124715        3984      25   134      0          220           3     5      8   \n",
       "\n",
       "        Electric Vehicle Type  \\\n",
       "0                           0   \n",
       "3                           0   \n",
       "4                           1   \n",
       "5                           0   \n",
       "6                           0   \n",
       "...                       ...   \n",
       "124711                      0   \n",
       "124712                      1   \n",
       "124713                      0   \n",
       "124714                      0   \n",
       "124715                      1   \n",
       "\n",
       "        Clean Alternative Fuel Vehicle (CAFV) Eligibility  Electric Range  \\\n",
       "0                                                       0               0   \n",
       "3                                                       0               1   \n",
       "4                                                       1               2   \n",
       "5                                                       0               3   \n",
       "6                                                       0               4   \n",
       "...                                                   ...             ...   \n",
       "124711                                                  2               9   \n",
       "124712                                                  1               7   \n",
       "124713                                                  2               9   \n",
       "124714                                                  0              29   \n",
       "124715                                                  0              24   \n",
       "\n",
       "        Base MSRP  Legislative District  DOL Vehicle ID  Vehicle Location  \\\n",
       "0               0                     0               0                 0   \n",
       "3               0                     0               1                 0   \n",
       "4               0                     1               2                 1   \n",
       "5               0                     2               3                 2   \n",
       "6               0                     3               4                 3   \n",
       "...           ...                   ...             ...               ...   \n",
       "124711          0                    36          124033                75   \n",
       "124712          0                    31          124034               189   \n",
       "124713          0                    42          124035                78   \n",
       "124714          0                    41          124036                98   \n",
       "124715          0                    21          124037               220   \n",
       "\n",
       "        Electric Utility  2020 Census Tract  \n",
       "0                      0                  0  \n",
       "3                      0                  1  \n",
       "4                      1                  2  \n",
       "5                      1                  3  \n",
       "6                      1                  4  \n",
       "...                  ...                ...  \n",
       "124711                 1                111  \n",
       "124712                 7               1152  \n",
       "124713                13                775  \n",
       "124714                37               1522  \n",
       "124715                24               1700  \n",
       "\n",
       "[124038 rows x 17 columns]"
      ]
     },
     "execution_count": 6,
     "metadata": {},
     "output_type": "execute_result"
    }
   ],
   "source": [
    "new_df = df\n",
    "\n",
    "for col in new_df:\n",
    "    new_df[col] = pd.factorize(new_df[col])[0]\n",
    "\n",
    "new_df"
   ]
  },
  {
   "cell_type": "code",
   "execution_count": 7,
   "id": "94a4525a",
   "metadata": {
    "execution": {
     "iopub.execute_input": "2023-05-22T12:23:59.786366Z",
     "iopub.status.busy": "2023-05-22T12:23:59.785931Z",
     "iopub.status.idle": "2023-05-22T12:24:01.308120Z",
     "shell.execute_reply": "2023-05-22T12:24:01.306622Z"
    },
    "papermill": {
     "duration": 1.534403,
     "end_time": "2023-05-22T12:24:01.311172",
     "exception": false,
     "start_time": "2023-05-22T12:23:59.776769",
     "status": "completed"
    },
    "tags": []
   },
   "outputs": [],
   "source": [
    "from sklearn.model_selection import train_test_split\n",
    "\n",
    "X_train, X_test, y_train, y_test = train_test_split(new_df.loc[:, new_df.columns != 'Clean Alternative Fuel Vehicle (CAFV) Eligibility'], new_df['Clean Alternative Fuel Vehicle (CAFV) Eligibility'], test_size=0.30)\n",
    "X_train, X_valid, y_train, y_valid = train_test_split(X_train, y_train, test_size=0.20)"
   ]
  },
  {
   "cell_type": "code",
   "execution_count": 8,
   "id": "ee80a50e",
   "metadata": {
    "execution": {
     "iopub.execute_input": "2023-05-22T12:24:01.328501Z",
     "iopub.status.busy": "2023-05-22T12:24:01.327998Z",
     "iopub.status.idle": "2023-05-22T12:24:51.994996Z",
     "shell.execute_reply": "2023-05-22T12:24:51.993649Z"
    },
    "papermill": {
     "duration": 50.685527,
     "end_time": "2023-05-22T12:24:52.003952",
     "exception": false,
     "start_time": "2023-05-22T12:24:01.318425",
     "status": "completed"
    },
    "tags": []
   },
   "outputs": [
    {
     "data": {
      "text/plain": [
       "0.9998848324311874"
      ]
     },
     "execution_count": 8,
     "metadata": {},
     "output_type": "execute_result"
    }
   ],
   "source": [
    "# Gradient Boosting\n",
    "from sklearn.ensemble import GradientBoostingClassifier\n",
    "\n",
    "model = GradientBoostingClassifier()\n",
    "\n",
    "model.fit(X_train, y_train)\n",
    "\n",
    "model.score(X_valid, y_valid)"
   ]
  },
  {
   "cell_type": "code",
   "execution_count": 9,
   "id": "eeed4c7f",
   "metadata": {
    "execution": {
     "iopub.execute_input": "2023-05-22T12:24:52.020817Z",
     "iopub.status.busy": "2023-05-22T12:24:52.020016Z",
     "iopub.status.idle": "2023-05-22T12:24:59.951055Z",
     "shell.execute_reply": "2023-05-22T12:24:59.949821Z"
    },
    "papermill": {
     "duration": 7.942776,
     "end_time": "2023-05-22T12:24:59.954087",
     "exception": false,
     "start_time": "2023-05-22T12:24:52.011311",
     "status": "completed"
    },
    "tags": []
   },
   "outputs": [
    {
     "data": {
      "text/plain": [
       "0.9994817459403432"
      ]
     },
     "execution_count": 9,
     "metadata": {},
     "output_type": "execute_result"
    }
   ],
   "source": [
    "from sklearn.ensemble import RandomForestClassifier\n",
    "\n",
    "model_1 = RandomForestClassifier(max_depth=10)\n",
    "\n",
    "model_1.fit(X_train, y_train)\n",
    "\n",
    "model_1.score(X_valid, y_valid)"
   ]
  },
  {
   "cell_type": "code",
   "execution_count": 10,
   "id": "2bb1a4ca",
   "metadata": {
    "execution": {
     "iopub.execute_input": "2023-05-22T12:24:59.971039Z",
     "iopub.status.busy": "2023-05-22T12:24:59.970614Z",
     "iopub.status.idle": "2023-05-22T12:25:10.805811Z",
     "shell.execute_reply": "2023-05-22T12:25:10.804128Z"
    },
    "papermill": {
     "duration": 10.847648,
     "end_time": "2023-05-22T12:25:10.809282",
     "exception": false,
     "start_time": "2023-05-22T12:24:59.961634",
     "status": "completed"
    },
    "tags": []
   },
   "outputs": [],
   "source": [
    "import tensorflow as tf\n",
    "from tensorflow import keras\n",
    "from keras import Sequential, layers"
   ]
  },
  {
   "cell_type": "code",
   "execution_count": 11,
   "id": "1768b85d",
   "metadata": {
    "execution": {
     "iopub.execute_input": "2023-05-22T12:25:10.827422Z",
     "iopub.status.busy": "2023-05-22T12:25:10.826507Z",
     "iopub.status.idle": "2023-05-22T12:25:10.859340Z",
     "shell.execute_reply": "2023-05-22T12:25:10.858039Z"
    },
    "papermill": {
     "duration": 0.045274,
     "end_time": "2023-05-22T12:25:10.862561",
     "exception": false,
     "start_time": "2023-05-22T12:25:10.817287",
     "status": "completed"
    },
    "tags": []
   },
   "outputs": [],
   "source": [
    "from sklearn import preprocessing\n",
    "\n",
    "x = new_df.values #returns a numpy array\n",
    "min_max_scaler = preprocessing.MinMaxScaler()\n",
    "x_scaled = min_max_scaler.fit_transform(x)\n",
    "new_df = pd.DataFrame(x_scaled)"
   ]
  },
  {
   "cell_type": "code",
   "execution_count": 12,
   "id": "ee11a560",
   "metadata": {
    "execution": {
     "iopub.execute_input": "2023-05-22T12:25:10.879933Z",
     "iopub.status.busy": "2023-05-22T12:25:10.879489Z",
     "iopub.status.idle": "2023-05-22T12:25:10.942962Z",
     "shell.execute_reply": "2023-05-22T12:25:10.941708Z"
    },
    "papermill": {
     "duration": 0.075865,
     "end_time": "2023-05-22T12:25:10.945990",
     "exception": false,
     "start_time": "2023-05-22T12:25:10.870125",
     "status": "completed"
    },
    "tags": []
   },
   "outputs": [],
   "source": [
    "from sklearn.model_selection import train_test_split\n",
    "\n",
    "X_train, X_test, y_train, y_test = train_test_split(new_df.loc[:, new_df.columns != 9], new_df[9], test_size=0.30)\n",
    "X_train, X_valid, y_train, y_valid = train_test_split(X_train, y_train, test_size=0.20)"
   ]
  },
  {
   "cell_type": "code",
   "execution_count": 13,
   "id": "e8676ced",
   "metadata": {
    "execution": {
     "iopub.execute_input": "2023-05-22T12:25:10.962876Z",
     "iopub.status.busy": "2023-05-22T12:25:10.962408Z",
     "iopub.status.idle": "2023-05-22T12:25:11.508047Z",
     "shell.execute_reply": "2023-05-22T12:25:11.503588Z"
    },
    "papermill": {
     "duration": 0.563527,
     "end_time": "2023-05-22T12:25:11.517056",
     "exception": false,
     "start_time": "2023-05-22T12:25:10.953529",
     "status": "completed"
    },
    "tags": []
   },
   "outputs": [
    {
     "name": "stdout",
     "output_type": "stream",
     "text": [
      "Model: \"sequential\"\n",
      "_________________________________________________________________\n",
      " Layer (type)                Output Shape              Param #   \n",
      "=================================================================\n",
      " dense (Dense)               (None, 1000)              17000     \n",
      "                                                                 \n",
      " dense_1 (Dense)             (None, 1000)              1001000   \n",
      "                                                                 \n",
      " dense_2 (Dense)             (None, 1000)              1001000   \n",
      "                                                                 \n",
      " dense_3 (Dense)             (None, 500)               500500    \n",
      "                                                                 \n",
      " dense_4 (Dense)             (None, 250)               125250    \n",
      "                                                                 \n",
      " dense_5 (Dense)             (None, 1)                 251       \n",
      "                                                                 \n",
      "=================================================================\n",
      "Total params: 2,645,001\n",
      "Trainable params: 2,645,001\n",
      "Non-trainable params: 0\n",
      "_________________________________________________________________\n"
     ]
    }
   ],
   "source": [
    "model_2 = Sequential()\n",
    "\n",
    "model_2.add(layers.Dense(1000, activation='relu', input_shape=(16,)))\n",
    "model_2.add(layers.Dense(1000, activation='relu'))\n",
    "model_2.add(layers.Dense(1000, activation='relu'))\n",
    "model_2.add(layers.Dense(500, activation='relu'))\n",
    "model_2.add(layers.Dense(250, activation='relu'))\n",
    "model_2.add(layers.Dense(1, activation='softmax'))\n",
    "\n",
    "model_2.compile(loss='categorical_crossentropy', optimizer='Adam', metrics=['accuracy'])\n",
    "\n",
    "model_2.summary()"
   ]
  },
  {
   "cell_type": "code",
   "execution_count": 14,
   "id": "e0bdab4d",
   "metadata": {
    "execution": {
     "iopub.execute_input": "2023-05-22T12:25:11.538360Z",
     "iopub.status.busy": "2023-05-22T12:25:11.537108Z",
     "iopub.status.idle": "2023-05-22T12:35:41.721469Z",
     "shell.execute_reply": "2023-05-22T12:35:41.720022Z"
    },
    "papermill": {
     "duration": 630.198912,
     "end_time": "2023-05-22T12:35:41.725246",
     "exception": false,
     "start_time": "2023-05-22T12:25:11.526334",
     "status": "completed"
    },
    "tags": []
   },
   "outputs": [
    {
     "name": "stdout",
     "output_type": "stream",
     "text": [
      "Epoch 1/10\n",
      "2171/2171 [==============================] - 59s 26ms/step - loss: 0.0000e+00 - accuracy: 0.3980 - val_loss: 0.0000e+00 - val_accuracy: 0.3977\n",
      "Epoch 2/10\n",
      "2171/2171 [==============================] - 58s 27ms/step - loss: 0.0000e+00 - accuracy: 0.3980 - val_loss: 0.0000e+00 - val_accuracy: 0.3977\n",
      "Epoch 3/10\n",
      "2171/2171 [==============================] - 58s 27ms/step - loss: 0.0000e+00 - accuracy: 0.3980 - val_loss: 0.0000e+00 - val_accuracy: 0.3977\n",
      "Epoch 4/10\n",
      "2171/2171 [==============================] - 57s 26ms/step - loss: 0.0000e+00 - accuracy: 0.3980 - val_loss: 0.0000e+00 - val_accuracy: 0.3977\n",
      "Epoch 5/10\n",
      "2171/2171 [==============================] - 56s 26ms/step - loss: 0.0000e+00 - accuracy: 0.3980 - val_loss: 0.0000e+00 - val_accuracy: 0.3977\n",
      "Epoch 6/10\n",
      "2171/2171 [==============================] - 58s 27ms/step - loss: 0.0000e+00 - accuracy: 0.3980 - val_loss: 0.0000e+00 - val_accuracy: 0.3977\n",
      "Epoch 7/10\n",
      "2171/2171 [==============================] - 58s 27ms/step - loss: 0.0000e+00 - accuracy: 0.3980 - val_loss: 0.0000e+00 - val_accuracy: 0.3977\n",
      "Epoch 8/10\n",
      "2171/2171 [==============================] - 59s 27ms/step - loss: 0.0000e+00 - accuracy: 0.3980 - val_loss: 0.0000e+00 - val_accuracy: 0.3977\n",
      "Epoch 9/10\n",
      "2171/2171 [==============================] - 59s 27ms/step - loss: 0.0000e+00 - accuracy: 0.3980 - val_loss: 0.0000e+00 - val_accuracy: 0.3977\n",
      "Epoch 10/10\n",
      "2171/2171 [==============================] - 58s 27ms/step - loss: 0.0000e+00 - accuracy: 0.3980 - val_loss: 0.0000e+00 - val_accuracy: 0.3977\n"
     ]
    }
   ],
   "source": [
    "model_2.fit(np.array(X_train), np.array(y_train), epochs=10, batch_size=32, validation_data = (np.array(X_test), np.array(y_test)))\n",
    "\n",
    "score = model_2.evaluate(np.array(X_test), np.array(y_test), verbose=0)"
   ]
  },
  {
   "cell_type": "code",
   "execution_count": null,
   "id": "2a0e70fd",
   "metadata": {
    "papermill": {
     "duration": 0.787234,
     "end_time": "2023-05-22T12:35:43.232316",
     "exception": false,
     "start_time": "2023-05-22T12:35:42.445082",
     "status": "completed"
    },
    "tags": []
   },
   "outputs": [],
   "source": []
  }
 ],
 "metadata": {
  "kernelspec": {
   "display_name": "Python 3",
   "language": "python",
   "name": "python3"
  },
  "language_info": {
   "codemirror_mode": {
    "name": "ipython",
    "version": 3
   },
   "file_extension": ".py",
   "mimetype": "text/x-python",
   "name": "python",
   "nbconvert_exporter": "python",
   "pygments_lexer": "ipython3",
   "version": "3.7.12"
  },
  "papermill": {
   "default_parameters": {},
   "duration": 724.329719,
   "end_time": "2023-05-22T12:35:47.472163",
   "environment_variables": {},
   "exception": null,
   "input_path": "__notebook__.ipynb",
   "output_path": "__notebook__.ipynb",
   "parameters": {},
   "start_time": "2023-05-22T12:23:43.142444",
   "version": "2.4.0"
  }
 },
 "nbformat": 4,
 "nbformat_minor": 5
}
