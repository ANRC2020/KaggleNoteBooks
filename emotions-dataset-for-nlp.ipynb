{
 "cells": [
  {
   "cell_type": "code",
   "execution_count": 1,
   "id": "8c731c6a",
   "metadata": {
    "_cell_guid": "b1076dfc-b9ad-4769-8c92-a6c4dae69d19",
    "_uuid": "8f2839f25d086af736a60e9eeb907d3b93b6e0e5",
    "execution": {
     "iopub.execute_input": "2023-05-28T05:10:30.456981Z",
     "iopub.status.busy": "2023-05-28T05:10:30.456531Z",
     "iopub.status.idle": "2023-05-28T05:10:30.477962Z",
     "shell.execute_reply": "2023-05-28T05:10:30.476803Z"
    },
    "papermill": {
     "duration": 0.034765,
     "end_time": "2023-05-28T05:10:30.480302",
     "exception": false,
     "start_time": "2023-05-28T05:10:30.445537",
     "status": "completed"
    },
    "tags": []
   },
   "outputs": [
    {
     "name": "stdout",
     "output_type": "stream",
     "text": [
      "/kaggle/input/emotions-dataset-for-nlp/val.txt\n",
      "/kaggle/input/emotions-dataset-for-nlp/test.txt\n",
      "/kaggle/input/emotions-dataset-for-nlp/train.txt\n"
     ]
    }
   ],
   "source": [
    "# This Python 3 environment comes with many helpful analytics libraries installed\n",
    "# It is defined by the kaggle/python Docker image: https://github.com/kaggle/docker-python\n",
    "# For example, here's several helpful packages to load\n",
    "\n",
    "import numpy as np # linear algebra\n",
    "import pandas as pd # data processing, CSV file I/O (e.g. pd.read_csv)\n",
    "\n",
    "# Input data files are available in the read-only \"../input/\" directory\n",
    "# For example, running this (by clicking run or pressing Shift+Enter) will list all files under the input directory\n",
    "\n",
    "import os\n",
    "for dirname, _, filenames in os.walk('/kaggle/input'):\n",
    "    for filename in filenames:\n",
    "        print(os.path.join(dirname, filename))\n",
    "\n",
    "# You can write up to 20GB to the current directory (/kaggle/working/) that gets preserved as output when you create a version using \"Save & Run All\" \n",
    "# You can also write temporary files to /kaggle/temp/, but they won't be saved outside of the current session"
   ]
  },
  {
   "cell_type": "code",
   "execution_count": 2,
   "id": "7c6a3ca8",
   "metadata": {
    "execution": {
     "iopub.execute_input": "2023-05-28T05:10:30.499579Z",
     "iopub.status.busy": "2023-05-28T05:10:30.498935Z",
     "iopub.status.idle": "2023-05-28T05:10:30.606313Z",
     "shell.execute_reply": "2023-05-28T05:10:30.605063Z"
    },
    "papermill": {
     "duration": 0.120302,
     "end_time": "2023-05-28T05:10:30.609311",
     "exception": false,
     "start_time": "2023-05-28T05:10:30.489009",
     "status": "completed"
    },
    "tags": []
   },
   "outputs": [
    {
     "name": "stdout",
     "output_type": "stream",
     "text": [
      "16000 16000\n"
     ]
    }
   ],
   "source": [
    "texts = []\n",
    "labels = []\n",
    "\n",
    "with open(r\"/kaggle/input/emotions-dataset-for-nlp/train.txt\", encoding='UTF8') as f:\n",
    "    contents = f.read()\n",
    "    contents = contents.split(\"\\n\")\n",
    "    for content in contents:\n",
    "        try:\n",
    "            texts.append(content.split(\";\")[0])\n",
    "            labels.append(content.split(\";\")[1])\n",
    "        except:\n",
    "            \n",
    "            if len(texts) > len(labels):\n",
    "                texts.pop(len(texts)-1)\n",
    "        \n",
    "data = {'text': texts,\n",
    "       'label': labels}\n",
    "  \n",
    "print(len(texts), len(labels))\n",
    "    \n",
    "# Create DataFrame\n",
    "train = pd.DataFrame(data)"
   ]
  },
  {
   "cell_type": "code",
   "execution_count": 3,
   "id": "d6519b37",
   "metadata": {
    "execution": {
     "iopub.execute_input": "2023-05-28T05:10:30.628583Z",
     "iopub.status.busy": "2023-05-28T05:10:30.628171Z",
     "iopub.status.idle": "2023-05-28T05:10:30.648953Z",
     "shell.execute_reply": "2023-05-28T05:10:30.647687Z"
    },
    "papermill": {
     "duration": 0.033204,
     "end_time": "2023-05-28T05:10:30.651344",
     "exception": false,
     "start_time": "2023-05-28T05:10:30.618140",
     "status": "completed"
    },
    "tags": []
   },
   "outputs": [
    {
     "name": "stdout",
     "output_type": "stream",
     "text": [
      "2000 2000\n"
     ]
    }
   ],
   "source": [
    "texts = []\n",
    "labels = []\n",
    "\n",
    "with open(r\"/kaggle/input/emotions-dataset-for-nlp/val.txt\", encoding='UTF8') as f:\n",
    "    contents = f.read()\n",
    "    contents = contents.split(\"\\n\")\n",
    "    for content in contents:\n",
    "        try:\n",
    "            texts.append(content.split(\";\")[0])\n",
    "            labels.append(content.split(\";\")[1])\n",
    "        except:\n",
    "            \n",
    "            if len(texts) > len(labels):\n",
    "                texts.pop(len(texts)-1)\n",
    "        \n",
    "data = {'text': texts,\n",
    "       'label': labels}\n",
    "  \n",
    "print(len(texts), len(labels))\n",
    "    \n",
    "# Create DataFrame\n",
    "val = pd.DataFrame(data)"
   ]
  },
  {
   "cell_type": "code",
   "execution_count": 4,
   "id": "577cb705",
   "metadata": {
    "execution": {
     "iopub.execute_input": "2023-05-28T05:10:30.671101Z",
     "iopub.status.busy": "2023-05-28T05:10:30.670332Z",
     "iopub.status.idle": "2023-05-28T05:10:30.692740Z",
     "shell.execute_reply": "2023-05-28T05:10:30.691431Z"
    },
    "papermill": {
     "duration": 0.035468,
     "end_time": "2023-05-28T05:10:30.695575",
     "exception": false,
     "start_time": "2023-05-28T05:10:30.660107",
     "status": "completed"
    },
    "tags": []
   },
   "outputs": [
    {
     "name": "stdout",
     "output_type": "stream",
     "text": [
      "2000 2000\n"
     ]
    }
   ],
   "source": [
    "texts = []\n",
    "labels = []\n",
    "\n",
    "with open(r\"/kaggle/input/emotions-dataset-for-nlp/test.txt\", encoding='UTF8') as f:\n",
    "    contents = f.read()\n",
    "    contents = contents.split(\"\\n\")\n",
    "    for content in contents:\n",
    "        try:\n",
    "            texts.append(content.split(\";\")[0])\n",
    "            labels.append(content.split(\";\")[1])\n",
    "        except:\n",
    "            \n",
    "            if len(texts) > len(labels):\n",
    "                texts.pop(len(texts)-1)\n",
    "        \n",
    "data = {'text': texts,\n",
    "       'label': labels}\n",
    "  \n",
    "print(len(texts), len(labels))\n",
    "    \n",
    "# Create DataFrame\n",
    "test = pd.DataFrame(data)"
   ]
  },
  {
   "cell_type": "code",
   "execution_count": 5,
   "id": "d8e64a6f",
   "metadata": {
    "execution": {
     "iopub.execute_input": "2023-05-28T05:10:30.716871Z",
     "iopub.status.busy": "2023-05-28T05:10:30.716441Z",
     "iopub.status.idle": "2023-05-28T05:10:30.733240Z",
     "shell.execute_reply": "2023-05-28T05:10:30.731984Z"
    },
    "papermill": {
     "duration": 0.029545,
     "end_time": "2023-05-28T05:10:30.735695",
     "exception": false,
     "start_time": "2023-05-28T05:10:30.706150",
     "status": "completed"
    },
    "tags": []
   },
   "outputs": [
    {
     "data": {
      "text/plain": [
       "{'anger', 'fear', 'joy', 'love', 'sadness', 'surprise'}"
      ]
     },
     "execution_count": 5,
     "metadata": {},
     "output_type": "execute_result"
    }
   ],
   "source": [
    "set(train['label'])"
   ]
  },
  {
   "cell_type": "code",
   "execution_count": 6,
   "id": "aac38a44",
   "metadata": {
    "execution": {
     "iopub.execute_input": "2023-05-28T05:10:30.755825Z",
     "iopub.status.busy": "2023-05-28T05:10:30.755446Z",
     "iopub.status.idle": "2023-05-28T05:10:30.771272Z",
     "shell.execute_reply": "2023-05-28T05:10:30.770162Z"
    },
    "papermill": {
     "duration": 0.028747,
     "end_time": "2023-05-28T05:10:30.773473",
     "exception": false,
     "start_time": "2023-05-28T05:10:30.744726",
     "status": "completed"
    },
    "tags": []
   },
   "outputs": [
    {
     "data": {
      "text/plain": [
       "array(['i am ever feeling nostalgic about the fireplace i will know that it is still on the property',\n",
       "       'i feel romantic too',\n",
       "       'i can t let go of that sad feeling that i want to be accepted here in this first home of mine',\n",
       "       'i ate i could feel a gentle tingle throughout almost as if i was feeling the healing taking place at a cellular level'],\n",
       "      dtype=object)"
      ]
     },
     "execution_count": 6,
     "metadata": {},
     "output_type": "execute_result"
    }
   ],
   "source": [
    "train[train[\"label\"] == 'love'][\"text\"].values[0:4]"
   ]
  },
  {
   "cell_type": "code",
   "execution_count": 7,
   "id": "8c218c52",
   "metadata": {
    "execution": {
     "iopub.execute_input": "2023-05-28T05:10:30.793849Z",
     "iopub.status.busy": "2023-05-28T05:10:30.793172Z",
     "iopub.status.idle": "2023-05-28T05:10:30.803050Z",
     "shell.execute_reply": "2023-05-28T05:10:30.801637Z"
    },
    "papermill": {
     "duration": 0.023065,
     "end_time": "2023-05-28T05:10:30.805608",
     "exception": false,
     "start_time": "2023-05-28T05:10:30.782543",
     "status": "completed"
    },
    "tags": []
   },
   "outputs": [
    {
     "data": {
      "text/plain": [
       "{'love': 0, 'surprise': 1, 'joy': 2, 'fear': 3, 'anger': 4, 'sadness': 5}"
      ]
     },
     "execution_count": 7,
     "metadata": {},
     "output_type": "execute_result"
    }
   ],
   "source": [
    "HT = {}\n",
    "\n",
    "for i, entry in enumerate(set(train['label'])):\n",
    "    HT[entry] = i\n",
    "\n",
    "HT"
   ]
  },
  {
   "cell_type": "code",
   "execution_count": 8,
   "id": "7a41d1d7",
   "metadata": {
    "execution": {
     "iopub.execute_input": "2023-05-28T05:10:30.826998Z",
     "iopub.status.busy": "2023-05-28T05:10:30.826320Z",
     "iopub.status.idle": "2023-05-28T05:10:30.870859Z",
     "shell.execute_reply": "2023-05-28T05:10:30.870089Z"
    },
    "papermill": {
     "duration": 0.058342,
     "end_time": "2023-05-28T05:10:30.873630",
     "exception": false,
     "start_time": "2023-05-28T05:10:30.815288",
     "status": "completed"
    },
    "tags": []
   },
   "outputs": [
    {
     "data": {
      "text/html": [
       "<div>\n",
       "<style scoped>\n",
       "    .dataframe tbody tr th:only-of-type {\n",
       "        vertical-align: middle;\n",
       "    }\n",
       "\n",
       "    .dataframe tbody tr th {\n",
       "        vertical-align: top;\n",
       "    }\n",
       "\n",
       "    .dataframe thead th {\n",
       "        text-align: right;\n",
       "    }\n",
       "</style>\n",
       "<table border=\"1\" class=\"dataframe\">\n",
       "  <thead>\n",
       "    <tr style=\"text-align: right;\">\n",
       "      <th></th>\n",
       "      <th>text</th>\n",
       "      <th>label</th>\n",
       "    </tr>\n",
       "  </thead>\n",
       "  <tbody>\n",
       "    <tr>\n",
       "      <th>0</th>\n",
       "      <td>i didnt feel humiliated</td>\n",
       "      <td>5</td>\n",
       "    </tr>\n",
       "    <tr>\n",
       "      <th>1</th>\n",
       "      <td>i can go from feeling so hopeless to so damned...</td>\n",
       "      <td>5</td>\n",
       "    </tr>\n",
       "    <tr>\n",
       "      <th>2</th>\n",
       "      <td>im grabbing a minute to post i feel greedy wrong</td>\n",
       "      <td>4</td>\n",
       "    </tr>\n",
       "    <tr>\n",
       "      <th>3</th>\n",
       "      <td>i am ever feeling nostalgic about the fireplac...</td>\n",
       "      <td>0</td>\n",
       "    </tr>\n",
       "    <tr>\n",
       "      <th>4</th>\n",
       "      <td>i am feeling grouchy</td>\n",
       "      <td>4</td>\n",
       "    </tr>\n",
       "  </tbody>\n",
       "</table>\n",
       "</div>"
      ],
      "text/plain": [
       "                                                text  label\n",
       "0                            i didnt feel humiliated      5\n",
       "1  i can go from feeling so hopeless to so damned...      5\n",
       "2   im grabbing a minute to post i feel greedy wrong      4\n",
       "3  i am ever feeling nostalgic about the fireplac...      0\n",
       "4                               i am feeling grouchy      4"
      ]
     },
     "execution_count": 8,
     "metadata": {},
     "output_type": "execute_result"
    }
   ],
   "source": [
    "temp = []\n",
    "\n",
    "for entry in train['label']:\n",
    "    temp.append(HT[entry])\n",
    "\n",
    "train.drop(labels=['label'], inplace=True, axis=1)\n",
    "train['label'] = temp\n",
    "\n",
    "train.head()"
   ]
  },
  {
   "cell_type": "code",
   "execution_count": 9,
   "id": "2d4e8fb8",
   "metadata": {
    "execution": {
     "iopub.execute_input": "2023-05-28T05:10:30.895275Z",
     "iopub.status.busy": "2023-05-28T05:10:30.894609Z",
     "iopub.status.idle": "2023-05-28T05:10:30.908508Z",
     "shell.execute_reply": "2023-05-28T05:10:30.907535Z"
    },
    "papermill": {
     "duration": 0.027473,
     "end_time": "2023-05-28T05:10:30.910807",
     "exception": false,
     "start_time": "2023-05-28T05:10:30.883334",
     "status": "completed"
    },
    "tags": []
   },
   "outputs": [
    {
     "data": {
      "text/html": [
       "<div>\n",
       "<style scoped>\n",
       "    .dataframe tbody tr th:only-of-type {\n",
       "        vertical-align: middle;\n",
       "    }\n",
       "\n",
       "    .dataframe tbody tr th {\n",
       "        vertical-align: top;\n",
       "    }\n",
       "\n",
       "    .dataframe thead th {\n",
       "        text-align: right;\n",
       "    }\n",
       "</style>\n",
       "<table border=\"1\" class=\"dataframe\">\n",
       "  <thead>\n",
       "    <tr style=\"text-align: right;\">\n",
       "      <th></th>\n",
       "      <th>text</th>\n",
       "      <th>label</th>\n",
       "    </tr>\n",
       "  </thead>\n",
       "  <tbody>\n",
       "    <tr>\n",
       "      <th>0</th>\n",
       "      <td>im feeling quite sad and sorry for myself but ...</td>\n",
       "      <td>5</td>\n",
       "    </tr>\n",
       "    <tr>\n",
       "      <th>1</th>\n",
       "      <td>i feel like i am still looking at a blank canv...</td>\n",
       "      <td>5</td>\n",
       "    </tr>\n",
       "    <tr>\n",
       "      <th>2</th>\n",
       "      <td>i feel like a faithful servant</td>\n",
       "      <td>0</td>\n",
       "    </tr>\n",
       "    <tr>\n",
       "      <th>3</th>\n",
       "      <td>i am just feeling cranky and blue</td>\n",
       "      <td>4</td>\n",
       "    </tr>\n",
       "    <tr>\n",
       "      <th>4</th>\n",
       "      <td>i can have for a treat or if i am feeling festive</td>\n",
       "      <td>2</td>\n",
       "    </tr>\n",
       "  </tbody>\n",
       "</table>\n",
       "</div>"
      ],
      "text/plain": [
       "                                                text  label\n",
       "0  im feeling quite sad and sorry for myself but ...      5\n",
       "1  i feel like i am still looking at a blank canv...      5\n",
       "2                     i feel like a faithful servant      0\n",
       "3                  i am just feeling cranky and blue      4\n",
       "4  i can have for a treat or if i am feeling festive      2"
      ]
     },
     "execution_count": 9,
     "metadata": {},
     "output_type": "execute_result"
    }
   ],
   "source": [
    "temp = []\n",
    "\n",
    "for entry in val['label']:\n",
    "    temp.append(HT[entry])\n",
    "\n",
    "val.drop(labels=['label'], inplace=True, axis=1)\n",
    "val['label'] = temp\n",
    "\n",
    "val.head()"
   ]
  },
  {
   "cell_type": "code",
   "execution_count": 10,
   "id": "093f491b",
   "metadata": {
    "execution": {
     "iopub.execute_input": "2023-05-28T05:10:30.932717Z",
     "iopub.status.busy": "2023-05-28T05:10:30.931716Z",
     "iopub.status.idle": "2023-05-28T05:10:30.947109Z",
     "shell.execute_reply": "2023-05-28T05:10:30.945803Z"
    },
    "papermill": {
     "duration": 0.02897,
     "end_time": "2023-05-28T05:10:30.949520",
     "exception": false,
     "start_time": "2023-05-28T05:10:30.920550",
     "status": "completed"
    },
    "tags": []
   },
   "outputs": [
    {
     "data": {
      "text/html": [
       "<div>\n",
       "<style scoped>\n",
       "    .dataframe tbody tr th:only-of-type {\n",
       "        vertical-align: middle;\n",
       "    }\n",
       "\n",
       "    .dataframe tbody tr th {\n",
       "        vertical-align: top;\n",
       "    }\n",
       "\n",
       "    .dataframe thead th {\n",
       "        text-align: right;\n",
       "    }\n",
       "</style>\n",
       "<table border=\"1\" class=\"dataframe\">\n",
       "  <thead>\n",
       "    <tr style=\"text-align: right;\">\n",
       "      <th></th>\n",
       "      <th>text</th>\n",
       "      <th>label</th>\n",
       "    </tr>\n",
       "  </thead>\n",
       "  <tbody>\n",
       "    <tr>\n",
       "      <th>0</th>\n",
       "      <td>im feeling rather rotten so im not very ambiti...</td>\n",
       "      <td>5</td>\n",
       "    </tr>\n",
       "    <tr>\n",
       "      <th>1</th>\n",
       "      <td>im updating my blog because i feel shitty</td>\n",
       "      <td>5</td>\n",
       "    </tr>\n",
       "    <tr>\n",
       "      <th>2</th>\n",
       "      <td>i never make her separate from me because i do...</td>\n",
       "      <td>5</td>\n",
       "    </tr>\n",
       "    <tr>\n",
       "      <th>3</th>\n",
       "      <td>i left with my bouquet of red and yellow tulip...</td>\n",
       "      <td>2</td>\n",
       "    </tr>\n",
       "    <tr>\n",
       "      <th>4</th>\n",
       "      <td>i was feeling a little vain when i did this one</td>\n",
       "      <td>5</td>\n",
       "    </tr>\n",
       "  </tbody>\n",
       "</table>\n",
       "</div>"
      ],
      "text/plain": [
       "                                                text  label\n",
       "0  im feeling rather rotten so im not very ambiti...      5\n",
       "1          im updating my blog because i feel shitty      5\n",
       "2  i never make her separate from me because i do...      5\n",
       "3  i left with my bouquet of red and yellow tulip...      2\n",
       "4    i was feeling a little vain when i did this one      5"
      ]
     },
     "execution_count": 10,
     "metadata": {},
     "output_type": "execute_result"
    }
   ],
   "source": [
    "temp = []\n",
    "\n",
    "for entry in test['label']:\n",
    "    temp.append(HT[entry])\n",
    "\n",
    "test.drop(labels=['label'], inplace=True, axis=1)\n",
    "test['label'] = temp\n",
    "\n",
    "test.head()"
   ]
  },
  {
   "cell_type": "code",
   "execution_count": 11,
   "id": "07b8eb80",
   "metadata": {
    "execution": {
     "iopub.execute_input": "2023-05-28T05:10:30.970855Z",
     "iopub.status.busy": "2023-05-28T05:10:30.970479Z",
     "iopub.status.idle": "2023-05-28T05:10:33.000320Z",
     "shell.execute_reply": "2023-05-28T05:10:32.999136Z"
    },
    "papermill": {
     "duration": 2.043787,
     "end_time": "2023-05-28T05:10:33.003105",
     "exception": false,
     "start_time": "2023-05-28T05:10:30.959318",
     "status": "completed"
    },
    "tags": []
   },
   "outputs": [],
   "source": [
    "# Extract Feature Vectors\n",
    "\n",
    "from sklearn import feature_extraction\n",
    "\n",
    "vectorizer = feature_extraction.text.CountVectorizer()\n",
    "\n",
    "train_vectors = vectorizer.fit_transform(train[\"text\"])\n",
    "\n",
    "val_vectors = vectorizer.transform(val[\"text\"])\n",
    "test_vectors = vectorizer.transform(test[\"text\"])"
   ]
  },
  {
   "cell_type": "code",
   "execution_count": 12,
   "id": "753f838f",
   "metadata": {
    "execution": {
     "iopub.execute_input": "2023-05-28T05:10:33.025569Z",
     "iopub.status.busy": "2023-05-28T05:10:33.025167Z",
     "iopub.status.idle": "2023-05-28T05:10:37.570117Z",
     "shell.execute_reply": "2023-05-28T05:10:37.568703Z"
    },
    "papermill": {
     "duration": 4.55945,
     "end_time": "2023-05-28T05:10:37.572827",
     "exception": false,
     "start_time": "2023-05-28T05:10:33.013377",
     "status": "completed"
    },
    "tags": []
   },
   "outputs": [
    {
     "data": {
      "text/plain": [
       "(0.998125, 0.8655, 0.853)"
      ]
     },
     "execution_count": 12,
     "metadata": {},
     "output_type": "execute_result"
    }
   ],
   "source": [
    "from sklearn import tree\n",
    "\n",
    "clf = tree.DecisionTreeClassifier()\n",
    "clf = clf.fit(train_vectors, train['label'])\n",
    "\n",
    "clf.score(train_vectors, train['label']), clf.score(val_vectors, val['label']), clf.score(test_vectors, test['label'])"
   ]
  },
  {
   "cell_type": "code",
   "execution_count": 13,
   "id": "091f4465",
   "metadata": {
    "execution": {
     "iopub.execute_input": "2023-05-28T05:10:37.595505Z",
     "iopub.status.busy": "2023-05-28T05:10:37.595096Z",
     "iopub.status.idle": "2023-05-28T05:10:37.601323Z",
     "shell.execute_reply": "2023-05-28T05:10:37.599995Z"
    },
    "papermill": {
     "duration": 0.020608,
     "end_time": "2023-05-28T05:10:37.603801",
     "exception": false,
     "start_time": "2023-05-28T05:10:37.583193",
     "status": "completed"
    },
    "tags": []
   },
   "outputs": [],
   "source": [
    "# # Hyper-Parameter Tuning using Optuna\n",
    "# import optuna\n",
    "\n",
    "# def objective(trial):\n",
    "    \n",
    "#     # Set the Parameters\n",
    "# #     max_depth = int(trial.suggest_int('max_depth', 1, 3000))\n",
    "#     criterion = trial.suggest_categorical('criterion', ['gini', 'entropy', 'log_loss'])\n",
    "#     min_samples_split = int(trial.suggest_int('min_samples_split', 2, 101))\n",
    "#     min_samples_leaf = int(trial.suggest_int('min_samples_leaf', 1, 101))\n",
    "#     max_feature = trial.suggest_categorical('max_feature', ['auto', 'sqrt', 'log2'])\n",
    "#     splitter = trial.suggest_categorical('splitter', ['best', 'random'])\n",
    "    \n",
    "#     try:\n",
    "#         model = tree.DecisionTreeClassifier(criterion=criterion, min_samples_split=min_samples_split, min_samples_leaf=min_samples_leaf, max_features=max_feature, splitter=splitter)\n",
    "#         model.fit(train_vectors, train['label'])\n",
    "\n",
    "#         return model.score(val_vectors, val['label'])\n",
    "    \n",
    "#     except:\n",
    "        \n",
    "#         return 0"
   ]
  },
  {
   "cell_type": "code",
   "execution_count": 14,
   "id": "63e73385",
   "metadata": {
    "execution": {
     "iopub.execute_input": "2023-05-28T05:10:37.626717Z",
     "iopub.status.busy": "2023-05-28T05:10:37.626306Z",
     "iopub.status.idle": "2023-05-28T05:10:37.631016Z",
     "shell.execute_reply": "2023-05-28T05:10:37.629931Z"
    },
    "papermill": {
     "duration": 0.018854,
     "end_time": "2023-05-28T05:10:37.633353",
     "exception": false,
     "start_time": "2023-05-28T05:10:37.614499",
     "status": "completed"
    },
    "tags": []
   },
   "outputs": [],
   "source": [
    "# study = optuna.create_study(direction='maximize')\n",
    "# study.optimize(objective, n_trials=400)"
   ]
  },
  {
   "cell_type": "code",
   "execution_count": 15,
   "id": "e96a29fe",
   "metadata": {
    "execution": {
     "iopub.execute_input": "2023-05-28T05:10:37.655600Z",
     "iopub.status.busy": "2023-05-28T05:10:37.655201Z",
     "iopub.status.idle": "2023-05-28T05:10:37.660751Z",
     "shell.execute_reply": "2023-05-28T05:10:37.659532Z"
    },
    "papermill": {
     "duration": 0.019875,
     "end_time": "2023-05-28T05:10:37.663431",
     "exception": false,
     "start_time": "2023-05-28T05:10:37.643556",
     "status": "completed"
    },
    "tags": []
   },
   "outputs": [],
   "source": [
    "# study.best_params, study.best_value"
   ]
  },
  {
   "cell_type": "code",
   "execution_count": 16,
   "id": "14375a63",
   "metadata": {
    "execution": {
     "iopub.execute_input": "2023-05-28T05:10:37.685975Z",
     "iopub.status.busy": "2023-05-28T05:10:37.685475Z",
     "iopub.status.idle": "2023-05-28T05:10:37.816688Z",
     "shell.execute_reply": "2023-05-28T05:10:37.815348Z"
    },
    "papermill": {
     "duration": 0.14575,
     "end_time": "2023-05-28T05:10:37.819630",
     "exception": false,
     "start_time": "2023-05-28T05:10:37.673880",
     "status": "completed"
    },
    "tags": []
   },
   "outputs": [
    {
     "data": {
      "text/plain": [
       "(0.8225625, 0.7675, 0.737)"
      ]
     },
     "execution_count": 16,
     "metadata": {},
     "output_type": "execute_result"
    }
   ],
   "source": [
    "clf = tree.DecisionTreeClassifier(criterion='gini', min_samples_split=91, min_samples_leaf= 1, max_features='sqrt', splitter='random')\n",
    "clf = clf.fit(train_vectors, train['label'])\n",
    "\n",
    "clf.score(train_vectors, train['label']), clf.score(val_vectors, val['label']), clf.score(test_vectors, test['label'])"
   ]
  },
  {
   "cell_type": "code",
   "execution_count": 17,
   "id": "cb914f07",
   "metadata": {
    "execution": {
     "iopub.execute_input": "2023-05-28T05:10:37.842957Z",
     "iopub.status.busy": "2023-05-28T05:10:37.842501Z",
     "iopub.status.idle": "2023-05-28T05:11:09.393720Z",
     "shell.execute_reply": "2023-05-28T05:11:09.392450Z"
    },
    "papermill": {
     "duration": 31.57577,
     "end_time": "2023-05-28T05:11:09.406300",
     "exception": false,
     "start_time": "2023-05-28T05:10:37.830530",
     "status": "completed"
    },
    "tags": []
   },
   "outputs": [
    {
     "data": {
      "text/plain": [
       "(0.998125, 0.8755, 0.8675)"
      ]
     },
     "execution_count": 17,
     "metadata": {},
     "output_type": "execute_result"
    }
   ],
   "source": [
    "from sklearn.ensemble import RandomForestClassifier\n",
    "\n",
    "model = RandomForestClassifier()\n",
    "\n",
    "model.fit(train_vectors, train['label'])\n",
    "\n",
    "model.score(train_vectors, train['label']), model.score(val_vectors, val['label']), model.score(test_vectors, test['label'])"
   ]
  },
  {
   "cell_type": "code",
   "execution_count": 18,
   "id": "bc2a50fe",
   "metadata": {
    "execution": {
     "iopub.execute_input": "2023-05-28T05:11:09.429091Z",
     "iopub.status.busy": "2023-05-28T05:11:09.428688Z",
     "iopub.status.idle": "2023-05-28T05:11:09.434304Z",
     "shell.execute_reply": "2023-05-28T05:11:09.433306Z"
    },
    "papermill": {
     "duration": 0.019746,
     "end_time": "2023-05-28T05:11:09.436613",
     "exception": false,
     "start_time": "2023-05-28T05:11:09.416867",
     "status": "completed"
    },
    "tags": []
   },
   "outputs": [],
   "source": [
    "# def objective(trial):\n",
    "    \n",
    "#     # Set the Parameters\n",
    "#     n_estimator = trial.suggest_int('n_estimators', 2, 4000)\n",
    "# #     max_depth = int(trial.suggest_int('max_depth', 1, 320))\n",
    "#     criterion = trial.suggest_categorical('criterion', ['gini', 'entropy', 'log_loss'])\n",
    "#     min_samples_split = int(trial.suggest_int('min_samples_split', 2, 100))\n",
    "#     min_samples_leaf = int(trial.suggest_int('min_samples_leaf', 1, 100))\n",
    "#     max_feature = trial.suggest_categorical('max_feature', ['auto', 'sqrt', 'log2'])\n",
    "    \n",
    "#     try:\n",
    "#         model = RandomForestClassifier(n_estimators=n_estimator, criterion=criterion, min_samples_split=min_samples_split, min_samples_leaf=min_samples_leaf, max_features=max_feature)\n",
    "#         model.fit(train_vectors, train['label'])\n",
    "\n",
    "#         return model.score(val_vectors, val['label'])\n",
    "    \n",
    "#     except:\n",
    "        \n",
    "#         return 0"
   ]
  },
  {
   "cell_type": "code",
   "execution_count": 19,
   "id": "e5549627",
   "metadata": {
    "execution": {
     "iopub.execute_input": "2023-05-28T05:11:09.459554Z",
     "iopub.status.busy": "2023-05-28T05:11:09.459177Z",
     "iopub.status.idle": "2023-05-28T05:11:09.463965Z",
     "shell.execute_reply": "2023-05-28T05:11:09.462879Z"
    },
    "papermill": {
     "duration": 0.018809,
     "end_time": "2023-05-28T05:11:09.466142",
     "exception": false,
     "start_time": "2023-05-28T05:11:09.447333",
     "status": "completed"
    },
    "tags": []
   },
   "outputs": [],
   "source": [
    "# study = optuna.create_study(direction='maximize')\n",
    "# study.optimize(objective, n_trials=400)"
   ]
  },
  {
   "cell_type": "code",
   "execution_count": 20,
   "id": "ce8c0348",
   "metadata": {
    "execution": {
     "iopub.execute_input": "2023-05-28T05:11:09.488811Z",
     "iopub.status.busy": "2023-05-28T05:11:09.488425Z",
     "iopub.status.idle": "2023-05-28T05:11:09.493236Z",
     "shell.execute_reply": "2023-05-28T05:11:09.491987Z"
    },
    "papermill": {
     "duration": 0.019165,
     "end_time": "2023-05-28T05:11:09.495723",
     "exception": false,
     "start_time": "2023-05-28T05:11:09.476558",
     "status": "completed"
    },
    "tags": []
   },
   "outputs": [],
   "source": [
    "# study.best_params"
   ]
  },
  {
   "cell_type": "code",
   "execution_count": 21,
   "id": "43d9a4c9",
   "metadata": {
    "execution": {
     "iopub.execute_input": "2023-05-28T05:11:09.518507Z",
     "iopub.status.busy": "2023-05-28T05:11:09.518094Z",
     "iopub.status.idle": "2023-05-28T05:11:09.525840Z",
     "shell.execute_reply": "2023-05-28T05:11:09.524720Z"
    },
    "papermill": {
     "duration": 0.021906,
     "end_time": "2023-05-28T05:11:09.528185",
     "exception": false,
     "start_time": "2023-05-28T05:11:09.506279",
     "status": "completed"
    },
    "tags": []
   },
   "outputs": [
    {
     "data": {
      "text/plain": [
       "((16000, 15186), (2000, 15186), (2000, 15186))"
      ]
     },
     "execution_count": 21,
     "metadata": {},
     "output_type": "execute_result"
    }
   ],
   "source": [
    "train_vectors.shape, val_vectors.shape, test_vectors.shape"
   ]
  },
  {
   "cell_type": "code",
   "execution_count": 22,
   "id": "0ab694ea",
   "metadata": {
    "execution": {
     "iopub.execute_input": "2023-05-28T05:11:09.551806Z",
     "iopub.status.busy": "2023-05-28T05:11:09.551415Z",
     "iopub.status.idle": "2023-05-28T05:11:19.418330Z",
     "shell.execute_reply": "2023-05-28T05:11:19.416979Z"
    },
    "papermill": {
     "duration": 9.882577,
     "end_time": "2023-05-28T05:11:19.421357",
     "exception": false,
     "start_time": "2023-05-28T05:11:09.538780",
     "status": "completed"
    },
    "tags": []
   },
   "outputs": [
    {
     "name": "stderr",
     "output_type": "stream",
     "text": [
      "/opt/conda/lib/python3.10/site-packages/tensorflow_io/python/ops/__init__.py:98: UserWarning: unable to load libtensorflow_io_plugins.so: unable to open file: libtensorflow_io_plugins.so, from paths: ['/opt/conda/lib/python3.10/site-packages/tensorflow_io/python/ops/libtensorflow_io_plugins.so']\n",
      "caused by: ['/opt/conda/lib/python3.10/site-packages/tensorflow_io/python/ops/libtensorflow_io_plugins.so: undefined symbol: _ZN3tsl6StatusC1EN10tensorflow5error4CodeESt17basic_string_viewIcSt11char_traitsIcEENS_14SourceLocationE']\n",
      "  warnings.warn(f\"unable to load libtensorflow_io_plugins.so: {e}\")\n",
      "/opt/conda/lib/python3.10/site-packages/tensorflow_io/python/ops/__init__.py:104: UserWarning: file system plugins are not loaded: unable to open file: libtensorflow_io.so, from paths: ['/opt/conda/lib/python3.10/site-packages/tensorflow_io/python/ops/libtensorflow_io.so']\n",
      "caused by: ['/opt/conda/lib/python3.10/site-packages/tensorflow_io/python/ops/libtensorflow_io.so: undefined symbol: _ZTVN10tensorflow13GcsFileSystemE']\n",
      "  warnings.warn(f\"file system plugins are not loaded: {e}\")\n"
     ]
    }
   ],
   "source": [
    "import tensorflow as tf\n",
    "from tensorflow import keras\n",
    "from keras import Sequential, layers\n",
    "from tensorflow.keras.utils import to_categorical"
   ]
  },
  {
   "cell_type": "code",
   "execution_count": 23,
   "id": "4f7b0d37",
   "metadata": {
    "execution": {
     "iopub.execute_input": "2023-05-28T05:11:19.445761Z",
     "iopub.status.busy": "2023-05-28T05:11:19.444973Z",
     "iopub.status.idle": "2023-05-28T06:56:21.472408Z",
     "shell.execute_reply": "2023-05-28T06:56:21.471131Z"
    },
    "papermill": {
     "duration": 6302.147893,
     "end_time": "2023-05-28T06:56:21.580436",
     "exception": false,
     "start_time": "2023-05-28T05:11:19.432543",
     "status": "completed"
    },
    "tags": []
   },
   "outputs": [
    {
     "name": "stdout",
     "output_type": "stream",
     "text": [
      "Model: \"sequential\"\n",
      "_________________________________________________________________\n",
      " Layer (type)                Output Shape              Param #   \n",
      "=================================================================\n",
      " dense (Dense)               (None, 10000)             151870000 \n",
      "                                                                 \n",
      " dense_1 (Dense)             (None, 10000)             100010000 \n",
      "                                                                 \n",
      " dense_2 (Dense)             (None, 1000)              10001000  \n",
      "                                                                 \n",
      " dense_3 (Dense)             (None, 1000)              1001000   \n",
      "                                                                 \n",
      " dense_4 (Dense)             (None, 100)               100100    \n",
      "                                                                 \n",
      " dense_5 (Dense)             (None, 100)               10100     \n",
      "                                                                 \n",
      " dense_6 (Dense)             (None, 6)                 606       \n",
      "                                                                 \n",
      "=================================================================\n",
      "Total params: 262,992,806\n",
      "Trainable params: 262,992,806\n",
      "Non-trainable params: 0\n",
      "_________________________________________________________________\n",
      "Epoch 1/20\n",
      "50/50 [==============================] - 303s 6s/step - loss: 1.3923\n",
      "Epoch 2/20\n",
      "50/50 [==============================] - 301s 6s/step - loss: 0.6273\n",
      "Epoch 3/20\n",
      "50/50 [==============================] - 301s 6s/step - loss: 0.1999\n",
      "Epoch 4/20\n",
      "50/50 [==============================] - 302s 6s/step - loss: 0.0725\n",
      "Epoch 5/20\n",
      "50/50 [==============================] - 303s 6s/step - loss: 0.0392\n",
      "Epoch 6/20\n",
      "50/50 [==============================] - 301s 6s/step - loss: 0.0198\n",
      "Epoch 7/20\n",
      "50/50 [==============================] - 300s 6s/step - loss: 0.0153\n",
      "Epoch 8/20\n",
      "50/50 [==============================] - 302s 6s/step - loss: 0.0102\n",
      "Epoch 9/20\n",
      "50/50 [==============================] - 304s 6s/step - loss: 0.0087\n",
      "Epoch 10/20\n",
      "50/50 [==============================] - 302s 6s/step - loss: 0.0133\n",
      "Epoch 11/20\n",
      "50/50 [==============================] - 299s 6s/step - loss: 0.0165\n",
      "Epoch 12/20\n",
      "50/50 [==============================] - 303s 6s/step - loss: 0.0102\n",
      "Epoch 13/20\n",
      "50/50 [==============================] - 305s 6s/step - loss: 0.0219\n",
      "Epoch 14/20\n",
      "50/50 [==============================] - 304s 6s/step - loss: 0.0274\n",
      "Epoch 15/20\n",
      "50/50 [==============================] - 302s 6s/step - loss: 0.0220\n",
      "Epoch 16/20\n",
      "50/50 [==============================] - 302s 6s/step - loss: 0.0227\n",
      "Epoch 17/20\n",
      "50/50 [==============================] - 301s 6s/step - loss: 0.0138\n",
      "Epoch 18/20\n",
      "50/50 [==============================] - 300s 6s/step - loss: 0.0121\n",
      "Epoch 19/20\n",
      "50/50 [==============================] - 300s 6s/step - loss: 0.0152\n",
      "Epoch 20/20\n",
      "50/50 [==============================] - 300s 6s/step - loss: 0.0070\n"
     ]
    },
    {
     "data": {
      "text/plain": [
       "<keras.callbacks.History at 0x7dfa716440d0>"
      ]
     },
     "execution_count": 23,
     "metadata": {},
     "output_type": "execute_result"
    }
   ],
   "source": [
    "model = Sequential()\n",
    "\n",
    "model.add(layers.Dense(10000, activation='relu', input_shape=(train_vectors.shape[1],)))\n",
    "\n",
    "model.add(layers.Dense(10000, activation='relu'))\n",
    "\n",
    "model.add(layers.Dense(1000, activation='relu'))\n",
    "\n",
    "model.add(layers.Dense(1000, activation='relu'))\n",
    "\n",
    "model.add(layers.Dense(100, activation='relu'))\n",
    "\n",
    "model.add(layers.Dense(100, activation='relu'))\n",
    "\n",
    "model.add(layers.Dense(6, activation='softmax'))\n",
    "\n",
    "model.summary()\n",
    "\n",
    "model.compile(optimizer=tf.keras.optimizers.Adam(learning_rate=1e-3), loss=tf.keras.losses.CategoricalCrossentropy())\n",
    "\n",
    "model.fit(train_vectors, to_categorical(train['label'], num_classes=6), batch_size = 320, epochs=20)"
   ]
  },
  {
   "cell_type": "code",
   "execution_count": 24,
   "id": "8103e0ea",
   "metadata": {
    "execution": {
     "iopub.execute_input": "2023-05-28T06:56:21.794160Z",
     "iopub.status.busy": "2023-05-28T06:56:21.793439Z",
     "iopub.status.idle": "2023-05-28T06:56:29.091443Z",
     "shell.execute_reply": "2023-05-28T06:56:29.090217Z"
    },
    "papermill": {
     "duration": 7.406921,
     "end_time": "2023-05-28T06:56:29.094127",
     "exception": false,
     "start_time": "2023-05-28T06:56:21.687206",
     "status": "completed"
    },
    "tags": []
   },
   "outputs": [
    {
     "name": "stdout",
     "output_type": "stream",
     "text": [
      "63/63 [==============================] - 7s 111ms/step\n",
      "0.8475\n"
     ]
    }
   ],
   "source": [
    "preds = model.predict(val_vectors)\n",
    "\n",
    "num_correct = 0\n",
    "\n",
    "for i, pred in enumerate(preds):\n",
    "    temp = pred.tolist()\n",
    "#     print(val['label'].iloc[i], temp.index(max(temp)))\n",
    "\n",
    "    if val['label'].iloc[i] == temp.index(max(temp)):\n",
    "        num_correct += 1\n",
    "\n",
    "num_correct = (num_correct/len(preds))\n",
    "\n",
    "print(num_correct)"
   ]
  },
  {
   "cell_type": "code",
   "execution_count": 25,
   "id": "7ac63d44",
   "metadata": {
    "execution": {
     "iopub.execute_input": "2023-05-28T06:56:29.321314Z",
     "iopub.status.busy": "2023-05-28T06:56:29.320578Z",
     "iopub.status.idle": "2023-05-28T06:56:36.384657Z",
     "shell.execute_reply": "2023-05-28T06:56:36.383303Z"
    },
    "papermill": {
     "duration": 7.180822,
     "end_time": "2023-05-28T06:56:36.387132",
     "exception": false,
     "start_time": "2023-05-28T06:56:29.206310",
     "status": "completed"
    },
    "tags": []
   },
   "outputs": [
    {
     "name": "stdout",
     "output_type": "stream",
     "text": [
      "63/63 [==============================] - 7s 111ms/step\n",
      "0.8375\n"
     ]
    }
   ],
   "source": [
    "preds = model.predict(test_vectors)\n",
    "\n",
    "num_correct = 0\n",
    "\n",
    "for i, pred in enumerate(preds):\n",
    "    temp = pred.tolist()\n",
    "#     print(val['label'].iloc[i], temp.index(max(temp)))\n",
    "\n",
    "    if test['label'].iloc[i] == temp.index(max(temp)):\n",
    "        num_correct += 1\n",
    "\n",
    "num_correct = (num_correct/len(preds))\n",
    "\n",
    "print(num_correct)"
   ]
  },
  {
   "cell_type": "code",
   "execution_count": null,
   "id": "32cf9ea6",
   "metadata": {
    "papermill": {
     "duration": 0.11523,
     "end_time": "2023-05-28T06:56:36.621832",
     "exception": false,
     "start_time": "2023-05-28T06:56:36.506602",
     "status": "completed"
    },
    "tags": []
   },
   "outputs": [],
   "source": []
  }
 ],
 "metadata": {
  "kernelspec": {
   "display_name": "Python 3",
   "language": "python",
   "name": "python3"
  },
  "language_info": {
   "codemirror_mode": {
    "name": "ipython",
    "version": 3
   },
   "file_extension": ".py",
   "mimetype": "text/x-python",
   "name": "python",
   "nbconvert_exporter": "python",
   "pygments_lexer": "ipython3",
   "version": "3.10.10"
  },
  "papermill": {
   "default_parameters": {},
   "duration": 6381.937508,
   "end_time": "2023-05-28T06:56:39.706667",
   "environment_variables": {},
   "exception": null,
   "input_path": "__notebook__.ipynb",
   "output_path": "__notebook__.ipynb",
   "parameters": {},
   "start_time": "2023-05-28T05:10:17.769159",
   "version": "2.4.0"
  }
 },
 "nbformat": 4,
 "nbformat_minor": 5
}
