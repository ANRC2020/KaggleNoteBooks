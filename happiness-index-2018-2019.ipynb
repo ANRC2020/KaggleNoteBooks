{
 "cells": [
  {
   "cell_type": "code",
   "execution_count": 1,
   "id": "04b4f9bf",
   "metadata": {
    "_cell_guid": "b1076dfc-b9ad-4769-8c92-a6c4dae69d19",
    "_uuid": "8f2839f25d086af736a60e9eeb907d3b93b6e0e5",
    "execution": {
     "iopub.execute_input": "2023-05-25T03:19:31.965120Z",
     "iopub.status.busy": "2023-05-25T03:19:31.964739Z",
     "iopub.status.idle": "2023-05-25T03:19:31.987772Z",
     "shell.execute_reply": "2023-05-25T03:19:31.986492Z"
    },
    "papermill": {
     "duration": 0.033,
     "end_time": "2023-05-25T03:19:31.990470",
     "exception": false,
     "start_time": "2023-05-25T03:19:31.957470",
     "status": "completed"
    },
    "tags": []
   },
   "outputs": [
    {
     "name": "stdout",
     "output_type": "stream",
     "text": [
      "/kaggle/input/happiness-index-2018-2019/report_2018-2019.csv\n",
      "/kaggle/input/happiness-index-2018-2019/2019.csv\n",
      "/kaggle/input/happiness-index-2018-2019/2018.csv\n"
     ]
    }
   ],
   "source": [
    "# This Python 3 environment comes with many helpful analytics libraries installed\n",
    "# It is defined by the kaggle/python Docker image: https://github.com/kaggle/docker-python\n",
    "# For example, here's several helpful packages to load\n",
    "\n",
    "import numpy as np # linear algebra\n",
    "import pandas as pd # data processing, CSV file I/O (e.g. pd.read_csv)\n",
    "\n",
    "# Input data files are available in the read-only \"../input/\" directory\n",
    "# For example, running this (by clicking run or pressing Shift+Enter) will list all files under the input directory\n",
    "\n",
    "import os\n",
    "for dirname, _, filenames in os.walk('/kaggle/input'):\n",
    "    for filename in filenames:\n",
    "        print(os.path.join(dirname, filename))\n",
    "\n",
    "# You can write up to 20GB to the current directory (/kaggle/working/) that gets preserved as output when you create a version using \"Save & Run All\" \n",
    "# You can also write temporary files to /kaggle/temp/, but they won't be saved outside of the current session"
   ]
  },
  {
   "cell_type": "code",
   "execution_count": 2,
   "id": "78d3c4df",
   "metadata": {
    "execution": {
     "iopub.execute_input": "2023-05-25T03:19:32.003258Z",
     "iopub.status.busy": "2023-05-25T03:19:32.002500Z",
     "iopub.status.idle": "2023-05-25T03:19:32.060760Z",
     "shell.execute_reply": "2023-05-25T03:19:32.059481Z"
    },
    "papermill": {
     "duration": 0.067387,
     "end_time": "2023-05-25T03:19:32.063321",
     "exception": false,
     "start_time": "2023-05-25T03:19:31.995934",
     "status": "completed"
    },
    "tags": []
   },
   "outputs": [
    {
     "data": {
      "text/html": [
       "<div>\n",
       "<style scoped>\n",
       "    .dataframe tbody tr th:only-of-type {\n",
       "        vertical-align: middle;\n",
       "    }\n",
       "\n",
       "    .dataframe tbody tr th {\n",
       "        vertical-align: top;\n",
       "    }\n",
       "\n",
       "    .dataframe thead th {\n",
       "        text-align: right;\n",
       "    }\n",
       "</style>\n",
       "<table border=\"1\" class=\"dataframe\">\n",
       "  <thead>\n",
       "    <tr style=\"text-align: right;\">\n",
       "      <th></th>\n",
       "      <th>Overall rank</th>\n",
       "      <th>Country or region</th>\n",
       "      <th>Score</th>\n",
       "      <th>GDP per capita</th>\n",
       "      <th>Social support</th>\n",
       "      <th>Healthy life expectancy</th>\n",
       "      <th>Freedom to make life choices</th>\n",
       "      <th>Generosity</th>\n",
       "      <th>Perceptions of corruption</th>\n",
       "    </tr>\n",
       "  </thead>\n",
       "  <tbody>\n",
       "    <tr>\n",
       "      <th>0</th>\n",
       "      <td>1</td>\n",
       "      <td>Finland</td>\n",
       "      <td>7.632</td>\n",
       "      <td>1.305</td>\n",
       "      <td>1.592</td>\n",
       "      <td>0.874</td>\n",
       "      <td>0.681</td>\n",
       "      <td>0.202</td>\n",
       "      <td>0.393</td>\n",
       "    </tr>\n",
       "    <tr>\n",
       "      <th>1</th>\n",
       "      <td>2</td>\n",
       "      <td>Norway</td>\n",
       "      <td>7.594</td>\n",
       "      <td>1.456</td>\n",
       "      <td>1.582</td>\n",
       "      <td>0.861</td>\n",
       "      <td>0.686</td>\n",
       "      <td>0.286</td>\n",
       "      <td>0.340</td>\n",
       "    </tr>\n",
       "    <tr>\n",
       "      <th>2</th>\n",
       "      <td>3</td>\n",
       "      <td>Denmark</td>\n",
       "      <td>7.555</td>\n",
       "      <td>1.351</td>\n",
       "      <td>1.590</td>\n",
       "      <td>0.868</td>\n",
       "      <td>0.683</td>\n",
       "      <td>0.284</td>\n",
       "      <td>0.408</td>\n",
       "    </tr>\n",
       "    <tr>\n",
       "      <th>3</th>\n",
       "      <td>4</td>\n",
       "      <td>Iceland</td>\n",
       "      <td>7.495</td>\n",
       "      <td>1.343</td>\n",
       "      <td>1.644</td>\n",
       "      <td>0.914</td>\n",
       "      <td>0.677</td>\n",
       "      <td>0.353</td>\n",
       "      <td>0.138</td>\n",
       "    </tr>\n",
       "    <tr>\n",
       "      <th>4</th>\n",
       "      <td>5</td>\n",
       "      <td>Switzerland</td>\n",
       "      <td>7.487</td>\n",
       "      <td>1.420</td>\n",
       "      <td>1.549</td>\n",
       "      <td>0.927</td>\n",
       "      <td>0.660</td>\n",
       "      <td>0.256</td>\n",
       "      <td>0.357</td>\n",
       "    </tr>\n",
       "  </tbody>\n",
       "</table>\n",
       "</div>"
      ],
      "text/plain": [
       "   Overall rank Country or region  Score  GDP per capita  Social support  \\\n",
       "0             1           Finland  7.632           1.305           1.592   \n",
       "1             2            Norway  7.594           1.456           1.582   \n",
       "2             3           Denmark  7.555           1.351           1.590   \n",
       "3             4           Iceland  7.495           1.343           1.644   \n",
       "4             5       Switzerland  7.487           1.420           1.549   \n",
       "\n",
       "   Healthy life expectancy  Freedom to make life choices  Generosity  \\\n",
       "0                    0.874                         0.681       0.202   \n",
       "1                    0.861                         0.686       0.286   \n",
       "2                    0.868                         0.683       0.284   \n",
       "3                    0.914                         0.677       0.353   \n",
       "4                    0.927                         0.660       0.256   \n",
       "\n",
       "   Perceptions of corruption  \n",
       "0                      0.393  \n",
       "1                      0.340  \n",
       "2                      0.408  \n",
       "3                      0.138  \n",
       "4                      0.357  "
      ]
     },
     "execution_count": 2,
     "metadata": {},
     "output_type": "execute_result"
    }
   ],
   "source": [
    "report_1 = pd.read_csv(\"/kaggle/input/happiness-index-2018-2019/2018.csv\")\n",
    "report_1.head()"
   ]
  },
  {
   "cell_type": "code",
   "execution_count": 3,
   "id": "34d749f0",
   "metadata": {
    "execution": {
     "iopub.execute_input": "2023-05-25T03:19:32.076204Z",
     "iopub.status.busy": "2023-05-25T03:19:32.075726Z",
     "iopub.status.idle": "2023-05-25T03:19:32.103560Z",
     "shell.execute_reply": "2023-05-25T03:19:32.102389Z"
    },
    "papermill": {
     "duration": 0.037361,
     "end_time": "2023-05-25T03:19:32.106301",
     "exception": false,
     "start_time": "2023-05-25T03:19:32.068940",
     "status": "completed"
    },
    "tags": []
   },
   "outputs": [
    {
     "data": {
      "text/html": [
       "<div>\n",
       "<style scoped>\n",
       "    .dataframe tbody tr th:only-of-type {\n",
       "        vertical-align: middle;\n",
       "    }\n",
       "\n",
       "    .dataframe tbody tr th {\n",
       "        vertical-align: top;\n",
       "    }\n",
       "\n",
       "    .dataframe thead th {\n",
       "        text-align: right;\n",
       "    }\n",
       "</style>\n",
       "<table border=\"1\" class=\"dataframe\">\n",
       "  <thead>\n",
       "    <tr style=\"text-align: right;\">\n",
       "      <th></th>\n",
       "      <th>Overall rank</th>\n",
       "      <th>Country or region</th>\n",
       "      <th>Score</th>\n",
       "      <th>GDP per capita</th>\n",
       "      <th>Social support</th>\n",
       "      <th>Healthy life expectancy</th>\n",
       "      <th>Freedom to make life choices</th>\n",
       "      <th>Generosity</th>\n",
       "      <th>Perceptions of corruption</th>\n",
       "    </tr>\n",
       "  </thead>\n",
       "  <tbody>\n",
       "    <tr>\n",
       "      <th>0</th>\n",
       "      <td>1</td>\n",
       "      <td>Finland</td>\n",
       "      <td>7.769</td>\n",
       "      <td>1.340</td>\n",
       "      <td>1.587</td>\n",
       "      <td>0.986</td>\n",
       "      <td>0.596</td>\n",
       "      <td>0.153</td>\n",
       "      <td>0.393</td>\n",
       "    </tr>\n",
       "    <tr>\n",
       "      <th>1</th>\n",
       "      <td>2</td>\n",
       "      <td>Denmark</td>\n",
       "      <td>7.600</td>\n",
       "      <td>1.383</td>\n",
       "      <td>1.573</td>\n",
       "      <td>0.996</td>\n",
       "      <td>0.592</td>\n",
       "      <td>0.252</td>\n",
       "      <td>0.410</td>\n",
       "    </tr>\n",
       "    <tr>\n",
       "      <th>2</th>\n",
       "      <td>3</td>\n",
       "      <td>Norway</td>\n",
       "      <td>7.554</td>\n",
       "      <td>1.488</td>\n",
       "      <td>1.582</td>\n",
       "      <td>1.028</td>\n",
       "      <td>0.603</td>\n",
       "      <td>0.271</td>\n",
       "      <td>0.341</td>\n",
       "    </tr>\n",
       "    <tr>\n",
       "      <th>3</th>\n",
       "      <td>4</td>\n",
       "      <td>Iceland</td>\n",
       "      <td>7.494</td>\n",
       "      <td>1.380</td>\n",
       "      <td>1.624</td>\n",
       "      <td>1.026</td>\n",
       "      <td>0.591</td>\n",
       "      <td>0.354</td>\n",
       "      <td>0.118</td>\n",
       "    </tr>\n",
       "    <tr>\n",
       "      <th>4</th>\n",
       "      <td>5</td>\n",
       "      <td>Netherlands</td>\n",
       "      <td>7.488</td>\n",
       "      <td>1.396</td>\n",
       "      <td>1.522</td>\n",
       "      <td>0.999</td>\n",
       "      <td>0.557</td>\n",
       "      <td>0.322</td>\n",
       "      <td>0.298</td>\n",
       "    </tr>\n",
       "  </tbody>\n",
       "</table>\n",
       "</div>"
      ],
      "text/plain": [
       "   Overall rank Country or region  Score  GDP per capita  Social support  \\\n",
       "0             1           Finland  7.769           1.340           1.587   \n",
       "1             2           Denmark  7.600           1.383           1.573   \n",
       "2             3            Norway  7.554           1.488           1.582   \n",
       "3             4           Iceland  7.494           1.380           1.624   \n",
       "4             5       Netherlands  7.488           1.396           1.522   \n",
       "\n",
       "   Healthy life expectancy  Freedom to make life choices  Generosity  \\\n",
       "0                    0.986                         0.596       0.153   \n",
       "1                    0.996                         0.592       0.252   \n",
       "2                    1.028                         0.603       0.271   \n",
       "3                    1.026                         0.591       0.354   \n",
       "4                    0.999                         0.557       0.322   \n",
       "\n",
       "   Perceptions of corruption  \n",
       "0                      0.393  \n",
       "1                      0.410  \n",
       "2                      0.341  \n",
       "3                      0.118  \n",
       "4                      0.298  "
      ]
     },
     "execution_count": 3,
     "metadata": {},
     "output_type": "execute_result"
    }
   ],
   "source": [
    "report_2 = pd.read_csv(\"/kaggle/input/happiness-index-2018-2019/2019.csv\")\n",
    "report_2.head()"
   ]
  },
  {
   "cell_type": "code",
   "execution_count": 4,
   "id": "0a7e2e4e",
   "metadata": {
    "execution": {
     "iopub.execute_input": "2023-05-25T03:19:32.120044Z",
     "iopub.status.busy": "2023-05-25T03:19:32.119389Z",
     "iopub.status.idle": "2023-05-25T03:19:32.130306Z",
     "shell.execute_reply": "2023-05-25T03:19:32.129176Z"
    },
    "papermill": {
     "duration": 0.020749,
     "end_time": "2023-05-25T03:19:32.132868",
     "exception": false,
     "start_time": "2023-05-25T03:19:32.112119",
     "status": "completed"
    },
    "tags": []
   },
   "outputs": [],
   "source": [
    "for col in report_1:\n",
    "    if report_1[col].dtype == 'object':\n",
    "        report_1[col] = report_1[col].factorize()[0]"
   ]
  },
  {
   "cell_type": "code",
   "execution_count": 5,
   "id": "d2fcd77d",
   "metadata": {
    "execution": {
     "iopub.execute_input": "2023-05-25T03:19:32.146066Z",
     "iopub.status.busy": "2023-05-25T03:19:32.145685Z",
     "iopub.status.idle": "2023-05-25T03:19:32.153055Z",
     "shell.execute_reply": "2023-05-25T03:19:32.151673Z"
    },
    "papermill": {
     "duration": 0.016692,
     "end_time": "2023-05-25T03:19:32.155292",
     "exception": false,
     "start_time": "2023-05-25T03:19:32.138600",
     "status": "completed"
    },
    "tags": []
   },
   "outputs": [],
   "source": [
    "for col in report_2:\n",
    "    if report_2[col].dtype == 'object':\n",
    "        report_2[col] = report_2[col].factorize()[0]"
   ]
  },
  {
   "cell_type": "code",
   "execution_count": 6,
   "id": "ed4c47ca",
   "metadata": {
    "execution": {
     "iopub.execute_input": "2023-05-25T03:19:32.168452Z",
     "iopub.status.busy": "2023-05-25T03:19:32.168010Z",
     "iopub.status.idle": "2023-05-25T03:19:34.024746Z",
     "shell.execute_reply": "2023-05-25T03:19:34.023570Z"
    },
    "papermill": {
     "duration": 1.866667,
     "end_time": "2023-05-25T03:19:34.027589",
     "exception": false,
     "start_time": "2023-05-25T03:19:32.160922",
     "status": "completed"
    },
    "tags": []
   },
   "outputs": [
    {
     "data": {
      "text/plain": [
       "array([[<Axes: title={'center': 'Overall rank'}>,\n",
       "        <Axes: title={'center': 'Country or region'}>,\n",
       "        <Axes: title={'center': 'Score'}>],\n",
       "       [<Axes: title={'center': 'GDP per capita'}>,\n",
       "        <Axes: title={'center': 'Social support'}>,\n",
       "        <Axes: title={'center': 'Healthy life expectancy'}>],\n",
       "       [<Axes: title={'center': 'Freedom to make life choices'}>,\n",
       "        <Axes: title={'center': 'Generosity'}>,\n",
       "        <Axes: title={'center': 'Perceptions of corruption'}>]],\n",
       "      dtype=object)"
      ]
     },
     "execution_count": 6,
     "metadata": {},
     "output_type": "execute_result"
    },
    {
     "data": {
      "image/png": "[encoded data removed]",
      "text/plain": [
       "<Figure size 640x480 with 9 Axes>"
      ]
     },
     "metadata": {},
     "output_type": "display_data"
    }
   ],
   "source": [
    "report_1.hist()"
   ]
  },
  {
   "cell_type": "code",
   "execution_count": 7,
   "id": "f5df70f0",
   "metadata": {
    "execution": {
     "iopub.execute_input": "2023-05-25T03:19:34.043262Z",
     "iopub.status.busy": "2023-05-25T03:19:34.042249Z",
     "iopub.status.idle": "2023-05-25T03:19:35.654784Z",
     "shell.execute_reply": "2023-05-25T03:19:35.653574Z"
    },
    "papermill": {
     "duration": 1.623242,
     "end_time": "2023-05-25T03:19:35.657464",
     "exception": false,
     "start_time": "2023-05-25T03:19:34.034222",
     "status": "completed"
    },
    "tags": []
   },
   "outputs": [
    {
     "data": {
      "text/plain": [
       "array([[<Axes: title={'center': 'Overall rank'}>,\n",
       "        <Axes: title={'center': 'Country or region'}>,\n",
       "        <Axes: title={'center': 'Score'}>],\n",
       "       [<Axes: title={'center': 'GDP per capita'}>,\n",
       "        <Axes: title={'center': 'Social support'}>,\n",
       "        <Axes: title={'center': 'Healthy life expectancy'}>],\n",
       "       [<Axes: title={'center': 'Freedom to make life choices'}>,\n",
       "        <Axes: title={'center': 'Generosity'}>,\n",
       "        <Axes: title={'center': 'Perceptions of corruption'}>]],\n",
       "      dtype=object)"
      ]
     },
     "execution_count": 7,
     "metadata": {},
     "output_type": "execute_result"
    },
    {
     "data": {
      "image/png": "[encoded data removed]",
      "text/plain": [
       "<Figure size 640x480 with 9 Axes>"
      ]
     },
     "metadata": {},
     "output_type": "display_data"
    }
   ],
   "source": [
    "report_2.hist()"
   ]
  },
  {
   "cell_type": "code",
   "execution_count": 8,
   "id": "e17d916e",
   "metadata": {
    "execution": {
     "iopub.execute_input": "2023-05-25T03:19:35.675178Z",
     "iopub.status.busy": "2023-05-25T03:19:35.674345Z",
     "iopub.status.idle": "2023-05-25T03:19:37.227479Z",
     "shell.execute_reply": "2023-05-25T03:19:37.226383Z"
    },
    "papermill": {
     "duration": 1.565287,
     "end_time": "2023-05-25T03:19:37.230333",
     "exception": false,
     "start_time": "2023-05-25T03:19:35.665046",
     "status": "completed"
    },
    "tags": []
   },
   "outputs": [],
   "source": [
    "from sklearn.model_selection import train_test_split\n",
    "\n",
    "X_train, X_test, y_train, y_test = train_test_split(report_1.loc[:,report_1.columns != 'Score'], report_1['Score'], test_size=0.3)"
   ]
  },
  {
   "cell_type": "code",
   "execution_count": 9,
   "id": "db57d907",
   "metadata": {
    "execution": {
     "iopub.execute_input": "2023-05-25T03:19:37.247990Z",
     "iopub.status.busy": "2023-05-25T03:19:37.247583Z",
     "iopub.status.idle": "2023-05-25T03:19:37.378387Z",
     "shell.execute_reply": "2023-05-25T03:19:37.377155Z"
    },
    "papermill": {
     "duration": 0.142334,
     "end_time": "2023-05-25T03:19:37.380971",
     "exception": false,
     "start_time": "2023-05-25T03:19:37.238637",
     "status": "completed"
    },
    "tags": []
   },
   "outputs": [
    {
     "name": "stdout",
     "output_type": "stream",
     "text": [
      "0.12147163255168225\n"
     ]
    }
   ],
   "source": [
    "from sklearn.linear_model import LinearRegression\n",
    "from math import sqrt\n",
    "\n",
    "reg = LinearRegression().fit(X_train, y_train)\n",
    "\n",
    "preds = reg.predict(X_test)\n",
    "\n",
    "RMSE = 0\n",
    "\n",
    "for i, entry in enumerate(preds):\n",
    "#     print(entry, y_test.iloc[i])\n",
    "    RMSE += abs(entry - y_test.iloc[i])**2\n",
    "    \n",
    "RMSE = sqrt(RMSE / len(preds))\n",
    "\n",
    "print(RMSE)"
   ]
  },
  {
   "cell_type": "code",
   "execution_count": 10,
   "id": "b1285425",
   "metadata": {
    "execution": {
     "iopub.execute_input": "2023-05-25T03:19:37.399314Z",
     "iopub.status.busy": "2023-05-25T03:19:37.398685Z",
     "iopub.status.idle": "2023-05-25T03:19:37.596579Z",
     "shell.execute_reply": "2023-05-25T03:19:37.595219Z"
    },
    "papermill": {
     "duration": 0.209197,
     "end_time": "2023-05-25T03:19:37.598926",
     "exception": false,
     "start_time": "2023-05-25T03:19:37.389729",
     "status": "completed"
    },
    "tags": []
   },
   "outputs": [
    {
     "name": "stdout",
     "output_type": "stream",
     "text": [
      "0.09313259821922631\n"
     ]
    }
   ],
   "source": [
    "from sklearn import tree\n",
    "\n",
    "clf = tree.DecisionTreeRegressor()\n",
    "clf = clf.fit(X_train, y_train)\n",
    "\n",
    "preds = clf.predict(X_test)\n",
    "\n",
    "RMSE = 0\n",
    "\n",
    "for i, entry in enumerate(preds):\n",
    "#     print(entry, y_test.iloc[i])\n",
    "    RMSE += abs(entry - y_test.iloc[i])**2\n",
    "    \n",
    "RMSE = sqrt(RMSE / len(preds))\n",
    "\n",
    "print(RMSE)"
   ]
  },
  {
   "cell_type": "code",
   "execution_count": 11,
   "id": "f50d8326",
   "metadata": {
    "execution": {
     "iopub.execute_input": "2023-05-25T03:19:37.616001Z",
     "iopub.status.busy": "2023-05-25T03:19:37.615470Z",
     "iopub.status.idle": "2023-05-25T03:19:37.980211Z",
     "shell.execute_reply": "2023-05-25T03:19:37.979009Z"
    },
    "papermill": {
     "duration": 0.376145,
     "end_time": "2023-05-25T03:19:37.982691",
     "exception": false,
     "start_time": "2023-05-25T03:19:37.606546",
     "status": "completed"
    },
    "tags": []
   },
   "outputs": [
    {
     "name": "stdout",
     "output_type": "stream",
     "text": [
      "0.036560356858447184\n"
     ]
    }
   ],
   "source": [
    "from sklearn.ensemble import RandomForestRegressor\n",
    "\n",
    "model = RandomForestRegressor()\n",
    "model.fit(X_train, y_train)\n",
    "\n",
    "preds = model.predict(X_test)\n",
    "\n",
    "RMSE = 0\n",
    "\n",
    "for i, entry in enumerate(preds):\n",
    "#     print(entry, y_test.iloc[i])\n",
    "    RMSE += abs(entry - y_test.iloc[i])**2\n",
    "    \n",
    "RMSE = sqrt(RMSE / len(preds))\n",
    "\n",
    "print(RMSE)"
   ]
  },
  {
   "cell_type": "code",
   "execution_count": 12,
   "id": "d5f48ff0",
   "metadata": {
    "execution": {
     "iopub.execute_input": "2023-05-25T03:19:37.999425Z",
     "iopub.status.busy": "2023-05-25T03:19:37.999024Z",
     "iopub.status.idle": "2023-05-25T03:19:38.090602Z",
     "shell.execute_reply": "2023-05-25T03:19:38.089186Z"
    },
    "papermill": {
     "duration": 0.102994,
     "end_time": "2023-05-25T03:19:38.093283",
     "exception": false,
     "start_time": "2023-05-25T03:19:37.990289",
     "status": "completed"
    },
    "tags": []
   },
   "outputs": [
    {
     "name": "stdout",
     "output_type": "stream",
     "text": [
      "0.0384204548456575\n"
     ]
    }
   ],
   "source": [
    "from sklearn.ensemble import GradientBoostingRegressor\n",
    "\n",
    "model = GradientBoostingRegressor()\n",
    "model.fit(X_train, y_train)\n",
    "\n",
    "preds = model.predict(X_test)\n",
    "\n",
    "RMSE = 0\n",
    "\n",
    "for i, entry in enumerate(preds):\n",
    "#     print(entry, y_test.iloc[i])\n",
    "    RMSE += abs(entry - y_test.iloc[i])**2\n",
    "    \n",
    "RMSE = sqrt(RMSE / len(preds))\n",
    "\n",
    "print(RMSE)"
   ]
  },
  {
   "cell_type": "code",
   "execution_count": null,
   "id": "cfb42afa",
   "metadata": {
    "papermill": {
     "duration": 0.007463,
     "end_time": "2023-05-25T03:19:38.108639",
     "exception": false,
     "start_time": "2023-05-25T03:19:38.101176",
     "status": "completed"
    },
    "tags": []
   },
   "outputs": [],
   "source": []
  }
 ],
 "metadata": {
  "kernelspec": {
   "display_name": "Python 3",
   "language": "python",
   "name": "python3"
  },
  "language_info": {
   "codemirror_mode": {
    "name": "ipython",
    "version": 3
   },
   "file_extension": ".py",
   "mimetype": "text/x-python",
   "name": "python",
   "nbconvert_exporter": "python",
   "pygments_lexer": "ipython3",
   "version": "3.10.10"
  },
  "papermill": {
   "default_parameters": {},
   "duration": 21.761451,
   "end_time": "2023-05-25T03:19:41.359741",
   "environment_variables": {},
   "exception": null,
   "input_path": "__notebook__.ipynb",
   "output_path": "__notebook__.ipynb",
   "parameters": {},
   "start_time": "2023-05-25T03:19:19.598290",
   "version": "2.4.0"
  }
 },
 "nbformat": 4,
 "nbformat_minor": 5
}
