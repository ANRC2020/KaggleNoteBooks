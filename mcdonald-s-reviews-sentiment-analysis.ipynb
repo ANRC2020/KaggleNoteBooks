{
 "cells": [
  {
   "cell_type": "code",
   "execution_count": 1,
   "id": "80537728",
   "metadata": {
    "_cell_guid": "b1076dfc-b9ad-4769-8c92-a6c4dae69d19",
    "_uuid": "8f2839f25d086af736a60e9eeb907d3b93b6e0e5",
    "execution": {
     "iopub.execute_input": "2023-07-16T21:27:45.853893Z",
     "iopub.status.busy": "2023-07-16T21:27:45.853141Z",
     "iopub.status.idle": "2023-07-16T21:27:49.046675Z",
     "shell.execute_reply": "2023-07-16T21:27:49.045721Z"
    },
    "papermill": {
     "duration": 3.206686,
     "end_time": "2023-07-16T21:27:49.048884",
     "exception": false,
     "start_time": "2023-07-16T21:27:45.842198",
     "status": "completed"
    },
    "tags": []
   },
   "outputs": [
    {
     "name": "stderr",
     "output_type": "stream",
     "text": [
      "/opt/conda/lib/python3.10/site-packages/scipy/__init__.py:146: UserWarning: A NumPy version >=1.16.5 and <1.23.0 is required for this version of SciPy (detected version 1.23.5\n",
      "  warnings.warn(f\"A NumPy version >={np_minversion} and <{np_maxversion}\"\n"
     ]
    },
    {
     "name": "stdout",
     "output_type": "stream",
     "text": [
      "[nltk_data] Downloading package wordnet to /usr/share/nltk_data...\n",
      "[nltk_data]   Package wordnet is already up-to-date!\n",
      "/kaggle/input/mcdonalds-store-reviews/McDonald_s_Reviews.csv\n"
     ]
    }
   ],
   "source": [
    "# This Python 3 environment comes with many helpful analytics libraries installed\n",
    "# It is defined by the kaggle/python Docker image: https://github.com/kaggle/docker-python\n",
    "# For example, here's several helpful packages to load\n",
    "\n",
    "import numpy as np # linear algebra\n",
    "import pandas as pd # data processing, CSV file I/O (e.g. pd.read_csv)\n",
    "import nltk\n",
    "from nltk.stem import WordNetLemmatizer \n",
    "Lemmatizer = WordNetLemmatizer()\n",
    "nltk.download('wordnet')\n",
    "from nltk.corpus import wordnet\n",
    "from nltk import pos_tag\n",
    "from nltk.tokenize import word_tokenize\n",
    "from wordcloud import STOPWORDS\n",
    "\n",
    "# Input data files are available in the read-only \"../input/\" directory\n",
    "# For example, running this (by clicking run or pressing Shift+Enter) will list all files under the input directory\n",
    "\n",
    "import os\n",
    "for dirname, _, filenames in os.walk('/kaggle/input'):\n",
    "    for filename in filenames:\n",
    "        print(os.path.join(dirname, filename))\n",
    "\n",
    "# You can write up to 20GB to the current directory (/kaggle/working/) that gets preserved as output when you create a version using \"Save & Run All\" \n",
    "# You can also write temporary files to /kaggle/temp/, but they won't be saved outside of the current session"
   ]
  },
  {
   "cell_type": "code",
   "execution_count": 2,
   "id": "f21f74e2",
   "metadata": {
    "execution": {
     "iopub.execute_input": "2023-07-16T21:27:49.068821Z",
     "iopub.status.busy": "2023-07-16T21:27:49.067328Z",
     "iopub.status.idle": "2023-07-16T21:27:49.323123Z",
     "shell.execute_reply": "2023-07-16T21:27:49.322017Z"
    },
    "papermill": {
     "duration": 0.268129,
     "end_time": "2023-07-16T21:27:49.325889",
     "exception": false,
     "start_time": "2023-07-16T21:27:49.057760",
     "status": "completed"
    },
    "tags": []
   },
   "outputs": [
    {
     "data": {
      "text/html": [
       "<div>\n",
       "<style scoped>\n",
       "    .dataframe tbody tr th:only-of-type {\n",
       "        vertical-align: middle;\n",
       "    }\n",
       "\n",
       "    .dataframe tbody tr th {\n",
       "        vertical-align: top;\n",
       "    }\n",
       "\n",
       "    .dataframe thead th {\n",
       "        text-align: right;\n",
       "    }\n",
       "</style>\n",
       "<table border=\"1\" class=\"dataframe\">\n",
       "  <thead>\n",
       "    <tr style=\"text-align: right;\">\n",
       "      <th></th>\n",
       "      <th>reviewer_id</th>\n",
       "      <th>store_name</th>\n",
       "      <th>category</th>\n",
       "      <th>store_address</th>\n",
       "      <th>latitude</th>\n",
       "      <th>longitude</th>\n",
       "      <th>rating_count</th>\n",
       "      <th>review_time</th>\n",
       "      <th>review</th>\n",
       "      <th>rating</th>\n",
       "    </tr>\n",
       "  </thead>\n",
       "  <tbody>\n",
       "    <tr>\n",
       "      <th>0</th>\n",
       "      <td>1</td>\n",
       "      <td>McDonald's</td>\n",
       "      <td>Fast food restaurant</td>\n",
       "      <td>13749 US-183 Hwy, Austin, TX 78750, United States</td>\n",
       "      <td>30.460718</td>\n",
       "      <td>-97.792874</td>\n",
       "      <td>1,240</td>\n",
       "      <td>3 months ago</td>\n",
       "      <td>Why does it look like someone spit on my food?...</td>\n",
       "      <td>1 star</td>\n",
       "    </tr>\n",
       "    <tr>\n",
       "      <th>1</th>\n",
       "      <td>2</td>\n",
       "      <td>McDonald's</td>\n",
       "      <td>Fast food restaurant</td>\n",
       "      <td>13749 US-183 Hwy, Austin, TX 78750, United States</td>\n",
       "      <td>30.460718</td>\n",
       "      <td>-97.792874</td>\n",
       "      <td>1,240</td>\n",
       "      <td>5 days ago</td>\n",
       "      <td>It'd McDonalds. It is what it is as far as the...</td>\n",
       "      <td>4 stars</td>\n",
       "    </tr>\n",
       "    <tr>\n",
       "      <th>2</th>\n",
       "      <td>3</td>\n",
       "      <td>McDonald's</td>\n",
       "      <td>Fast food restaurant</td>\n",
       "      <td>13749 US-183 Hwy, Austin, TX 78750, United States</td>\n",
       "      <td>30.460718</td>\n",
       "      <td>-97.792874</td>\n",
       "      <td>1,240</td>\n",
       "      <td>5 days ago</td>\n",
       "      <td>Made a mobile order got to the speaker and che...</td>\n",
       "      <td>1 star</td>\n",
       "    </tr>\n",
       "    <tr>\n",
       "      <th>3</th>\n",
       "      <td>4</td>\n",
       "      <td>McDonald's</td>\n",
       "      <td>Fast food restaurant</td>\n",
       "      <td>13749 US-183 Hwy, Austin, TX 78750, United States</td>\n",
       "      <td>30.460718</td>\n",
       "      <td>-97.792874</td>\n",
       "      <td>1,240</td>\n",
       "      <td>a month ago</td>\n",
       "      <td>My mc. Crispy chicken sandwich was ï¿½ï¿½ï¿½ï¿...</td>\n",
       "      <td>5 stars</td>\n",
       "    </tr>\n",
       "    <tr>\n",
       "      <th>4</th>\n",
       "      <td>5</td>\n",
       "      <td>McDonald's</td>\n",
       "      <td>Fast food restaurant</td>\n",
       "      <td>13749 US-183 Hwy, Austin, TX 78750, United States</td>\n",
       "      <td>30.460718</td>\n",
       "      <td>-97.792874</td>\n",
       "      <td>1,240</td>\n",
       "      <td>2 months ago</td>\n",
       "      <td>I repeat my order 3 times in the drive thru, a...</td>\n",
       "      <td>1 star</td>\n",
       "    </tr>\n",
       "  </tbody>\n",
       "</table>\n",
       "</div>"
      ],
      "text/plain": [
       "   reviewer_id  store_name              category  \\\n",
       "0            1  McDonald's  Fast food restaurant   \n",
       "1            2  McDonald's  Fast food restaurant   \n",
       "2            3  McDonald's  Fast food restaurant   \n",
       "3            4  McDonald's  Fast food restaurant   \n",
       "4            5  McDonald's  Fast food restaurant   \n",
       "\n",
       "                                       store_address  latitude   longitude  \\\n",
       "0  13749 US-183 Hwy, Austin, TX 78750, United States  30.460718 -97.792874   \n",
       "1  13749 US-183 Hwy, Austin, TX 78750, United States  30.460718 -97.792874   \n",
       "2  13749 US-183 Hwy, Austin, TX 78750, United States  30.460718 -97.792874   \n",
       "3  13749 US-183 Hwy, Austin, TX 78750, United States  30.460718 -97.792874   \n",
       "4  13749 US-183 Hwy, Austin, TX 78750, United States  30.460718 -97.792874   \n",
       "\n",
       "  rating_count   review_time  \\\n",
       "0        1,240  3 months ago   \n",
       "1        1,240    5 days ago   \n",
       "2        1,240    5 days ago   \n",
       "3        1,240   a month ago   \n",
       "4        1,240  2 months ago   \n",
       "\n",
       "                                              review   rating  \n",
       "0  Why does it look like someone spit on my food?...   1 star  \n",
       "1  It'd McDonalds. It is what it is as far as the...  4 stars  \n",
       "2  Made a mobile order got to the speaker and che...   1 star  \n",
       "3  My mc. Crispy chicken sandwich was ï¿½ï¿½ï¿½ï¿...  5 stars  \n",
       "4  I repeat my order 3 times in the drive thru, a...   1 star  "
      ]
     },
     "execution_count": 2,
     "metadata": {},
     "output_type": "execute_result"
    }
   ],
   "source": [
    "df = pd.read_csv(\"/kaggle/input/mcdonalds-store-reviews/McDonald_s_Reviews.csv\", encoding='latin-1')\n",
    "\n",
    "df.head()"
   ]
  },
  {
   "cell_type": "code",
   "execution_count": 3,
   "id": "d712d42f",
   "metadata": {
    "execution": {
     "iopub.execute_input": "2023-07-16T21:27:49.345393Z",
     "iopub.status.busy": "2023-07-16T21:27:49.344829Z",
     "iopub.status.idle": "2023-07-16T21:27:49.356870Z",
     "shell.execute_reply": "2023-07-16T21:27:49.355830Z"
    },
    "papermill": {
     "duration": 0.024023,
     "end_time": "2023-07-16T21:27:49.359188",
     "exception": false,
     "start_time": "2023-07-16T21:27:49.335165",
     "status": "completed"
    },
    "tags": []
   },
   "outputs": [],
   "source": [
    "df.drop(labels=['reviewer_id', 'store_name', 'category'], inplace=True, axis=1)"
   ]
  },
  {
   "cell_type": "code",
   "execution_count": 4,
   "id": "10ba8578",
   "metadata": {
    "execution": {
     "iopub.execute_input": "2023-07-16T21:27:49.378128Z",
     "iopub.status.busy": "2023-07-16T21:27:49.377822Z",
     "iopub.status.idle": "2023-07-16T21:27:49.391603Z",
     "shell.execute_reply": "2023-07-16T21:27:49.390589Z"
    },
    "papermill": {
     "duration": 0.025446,
     "end_time": "2023-07-16T21:27:49.393927",
     "exception": false,
     "start_time": "2023-07-16T21:27:49.368481",
     "status": "completed"
    },
    "tags": []
   },
   "outputs": [
    {
     "data": {
      "text/html": [
       "<div>\n",
       "<style scoped>\n",
       "    .dataframe tbody tr th:only-of-type {\n",
       "        vertical-align: middle;\n",
       "    }\n",
       "\n",
       "    .dataframe tbody tr th {\n",
       "        vertical-align: top;\n",
       "    }\n",
       "\n",
       "    .dataframe thead th {\n",
       "        text-align: right;\n",
       "    }\n",
       "</style>\n",
       "<table border=\"1\" class=\"dataframe\">\n",
       "  <thead>\n",
       "    <tr style=\"text-align: right;\">\n",
       "      <th></th>\n",
       "      <th>store_address</th>\n",
       "      <th>latitude</th>\n",
       "      <th>longitude</th>\n",
       "      <th>rating_count</th>\n",
       "      <th>review_time</th>\n",
       "      <th>review</th>\n",
       "      <th>rating</th>\n",
       "    </tr>\n",
       "  </thead>\n",
       "  <tbody>\n",
       "    <tr>\n",
       "      <th>0</th>\n",
       "      <td>13749 US-183 Hwy, Austin, TX 78750, United States</td>\n",
       "      <td>30.460718</td>\n",
       "      <td>-97.792874</td>\n",
       "      <td>1,240</td>\n",
       "      <td>3 months ago</td>\n",
       "      <td>Why does it look like someone spit on my food?...</td>\n",
       "      <td>1 star</td>\n",
       "    </tr>\n",
       "    <tr>\n",
       "      <th>1</th>\n",
       "      <td>13749 US-183 Hwy, Austin, TX 78750, United States</td>\n",
       "      <td>30.460718</td>\n",
       "      <td>-97.792874</td>\n",
       "      <td>1,240</td>\n",
       "      <td>5 days ago</td>\n",
       "      <td>It'd McDonalds. It is what it is as far as the...</td>\n",
       "      <td>4 stars</td>\n",
       "    </tr>\n",
       "    <tr>\n",
       "      <th>2</th>\n",
       "      <td>13749 US-183 Hwy, Austin, TX 78750, United States</td>\n",
       "      <td>30.460718</td>\n",
       "      <td>-97.792874</td>\n",
       "      <td>1,240</td>\n",
       "      <td>5 days ago</td>\n",
       "      <td>Made a mobile order got to the speaker and che...</td>\n",
       "      <td>1 star</td>\n",
       "    </tr>\n",
       "    <tr>\n",
       "      <th>3</th>\n",
       "      <td>13749 US-183 Hwy, Austin, TX 78750, United States</td>\n",
       "      <td>30.460718</td>\n",
       "      <td>-97.792874</td>\n",
       "      <td>1,240</td>\n",
       "      <td>a month ago</td>\n",
       "      <td>My mc. Crispy chicken sandwich was ï¿½ï¿½ï¿½ï¿...</td>\n",
       "      <td>5 stars</td>\n",
       "    </tr>\n",
       "    <tr>\n",
       "      <th>4</th>\n",
       "      <td>13749 US-183 Hwy, Austin, TX 78750, United States</td>\n",
       "      <td>30.460718</td>\n",
       "      <td>-97.792874</td>\n",
       "      <td>1,240</td>\n",
       "      <td>2 months ago</td>\n",
       "      <td>I repeat my order 3 times in the drive thru, a...</td>\n",
       "      <td>1 star</td>\n",
       "    </tr>\n",
       "  </tbody>\n",
       "</table>\n",
       "</div>"
      ],
      "text/plain": [
       "                                       store_address  latitude   longitude  \\\n",
       "0  13749 US-183 Hwy, Austin, TX 78750, United States  30.460718 -97.792874   \n",
       "1  13749 US-183 Hwy, Austin, TX 78750, United States  30.460718 -97.792874   \n",
       "2  13749 US-183 Hwy, Austin, TX 78750, United States  30.460718 -97.792874   \n",
       "3  13749 US-183 Hwy, Austin, TX 78750, United States  30.460718 -97.792874   \n",
       "4  13749 US-183 Hwy, Austin, TX 78750, United States  30.460718 -97.792874   \n",
       "\n",
       "  rating_count   review_time  \\\n",
       "0        1,240  3 months ago   \n",
       "1        1,240    5 days ago   \n",
       "2        1,240    5 days ago   \n",
       "3        1,240   a month ago   \n",
       "4        1,240  2 months ago   \n",
       "\n",
       "                                              review   rating  \n",
       "0  Why does it look like someone spit on my food?...   1 star  \n",
       "1  It'd McDonalds. It is what it is as far as the...  4 stars  \n",
       "2  Made a mobile order got to the speaker and che...   1 star  \n",
       "3  My mc. Crispy chicken sandwich was ï¿½ï¿½ï¿½ï¿...  5 stars  \n",
       "4  I repeat my order 3 times in the drive thru, a...   1 star  "
      ]
     },
     "execution_count": 4,
     "metadata": {},
     "output_type": "execute_result"
    }
   ],
   "source": [
    "df.head()"
   ]
  },
  {
   "cell_type": "code",
   "execution_count": 5,
   "id": "e682a95a",
   "metadata": {
    "execution": {
     "iopub.execute_input": "2023-07-16T21:27:49.414512Z",
     "iopub.status.busy": "2023-07-16T21:27:49.413958Z",
     "iopub.status.idle": "2023-07-16T21:27:55.330908Z",
     "shell.execute_reply": "2023-07-16T21:27:55.329917Z"
    },
    "papermill": {
     "duration": 5.929426,
     "end_time": "2023-07-16T21:27:55.333172",
     "exception": false,
     "start_time": "2023-07-16T21:27:49.403746",
     "status": "completed"
    },
    "tags": []
   },
   "outputs": [
    {
     "data": {
      "text/plain": [
       "['$',\n",
       " '<',\n",
       " '\\n',\n",
       " '+',\n",
       " '*',\n",
       " '.',\n",
       " ';',\n",
       " '\"',\n",
       " '\\\\',\n",
       " '[',\n",
       " '{',\n",
       " '~',\n",
       " '/',\n",
       " '>',\n",
       " '^',\n",
       " '&',\n",
       " '=',\n",
       " '#',\n",
       " ':',\n",
       " '-',\n",
       " '!',\n",
       " '¿',\n",
       " '@',\n",
       " ',',\n",
       " ' ',\n",
       " '%',\n",
       " ']',\n",
       " '}',\n",
       " ')',\n",
       " '_',\n",
       " '?',\n",
       " '(',\n",
       " \"'\"]"
      ]
     },
     "execution_count": 5,
     "metadata": {},
     "output_type": "execute_result"
    }
   ],
   "source": [
    "s = \"\"\n",
    "\n",
    "for review in df['review']:\n",
    "    s += str(review)\n",
    "\n",
    "remove_char = []\n",
    "    \n",
    "for char in set(s):\n",
    "    if char not in ''.join(filter(str.isalnum, set(s))):\n",
    "        remove_char.append(char)\n",
    "\n",
    "remove_char"
   ]
  },
  {
   "cell_type": "code",
   "execution_count": 6,
   "id": "6e6886ac",
   "metadata": {
    "execution": {
     "iopub.execute_input": "2023-07-16T21:27:55.353955Z",
     "iopub.status.busy": "2023-07-16T21:27:55.353607Z",
     "iopub.status.idle": "2023-07-16T21:27:55.673595Z",
     "shell.execute_reply": "2023-07-16T21:27:55.672535Z"
    },
    "papermill": {
     "duration": 0.333371,
     "end_time": "2023-07-16T21:27:55.676259",
     "exception": false,
     "start_time": "2023-07-16T21:27:55.342888",
     "status": "completed"
    },
    "tags": []
   },
   "outputs": [],
   "source": [
    "filtered_text = []\n",
    "\n",
    "for review in df['review']:\n",
    "    for char in remove_char:\n",
    "        if char in str(review) and char != \" \":\n",
    "            review = review.replace(char, \"\")\n",
    "    \n",
    "    filtered_text.append(str(review).lower())"
   ]
  },
  {
   "cell_type": "code",
   "execution_count": 7,
   "id": "fd3eb88c",
   "metadata": {
    "execution": {
     "iopub.execute_input": "2023-07-16T21:27:55.698197Z",
     "iopub.status.busy": "2023-07-16T21:27:55.697856Z",
     "iopub.status.idle": "2023-07-16T21:27:55.708118Z",
     "shell.execute_reply": "2023-07-16T21:27:55.706881Z"
    },
    "papermill": {
     "duration": 0.024225,
     "end_time": "2023-07-16T21:27:55.710778",
     "exception": false,
     "start_time": "2023-07-16T21:27:55.686553",
     "status": "completed"
    },
    "tags": []
   },
   "outputs": [],
   "source": [
    "df['review'] = filtered_text"
   ]
  },
  {
   "cell_type": "code",
   "execution_count": 8,
   "id": "19535dc0",
   "metadata": {
    "execution": {
     "iopub.execute_input": "2023-07-16T21:27:55.732704Z",
     "iopub.status.busy": "2023-07-16T21:27:55.731144Z",
     "iopub.status.idle": "2023-07-16T21:27:55.737768Z",
     "shell.execute_reply": "2023-07-16T21:27:55.737006Z"
    },
    "papermill": {
     "duration": 0.019407,
     "end_time": "2023-07-16T21:27:55.739867",
     "exception": false,
     "start_time": "2023-07-16T21:27:55.720460",
     "status": "completed"
    },
    "tags": []
   },
   "outputs": [],
   "source": [
    "def get_simple_pos(tag):\n",
    "    \n",
    "    tag = str(tag)\n",
    "    \n",
    "    if tag.startswith('J'):\n",
    "        return wordnet.ADJ\n",
    "    elif tag.startswith('V'):\n",
    "        return wordnet.VERB\n",
    "    elif tag.startswith('N'):\n",
    "        return wordnet.NOUN\n",
    "    elif tag.startswith('R'):\n",
    "        return wordnet.ADV\n",
    "    else:\n",
    "        return wordnet.NOUN"
   ]
  },
  {
   "cell_type": "code",
   "execution_count": 9,
   "id": "8162ea86",
   "metadata": {
    "execution": {
     "iopub.execute_input": "2023-07-16T21:27:55.761695Z",
     "iopub.status.busy": "2023-07-16T21:27:55.760764Z",
     "iopub.status.idle": "2023-07-16T21:27:57.096979Z",
     "shell.execute_reply": "2023-07-16T21:27:57.095877Z"
    },
    "papermill": {
     "duration": 1.349316,
     "end_time": "2023-07-16T21:27:57.099300",
     "exception": false,
     "start_time": "2023-07-16T21:27:55.749984",
     "status": "completed"
    },
    "tags": []
   },
   "outputs": [
    {
     "name": "stdout",
     "output_type": "stream",
     "text": [
      "Archive:  /usr/share/nltk_data/corpora/wordnet.zip\r\n",
      "   creating: /usr/share/nltk_data/corpora/wordnet/\r\n",
      "  inflating: /usr/share/nltk_data/corpora/wordnet/lexnames  \r\n",
      "  inflating: /usr/share/nltk_data/corpora/wordnet/data.verb  \r\n",
      "  inflating: /usr/share/nltk_data/corpora/wordnet/index.adv  \r\n",
      "  inflating: /usr/share/nltk_data/corpora/wordnet/adv.exc  \r\n",
      "  inflating: /usr/share/nltk_data/corpora/wordnet/index.verb  \r\n",
      "  inflating: /usr/share/nltk_data/corpora/wordnet/cntlist.rev  \r\n",
      "  inflating: /usr/share/nltk_data/corpora/wordnet/data.adj  \r\n",
      "  inflating: /usr/share/nltk_data/corpora/wordnet/index.adj  \r\n",
      "  inflating: /usr/share/nltk_data/corpora/wordnet/LICENSE  \r\n",
      "  inflating: /usr/share/nltk_data/corpora/wordnet/citation.bib  \r\n",
      "  inflating: /usr/share/nltk_data/corpora/wordnet/noun.exc  \r\n",
      "  inflating: /usr/share/nltk_data/corpora/wordnet/verb.exc  \r\n",
      "  inflating: /usr/share/nltk_data/corpora/wordnet/README  \r\n",
      "  inflating: /usr/share/nltk_data/corpora/wordnet/index.sense  \r\n",
      "  inflating: /usr/share/nltk_data/corpora/wordnet/data.noun  \r\n",
      "  inflating: /usr/share/nltk_data/corpora/wordnet/data.adv  \r\n",
      "  inflating: /usr/share/nltk_data/corpora/wordnet/index.noun  \r\n",
      "  inflating: /usr/share/nltk_data/corpora/wordnet/adj.exc  \r\n"
     ]
    }
   ],
   "source": [
    "!unzip /usr/share/nltk_data/corpora/wordnet.zip -d /usr/share/nltk_data/corpora/"
   ]
  },
  {
   "cell_type": "code",
   "execution_count": 10,
   "id": "db5acaa3",
   "metadata": {
    "execution": {
     "iopub.execute_input": "2023-07-16T21:27:57.120746Z",
     "iopub.status.busy": "2023-07-16T21:27:57.120405Z",
     "iopub.status.idle": "2023-07-16T21:29:54.656445Z",
     "shell.execute_reply": "2023-07-16T21:29:54.655402Z"
    },
    "papermill": {
     "duration": 117.5496,
     "end_time": "2023-07-16T21:29:54.659025",
     "exception": false,
     "start_time": "2023-07-16T21:27:57.109425",
     "status": "completed"
    },
    "tags": []
   },
   "outputs": [],
   "source": [
    "lemmatized_text = []\n",
    "\n",
    "for sentence in df['review']:\n",
    "\n",
    "    temp = []\n",
    "\n",
    "    for word in sentence.split(\" \"):\n",
    "        if word.lower() not in STOPWORDS:\n",
    "            try:\n",
    "                temp.append(Lemmatizer.lemmatize(word.lower(), pos =get_simple_pos(pos_tag(word_tokenize(word.lower()), tagset='universal')[0][1])))\n",
    "            except:\n",
    "                pass\n",
    "\n",
    "    lemmatized_text.append(temp)"
   ]
  },
  {
   "cell_type": "code",
   "execution_count": 11,
   "id": "15ca2d68",
   "metadata": {
    "execution": {
     "iopub.execute_input": "2023-07-16T21:29:54.680134Z",
     "iopub.status.busy": "2023-07-16T21:29:54.679789Z",
     "iopub.status.idle": "2023-07-16T21:29:54.690187Z",
     "shell.execute_reply": "2023-07-16T21:29:54.689097Z"
    },
    "papermill": {
     "duration": 0.023046,
     "end_time": "2023-07-16T21:29:54.692448",
     "exception": false,
     "start_time": "2023-07-16T21:29:54.669402",
     "status": "completed"
    },
    "tags": []
   },
   "outputs": [
    {
     "data": {
      "text/plain": [
       "0    why does it look like someone spit on my foodi...\n",
       "1    itd mcdonalds it is what it is as far as the f...\n",
       "2    made a mobile order got to the speaker and che...\n",
       "3    my mc crispy chicken sandwich was ï½ï½ï½ï½ï½ï½...\n",
       "4    i repeat my order 3 times in the drive thru an...\n",
       "Name: review, dtype: object"
      ]
     },
     "execution_count": 11,
     "metadata": {},
     "output_type": "execute_result"
    }
   ],
   "source": [
    "df['review'].head()"
   ]
  },
  {
   "cell_type": "code",
   "execution_count": 12,
   "id": "ae638bab",
   "metadata": {
    "execution": {
     "iopub.execute_input": "2023-07-16T21:29:54.728068Z",
     "iopub.status.busy": "2023-07-16T21:29:54.727388Z",
     "iopub.status.idle": "2023-07-16T21:29:54.755760Z",
     "shell.execute_reply": "2023-07-16T21:29:54.754134Z"
    },
    "papermill": {
     "duration": 0.051953,
     "end_time": "2023-07-16T21:29:54.760589",
     "exception": false,
     "start_time": "2023-07-16T21:29:54.708636",
     "status": "completed"
    },
    "tags": []
   },
   "outputs": [],
   "source": [
    "df['review'] = lemmatized_text"
   ]
  },
  {
   "cell_type": "code",
   "execution_count": 13,
   "id": "94b0031d",
   "metadata": {
    "execution": {
     "iopub.execute_input": "2023-07-16T21:29:54.803029Z",
     "iopub.status.busy": "2023-07-16T21:29:54.802710Z",
     "iopub.status.idle": "2023-07-16T21:29:54.813063Z",
     "shell.execute_reply": "2023-07-16T21:29:54.812028Z"
    },
    "papermill": {
     "duration": 0.033629,
     "end_time": "2023-07-16T21:29:54.815246",
     "exception": false,
     "start_time": "2023-07-16T21:29:54.781617",
     "status": "completed"
    },
    "tags": []
   },
   "outputs": [
    {
     "data": {
      "text/plain": [
       "0    [look, someone, spit, foodi, normal, transacti...\n",
       "1    [itd, mcdonalds, far, food, atmosphere, go, st...\n",
       "2    [make, mobile, order, get, speaker, checked, i...\n",
       "3    [mc, crispy, chicken, sandwich, ï½ï½ï½ï½ï½ï½ï½...\n",
       "4    [repeat, order, 3, time, drive, thru, still, m...\n",
       "Name: review, dtype: object"
      ]
     },
     "execution_count": 13,
     "metadata": {},
     "output_type": "execute_result"
    }
   ],
   "source": [
    "df['review'].head()"
   ]
  },
  {
   "cell_type": "code",
   "execution_count": 14,
   "id": "d9f3be5b",
   "metadata": {
    "execution": {
     "iopub.execute_input": "2023-07-16T21:29:54.836171Z",
     "iopub.status.busy": "2023-07-16T21:29:54.835871Z",
     "iopub.status.idle": "2023-07-16T21:29:54.840549Z",
     "shell.execute_reply": "2023-07-16T21:29:54.839572Z"
    },
    "papermill": {
     "duration": 0.017653,
     "end_time": "2023-07-16T21:29:54.842788",
     "exception": false,
     "start_time": "2023-07-16T21:29:54.825135",
     "status": "completed"
    },
    "tags": []
   },
   "outputs": [],
   "source": [
    "def join_text(text):\n",
    "    string = ''\n",
    "    for i in text:\n",
    "        string += i.strip() +' '\n",
    "    return string  "
   ]
  },
  {
   "cell_type": "code",
   "execution_count": 15,
   "id": "ac709249",
   "metadata": {
    "execution": {
     "iopub.execute_input": "2023-07-16T21:29:54.863068Z",
     "iopub.status.busy": "2023-07-16T21:29:54.862773Z",
     "iopub.status.idle": "2023-07-16T21:29:54.979206Z",
     "shell.execute_reply": "2023-07-16T21:29:54.978318Z"
    },
    "papermill": {
     "duration": 0.129097,
     "end_time": "2023-07-16T21:29:54.981314",
     "exception": false,
     "start_time": "2023-07-16T21:29:54.852217",
     "status": "completed"
    },
    "tags": []
   },
   "outputs": [],
   "source": [
    "df.review = df.review.apply(join_text)"
   ]
  },
  {
   "cell_type": "code",
   "execution_count": 16,
   "id": "20087591",
   "metadata": {
    "execution": {
     "iopub.execute_input": "2023-07-16T21:29:55.004397Z",
     "iopub.status.busy": "2023-07-16T21:29:55.004116Z",
     "iopub.status.idle": "2023-07-16T21:29:55.011201Z",
     "shell.execute_reply": "2023-07-16T21:29:55.010321Z"
    },
    "papermill": {
     "duration": 0.021806,
     "end_time": "2023-07-16T21:29:55.013389",
     "exception": false,
     "start_time": "2023-07-16T21:29:54.991583",
     "status": "completed"
    },
    "tags": []
   },
   "outputs": [
    {
     "data": {
      "text/plain": [
       "0    look someone spit foodi normal transaction eve...\n",
       "1    itd mcdonalds far food atmosphere go staff mak...\n",
       "2    make mobile order get speaker checked inline m...\n",
       "3    mc crispy chicken sandwich ï½ï½ï½ï½ï½ï½ï½ï½ï½ï...\n",
       "4    repeat order 3 time drive thru still manage me...\n",
       "Name: review, dtype: object"
      ]
     },
     "execution_count": 16,
     "metadata": {},
     "output_type": "execute_result"
    }
   ],
   "source": [
    "df['review'].head()"
   ]
  },
  {
   "cell_type": "code",
   "execution_count": 17,
   "id": "9fc067f0",
   "metadata": {
    "execution": {
     "iopub.execute_input": "2023-07-16T21:29:55.034955Z",
     "iopub.status.busy": "2023-07-16T21:29:55.034433Z",
     "iopub.status.idle": "2023-07-16T21:29:55.039376Z",
     "shell.execute_reply": "2023-07-16T21:29:55.038535Z"
    },
    "papermill": {
     "duration": 0.018051,
     "end_time": "2023-07-16T21:29:55.041605",
     "exception": false,
     "start_time": "2023-07-16T21:29:55.023554",
     "status": "completed"
    },
    "tags": []
   },
   "outputs": [],
   "source": [
    "def labels(label):\n",
    "    for char in label:\n",
    "        try:\n",
    "            return int(char)\n",
    "        except:\n",
    "            pass"
   ]
  },
  {
   "cell_type": "code",
   "execution_count": 18,
   "id": "8c51a4f8",
   "metadata": {
    "execution": {
     "iopub.execute_input": "2023-07-16T21:29:55.062650Z",
     "iopub.status.busy": "2023-07-16T21:29:55.061949Z",
     "iopub.status.idle": "2023-07-16T21:29:55.097024Z",
     "shell.execute_reply": "2023-07-16T21:29:55.095898Z"
    },
    "papermill": {
     "duration": 0.047692,
     "end_time": "2023-07-16T21:29:55.099025",
     "exception": false,
     "start_time": "2023-07-16T21:29:55.051333",
     "status": "completed"
    },
    "tags": []
   },
   "outputs": [],
   "source": [
    "train_text = df['review'][:int(df.shape[0]*.7)]\n",
    "test_text = df['review'][int(df.shape[0]*.7):]\n",
    "\n",
    "train_rating = df['rating'][:int(df.shape[0]*.7)].apply(labels)\n",
    "test_rating = df['rating'][int(df.shape[0]*.7):].apply(labels)"
   ]
  },
  {
   "cell_type": "code",
   "execution_count": 19,
   "id": "1bcc4b77",
   "metadata": {
    "execution": {
     "iopub.execute_input": "2023-07-16T21:29:55.120381Z",
     "iopub.status.busy": "2023-07-16T21:29:55.119625Z",
     "iopub.status.idle": "2023-07-16T21:29:55.232519Z",
     "shell.execute_reply": "2023-07-16T21:29:55.231430Z"
    },
    "papermill": {
     "duration": 0.12595,
     "end_time": "2023-07-16T21:29:55.234933",
     "exception": false,
     "start_time": "2023-07-16T21:29:55.108983",
     "status": "completed"
    },
    "tags": []
   },
   "outputs": [
    {
     "data": {
      "text/plain": [
       "(263, 1, 12.542520062282907)"
      ]
     },
     "execution_count": 19,
     "metadata": {},
     "output_type": "execute_result"
    }
   ],
   "source": [
    "max([len(s.split(\" \")) for s in df['review']]), min([len(s.split(\" \")) for s in df['review']]), sum([len(s.split(\" \")) for s in df['review']])/df.shape[0]"
   ]
  },
  {
   "cell_type": "code",
   "execution_count": 20,
   "id": "0d12b969",
   "metadata": {
    "execution": {
     "iopub.execute_input": "2023-07-16T21:29:55.259698Z",
     "iopub.status.busy": "2023-07-16T21:29:55.259426Z",
     "iopub.status.idle": "2023-07-16T21:29:55.368154Z",
     "shell.execute_reply": "2023-07-16T21:29:55.367278Z"
    },
    "papermill": {
     "duration": 0.121524,
     "end_time": "2023-07-16T21:29:55.370324",
     "exception": false,
     "start_time": "2023-07-16T21:29:55.248800",
     "status": "completed"
    },
    "tags": []
   },
   "outputs": [],
   "source": [
    "HT = {}\n",
    "\n",
    "i = 1\n",
    "for entry in df['review']:\n",
    "    for word in entry.split(\" \"):\n",
    "        \n",
    "        if word not in HT:\n",
    "            HT[word] = i\n",
    "            i += 1\n",
    "    \n",
    "# print(HT)"
   ]
  },
  {
   "cell_type": "markdown",
   "id": "c64a0a10",
   "metadata": {
    "papermill": {
     "duration": 0.009607,
     "end_time": "2023-07-16T21:29:55.389739",
     "exception": false,
     "start_time": "2023-07-16T21:29:55.380132",
     "status": "completed"
    },
    "tags": []
   },
   "source": [
    "Distinct Vocabulary"
   ]
  },
  {
   "cell_type": "code",
   "execution_count": 21,
   "id": "95ba015e",
   "metadata": {
    "execution": {
     "iopub.execute_input": "2023-07-16T21:29:55.411226Z",
     "iopub.status.busy": "2023-07-16T21:29:55.410443Z",
     "iopub.status.idle": "2023-07-16T21:29:55.416319Z",
     "shell.execute_reply": "2023-07-16T21:29:55.415338Z"
    },
    "papermill": {
     "duration": 0.0186,
     "end_time": "2023-07-16T21:29:55.418387",
     "exception": false,
     "start_time": "2023-07-16T21:29:55.399787",
     "status": "completed"
    },
    "tags": []
   },
   "outputs": [
    {
     "data": {
      "text/plain": [
       "16162"
      ]
     },
     "execution_count": 21,
     "metadata": {},
     "output_type": "execute_result"
    }
   ],
   "source": [
    "len(HT)"
   ]
  },
  {
   "cell_type": "code",
   "execution_count": 22,
   "id": "8afca497",
   "metadata": {
    "execution": {
     "iopub.execute_input": "2023-07-16T21:29:55.440600Z",
     "iopub.status.busy": "2023-07-16T21:29:55.439660Z",
     "iopub.status.idle": "2023-07-16T21:29:55.561173Z",
     "shell.execute_reply": "2023-07-16T21:29:55.559942Z"
    },
    "papermill": {
     "duration": 0.135044,
     "end_time": "2023-07-16T21:29:55.563477",
     "exception": false,
     "start_time": "2023-07-16T21:29:55.428433",
     "status": "completed"
    },
    "tags": []
   },
   "outputs": [
    {
     "name": "stdout",
     "output_type": "stream",
     "text": [
      "----Done----\n"
     ]
    }
   ],
   "source": [
    "encoded_train_texts = []\n",
    "\n",
    "for sentence in train_text:\n",
    "        \n",
    "        arr = sentence.split(\" \")\n",
    "\n",
    "        temp = []\n",
    "\n",
    "        for entry in arr[0:len(arr) - 1]:\n",
    "\n",
    "            temp.append(HT[entry])\n",
    "\n",
    "        encoded_train_texts.append(temp)\n",
    "        \n",
    "print(\"----Done----\")"
   ]
  },
  {
   "cell_type": "code",
   "execution_count": 23,
   "id": "f34dd6b4",
   "metadata": {
    "execution": {
     "iopub.execute_input": "2023-07-16T21:29:55.585407Z",
     "iopub.status.busy": "2023-07-16T21:29:55.585124Z",
     "iopub.status.idle": "2023-07-16T21:29:55.650791Z",
     "shell.execute_reply": "2023-07-16T21:29:55.649618Z"
    },
    "papermill": {
     "duration": 0.079193,
     "end_time": "2023-07-16T21:29:55.653141",
     "exception": false,
     "start_time": "2023-07-16T21:29:55.573948",
     "status": "completed"
    },
    "tags": []
   },
   "outputs": [
    {
     "name": "stdout",
     "output_type": "stream",
     "text": [
      "----Done----\n"
     ]
    }
   ],
   "source": [
    "encoded_test_texts = []\n",
    "\n",
    "for sentence in test_text:\n",
    "        \n",
    "        arr = sentence.split(\" \")\n",
    "\n",
    "        temp = []\n",
    "\n",
    "        for entry in arr[0:len(arr) - 1]:\n",
    "\n",
    "            temp.append(HT[entry])\n",
    "\n",
    "        encoded_test_texts.append(temp)\n",
    "        \n",
    "print(\"----Done----\")"
   ]
  },
  {
   "cell_type": "code",
   "execution_count": 24,
   "id": "b3fde9b9",
   "metadata": {
    "execution": {
     "iopub.execute_input": "2023-07-16T21:29:55.675308Z",
     "iopub.status.busy": "2023-07-16T21:29:55.675009Z",
     "iopub.status.idle": "2023-07-16T21:30:11.182928Z",
     "shell.execute_reply": "2023-07-16T21:30:11.180390Z"
    },
    "papermill": {
     "duration": 15.521521,
     "end_time": "2023-07-16T21:30:11.185410",
     "exception": false,
     "start_time": "2023-07-16T21:29:55.663889",
     "status": "completed"
    },
    "tags": []
   },
   "outputs": [
    {
     "name": "stderr",
     "output_type": "stream",
     "text": [
      "/opt/conda/lib/python3.10/site-packages/tensorflow_io/python/ops/__init__.py:98: UserWarning: unable to load libtensorflow_io_plugins.so: unable to open file: libtensorflow_io_plugins.so, from paths: ['/opt/conda/lib/python3.10/site-packages/tensorflow_io/python/ops/libtensorflow_io_plugins.so']\n",
      "caused by: ['/opt/conda/lib/python3.10/site-packages/tensorflow_io/python/ops/libtensorflow_io_plugins.so: undefined symbol: _ZN3tsl6StatusC1EN10tensorflow5error4CodeESt17basic_string_viewIcSt11char_traitsIcEENS_14SourceLocationE']\n",
      "  warnings.warn(f\"unable to load libtensorflow_io_plugins.so: {e}\")\n",
      "/opt/conda/lib/python3.10/site-packages/tensorflow_io/python/ops/__init__.py:104: UserWarning: file system plugins are not loaded: unable to open file: libtensorflow_io.so, from paths: ['/opt/conda/lib/python3.10/site-packages/tensorflow_io/python/ops/libtensorflow_io.so']\n",
      "caused by: ['/opt/conda/lib/python3.10/site-packages/tensorflow_io/python/ops/libtensorflow_io.so: undefined symbol: _ZTVN10tensorflow13GcsFileSystemE']\n",
      "  warnings.warn(f\"file system plugins are not loaded: {e}\")\n",
      "/tmp/ipykernel_24/214630894.py:5: VisibleDeprecationWarning: Creating an ndarray from ragged nested sequences (which is a list-or-tuple of lists-or-tuples-or ndarrays with different lengths or shapes) is deprecated. If you meant to do this, you must specify 'dtype=object' when creating the ndarray.\n",
      "  X_train = pad_sequences(np.array(encoded_train_texts), maxlen=max_words)\n",
      "/tmp/ipykernel_24/214630894.py:6: VisibleDeprecationWarning: Creating an ndarray from ragged nested sequences (which is a list-or-tuple of lists-or-tuples-or ndarrays with different lengths or shapes) is deprecated. If you meant to do this, you must specify 'dtype=object' when creating the ndarray.\n",
      "  X_test = pad_sequences(np.array(encoded_test_texts), maxlen=max_words)\n"
     ]
    }
   ],
   "source": [
    "from keras.utils import pad_sequences\n",
    "\n",
    "max_words = 20\n",
    "\n",
    "X_train = pad_sequences(np.array(encoded_train_texts), maxlen=max_words)\n",
    "X_test = pad_sequences(np.array(encoded_test_texts), maxlen=max_words)\n",
    "\n",
    "y_train = train_rating\n",
    "y_test = test_rating"
   ]
  },
  {
   "cell_type": "code",
   "execution_count": 25,
   "id": "8bc4f50d",
   "metadata": {
    "execution": {
     "iopub.execute_input": "2023-07-16T21:30:11.209772Z",
     "iopub.status.busy": "2023-07-16T21:30:11.207704Z",
     "iopub.status.idle": "2023-07-16T21:30:11.242451Z",
     "shell.execute_reply": "2023-07-16T21:30:11.241546Z"
    },
    "papermill": {
     "duration": 0.048418,
     "end_time": "2023-07-16T21:30:11.244537",
     "exception": false,
     "start_time": "2023-07-16T21:30:11.196119",
     "status": "completed"
    },
    "tags": []
   },
   "outputs": [],
   "source": [
    "# One-hot encode the y vectors\n",
    "\n",
    "one_hot_y_train = []\n",
    "one_hot_y_test = []\n",
    "\n",
    "for entry in y_train:\n",
    "    temp = [0]*5\n",
    "    temp[int(entry)-1] = 1\n",
    "    \n",
    "    one_hot_y_train.append(temp)\n",
    "\n",
    "for entry in y_test:\n",
    "    temp = [0]*5\n",
    "    temp[int(entry)-1] = 1\n",
    "    \n",
    "    one_hot_y_test.append(temp)"
   ]
  },
  {
   "cell_type": "code",
   "execution_count": 26,
   "id": "5c5400e5",
   "metadata": {
    "execution": {
     "iopub.execute_input": "2023-07-16T21:30:11.266289Z",
     "iopub.status.busy": "2023-07-16T21:30:11.265981Z",
     "iopub.status.idle": "2023-07-16T21:30:11.610506Z",
     "shell.execute_reply": "2023-07-16T21:30:11.609561Z"
    },
    "papermill": {
     "duration": 0.357657,
     "end_time": "2023-07-16T21:30:11.612478",
     "exception": false,
     "start_time": "2023-07-16T21:30:11.254821",
     "status": "completed"
    },
    "tags": []
   },
   "outputs": [
    {
     "data": {
      "text/plain": [
       "<Axes: >"
      ]
     },
     "execution_count": 26,
     "metadata": {},
     "output_type": "execute_result"
    },
    {
     "data": {
      "image/png": "[encoded data removed]",
      "text/plain": [
       "<Figure size 640x480 with 1 Axes>"
      ]
     },
     "metadata": {},
     "output_type": "display_data"
    }
   ],
   "source": [
    "df['rating'].hist()"
   ]
  },
  {
   "cell_type": "code",
   "execution_count": 27,
   "id": "1b372abc",
   "metadata": {
    "execution": {
     "iopub.execute_input": "2023-07-16T21:30:11.636166Z",
     "iopub.status.busy": "2023-07-16T21:30:11.635451Z",
     "iopub.status.idle": "2023-07-16T21:30:11.646111Z",
     "shell.execute_reply": "2023-07-16T21:30:11.645192Z"
    },
    "papermill": {
     "duration": 0.024637,
     "end_time": "2023-07-16T21:30:11.648219",
     "exception": false,
     "start_time": "2023-07-16T21:30:11.623582",
     "status": "completed"
    },
    "tags": []
   },
   "outputs": [],
   "source": [
    "from sklearn.utils.class_weight import compute_class_weight\n",
    "\n",
    "class_weights = compute_class_weight(class_weight = \"balanced\", classes= np.unique(y_train), y=y_train)\n",
    "\n",
    "class_weights = dict(enumerate(class_weights))"
   ]
  },
  {
   "cell_type": "code",
   "execution_count": 28,
   "id": "1efede95",
   "metadata": {
    "execution": {
     "iopub.execute_input": "2023-07-16T21:30:11.670816Z",
     "iopub.status.busy": "2023-07-16T21:30:11.670548Z",
     "iopub.status.idle": "2023-07-16T21:32:18.742389Z",
     "shell.execute_reply": "2023-07-16T21:32:18.741334Z"
    },
    "papermill": {
     "duration": 127.085496,
     "end_time": "2023-07-16T21:32:18.744450",
     "exception": false,
     "start_time": "2023-07-16T21:30:11.658954",
     "status": "completed"
    },
    "tags": []
   },
   "outputs": [
    {
     "name": "stdout",
     "output_type": "stream",
     "text": [
      "Model: \"sequential\"\n",
      "_________________________________________________________________\n",
      " Layer (type)                Output Shape              Param #   \n",
      "=================================================================\n",
      " embedding (Embedding)       (None, 20, 20)            323260    \n",
      "                                                                 \n",
      " bidirectional (Bidirectiona  (None, 200)              96800     \n",
      " l)                                                              \n",
      "                                                                 \n",
      " dense (Dense)               (None, 5)                 1005      \n",
      "                                                                 \n",
      "=================================================================\n",
      "Total params: 421,065\n",
      "Trainable params: 421,065\n",
      "Non-trainable params: 0\n",
      "_________________________________________________________________\n",
      "Epoch 1/10\n",
      "731/731 [==============================] - 46s 47ms/step - loss: 1.2134 - accuracy: 0.5047 - val_loss: 1.0623 - val_accuracy: 0.5640\n",
      "Epoch 2/10\n",
      "731/731 [==============================] - 11s 16ms/step - loss: 0.9765 - accuracy: 0.6163 - val_loss: 0.9556 - val_accuracy: 0.6267\n",
      "Epoch 3/10\n",
      "731/731 [==============================] - 8s 11ms/step - loss: 0.8558 - accuracy: 0.6752 - val_loss: 0.9894 - val_accuracy: 0.6069\n",
      "Epoch 4/10\n",
      "731/731 [==============================] - 7s 10ms/step - loss: 0.7560 - accuracy: 0.7159 - val_loss: 1.0244 - val_accuracy: 0.5908\n",
      "Epoch 5/10\n",
      "731/731 [==============================] - 8s 11ms/step - loss: 0.6761 - accuracy: 0.7442 - val_loss: 1.0563 - val_accuracy: 0.6174\n",
      "Epoch 6/10\n",
      "731/731 [==============================] - 8s 11ms/step - loss: 0.6164 - accuracy: 0.7683 - val_loss: 1.1090 - val_accuracy: 0.6092\n",
      "Epoch 7/10\n",
      "731/731 [==============================] - 8s 11ms/step - loss: 0.5657 - accuracy: 0.7844 - val_loss: 1.1233 - val_accuracy: 0.6218\n",
      "Epoch 8/10\n",
      "731/731 [==============================] - 8s 11ms/step - loss: 0.5283 - accuracy: 0.7968 - val_loss: 1.1731 - val_accuracy: 0.6157\n",
      "Epoch 9/10\n",
      "731/731 [==============================] - 8s 11ms/step - loss: 0.4915 - accuracy: 0.8073 - val_loss: 1.2417 - val_accuracy: 0.6165\n",
      "Epoch 10/10\n",
      "731/731 [==============================] - 7s 10ms/step - loss: 0.4663 - accuracy: 0.8206 - val_loss: 1.3004 - val_accuracy: 0.6169\n"
     ]
    },
    {
     "data": {
      "text/plain": [
       "<keras.callbacks.History at 0x7dd800179810>"
      ]
     },
     "execution_count": 28,
     "metadata": {},
     "output_type": "execute_result"
    }
   ],
   "source": [
    "from keras import Sequential, layers\n",
    "\n",
    "embedding_size = 20\n",
    "\n",
    "model = Sequential()\n",
    "\n",
    "model.add(layers.Embedding(16162 + 1, embedding_size, input_length=embedding_size))\n",
    "\n",
    "model.add(layers.Bidirectional(layers.LSTM(100)))\n",
    "\n",
    "model.add(layers.Dense(5, activation='softmax'))\n",
    "\n",
    "model.summary()\n",
    "\n",
    "model.compile(loss='categorical_crossentropy', optimizer='adam', metrics=['accuracy'])\n",
    "\n",
    "model.fit(X_train, np.array(one_hot_y_train), batch_size=32, epochs=10, validation_data=(X_test, np.array(one_hot_y_test)), class_weight=class_weights)"
   ]
  },
  {
   "cell_type": "code",
   "execution_count": 29,
   "id": "7c5e97a1",
   "metadata": {
    "execution": {
     "iopub.execute_input": "2023-07-16T21:32:18.962109Z",
     "iopub.status.busy": "2023-07-16T21:32:18.961114Z",
     "iopub.status.idle": "2023-07-16T21:32:20.992514Z",
     "shell.execute_reply": "2023-07-16T21:32:20.990660Z"
    },
    "papermill": {
     "duration": 2.14249,
     "end_time": "2023-07-16T21:32:20.994878",
     "exception": false,
     "start_time": "2023-07-16T21:32:18.852388",
     "status": "completed"
    },
    "tags": []
   },
   "outputs": [
    {
     "name": "stdout",
     "output_type": "stream",
     "text": [
      "314/314 [==============================] - 2s 3ms/step\n",
      "              precision    recall  f1-score   support\n",
      "\n",
      "      1 star       0.77      0.74      0.76      3329\n",
      "     2 stars       0.34      0.50      0.41       960\n",
      "     3 stars       0.47      0.42      0.44      1204\n",
      "     4 stars       0.44      0.47      0.45      1546\n",
      "     5 stars       0.74      0.67      0.71      2980\n",
      "\n",
      "    accuracy                           0.62     10019\n",
      "   macro avg       0.55      0.56      0.55     10019\n",
      "weighted avg       0.63      0.62      0.62     10019\n",
      "\n"
     ]
    }
   ],
   "source": [
    "from sklearn.metrics import classification_report\n",
    "\n",
    "temp = model.predict(X_test)\n",
    "\n",
    "y_pred = []\n",
    "\n",
    "for entry in temp:\n",
    "    entry = list(entry)\n",
    "    \n",
    "    if entry.index(max(entry)) == 0:\n",
    "        y_pred.append(1)\n",
    "    elif entry.index(max(entry)) == 1:\n",
    "        y_pred.append(2)\n",
    "    elif entry.index(max(entry)) == 2:\n",
    "        y_pred.append(3)\n",
    "    elif entry.index(max(entry)) == 3:\n",
    "        y_pred.append(4)\n",
    "    elif entry.index(max(entry)) == 4:\n",
    "        y_pred.append(5)\n",
    "\n",
    "\n",
    "target_names = ['1 star', '2 stars', '3 stars', '4 stars', '5 stars'] # target values\n",
    "\n",
    "# Print classification report after a train/test split:\n",
    "print(classification_report(y_test, y_pred, target_names=target_names))"
   ]
  },
  {
   "cell_type": "code",
   "execution_count": null,
   "id": "72f28e51",
   "metadata": {
    "papermill": {
     "duration": 0.105461,
     "end_time": "2023-07-16T21:32:21.213813",
     "exception": false,
     "start_time": "2023-07-16T21:32:21.108352",
     "status": "completed"
    },
    "tags": []
   },
   "outputs": [],
   "source": []
  }
 ],
 "metadata": {
  "kernelspec": {
   "display_name": "Python 3",
   "language": "python",
   "name": "python3"
  },
  "language_info": {
   "codemirror_mode": {
    "name": "ipython",
    "version": 3
   },
   "file_extension": ".py",
   "mimetype": "text/x-python",
   "name": "python",
   "nbconvert_exporter": "python",
   "pygments_lexer": "ipython3",
   "version": "3.10.12"
  },
  "papermill": {
   "default_parameters": {},
   "duration": 292.976125,
   "end_time": "2023-07-16T21:32:25.075926",
   "environment_variables": {},
   "exception": null,
   "input_path": "__notebook__.ipynb",
   "output_path": "__notebook__.ipynb",
   "parameters": {},
   "start_time": "2023-07-16T21:27:32.099801",
   "version": "2.4.0"
  }
 },
 "nbformat": 4,
 "nbformat_minor": 5
}
