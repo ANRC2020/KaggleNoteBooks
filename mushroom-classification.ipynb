{
 "cells": [
  {
   "cell_type": "code",
   "execution_count": 1,
   "id": "7fca2eb1",
   "metadata": {
    "_cell_guid": "b1076dfc-b9ad-4769-8c92-a6c4dae69d19",
    "_uuid": "8f2839f25d086af736a60e9eeb907d3b93b6e0e5",
    "execution": {
     "iopub.execute_input": "2023-05-22T12:22:43.720005Z",
     "iopub.status.busy": "2023-05-22T12:22:43.719539Z",
     "iopub.status.idle": "2023-05-22T12:22:43.739144Z",
     "shell.execute_reply": "2023-05-22T12:22:43.737745Z"
    },
    "papermill": {
     "duration": 0.030677,
     "end_time": "2023-05-22T12:22:43.742038",
     "exception": false,
     "start_time": "2023-05-22T12:22:43.711361",
     "status": "completed"
    },
    "tags": []
   },
   "outputs": [
    {
     "name": "stdout",
     "output_type": "stream",
     "text": [
      "/kaggle/input/mushroom-classification/mushrooms.csv\n"
     ]
    }
   ],
   "source": [
    "# This Python 3 environment comes with many helpful analytics libraries installed\n",
    "# It is defined by the kaggle/python Docker image: https://github.com/kaggle/docker-python\n",
    "# For example, here's several helpful packages to load\n",
    "\n",
    "import numpy as np # linear algebra\n",
    "import pandas as pd # data processing, CSV file I/O (e.g. pd.read_csv)\n",
    "\n",
    "# Input data files are available in the read-only \"../input/\" directory\n",
    "# For example, running this (by clicking run or pressing Shift+Enter) will list all files under the input directory\n",
    "\n",
    "import os\n",
    "for dirname, _, filenames in os.walk('/kaggle/input'):\n",
    "    for filename in filenames:\n",
    "        print(os.path.join(dirname, filename))\n",
    "\n",
    "# You can write up to 20GB to the current directory (/kaggle/working/) that gets preserved as output when you create a version using \"Save & Run All\" \n",
    "# You can also write temporary files to /kaggle/temp/, but they won't be saved outside of the current session"
   ]
  },
  {
   "cell_type": "code",
   "execution_count": 2,
   "id": "64149c09",
   "metadata": {
    "execution": {
     "iopub.execute_input": "2023-05-22T12:22:43.755032Z",
     "iopub.status.busy": "2023-05-22T12:22:43.754268Z",
     "iopub.status.idle": "2023-05-22T12:22:43.803781Z",
     "shell.execute_reply": "2023-05-22T12:22:43.802353Z"
    },
    "papermill": {
     "duration": 0.059502,
     "end_time": "2023-05-22T12:22:43.806907",
     "exception": false,
     "start_time": "2023-05-22T12:22:43.747405",
     "status": "completed"
    },
    "tags": []
   },
   "outputs": [],
   "source": [
    "df = pd.read_csv(\"/kaggle/input/mushroom-classification/mushrooms.csv\")"
   ]
  },
  {
   "cell_type": "code",
   "execution_count": 3,
   "id": "a445075c",
   "metadata": {
    "execution": {
     "iopub.execute_input": "2023-05-22T12:22:43.819406Z",
     "iopub.status.busy": "2023-05-22T12:22:43.818944Z",
     "iopub.status.idle": "2023-05-22T12:22:43.827814Z",
     "shell.execute_reply": "2023-05-22T12:22:43.826617Z"
    },
    "papermill": {
     "duration": 0.018178,
     "end_time": "2023-05-22T12:22:43.830377",
     "exception": false,
     "start_time": "2023-05-22T12:22:43.812199",
     "status": "completed"
    },
    "tags": []
   },
   "outputs": [
    {
     "data": {
      "text/plain": [
       "(8124, 23)"
      ]
     },
     "execution_count": 3,
     "metadata": {},
     "output_type": "execute_result"
    }
   ],
   "source": [
    "df.shape"
   ]
  },
  {
   "cell_type": "code",
   "execution_count": 4,
   "id": "01d60cc8",
   "metadata": {
    "execution": {
     "iopub.execute_input": "2023-05-22T12:22:43.843920Z",
     "iopub.status.busy": "2023-05-22T12:22:43.843053Z",
     "iopub.status.idle": "2023-05-22T12:22:43.878364Z",
     "shell.execute_reply": "2023-05-22T12:22:43.876927Z"
    },
    "papermill": {
     "duration": 0.045455,
     "end_time": "2023-05-22T12:22:43.881454",
     "exception": false,
     "start_time": "2023-05-22T12:22:43.835999",
     "status": "completed"
    },
    "tags": []
   },
   "outputs": [],
   "source": [
    "df.dropna(inplace=True)"
   ]
  },
  {
   "cell_type": "code",
   "execution_count": 5,
   "id": "21eacbf2",
   "metadata": {
    "execution": {
     "iopub.execute_input": "2023-05-22T12:22:43.894062Z",
     "iopub.status.busy": "2023-05-22T12:22:43.893616Z",
     "iopub.status.idle": "2023-05-22T12:22:43.901085Z",
     "shell.execute_reply": "2023-05-22T12:22:43.899725Z"
    },
    "papermill": {
     "duration": 0.016864,
     "end_time": "2023-05-22T12:22:43.903745",
     "exception": false,
     "start_time": "2023-05-22T12:22:43.886881",
     "status": "completed"
    },
    "tags": []
   },
   "outputs": [
    {
     "data": {
      "text/plain": [
       "(8124, 23)"
      ]
     },
     "execution_count": 5,
     "metadata": {},
     "output_type": "execute_result"
    }
   ],
   "source": [
    "df.shape"
   ]
  },
  {
   "cell_type": "code",
   "execution_count": 6,
   "id": "35e91da0",
   "metadata": {
    "execution": {
     "iopub.execute_input": "2023-05-22T12:22:43.916965Z",
     "iopub.status.busy": "2023-05-22T12:22:43.916497Z",
     "iopub.status.idle": "2023-05-22T12:22:43.959489Z",
     "shell.execute_reply": "2023-05-22T12:22:43.958171Z"
    },
    "papermill": {
     "duration": 0.053064,
     "end_time": "2023-05-22T12:22:43.962312",
     "exception": false,
     "start_time": "2023-05-22T12:22:43.909248",
     "status": "completed"
    },
    "tags": []
   },
   "outputs": [
    {
     "data": {
      "text/html": [
       "<div>\n",
       "<style scoped>\n",
       "    .dataframe tbody tr th:only-of-type {\n",
       "        vertical-align: middle;\n",
       "    }\n",
       "\n",
       "    .dataframe tbody tr th {\n",
       "        vertical-align: top;\n",
       "    }\n",
       "\n",
       "    .dataframe thead th {\n",
       "        text-align: right;\n",
       "    }\n",
       "</style>\n",
       "<table border=\"1\" class=\"dataframe\">\n",
       "  <thead>\n",
       "    <tr style=\"text-align: right;\">\n",
       "      <th></th>\n",
       "      <th>class</th>\n",
       "      <th>cap-shape</th>\n",
       "      <th>cap-surface</th>\n",
       "      <th>cap-color</th>\n",
       "      <th>bruises</th>\n",
       "      <th>odor</th>\n",
       "      <th>gill-attachment</th>\n",
       "      <th>gill-spacing</th>\n",
       "      <th>gill-size</th>\n",
       "      <th>gill-color</th>\n",
       "      <th>...</th>\n",
       "      <th>stalk-surface-below-ring</th>\n",
       "      <th>stalk-color-above-ring</th>\n",
       "      <th>stalk-color-below-ring</th>\n",
       "      <th>veil-type</th>\n",
       "      <th>veil-color</th>\n",
       "      <th>ring-number</th>\n",
       "      <th>ring-type</th>\n",
       "      <th>spore-print-color</th>\n",
       "      <th>population</th>\n",
       "      <th>habitat</th>\n",
       "    </tr>\n",
       "  </thead>\n",
       "  <tbody>\n",
       "    <tr>\n",
       "      <th>0</th>\n",
       "      <td>p</td>\n",
       "      <td>x</td>\n",
       "      <td>s</td>\n",
       "      <td>n</td>\n",
       "      <td>t</td>\n",
       "      <td>p</td>\n",
       "      <td>f</td>\n",
       "      <td>c</td>\n",
       "      <td>n</td>\n",
       "      <td>k</td>\n",
       "      <td>...</td>\n",
       "      <td>s</td>\n",
       "      <td>w</td>\n",
       "      <td>w</td>\n",
       "      <td>p</td>\n",
       "      <td>w</td>\n",
       "      <td>o</td>\n",
       "      <td>p</td>\n",
       "      <td>k</td>\n",
       "      <td>s</td>\n",
       "      <td>u</td>\n",
       "    </tr>\n",
       "    <tr>\n",
       "      <th>1</th>\n",
       "      <td>e</td>\n",
       "      <td>x</td>\n",
       "      <td>s</td>\n",
       "      <td>y</td>\n",
       "      <td>t</td>\n",
       "      <td>a</td>\n",
       "      <td>f</td>\n",
       "      <td>c</td>\n",
       "      <td>b</td>\n",
       "      <td>k</td>\n",
       "      <td>...</td>\n",
       "      <td>s</td>\n",
       "      <td>w</td>\n",
       "      <td>w</td>\n",
       "      <td>p</td>\n",
       "      <td>w</td>\n",
       "      <td>o</td>\n",
       "      <td>p</td>\n",
       "      <td>n</td>\n",
       "      <td>n</td>\n",
       "      <td>g</td>\n",
       "    </tr>\n",
       "    <tr>\n",
       "      <th>2</th>\n",
       "      <td>e</td>\n",
       "      <td>b</td>\n",
       "      <td>s</td>\n",
       "      <td>w</td>\n",
       "      <td>t</td>\n",
       "      <td>l</td>\n",
       "      <td>f</td>\n",
       "      <td>c</td>\n",
       "      <td>b</td>\n",
       "      <td>n</td>\n",
       "      <td>...</td>\n",
       "      <td>s</td>\n",
       "      <td>w</td>\n",
       "      <td>w</td>\n",
       "      <td>p</td>\n",
       "      <td>w</td>\n",
       "      <td>o</td>\n",
       "      <td>p</td>\n",
       "      <td>n</td>\n",
       "      <td>n</td>\n",
       "      <td>m</td>\n",
       "    </tr>\n",
       "    <tr>\n",
       "      <th>3</th>\n",
       "      <td>p</td>\n",
       "      <td>x</td>\n",
       "      <td>y</td>\n",
       "      <td>w</td>\n",
       "      <td>t</td>\n",
       "      <td>p</td>\n",
       "      <td>f</td>\n",
       "      <td>c</td>\n",
       "      <td>n</td>\n",
       "      <td>n</td>\n",
       "      <td>...</td>\n",
       "      <td>s</td>\n",
       "      <td>w</td>\n",
       "      <td>w</td>\n",
       "      <td>p</td>\n",
       "      <td>w</td>\n",
       "      <td>o</td>\n",
       "      <td>p</td>\n",
       "      <td>k</td>\n",
       "      <td>s</td>\n",
       "      <td>u</td>\n",
       "    </tr>\n",
       "    <tr>\n",
       "      <th>4</th>\n",
       "      <td>e</td>\n",
       "      <td>x</td>\n",
       "      <td>s</td>\n",
       "      <td>g</td>\n",
       "      <td>f</td>\n",
       "      <td>n</td>\n",
       "      <td>f</td>\n",
       "      <td>w</td>\n",
       "      <td>b</td>\n",
       "      <td>k</td>\n",
       "      <td>...</td>\n",
       "      <td>s</td>\n",
       "      <td>w</td>\n",
       "      <td>w</td>\n",
       "      <td>p</td>\n",
       "      <td>w</td>\n",
       "      <td>o</td>\n",
       "      <td>e</td>\n",
       "      <td>n</td>\n",
       "      <td>a</td>\n",
       "      <td>g</td>\n",
       "    </tr>\n",
       "  </tbody>\n",
       "</table>\n",
       "<p>5 rows × 23 columns</p>\n",
       "</div>"
      ],
      "text/plain": [
       "  class cap-shape cap-surface cap-color bruises odor gill-attachment  \\\n",
       "0     p         x           s         n       t    p               f   \n",
       "1     e         x           s         y       t    a               f   \n",
       "2     e         b           s         w       t    l               f   \n",
       "3     p         x           y         w       t    p               f   \n",
       "4     e         x           s         g       f    n               f   \n",
       "\n",
       "  gill-spacing gill-size gill-color  ... stalk-surface-below-ring  \\\n",
       "0            c         n          k  ...                        s   \n",
       "1            c         b          k  ...                        s   \n",
       "2            c         b          n  ...                        s   \n",
       "3            c         n          n  ...                        s   \n",
       "4            w         b          k  ...                        s   \n",
       "\n",
       "  stalk-color-above-ring stalk-color-below-ring veil-type veil-color  \\\n",
       "0                      w                      w         p          w   \n",
       "1                      w                      w         p          w   \n",
       "2                      w                      w         p          w   \n",
       "3                      w                      w         p          w   \n",
       "4                      w                      w         p          w   \n",
       "\n",
       "  ring-number ring-type spore-print-color population habitat  \n",
       "0           o         p                 k          s       u  \n",
       "1           o         p                 n          n       g  \n",
       "2           o         p                 n          n       m  \n",
       "3           o         p                 k          s       u  \n",
       "4           o         e                 n          a       g  \n",
       "\n",
       "[5 rows x 23 columns]"
      ]
     },
     "execution_count": 6,
     "metadata": {},
     "output_type": "execute_result"
    }
   ],
   "source": [
    "df.head()"
   ]
  },
  {
   "cell_type": "code",
   "execution_count": 7,
   "id": "375b5e1e",
   "metadata": {
    "execution": {
     "iopub.execute_input": "2023-05-22T12:22:43.976524Z",
     "iopub.status.busy": "2023-05-22T12:22:43.975648Z",
     "iopub.status.idle": "2023-05-22T12:22:44.013838Z",
     "shell.execute_reply": "2023-05-22T12:22:44.012134Z"
    },
    "papermill": {
     "duration": 0.048688,
     "end_time": "2023-05-22T12:22:44.016892",
     "exception": false,
     "start_time": "2023-05-22T12:22:43.968204",
     "status": "completed"
    },
    "tags": []
   },
   "outputs": [
    {
     "name": "stdout",
     "output_type": "stream",
     "text": [
      "Column: class; {'p', 'e'}\n",
      "\n",
      "Column: cap-shape; {'c', 'f', 'b', 'x', 's', 'k'}\n",
      "\n",
      "Column: cap-surface; {'g', 'f', 's', 'y'}\n",
      "\n",
      "Column: cap-color; {'w', 'y', 'b', 'u', 'r', 'p', 'n', 'e', 'g', 'c'}\n",
      "\n",
      "Column: bruises; {'f', 't'}\n",
      "\n",
      "Column: odor; {'f', 'y', 'm', 'a', 'p', 'n', 'l', 's', 'c'}\n",
      "\n",
      "Column: gill-attachment; {'f', 'a'}\n",
      "\n",
      "Column: gill-spacing; {'w', 'c'}\n",
      "\n",
      "Column: gill-size; {'n', 'b'}\n",
      "\n",
      "Column: gill-color; {'w', 'r', 'b', 'u', 'y', 'h', 'p', 'n', 'e', 'g', 'k', 'o'}\n",
      "\n",
      "Column: stalk-shape; {'t', 'e'}\n",
      "\n",
      "Column: stalk-root; {'r', 'b', '?', 'e', 'c'}\n",
      "\n",
      "Column: stalk-surface-above-ring; {'f', 's', 'y', 'k'}\n",
      "\n",
      "Column: stalk-surface-below-ring; {'f', 's', 'y', 'k'}\n",
      "\n",
      "Column: stalk-color-above-ring; {'w', 'y', 'b', 'p', 'n', 'e', 'g', 'c', 'o'}\n",
      "\n",
      "Column: stalk-color-below-ring; {'w', 'y', 'b', 'p', 'n', 'e', 'g', 'c', 'o'}\n",
      "\n",
      "Column: veil-type; {'p'}\n",
      "\n",
      "Column: veil-color; {'w', 'n', 'y', 'o'}\n",
      "\n",
      "Column: ring-number; {'n', 'o', 't'}\n",
      "\n",
      "Column: ring-type; {'f', 'p', 'n', 'l', 'e'}\n",
      "\n",
      "Column: spore-print-color; {'w', 'r', 'y', 'u', 'b', 'h', 'n', 'k', 'o'}\n",
      "\n",
      "Column: population; {'v', 'y', 'a', 'n', 's', 'c'}\n",
      "\n",
      "Column: habitat; {'w', 'm', 'u', 'd', 'p', 'l', 'g'}\n",
      "\n"
     ]
    }
   ],
   "source": [
    "for col in df:\n",
    "    print(f\"Column: {col}; {set(df[col])}\\n\")"
   ]
  },
  {
   "cell_type": "code",
   "execution_count": 8,
   "id": "b26ac5d3",
   "metadata": {
    "execution": {
     "iopub.execute_input": "2023-05-22T12:22:44.031271Z",
     "iopub.status.busy": "2023-05-22T12:22:44.030850Z",
     "iopub.status.idle": "2023-05-22T12:22:44.042715Z",
     "shell.execute_reply": "2023-05-22T12:22:44.041501Z"
    },
    "papermill": {
     "duration": 0.022858,
     "end_time": "2023-05-22T12:22:44.045839",
     "exception": false,
     "start_time": "2023-05-22T12:22:44.022981",
     "status": "completed"
    },
    "tags": []
   },
   "outputs": [],
   "source": [
    "def Categorical_Tokenizer(df):\n",
    "    \n",
    "    hashes = []\n",
    "    \n",
    "    for column in df:\n",
    "        \n",
    "        ht = {}\n",
    "\n",
    "        for i, entry in enumerate(set(df[column])):\n",
    "            ht[entry] = i\n",
    "        \n",
    "        hashes.append(ht)\n",
    "    \n",
    "    \n",
    "    temp = np.array([])\n",
    "    \n",
    "    for i in range(df.shape[0]):\n",
    "        \n",
    "        line = df.iloc[i]\n",
    "        \n",
    "        for j, entry in enumerate(line):\n",
    "            temp = np.append(temp, hashes[j][entry])\n",
    "            \n",
    "        if i % 500 == 0:\n",
    "            print(i)\n",
    "    \n",
    "    temp = temp.reshape(df.shape[0], df.shape[1])\n",
    "    \n",
    "    new_df = pd.DataFrame(temp, columns = [col for col in df])\n",
    "    \n",
    "    return new_df"
   ]
  },
  {
   "cell_type": "code",
   "execution_count": 9,
   "id": "ef5c6cf2",
   "metadata": {
    "execution": {
     "iopub.execute_input": "2023-05-22T12:22:44.060053Z",
     "iopub.status.busy": "2023-05-22T12:22:44.059623Z",
     "iopub.status.idle": "2023-05-22T12:22:58.619462Z",
     "shell.execute_reply": "2023-05-22T12:22:58.617993Z"
    },
    "papermill": {
     "duration": 14.570878,
     "end_time": "2023-05-22T12:22:58.622805",
     "exception": false,
     "start_time": "2023-05-22T12:22:44.051927",
     "status": "completed"
    },
    "tags": []
   },
   "outputs": [
    {
     "name": "stdout",
     "output_type": "stream",
     "text": [
      "0\n",
      "500\n",
      "1000\n",
      "1500\n",
      "2000\n",
      "2500\n",
      "3000\n",
      "3500\n",
      "4000\n",
      "4500\n",
      "5000\n",
      "5500\n",
      "6000\n",
      "6500\n",
      "7000\n",
      "7500\n",
      "8000\n"
     ]
    }
   ],
   "source": [
    "new_df = Categorical_Tokenizer(df)"
   ]
  },
  {
   "cell_type": "code",
   "execution_count": 10,
   "id": "7612468d",
   "metadata": {
    "execution": {
     "iopub.execute_input": "2023-05-22T12:22:58.640260Z",
     "iopub.status.busy": "2023-05-22T12:22:58.639825Z",
     "iopub.status.idle": "2023-05-22T12:22:59.819528Z",
     "shell.execute_reply": "2023-05-22T12:22:59.818168Z"
    },
    "papermill": {
     "duration": 1.192149,
     "end_time": "2023-05-22T12:22:59.822761",
     "exception": false,
     "start_time": "2023-05-22T12:22:58.630612",
     "status": "completed"
    },
    "tags": []
   },
   "outputs": [],
   "source": [
    "from sklearn.model_selection import train_test_split\n",
    "\n",
    "X_train, X_test, y_train, y_test = train_test_split(new_df.loc[:, new_df.columns != 'class'], new_df['class'], test_size=0.30)\n",
    "X_train, X_valid, y_train, y_valid = train_test_split(X_train, y_train, test_size=0.20)"
   ]
  },
  {
   "cell_type": "code",
   "execution_count": 11,
   "id": "1559691e",
   "metadata": {
    "execution": {
     "iopub.execute_input": "2023-05-22T12:22:59.840505Z",
     "iopub.status.busy": "2023-05-22T12:22:59.839668Z",
     "iopub.status.idle": "2023-05-22T12:23:00.736233Z",
     "shell.execute_reply": "2023-05-22T12:23:00.734866Z"
    },
    "papermill": {
     "duration": 0.908915,
     "end_time": "2023-05-22T12:23:00.739312",
     "exception": false,
     "start_time": "2023-05-22T12:22:59.830397",
     "status": "completed"
    },
    "tags": []
   },
   "outputs": [
    {
     "data": {
      "text/plain": [
       "(1.0, 1.0)"
      ]
     },
     "execution_count": 11,
     "metadata": {},
     "output_type": "execute_result"
    }
   ],
   "source": [
    "# Gradient Boosting\n",
    "from sklearn.ensemble import GradientBoostingClassifier\n",
    "\n",
    "model = GradientBoostingClassifier()\n",
    "\n",
    "model.fit(X_train, y_train)\n",
    "\n",
    "model.score(X_valid, y_valid), model.score(X_test, y_test)"
   ]
  },
  {
   "cell_type": "code",
   "execution_count": null,
   "id": "aa88cc45",
   "metadata": {
    "papermill": {
     "duration": 0.007447,
     "end_time": "2023-05-22T12:23:00.754937",
     "exception": false,
     "start_time": "2023-05-22T12:23:00.747490",
     "status": "completed"
    },
    "tags": []
   },
   "outputs": [],
   "source": []
  }
 ],
 "metadata": {
  "kernelspec": {
   "display_name": "Python 3",
   "language": "python",
   "name": "python3"
  },
  "language_info": {
   "codemirror_mode": {
    "name": "ipython",
    "version": 3
   },
   "file_extension": ".py",
   "mimetype": "text/x-python",
   "name": "python",
   "nbconvert_exporter": "python",
   "pygments_lexer": "ipython3",
   "version": "3.7.12"
  },
  "papermill": {
   "default_parameters": {},
   "duration": 31.898315,
   "end_time": "2023-05-22T12:23:01.587329",
   "environment_variables": {},
   "exception": null,
   "input_path": "__notebook__.ipynb",
   "output_path": "__notebook__.ipynb",
   "parameters": {},
   "start_time": "2023-05-22T12:22:29.689014",
   "version": "2.4.0"
  }
 },
 "nbformat": 4,
 "nbformat_minor": 5
}
