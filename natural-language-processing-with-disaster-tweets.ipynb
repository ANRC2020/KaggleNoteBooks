{
 "cells": [
  {
   "cell_type": "code",
   "execution_count": 1,
   "id": "c4d10473",
   "metadata": {
    "_cell_guid": "b1076dfc-b9ad-4769-8c92-a6c4dae69d19",
    "_uuid": "8f2839f25d086af736a60e9eeb907d3b93b6e0e5",
    "execution": {
     "iopub.execute_input": "2023-05-22T12:11:49.658573Z",
     "iopub.status.busy": "2023-05-22T12:11:49.658163Z",
     "iopub.status.idle": "2023-05-22T12:11:49.679396Z",
     "shell.execute_reply": "2023-05-22T12:11:49.678330Z"
    },
    "papermill": {
     "duration": 0.0334,
     "end_time": "2023-05-22T12:11:49.682728",
     "exception": false,
     "start_time": "2023-05-22T12:11:49.649328",
     "status": "completed"
    },
    "tags": []
   },
   "outputs": [
    {
     "name": "stdout",
     "output_type": "stream",
     "text": [
      "/kaggle/input/nlp-getting-started/sample_submission.csv\n",
      "/kaggle/input/nlp-getting-started/train.csv\n",
      "/kaggle/input/nlp-getting-started/test.csv\n"
     ]
    }
   ],
   "source": [
    "# This Python 3 environment comes with many helpful analytics libraries installed\n",
    "# It is defined by the kaggle/python Docker image: https://github.com/kaggle/docker-python\n",
    "# For example, here's several helpful packages to load\n",
    "\n",
    "import numpy as np # linear algebra\n",
    "import pandas as pd # data processing, CSV file I/O (e.g. pd.read_csv)\n",
    "\n",
    "# Input data files are available in the read-only \"../input/\" directory\n",
    "# For example, running this (by clicking run or pressing Shift+Enter) will list all files under the input directory\n",
    "\n",
    "import os\n",
    "for dirname, _, filenames in os.walk('/kaggle/input'):\n",
    "    for filename in filenames:\n",
    "        print(os.path.join(dirname, filename))\n",
    "\n",
    "# You can write up to 20GB to the current directory (/kaggle/working/) that gets preserved as output when you create a version using \"Save & Run All\" \n",
    "# You can also write temporary files to /kaggle/temp/, but they won't be saved outside of the current session"
   ]
  },
  {
   "cell_type": "code",
   "execution_count": 2,
   "id": "df6baffd",
   "metadata": {
    "execution": {
     "iopub.execute_input": "2023-05-22T12:11:49.698554Z",
     "iopub.status.busy": "2023-05-22T12:11:49.698176Z",
     "iopub.status.idle": "2023-05-22T12:11:49.861295Z",
     "shell.execute_reply": "2023-05-22T12:11:49.860122Z"
    },
    "papermill": {
     "duration": 0.174449,
     "end_time": "2023-05-22T12:11:49.864193",
     "exception": false,
     "start_time": "2023-05-22T12:11:49.689744",
     "status": "completed"
    },
    "tags": []
   },
   "outputs": [],
   "source": [
    "df_train = pd.read_csv(\"/kaggle/input/nlp-getting-started/train.csv\")\n",
    "df_test = pd.read_csv(\"/kaggle/input/nlp-getting-started/test.csv\")"
   ]
  },
  {
   "cell_type": "code",
   "execution_count": 3,
   "id": "2ee00a40",
   "metadata": {
    "execution": {
     "iopub.execute_input": "2023-05-22T12:11:49.879986Z",
     "iopub.status.busy": "2023-05-22T12:11:49.879595Z",
     "iopub.status.idle": "2023-05-22T12:11:49.900281Z",
     "shell.execute_reply": "2023-05-22T12:11:49.899085Z"
    },
    "papermill": {
     "duration": 0.031417,
     "end_time": "2023-05-22T12:11:49.902589",
     "exception": false,
     "start_time": "2023-05-22T12:11:49.871172",
     "status": "completed"
    },
    "tags": []
   },
   "outputs": [],
   "source": [
    "df_train.drop(labels=[\"keyword\",\"location\"], inplace=True, axis=1)\n",
    "df_test.drop(labels=[\"keyword\",\"location\"], inplace=True, axis=1)"
   ]
  },
  {
   "cell_type": "code",
   "execution_count": 4,
   "id": "d2164945",
   "metadata": {
    "execution": {
     "iopub.execute_input": "2023-05-22T12:11:49.917589Z",
     "iopub.status.busy": "2023-05-22T12:11:49.917215Z",
     "iopub.status.idle": "2023-05-22T12:11:49.942065Z",
     "shell.execute_reply": "2023-05-22T12:11:49.940685Z"
    },
    "papermill": {
     "duration": 0.03525,
     "end_time": "2023-05-22T12:11:49.944587",
     "exception": false,
     "start_time": "2023-05-22T12:11:49.909337",
     "status": "completed"
    },
    "tags": []
   },
   "outputs": [
    {
     "data": {
      "text/html": [
       "<div>\n",
       "<style scoped>\n",
       "    .dataframe tbody tr th:only-of-type {\n",
       "        vertical-align: middle;\n",
       "    }\n",
       "\n",
       "    .dataframe tbody tr th {\n",
       "        vertical-align: top;\n",
       "    }\n",
       "\n",
       "    .dataframe thead th {\n",
       "        text-align: right;\n",
       "    }\n",
       "</style>\n",
       "<table border=\"1\" class=\"dataframe\">\n",
       "  <thead>\n",
       "    <tr style=\"text-align: right;\">\n",
       "      <th></th>\n",
       "      <th>id</th>\n",
       "      <th>text</th>\n",
       "      <th>target</th>\n",
       "    </tr>\n",
       "  </thead>\n",
       "  <tbody>\n",
       "    <tr>\n",
       "      <th>0</th>\n",
       "      <td>1</td>\n",
       "      <td>Our Deeds are the Reason of this #earthquake M...</td>\n",
       "      <td>1</td>\n",
       "    </tr>\n",
       "    <tr>\n",
       "      <th>1</th>\n",
       "      <td>4</td>\n",
       "      <td>Forest fire near La Ronge Sask. Canada</td>\n",
       "      <td>1</td>\n",
       "    </tr>\n",
       "    <tr>\n",
       "      <th>2</th>\n",
       "      <td>5</td>\n",
       "      <td>All residents asked to 'shelter in place' are ...</td>\n",
       "      <td>1</td>\n",
       "    </tr>\n",
       "    <tr>\n",
       "      <th>3</th>\n",
       "      <td>6</td>\n",
       "      <td>13,000 people receive #wildfires evacuation or...</td>\n",
       "      <td>1</td>\n",
       "    </tr>\n",
       "    <tr>\n",
       "      <th>4</th>\n",
       "      <td>7</td>\n",
       "      <td>Just got sent this photo from Ruby #Alaska as ...</td>\n",
       "      <td>1</td>\n",
       "    </tr>\n",
       "  </tbody>\n",
       "</table>\n",
       "</div>"
      ],
      "text/plain": [
       "   id                                               text  target\n",
       "0   1  Our Deeds are the Reason of this #earthquake M...       1\n",
       "1   4             Forest fire near La Ronge Sask. Canada       1\n",
       "2   5  All residents asked to 'shelter in place' are ...       1\n",
       "3   6  13,000 people receive #wildfires evacuation or...       1\n",
       "4   7  Just got sent this photo from Ruby #Alaska as ...       1"
      ]
     },
     "execution_count": 4,
     "metadata": {},
     "output_type": "execute_result"
    }
   ],
   "source": [
    "df_train.head()"
   ]
  },
  {
   "cell_type": "code",
   "execution_count": 5,
   "id": "77491f14",
   "metadata": {
    "execution": {
     "iopub.execute_input": "2023-05-22T12:11:49.960888Z",
     "iopub.status.busy": "2023-05-22T12:11:49.960466Z",
     "iopub.status.idle": "2023-05-22T12:11:49.971777Z",
     "shell.execute_reply": "2023-05-22T12:11:49.970647Z"
    },
    "papermill": {
     "duration": 0.022382,
     "end_time": "2023-05-22T12:11:49.974217",
     "exception": false,
     "start_time": "2023-05-22T12:11:49.951835",
     "status": "completed"
    },
    "tags": []
   },
   "outputs": [
    {
     "data": {
      "text/html": [
       "<div>\n",
       "<style scoped>\n",
       "    .dataframe tbody tr th:only-of-type {\n",
       "        vertical-align: middle;\n",
       "    }\n",
       "\n",
       "    .dataframe tbody tr th {\n",
       "        vertical-align: top;\n",
       "    }\n",
       "\n",
       "    .dataframe thead th {\n",
       "        text-align: right;\n",
       "    }\n",
       "</style>\n",
       "<table border=\"1\" class=\"dataframe\">\n",
       "  <thead>\n",
       "    <tr style=\"text-align: right;\">\n",
       "      <th></th>\n",
       "      <th>id</th>\n",
       "      <th>text</th>\n",
       "    </tr>\n",
       "  </thead>\n",
       "  <tbody>\n",
       "    <tr>\n",
       "      <th>0</th>\n",
       "      <td>0</td>\n",
       "      <td>Just happened a terrible car crash</td>\n",
       "    </tr>\n",
       "    <tr>\n",
       "      <th>1</th>\n",
       "      <td>2</td>\n",
       "      <td>Heard about #earthquake is different cities, s...</td>\n",
       "    </tr>\n",
       "    <tr>\n",
       "      <th>2</th>\n",
       "      <td>3</td>\n",
       "      <td>there is a forest fire at spot pond, geese are...</td>\n",
       "    </tr>\n",
       "    <tr>\n",
       "      <th>3</th>\n",
       "      <td>9</td>\n",
       "      <td>Apocalypse lighting. #Spokane #wildfires</td>\n",
       "    </tr>\n",
       "    <tr>\n",
       "      <th>4</th>\n",
       "      <td>11</td>\n",
       "      <td>Typhoon Soudelor kills 28 in China and Taiwan</td>\n",
       "    </tr>\n",
       "  </tbody>\n",
       "</table>\n",
       "</div>"
      ],
      "text/plain": [
       "   id                                               text\n",
       "0   0                 Just happened a terrible car crash\n",
       "1   2  Heard about #earthquake is different cities, s...\n",
       "2   3  there is a forest fire at spot pond, geese are...\n",
       "3   9           Apocalypse lighting. #Spokane #wildfires\n",
       "4  11      Typhoon Soudelor kills 28 in China and Taiwan"
      ]
     },
     "execution_count": 5,
     "metadata": {},
     "output_type": "execute_result"
    }
   ],
   "source": [
    " df_test.head()"
   ]
  },
  {
   "cell_type": "code",
   "execution_count": 6,
   "id": "7a777a52",
   "metadata": {
    "execution": {
     "iopub.execute_input": "2023-05-22T12:11:49.990392Z",
     "iopub.status.busy": "2023-05-22T12:11:49.989977Z",
     "iopub.status.idle": "2023-05-22T12:12:01.658117Z",
     "shell.execute_reply": "2023-05-22T12:12:01.657009Z"
    },
    "papermill": {
     "duration": 11.679444,
     "end_time": "2023-05-22T12:12:01.660853",
     "exception": false,
     "start_time": "2023-05-22T12:11:49.981409",
     "status": "completed"
    },
    "tags": []
   },
   "outputs": [
    {
     "name": "stderr",
     "output_type": "stream",
     "text": [
      "/opt/conda/lib/python3.10/site-packages/scipy/__init__.py:146: UserWarning: A NumPy version >=1.16.5 and <1.23.0 is required for this version of SciPy (detected version 1.23.5\n",
      "  warnings.warn(f\"A NumPy version >={np_minversion} and <{np_maxversion}\"\n"
     ]
    }
   ],
   "source": [
    "import tensorflow as tf\n",
    "import tensorflow_text as tf_text"
   ]
  },
  {
   "cell_type": "code",
   "execution_count": 7,
   "id": "15078338",
   "metadata": {
    "execution": {
     "iopub.execute_input": "2023-05-22T12:12:01.678239Z",
     "iopub.status.busy": "2023-05-22T12:12:01.677428Z",
     "iopub.status.idle": "2023-05-22T12:12:01.894601Z",
     "shell.execute_reply": "2023-05-22T12:12:01.892897Z"
    },
    "papermill": {
     "duration": 0.229072,
     "end_time": "2023-05-22T12:12:01.897708",
     "exception": false,
     "start_time": "2023-05-22T12:12:01.668636",
     "status": "completed"
    },
    "tags": []
   },
   "outputs": [
    {
     "name": "stdout",
     "output_type": "stream",
     "text": [
      "b'our'\n"
     ]
    }
   ],
   "source": [
    "tokenizer = tf_text.WhitespaceTokenizer()\n",
    "tokens = tokenizer.tokenize([df_train.iloc[0][\"text\"]])\n",
    "print(str(tokens.to_list()[0][0]).lower())"
   ]
  },
  {
   "cell_type": "code",
   "execution_count": 8,
   "id": "5110f9bd",
   "metadata": {
    "execution": {
     "iopub.execute_input": "2023-05-22T12:12:01.916191Z",
     "iopub.status.busy": "2023-05-22T12:12:01.915560Z",
     "iopub.status.idle": "2023-05-22T12:12:03.187330Z",
     "shell.execute_reply": "2023-05-22T12:12:03.186081Z"
    },
    "papermill": {
     "duration": 1.284259,
     "end_time": "2023-05-22T12:12:03.190146",
     "exception": false,
     "start_time": "2023-05-22T12:12:01.905887",
     "status": "completed"
    },
    "tags": []
   },
   "outputs": [],
   "source": [
    "from sklearn import feature_extraction, linear_model, model_selection, preprocessing\n",
    "\n",
    "count_vectorizer = feature_extraction.text.CountVectorizer()"
   ]
  },
  {
   "cell_type": "code",
   "execution_count": 9,
   "id": "4b0cf298",
   "metadata": {
    "execution": {
     "iopub.execute_input": "2023-05-22T12:12:03.206966Z",
     "iopub.status.busy": "2023-05-22T12:12:03.206428Z",
     "iopub.status.idle": "2023-05-22T12:12:03.561626Z",
     "shell.execute_reply": "2023-05-22T12:12:03.560641Z"
    },
    "papermill": {
     "duration": 0.367199,
     "end_time": "2023-05-22T12:12:03.564756",
     "exception": false,
     "start_time": "2023-05-22T12:12:03.197557",
     "status": "completed"
    },
    "tags": []
   },
   "outputs": [],
   "source": [
    "train_vectors = count_vectorizer.fit_transform(df_train[\"text\"])\n",
    "test_vectors = count_vectorizer.transform(df_test[\"text\"])"
   ]
  },
  {
   "cell_type": "code",
   "execution_count": 10,
   "id": "5eed943d",
   "metadata": {
    "execution": {
     "iopub.execute_input": "2023-05-22T12:12:03.581712Z",
     "iopub.status.busy": "2023-05-22T12:12:03.581285Z",
     "iopub.status.idle": "2023-05-22T12:12:03.587845Z",
     "shell.execute_reply": "2023-05-22T12:12:03.586833Z"
    },
    "papermill": {
     "duration": 0.019486,
     "end_time": "2023-05-22T12:12:03.591780",
     "exception": false,
     "start_time": "2023-05-22T12:12:03.572294",
     "status": "completed"
    },
    "tags": []
   },
   "outputs": [
    {
     "name": "stdout",
     "output_type": "stream",
     "text": [
      "(1, 21637)\n",
      "[[0 0 0 ... 0 0 0]]\n"
     ]
    }
   ],
   "source": [
    "print(train_vectors[0].todense().shape)\n",
    "print(train_vectors[0].todense())"
   ]
  },
  {
   "cell_type": "code",
   "execution_count": 11,
   "id": "0feb3bad",
   "metadata": {
    "execution": {
     "iopub.execute_input": "2023-05-22T12:12:03.608680Z",
     "iopub.status.busy": "2023-05-22T12:12:03.608257Z",
     "iopub.status.idle": "2023-05-22T12:12:03.612937Z",
     "shell.execute_reply": "2023-05-22T12:12:03.611736Z"
    },
    "papermill": {
     "duration": 0.016083,
     "end_time": "2023-05-22T12:12:03.615293",
     "exception": false,
     "start_time": "2023-05-22T12:12:03.599210",
     "status": "completed"
    },
    "tags": []
   },
   "outputs": [],
   "source": [
    "clf = linear_model.RidgeClassifier()"
   ]
  },
  {
   "cell_type": "code",
   "execution_count": 12,
   "id": "22e8a2ba",
   "metadata": {
    "execution": {
     "iopub.execute_input": "2023-05-22T12:12:03.632746Z",
     "iopub.status.busy": "2023-05-22T12:12:03.631945Z",
     "iopub.status.idle": "2023-05-22T12:12:04.331648Z",
     "shell.execute_reply": "2023-05-22T12:12:04.330090Z"
    },
    "papermill": {
     "duration": 0.713116,
     "end_time": "2023-05-22T12:12:04.336104",
     "exception": false,
     "start_time": "2023-05-22T12:12:03.622988",
     "status": "completed"
    },
    "tags": []
   },
   "outputs": [
    {
     "data": {
      "text/plain": [
       "array([0.59453669, 0.5642787 , 0.64082434])"
      ]
     },
     "execution_count": 12,
     "metadata": {},
     "output_type": "execute_result"
    }
   ],
   "source": [
    "scores = model_selection.cross_val_score(clf, train_vectors, df_train[\"target\"], cv=3, scoring=\"f1\")\n",
    "scores"
   ]
  },
  {
   "cell_type": "code",
   "execution_count": 13,
   "id": "e4df6389",
   "metadata": {
    "execution": {
     "iopub.execute_input": "2023-05-22T12:12:04.371368Z",
     "iopub.status.busy": "2023-05-22T12:12:04.370588Z",
     "iopub.status.idle": "2023-05-22T12:12:04.742664Z",
     "shell.execute_reply": "2023-05-22T12:12:04.741089Z"
    },
    "papermill": {
     "duration": 0.396746,
     "end_time": "2023-05-22T12:12:04.748643",
     "exception": false,
     "start_time": "2023-05-22T12:12:04.351897",
     "status": "completed"
    },
    "tags": []
   },
   "outputs": [
    {
     "data": {
      "text/html": [
       "<style>#sk-container-id-1 {color: black;background-color: white;}#sk-container-id-1 pre{padding: 0;}#sk-container-id-1 div.sk-toggleable {background-color: white;}#sk-container-id-1 label.sk-toggleable__label {cursor: pointer;display: block;width: 100%;margin-bottom: 0;padding: 0.3em;box-sizing: border-box;text-align: center;}#sk-container-id-1 label.sk-toggleable__label-arrow:before {content: \"▸\";float: left;margin-right: 0.25em;color: #696969;}#sk-container-id-1 label.sk-toggleable__label-arrow:hover:before {color: black;}#sk-container-id-1 div.sk-estimator:hover label.sk-toggleable__label-arrow:before {color: black;}#sk-container-id-1 div.sk-toggleable__content {max-height: 0;max-width: 0;overflow: hidden;text-align: left;background-color: #f0f8ff;}#sk-container-id-1 div.sk-toggleable__content pre {margin: 0.2em;color: black;border-radius: 0.25em;background-color: #f0f8ff;}#sk-container-id-1 input.sk-toggleable__control:checked~div.sk-toggleable__content {max-height: 200px;max-width: 100%;overflow: auto;}#sk-container-id-1 input.sk-toggleable__control:checked~label.sk-toggleable__label-arrow:before {content: \"▾\";}#sk-container-id-1 div.sk-estimator input.sk-toggleable__control:checked~label.sk-toggleable__label {background-color: #d4ebff;}#sk-container-id-1 div.sk-label input.sk-toggleable__control:checked~label.sk-toggleable__label {background-color: #d4ebff;}#sk-container-id-1 input.sk-hidden--visually {border: 0;clip: rect(1px 1px 1px 1px);clip: rect(1px, 1px, 1px, 1px);height: 1px;margin: -1px;overflow: hidden;padding: 0;position: absolute;width: 1px;}#sk-container-id-1 div.sk-estimator {font-family: monospace;background-color: #f0f8ff;border: 1px dotted black;border-radius: 0.25em;box-sizing: border-box;margin-bottom: 0.5em;}#sk-container-id-1 div.sk-estimator:hover {background-color: #d4ebff;}#sk-container-id-1 div.sk-parallel-item::after {content: \"\";width: 100%;border-bottom: 1px solid gray;flex-grow: 1;}#sk-container-id-1 div.sk-label:hover label.sk-toggleable__label {background-color: #d4ebff;}#sk-container-id-1 div.sk-serial::before {content: \"\";position: absolute;border-left: 1px solid gray;box-sizing: border-box;top: 0;bottom: 0;left: 50%;z-index: 0;}#sk-container-id-1 div.sk-serial {display: flex;flex-direction: column;align-items: center;background-color: white;padding-right: 0.2em;padding-left: 0.2em;position: relative;}#sk-container-id-1 div.sk-item {position: relative;z-index: 1;}#sk-container-id-1 div.sk-parallel {display: flex;align-items: stretch;justify-content: center;background-color: white;position: relative;}#sk-container-id-1 div.sk-item::before, #sk-container-id-1 div.sk-parallel-item::before {content: \"\";position: absolute;border-left: 1px solid gray;box-sizing: border-box;top: 0;bottom: 0;left: 50%;z-index: -1;}#sk-container-id-1 div.sk-parallel-item {display: flex;flex-direction: column;z-index: 1;position: relative;background-color: white;}#sk-container-id-1 div.sk-parallel-item:first-child::after {align-self: flex-end;width: 50%;}#sk-container-id-1 div.sk-parallel-item:last-child::after {align-self: flex-start;width: 50%;}#sk-container-id-1 div.sk-parallel-item:only-child::after {width: 0;}#sk-container-id-1 div.sk-dashed-wrapped {border: 1px dashed gray;margin: 0 0.4em 0.5em 0.4em;box-sizing: border-box;padding-bottom: 0.4em;background-color: white;}#sk-container-id-1 div.sk-label label {font-family: monospace;font-weight: bold;display: inline-block;line-height: 1.2em;}#sk-container-id-1 div.sk-label-container {text-align: center;}#sk-container-id-1 div.sk-container {/* jupyter's `normalize.less` sets `[hidden] { display: none; }` but bootstrap.min.css set `[hidden] { display: none !important; }` so we also need the `!important` here to be able to override the default hidden behavior on the sphinx rendered scikit-learn.org. See: https://github.com/scikit-learn/scikit-learn/issues/21755 */display: inline-block !important;position: relative;}#sk-container-id-1 div.sk-text-repr-fallback {display: none;}</style><div id=\"sk-container-id-1\" class=\"sk-top-container\"><div class=\"sk-text-repr-fallback\"><pre>RidgeClassifier()</pre><b>In a Jupyter environment, please rerun this cell to show the HTML representation or trust the notebook. <br />On GitHub, the HTML representation is unable to render, please try loading this page with nbviewer.org.</b></div><div class=\"sk-container\" hidden><div class=\"sk-item\"><div class=\"sk-estimator sk-toggleable\"><input class=\"sk-toggleable__control sk-hidden--visually\" id=\"sk-estimator-id-1\" type=\"checkbox\" checked><label for=\"sk-estimator-id-1\" class=\"sk-toggleable__label sk-toggleable__label-arrow\">RidgeClassifier</label><div class=\"sk-toggleable__content\"><pre>RidgeClassifier()</pre></div></div></div></div></div>"
      ],
      "text/plain": [
       "RidgeClassifier()"
      ]
     },
     "execution_count": 13,
     "metadata": {},
     "output_type": "execute_result"
    }
   ],
   "source": [
    "clf.fit(train_vectors, df_train[\"target\"])"
   ]
  },
  {
   "cell_type": "code",
   "execution_count": 14,
   "id": "d16458bd",
   "metadata": {
    "execution": {
     "iopub.execute_input": "2023-05-22T12:12:04.787306Z",
     "iopub.status.busy": "2023-05-22T12:12:04.786519Z",
     "iopub.status.idle": "2023-05-22T12:12:04.809846Z",
     "shell.execute_reply": "2023-05-22T12:12:04.807846Z"
    },
    "papermill": {
     "duration": 0.050246,
     "end_time": "2023-05-22T12:12:04.816356",
     "exception": false,
     "start_time": "2023-05-22T12:12:04.766110",
     "status": "completed"
    },
    "tags": []
   },
   "outputs": [],
   "source": [
    "sample_submission = pd.read_csv(\"/kaggle/input/nlp-getting-started/sample_submission.csv\")"
   ]
  },
  {
   "cell_type": "code",
   "execution_count": 15,
   "id": "0932af40",
   "metadata": {
    "execution": {
     "iopub.execute_input": "2023-05-22T12:12:04.847532Z",
     "iopub.status.busy": "2023-05-22T12:12:04.847155Z",
     "iopub.status.idle": "2023-05-22T12:12:04.854009Z",
     "shell.execute_reply": "2023-05-22T12:12:04.853060Z"
    },
    "papermill": {
     "duration": 0.022928,
     "end_time": "2023-05-22T12:12:04.856536",
     "exception": false,
     "start_time": "2023-05-22T12:12:04.833608",
     "status": "completed"
    },
    "tags": []
   },
   "outputs": [],
   "source": [
    "sample_submission[\"target\"] = clf.predict(test_vectors)"
   ]
  },
  {
   "cell_type": "code",
   "execution_count": 16,
   "id": "83cbe4a3",
   "metadata": {
    "execution": {
     "iopub.execute_input": "2023-05-22T12:12:04.875635Z",
     "iopub.status.busy": "2023-05-22T12:12:04.874875Z",
     "iopub.status.idle": "2023-05-22T12:12:04.884924Z",
     "shell.execute_reply": "2023-05-22T12:12:04.883853Z"
    },
    "papermill": {
     "duration": 0.022974,
     "end_time": "2023-05-22T12:12:04.887517",
     "exception": false,
     "start_time": "2023-05-22T12:12:04.864543",
     "status": "completed"
    },
    "tags": []
   },
   "outputs": [
    {
     "data": {
      "text/html": [
       "<div>\n",
       "<style scoped>\n",
       "    .dataframe tbody tr th:only-of-type {\n",
       "        vertical-align: middle;\n",
       "    }\n",
       "\n",
       "    .dataframe tbody tr th {\n",
       "        vertical-align: top;\n",
       "    }\n",
       "\n",
       "    .dataframe thead th {\n",
       "        text-align: right;\n",
       "    }\n",
       "</style>\n",
       "<table border=\"1\" class=\"dataframe\">\n",
       "  <thead>\n",
       "    <tr style=\"text-align: right;\">\n",
       "      <th></th>\n",
       "      <th>id</th>\n",
       "      <th>target</th>\n",
       "    </tr>\n",
       "  </thead>\n",
       "  <tbody>\n",
       "    <tr>\n",
       "      <th>0</th>\n",
       "      <td>0</td>\n",
       "      <td>0</td>\n",
       "    </tr>\n",
       "    <tr>\n",
       "      <th>1</th>\n",
       "      <td>2</td>\n",
       "      <td>1</td>\n",
       "    </tr>\n",
       "    <tr>\n",
       "      <th>2</th>\n",
       "      <td>3</td>\n",
       "      <td>1</td>\n",
       "    </tr>\n",
       "    <tr>\n",
       "      <th>3</th>\n",
       "      <td>9</td>\n",
       "      <td>0</td>\n",
       "    </tr>\n",
       "    <tr>\n",
       "      <th>4</th>\n",
       "      <td>11</td>\n",
       "      <td>1</td>\n",
       "    </tr>\n",
       "  </tbody>\n",
       "</table>\n",
       "</div>"
      ],
      "text/plain": [
       "   id  target\n",
       "0   0       0\n",
       "1   2       1\n",
       "2   3       1\n",
       "3   9       0\n",
       "4  11       1"
      ]
     },
     "execution_count": 16,
     "metadata": {},
     "output_type": "execute_result"
    }
   ],
   "source": [
    "sample_submission.head()"
   ]
  },
  {
   "cell_type": "code",
   "execution_count": 17,
   "id": "1a3520b5",
   "metadata": {
    "execution": {
     "iopub.execute_input": "2023-05-22T12:12:04.906860Z",
     "iopub.status.busy": "2023-05-22T12:12:04.906045Z",
     "iopub.status.idle": "2023-05-22T12:12:04.928421Z",
     "shell.execute_reply": "2023-05-22T12:12:04.927135Z"
    },
    "papermill": {
     "duration": 0.035574,
     "end_time": "2023-05-22T12:12:04.931284",
     "exception": false,
     "start_time": "2023-05-22T12:12:04.895710",
     "status": "completed"
    },
    "tags": []
   },
   "outputs": [],
   "source": [
    "sample_submission.to_csv(\"submission.csv\")"
   ]
  },
  {
   "cell_type": "code",
   "execution_count": 18,
   "id": "79025085",
   "metadata": {
    "execution": {
     "iopub.execute_input": "2023-05-22T12:12:04.950770Z",
     "iopub.status.busy": "2023-05-22T12:12:04.949966Z",
     "iopub.status.idle": "2023-05-22T12:12:04.957355Z",
     "shell.execute_reply": "2023-05-22T12:12:04.955958Z"
    },
    "papermill": {
     "duration": 0.019795,
     "end_time": "2023-05-22T12:12:04.959886",
     "exception": false,
     "start_time": "2023-05-22T12:12:04.940091",
     "status": "completed"
    },
    "tags": []
   },
   "outputs": [
    {
     "name": "stdout",
     "output_type": "stream",
     "text": [
      "/kaggle/input/nlp-getting-started/sample_submission.csv\n",
      "/kaggle/input/nlp-getting-started/train.csv\n",
      "/kaggle/input/nlp-getting-started/test.csv\n"
     ]
    }
   ],
   "source": [
    "for dirname, _, filenames in os.walk('/kaggle/input'):\n",
    "    for filename in filenames:\n",
    "        print(os.path.join(dirname, filename))"
   ]
  },
  {
   "cell_type": "code",
   "execution_count": null,
   "id": "0d8c3660",
   "metadata": {
    "papermill": {
     "duration": 0.008106,
     "end_time": "2023-05-22T12:12:04.976380",
     "exception": false,
     "start_time": "2023-05-22T12:12:04.968274",
     "status": "completed"
    },
    "tags": []
   },
   "outputs": [],
   "source": []
  }
 ],
 "metadata": {
  "kernelspec": {
   "display_name": "Python 3",
   "language": "python",
   "name": "python3"
  },
  "language_info": {
   "codemirror_mode": {
    "name": "ipython",
    "version": 3
   },
   "file_extension": ".py",
   "mimetype": "text/x-python",
   "name": "python",
   "nbconvert_exporter": "python",
   "pygments_lexer": "ipython3",
   "version": "3.10.10"
  },
  "papermill": {
   "default_parameters": {},
   "duration": 31.815122,
   "end_time": "2023-05-22T12:12:07.873112",
   "environment_variables": {},
   "exception": null,
   "input_path": "__notebook__.ipynb",
   "output_path": "__notebook__.ipynb",
   "parameters": {},
   "start_time": "2023-05-22T12:11:36.057990",
   "version": "2.4.0"
  }
 },
 "nbformat": 4,
 "nbformat_minor": 5
}
