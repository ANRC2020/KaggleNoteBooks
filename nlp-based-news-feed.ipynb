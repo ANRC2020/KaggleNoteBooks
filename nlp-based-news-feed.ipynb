{
 "cells": [
  {
   "cell_type": "code",
   "execution_count": 1,
   "id": "1b643548",
   "metadata": {
    "execution": {
     "iopub.execute_input": "2023-06-23T04:46:56.269705Z",
     "iopub.status.busy": "2023-06-23T04:46:56.269225Z",
     "iopub.status.idle": "2023-06-23T04:46:56.282147Z",
     "shell.execute_reply": "2023-06-23T04:46:56.281230Z"
    },
    "papermill": {
     "duration": 0.019754,
     "end_time": "2023-06-23T04:46:56.284109",
     "exception": false,
     "start_time": "2023-06-23T04:46:56.264355",
     "status": "completed"
    },
    "tags": []
   },
   "outputs": [],
   "source": [
    "text = \"The White House thanked the US Coast Guard and international partners for their search and rescue efforts for the submersible that went missing on its way to the Titanic wreckage. 'This has been a testament to the skill and professionalism that the men and women who serve our nation continue to demonstrate every single day,' a White House spokesperson said. Earlier Thursday, the Coast Guard thanked experts and agencies from all over the world for assisting in the effort, calling it a “huge international” and “interagency” search. The White House spokesperson also expressed sympathy for the families of the five passengers onboard the submersible. 'Our hearts go out to the families and loved ones of those who lost their lives on the Titan. They have been through a harrowing ordeal over the past few days, and we are keeping them in our thoughts and prayers,' the spokesperson said.\""
   ]
  },
  {
   "cell_type": "code",
   "execution_count": 2,
   "id": "f0db4923",
   "metadata": {
    "execution": {
     "iopub.execute_input": "2023-06-23T04:46:56.290858Z",
     "iopub.status.busy": "2023-06-23T04:46:56.290065Z",
     "iopub.status.idle": "2023-06-23T04:47:36.755476Z",
     "shell.execute_reply": "2023-06-23T04:47:36.754351Z"
    },
    "papermill": {
     "duration": 40.471278,
     "end_time": "2023-06-23T04:47:36.758151",
     "exception": false,
     "start_time": "2023-06-23T04:46:56.286873",
     "status": "completed"
    },
    "tags": []
   },
   "outputs": [
    {
     "name": "stdout",
     "output_type": "stream",
     "text": [
      "Collecting sumy\r\n",
      "  Downloading sumy-0.11.0-py2.py3-none-any.whl (97 kB)\r\n",
      "\u001b[2K     \u001b[90m━━━━━━━━━━━━━━━━━━━━━━━━━━━━━━━━━━━━━━━━\u001b[0m \u001b[32m97.3/97.3 kB\u001b[0m \u001b[31m2.6 MB/s\u001b[0m eta \u001b[36m0:00:00\u001b[0m\r\n",
      "\u001b[?25hRequirement already satisfied: docopt<0.7,>=0.6.1 in /opt/conda/lib/python3.10/site-packages (from sumy) (0.6.2)\r\n",
      "Collecting breadability>=0.1.20 (from sumy)\r\n",
      "  Downloading breadability-0.1.20.tar.gz (32 kB)\r\n",
      "  Preparing metadata (setup.py) ... \u001b[?25l-\b \b\\\b \bdone\r\n",
      "\u001b[?25hRequirement already satisfied: requests>=2.7.0 in /opt/conda/lib/python3.10/site-packages (from sumy) (2.28.2)\r\n",
      "Collecting pycountry>=18.2.23 (from sumy)\r\n",
      "  Downloading pycountry-22.3.5.tar.gz (10.1 MB)\r\n",
      "\u001b[2K     \u001b[90m━━━━━━━━━━━━━━━━━━━━━━━━━━━━━━━━━━━━━━━━\u001b[0m \u001b[32m10.1/10.1 MB\u001b[0m \u001b[31m64.8 MB/s\u001b[0m eta \u001b[36m0:00:00\u001b[0m\r\n",
      "\u001b[?25h  Installing build dependencies ... \u001b[?25l-\b \b\\\b \b|\b \b/\b \bdone\r\n",
      "\u001b[?25h  Getting requirements to build wheel ... \u001b[?25l-\b \bdone\r\n",
      "\u001b[?25h  Preparing metadata (pyproject.toml) ... \u001b[?25l-\b \bdone\r\n",
      "\u001b[?25hRequirement already satisfied: nltk>=3.0.2 in /opt/conda/lib/python3.10/site-packages (from sumy) (3.2.4)\r\n",
      "Collecting chardet (from breadability>=0.1.20->sumy)\r\n",
      "  Downloading chardet-5.1.0-py3-none-any.whl (199 kB)\r\n",
      "\u001b[2K     \u001b[90m━━━━━━━━━━━━━━━━━━━━━━━━━━━━━━━━━━━━━━\u001b[0m \u001b[32m199.1/199.1 kB\u001b[0m \u001b[31m15.0 MB/s\u001b[0m eta \u001b[36m0:00:00\u001b[0m\r\n",
      "\u001b[?25hRequirement already satisfied: lxml>=2.0 in /opt/conda/lib/python3.10/site-packages (from breadability>=0.1.20->sumy) (4.9.2)\r\n",
      "Requirement already satisfied: six in /opt/conda/lib/python3.10/site-packages (from nltk>=3.0.2->sumy) (1.16.0)\r\n",
      "Requirement already satisfied: setuptools in /opt/conda/lib/python3.10/site-packages (from pycountry>=18.2.23->sumy) (59.8.0)\r\n",
      "Requirement already satisfied: charset-normalizer<4,>=2 in /opt/conda/lib/python3.10/site-packages (from requests>=2.7.0->sumy) (2.1.1)\r\n",
      "Requirement already satisfied: idna<4,>=2.5 in /opt/conda/lib/python3.10/site-packages (from requests>=2.7.0->sumy) (3.4)\r\n",
      "Requirement already satisfied: urllib3<1.27,>=1.21.1 in /opt/conda/lib/python3.10/site-packages (from requests>=2.7.0->sumy) (1.26.15)\r\n",
      "Requirement already satisfied: certifi>=2017.4.17 in /opt/conda/lib/python3.10/site-packages (from requests>=2.7.0->sumy) (2023.5.7)\r\n",
      "Building wheels for collected packages: breadability, pycountry\r\n",
      "  Building wheel for breadability (setup.py) ... \u001b[?25l-\b \b\\\b \b|\b \bdone\r\n",
      "\u001b[?25h  Created wheel for breadability: filename=breadability-0.1.20-py2.py3-none-any.whl size=21714 sha256=7665634f9b22ac3d30377e7344cc4c31fc363f3c851ca25125a1c969a50e54e0\r\n",
      "  Stored in directory: /root/.cache/pip/wheels/64/22/90/b84fcc30e16598db20a0d41340616dbf9b1e82bbcc627b0b33\r\n",
      "  Building wheel for pycountry (pyproject.toml) ... \u001b[?25l-\b \b\\\b \b|\b \b/\b \b-\b \b\\\b \b|\b \b/\b \b-\b \b\\\b \b|\b \b/\b \b-\b \b\\\b \b|\b \b/\b \b-\b \b\\\b \b|\b \b/\b \b-\b \b\\\b \b|\b \b/\b \b-\b \b\\\b \bdone\r\n",
      "\u001b[?25h  Created wheel for pycountry: filename=pycountry-22.3.5-py2.py3-none-any.whl size=10681832 sha256=70447cef41186a273d93f8111212ff7fc79d84a8b7340b57383f1c049d7862d6\r\n",
      "  Stored in directory: /root/.cache/pip/wheels/03/57/cc/290c5252ec97a6d78d36479a3c5e5ecc76318afcb241ad9dbe\r\n",
      "Successfully built breadability pycountry\r\n",
      "Installing collected packages: pycountry, chardet, breadability, sumy\r\n",
      "Successfully installed breadability-0.1.20 chardet-5.1.0 pycountry-22.3.5 sumy-0.11.0\r\n",
      "\u001b[33mWARNING: Running pip as the 'root' user can result in broken permissions and conflicting behaviour with the system package manager. It is recommended to use a virtual environment instead: https://pip.pypa.io/warnings/venv\u001b[0m\u001b[33m\r\n",
      "\u001b[0m"
     ]
    }
   ],
   "source": [
    "import numpy as np\n",
    "import pandas as pd\n",
    "import os\n",
    "!pip install sumy\n",
    "import sumy\n",
    "from sumy.parsers.html import HtmlParser\n",
    "from sumy.parsers.plaintext import PlaintextParser\n",
    "from sumy.nlp.tokenizers import Tokenizer\n",
    "from sumy.summarizers.lsa import LsaSummarizer \n",
    "from sumy.summarizers.lex_rank import LexRankSummarizer\n",
    "from sumy.nlp.stemmers import Stemmer\n",
    "from sumy.utils import get_stop_words"
   ]
  },
  {
   "cell_type": "code",
   "execution_count": 3,
   "id": "03e8eade",
   "metadata": {
    "execution": {
     "iopub.execute_input": "2023-06-23T04:47:36.775288Z",
     "iopub.status.busy": "2023-06-23T04:47:36.774273Z",
     "iopub.status.idle": "2023-06-23T04:47:36.860888Z",
     "shell.execute_reply": "2023-06-23T04:47:36.859832Z"
    },
    "papermill": {
     "duration": 0.097736,
     "end_time": "2023-06-23T04:47:36.863242",
     "exception": false,
     "start_time": "2023-06-23T04:47:36.765506",
     "status": "completed"
    },
    "tags": []
   },
   "outputs": [
    {
     "name": "stdout",
     "output_type": "stream",
     "text": [
      "The White House thanked the US Coast Guard and international partners for their search and rescue efforts for the submersible that went missing on its way to the Titanic wreckage.Earlier Thursday, the Coast Guard thanked experts and agencies from all over the world for assisting in the effort, calling it a “huge international” and “interagency” search.\n"
     ]
    }
   ],
   "source": [
    "# Load Packages\n",
    "from sumy.parsers.plaintext import PlaintextParser\n",
    "from sumy.nlp.tokenizers import Tokenizer\n",
    "\n",
    "# Creating text parser using tokenization\n",
    "parser = PlaintextParser.from_string(text, Tokenizer(\"english\"))\n",
    "\n",
    "from sumy.summarizers.text_rank import TextRankSummarizer\n",
    "\n",
    "# Summarize using sumy TextRank\n",
    "summarizer = TextRankSummarizer()\n",
    "summary = summarizer(parser.document, 2)\n",
    "\n",
    "text_summary = \"\"\n",
    "for sentence in summary:\n",
    "    text_summary += str(sentence)\n",
    "\n",
    "print(text_summary)"
   ]
  },
  {
   "cell_type": "code",
   "execution_count": 4,
   "id": "2940e57d",
   "metadata": {
    "execution": {
     "iopub.execute_input": "2023-06-23T04:47:36.881084Z",
     "iopub.status.busy": "2023-06-23T04:47:36.880102Z",
     "iopub.status.idle": "2023-06-23T04:47:36.892103Z",
     "shell.execute_reply": "2023-06-23T04:47:36.889600Z"
    },
    "papermill": {
     "duration": 0.023376,
     "end_time": "2023-06-23T04:47:36.894655",
     "exception": false,
     "start_time": "2023-06-23T04:47:36.871279",
     "status": "completed"
    },
    "tags": []
   },
   "outputs": [
    {
     "name": "stdout",
     "output_type": "stream",
     "text": [
      "The White House spokesperson also expressed sympathy for the families of the five passengers onboard the submersible.\n"
     ]
    }
   ],
   "source": [
    "from sumy.parsers.plaintext import PlaintextParser\n",
    "from sumy.nlp.tokenizers import Tokenizer\n",
    "from sumy.summarizers.lex_rank import LexRankSummarizer\n",
    "\n",
    "def sumy_method(text):\n",
    "    parser = PlaintextParser.from_string(text, Tokenizer(\"english\"))\n",
    "    \n",
    "summarizer = LexRankSummarizer()\n",
    "#Summarize the document with 2 sentences\n",
    "summary = summarizer(parser.document, 2)\n",
    "dp = []\n",
    "for i in summary:\n",
    "    lp = str(i)\n",
    "dp.append(lp)\n",
    "final_sentence = ' '.join(dp)\n",
    "\n",
    "print(final_sentence)"
   ]
  },
  {
   "cell_type": "code",
   "execution_count": 5,
   "id": "6c807802",
   "metadata": {
    "execution": {
     "iopub.execute_input": "2023-06-23T04:47:36.913219Z",
     "iopub.status.busy": "2023-06-23T04:47:36.912202Z",
     "iopub.status.idle": "2023-06-23T04:47:36.921839Z",
     "shell.execute_reply": "2023-06-23T04:47:36.920716Z"
    },
    "papermill": {
     "duration": 0.0209,
     "end_time": "2023-06-23T04:47:36.923988",
     "exception": false,
     "start_time": "2023-06-23T04:47:36.903088",
     "status": "completed"
    },
    "tags": []
   },
   "outputs": [
    {
     "name": "stdout",
     "output_type": "stream",
     "text": [
      "Earlier Thursday, the Coast Guard thanked experts and agencies from all over the world for assisting in the effort, calling it a “huge international” and “interagency” search.\n"
     ]
    }
   ],
   "source": [
    "from sumy.summarizers.luhn import LuhnSummarizer\n",
    "def lunh_method(text):\n",
    "    parser = PlaintextParser.from_string(text, Tokenizer(\"english\"))\n",
    "summarizer_luhn = LuhnSummarizer()\n",
    "summary_1 = summarizer_luhn(parser.document, 2)\n",
    "dp = []\n",
    "for i in summary_1:\n",
    "    lp = str(i)\n",
    "dp.append(lp)\n",
    "final_sentence = ' '.join(dp)\n",
    "print(final_sentence)"
   ]
  },
  {
   "cell_type": "markdown",
   "id": "75700c17",
   "metadata": {
    "papermill": {
     "duration": 0.007348,
     "end_time": "2023-06-23T04:47:36.938996",
     "exception": false,
     "start_time": "2023-06-23T04:47:36.931648",
     "status": "completed"
    },
    "tags": []
   },
   "source": [
    "Source: https://www.topcoder.com/thrive/articles/text-summarization-in-nlp"
   ]
  }
 ],
 "metadata": {
  "kernelspec": {
   "display_name": "Python 3",
   "language": "python",
   "name": "python3"
  },
  "language_info": {
   "codemirror_mode": {
    "name": "ipython",
    "version": 3
   },
   "file_extension": ".py",
   "mimetype": "text/x-python",
   "name": "python",
   "nbconvert_exporter": "python",
   "pygments_lexer": "ipython3",
   "version": "3.10.10"
  },
  "papermill": {
   "default_parameters": {},
   "duration": 57.167825,
   "end_time": "2023-06-23T04:47:37.868788",
   "environment_variables": {},
   "exception": null,
   "input_path": "__notebook__.ipynb",
   "output_path": "__notebook__.ipynb",
   "parameters": {},
   "start_time": "2023-06-23T04:46:40.700963",
   "version": "2.4.0"
  }
 },
 "nbformat": 4,
 "nbformat_minor": 5
}
