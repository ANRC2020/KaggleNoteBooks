{
 "cells": [
  {
   "cell_type": "code",
   "execution_count": 1,
   "id": "28925650",
   "metadata": {
    "_cell_guid": "b1076dfc-b9ad-4769-8c92-a6c4dae69d19",
    "_uuid": "8f2839f25d086af736a60e9eeb907d3b93b6e0e5",
    "execution": {
     "iopub.execute_input": "2023-05-22T12:12:06.224970Z",
     "iopub.status.busy": "2023-05-22T12:12:06.224405Z",
     "iopub.status.idle": "2023-05-22T12:12:06.251761Z",
     "shell.execute_reply": "2023-05-22T12:12:06.249887Z"
    },
    "papermill": {
     "duration": 0.039341,
     "end_time": "2023-05-22T12:12:06.255325",
     "exception": false,
     "start_time": "2023-05-22T12:12:06.215984",
     "status": "completed"
    },
    "tags": []
   },
   "outputs": [
    {
     "name": "stdout",
     "output_type": "stream",
     "text": [
      "/kaggle/input/obesity-among-children-by-selected-characteristics/Obesity_among_children_and_adolescents_aged_2_19_years__by_selected_characteristics__United_States.csv\n"
     ]
    }
   ],
   "source": [
    "# This Python 3 environment comes with many helpful analytics libraries installed\n",
    "# It is defined by the kaggle/python Docker image: https://github.com/kaggle/docker-python\n",
    "# For example, here's several helpful packages to load\n",
    "\n",
    "import numpy as np # linear algebra\n",
    "import pandas as pd # data processing, CSV file I/O (e.g. pd.read_csv)\n",
    "\n",
    "# Input data files are available in the read-only \"../input/\" directory\n",
    "# For example, running this (by clicking run or pressing Shift+Enter) will list all files under the input directory\n",
    "\n",
    "import os\n",
    "for dirname, _, filenames in os.walk('/kaggle/input'):\n",
    "    for filename in filenames:\n",
    "        print(os.path.join(dirname, filename))\n",
    "\n",
    "# You can write up to 20GB to the current directory (/kaggle/working/) that gets preserved as output when you create a version using \"Save & Run All\" \n",
    "# You can also write temporary files to /kaggle/temp/, but they won't be saved outside of the current session"
   ]
  },
  {
   "cell_type": "code",
   "execution_count": 2,
   "id": "f1f685cf",
   "metadata": {
    "execution": {
     "iopub.execute_input": "2023-05-22T12:12:06.270865Z",
     "iopub.status.busy": "2023-05-22T12:12:06.270418Z",
     "iopub.status.idle": "2023-05-22T12:12:06.309062Z",
     "shell.execute_reply": "2023-05-22T12:12:06.308059Z"
    },
    "papermill": {
     "duration": 0.050193,
     "end_time": "2023-05-22T12:12:06.312156",
     "exception": false,
     "start_time": "2023-05-22T12:12:06.261963",
     "status": "completed"
    },
    "tags": []
   },
   "outputs": [],
   "source": [
    "df = pd.read_csv(\"/kaggle/input/obesity-among-children-by-selected-characteristics/Obesity_among_children_and_adolescents_aged_2_19_years__by_selected_characteristics__United_States.csv\")"
   ]
  },
  {
   "cell_type": "code",
   "execution_count": 3,
   "id": "16955521",
   "metadata": {
    "execution": {
     "iopub.execute_input": "2023-05-22T12:12:06.326941Z",
     "iopub.status.busy": "2023-05-22T12:12:06.326540Z",
     "iopub.status.idle": "2023-05-22T12:12:06.370096Z",
     "shell.execute_reply": "2023-05-22T12:12:06.368720Z"
    },
    "papermill": {
     "duration": 0.054994,
     "end_time": "2023-05-22T12:12:06.373648",
     "exception": false,
     "start_time": "2023-05-22T12:12:06.318654",
     "status": "completed"
    },
    "tags": []
   },
   "outputs": [
    {
     "data": {
      "text/html": [
       "<div>\n",
       "<style scoped>\n",
       "    .dataframe tbody tr th:only-of-type {\n",
       "        vertical-align: middle;\n",
       "    }\n",
       "\n",
       "    .dataframe tbody tr th {\n",
       "        vertical-align: top;\n",
       "    }\n",
       "\n",
       "    .dataframe thead th {\n",
       "        text-align: right;\n",
       "    }\n",
       "</style>\n",
       "<table border=\"1\" class=\"dataframe\">\n",
       "  <thead>\n",
       "    <tr style=\"text-align: right;\">\n",
       "      <th></th>\n",
       "      <th>INDICATOR</th>\n",
       "      <th>PANEL</th>\n",
       "      <th>PANEL_NUM</th>\n",
       "      <th>UNIT</th>\n",
       "      <th>UNIT_NUM</th>\n",
       "      <th>STUB_NAME</th>\n",
       "      <th>STUB_NAME_NUM</th>\n",
       "      <th>STUB_LABEL_NUM</th>\n",
       "      <th>STUB_LABEL</th>\n",
       "      <th>YEAR</th>\n",
       "      <th>YEAR_NUM</th>\n",
       "      <th>AGE</th>\n",
       "      <th>AGE_NUM</th>\n",
       "      <th>ESTIMATE</th>\n",
       "      <th>SE</th>\n",
       "      <th>FLAG</th>\n",
       "    </tr>\n",
       "  </thead>\n",
       "  <tbody>\n",
       "    <tr>\n",
       "      <th>0</th>\n",
       "      <td>Obesity among children and adolescents aged 2-...</td>\n",
       "      <td>2-19 years</td>\n",
       "      <td>1</td>\n",
       "      <td>Percent of population, crude</td>\n",
       "      <td>1</td>\n",
       "      <td>Total</td>\n",
       "      <td>0</td>\n",
       "      <td>0.0</td>\n",
       "      <td>2-19 years</td>\n",
       "      <td>1988-1994</td>\n",
       "      <td>1</td>\n",
       "      <td>2-19 years</td>\n",
       "      <td>0.0</td>\n",
       "      <td>10.0</td>\n",
       "      <td>0.5</td>\n",
       "      <td>NaN</td>\n",
       "    </tr>\n",
       "    <tr>\n",
       "      <th>1</th>\n",
       "      <td>Obesity among children and adolescents aged 2-...</td>\n",
       "      <td>2-19 years</td>\n",
       "      <td>1</td>\n",
       "      <td>Percent of population, crude</td>\n",
       "      <td>1</td>\n",
       "      <td>Total</td>\n",
       "      <td>0</td>\n",
       "      <td>0.0</td>\n",
       "      <td>2-19 years</td>\n",
       "      <td>1999-2002</td>\n",
       "      <td>2</td>\n",
       "      <td>2-19 years</td>\n",
       "      <td>0.0</td>\n",
       "      <td>14.8</td>\n",
       "      <td>0.7</td>\n",
       "      <td>NaN</td>\n",
       "    </tr>\n",
       "    <tr>\n",
       "      <th>2</th>\n",
       "      <td>Obesity among children and adolescents aged 2-...</td>\n",
       "      <td>2-19 years</td>\n",
       "      <td>1</td>\n",
       "      <td>Percent of population, crude</td>\n",
       "      <td>1</td>\n",
       "      <td>Total</td>\n",
       "      <td>0</td>\n",
       "      <td>0.0</td>\n",
       "      <td>2-19 years</td>\n",
       "      <td>2001-2004</td>\n",
       "      <td>3</td>\n",
       "      <td>2-19 years</td>\n",
       "      <td>0.0</td>\n",
       "      <td>16.3</td>\n",
       "      <td>0.8</td>\n",
       "      <td>NaN</td>\n",
       "    </tr>\n",
       "    <tr>\n",
       "      <th>3</th>\n",
       "      <td>Obesity among children and adolescents aged 2-...</td>\n",
       "      <td>2-19 years</td>\n",
       "      <td>1</td>\n",
       "      <td>Percent of population, crude</td>\n",
       "      <td>1</td>\n",
       "      <td>Total</td>\n",
       "      <td>0</td>\n",
       "      <td>0.0</td>\n",
       "      <td>2-19 years</td>\n",
       "      <td>2003-2006</td>\n",
       "      <td>4</td>\n",
       "      <td>2-19 years</td>\n",
       "      <td>0.0</td>\n",
       "      <td>16.3</td>\n",
       "      <td>0.9</td>\n",
       "      <td>NaN</td>\n",
       "    </tr>\n",
       "    <tr>\n",
       "      <th>4</th>\n",
       "      <td>Obesity among children and adolescents aged 2-...</td>\n",
       "      <td>2-19 years</td>\n",
       "      <td>1</td>\n",
       "      <td>Percent of population, crude</td>\n",
       "      <td>1</td>\n",
       "      <td>Total</td>\n",
       "      <td>0</td>\n",
       "      <td>0.0</td>\n",
       "      <td>2-19 years</td>\n",
       "      <td>2005-2008</td>\n",
       "      <td>5</td>\n",
       "      <td>2-19 years</td>\n",
       "      <td>0.0</td>\n",
       "      <td>16.2</td>\n",
       "      <td>0.9</td>\n",
       "      <td>NaN</td>\n",
       "    </tr>\n",
       "  </tbody>\n",
       "</table>\n",
       "</div>"
      ],
      "text/plain": [
       "                                           INDICATOR       PANEL  PANEL_NUM  \\\n",
       "0  Obesity among children and adolescents aged 2-...  2-19 years          1   \n",
       "1  Obesity among children and adolescents aged 2-...  2-19 years          1   \n",
       "2  Obesity among children and adolescents aged 2-...  2-19 years          1   \n",
       "3  Obesity among children and adolescents aged 2-...  2-19 years          1   \n",
       "4  Obesity among children and adolescents aged 2-...  2-19 years          1   \n",
       "\n",
       "                           UNIT  UNIT_NUM STUB_NAME  STUB_NAME_NUM  \\\n",
       "0  Percent of population, crude         1     Total              0   \n",
       "1  Percent of population, crude         1     Total              0   \n",
       "2  Percent of population, crude         1     Total              0   \n",
       "3  Percent of population, crude         1     Total              0   \n",
       "4  Percent of population, crude         1     Total              0   \n",
       "\n",
       "   STUB_LABEL_NUM  STUB_LABEL       YEAR  YEAR_NUM         AGE  AGE_NUM  \\\n",
       "0             0.0  2-19 years  1988-1994         1  2-19 years      0.0   \n",
       "1             0.0  2-19 years  1999-2002         2  2-19 years      0.0   \n",
       "2             0.0  2-19 years  2001-2004         3  2-19 years      0.0   \n",
       "3             0.0  2-19 years  2003-2006         4  2-19 years      0.0   \n",
       "4             0.0  2-19 years  2005-2008         5  2-19 years      0.0   \n",
       "\n",
       "   ESTIMATE   SE FLAG  \n",
       "0      10.0  0.5  NaN  \n",
       "1      14.8  0.7  NaN  \n",
       "2      16.3  0.8  NaN  \n",
       "3      16.3  0.9  NaN  \n",
       "4      16.2  0.9  NaN  "
      ]
     },
     "execution_count": 3,
     "metadata": {},
     "output_type": "execute_result"
    }
   ],
   "source": [
    "df.head()"
   ]
  },
  {
   "cell_type": "code",
   "execution_count": 4,
   "id": "f7bc616f",
   "metadata": {
    "execution": {
     "iopub.execute_input": "2023-05-22T12:12:06.388904Z",
     "iopub.status.busy": "2023-05-22T12:12:06.388503Z",
     "iopub.status.idle": "2023-05-22T12:12:06.402851Z",
     "shell.execute_reply": "2023-05-22T12:12:06.401459Z"
    },
    "papermill": {
     "duration": 0.025171,
     "end_time": "2023-05-22T12:12:06.405521",
     "exception": false,
     "start_time": "2023-05-22T12:12:06.380350",
     "status": "completed"
    },
    "tags": []
   },
   "outputs": [],
   "source": [
    "df.drop(labels=['INDICATOR', 'UNIT', 'FLAG'], inplace=True, axis=1)"
   ]
  },
  {
   "cell_type": "code",
   "execution_count": 5,
   "id": "7f5a44b6",
   "metadata": {
    "execution": {
     "iopub.execute_input": "2023-05-22T12:12:06.421137Z",
     "iopub.status.busy": "2023-05-22T12:12:06.420742Z",
     "iopub.status.idle": "2023-05-22T12:12:06.433902Z",
     "shell.execute_reply": "2023-05-22T12:12:06.432742Z"
    },
    "papermill": {
     "duration": 0.024429,
     "end_time": "2023-05-22T12:12:06.436621",
     "exception": false,
     "start_time": "2023-05-22T12:12:06.412192",
     "status": "completed"
    },
    "tags": []
   },
   "outputs": [],
   "source": [
    "for col in df:    \n",
    "    if df[col].dtype == \"object\":\n",
    "        df[col] = df[col].factorize()[0]"
   ]
  },
  {
   "cell_type": "code",
   "execution_count": 6,
   "id": "da7ce967",
   "metadata": {
    "execution": {
     "iopub.execute_input": "2023-05-22T12:12:06.452872Z",
     "iopub.status.busy": "2023-05-22T12:12:06.451577Z",
     "iopub.status.idle": "2023-05-22T12:12:06.471357Z",
     "shell.execute_reply": "2023-05-22T12:12:06.470063Z"
    },
    "papermill": {
     "duration": 0.030905,
     "end_time": "2023-05-22T12:12:06.474267",
     "exception": false,
     "start_time": "2023-05-22T12:12:06.443362",
     "status": "completed"
    },
    "tags": []
   },
   "outputs": [
    {
     "data": {
      "text/html": [
       "<div>\n",
       "<style scoped>\n",
       "    .dataframe tbody tr th:only-of-type {\n",
       "        vertical-align: middle;\n",
       "    }\n",
       "\n",
       "    .dataframe tbody tr th {\n",
       "        vertical-align: top;\n",
       "    }\n",
       "\n",
       "    .dataframe thead th {\n",
       "        text-align: right;\n",
       "    }\n",
       "</style>\n",
       "<table border=\"1\" class=\"dataframe\">\n",
       "  <thead>\n",
       "    <tr style=\"text-align: right;\">\n",
       "      <th></th>\n",
       "      <th>PANEL</th>\n",
       "      <th>PANEL_NUM</th>\n",
       "      <th>UNIT_NUM</th>\n",
       "      <th>STUB_NAME</th>\n",
       "      <th>STUB_NAME_NUM</th>\n",
       "      <th>STUB_LABEL_NUM</th>\n",
       "      <th>STUB_LABEL</th>\n",
       "      <th>YEAR</th>\n",
       "      <th>YEAR_NUM</th>\n",
       "      <th>AGE</th>\n",
       "      <th>AGE_NUM</th>\n",
       "      <th>ESTIMATE</th>\n",
       "      <th>SE</th>\n",
       "    </tr>\n",
       "  </thead>\n",
       "  <tbody>\n",
       "    <tr>\n",
       "      <th>0</th>\n",
       "      <td>0</td>\n",
       "      <td>1</td>\n",
       "      <td>1</td>\n",
       "      <td>0</td>\n",
       "      <td>0</td>\n",
       "      <td>0.0</td>\n",
       "      <td>0</td>\n",
       "      <td>0</td>\n",
       "      <td>1</td>\n",
       "      <td>0</td>\n",
       "      <td>0.0</td>\n",
       "      <td>10.0</td>\n",
       "      <td>0.5</td>\n",
       "    </tr>\n",
       "    <tr>\n",
       "      <th>1</th>\n",
       "      <td>0</td>\n",
       "      <td>1</td>\n",
       "      <td>1</td>\n",
       "      <td>0</td>\n",
       "      <td>0</td>\n",
       "      <td>0.0</td>\n",
       "      <td>0</td>\n",
       "      <td>1</td>\n",
       "      <td>2</td>\n",
       "      <td>0</td>\n",
       "      <td>0.0</td>\n",
       "      <td>14.8</td>\n",
       "      <td>0.7</td>\n",
       "    </tr>\n",
       "    <tr>\n",
       "      <th>2</th>\n",
       "      <td>0</td>\n",
       "      <td>1</td>\n",
       "      <td>1</td>\n",
       "      <td>0</td>\n",
       "      <td>0</td>\n",
       "      <td>0.0</td>\n",
       "      <td>0</td>\n",
       "      <td>2</td>\n",
       "      <td>3</td>\n",
       "      <td>0</td>\n",
       "      <td>0.0</td>\n",
       "      <td>16.3</td>\n",
       "      <td>0.8</td>\n",
       "    </tr>\n",
       "    <tr>\n",
       "      <th>3</th>\n",
       "      <td>0</td>\n",
       "      <td>1</td>\n",
       "      <td>1</td>\n",
       "      <td>0</td>\n",
       "      <td>0</td>\n",
       "      <td>0.0</td>\n",
       "      <td>0</td>\n",
       "      <td>3</td>\n",
       "      <td>4</td>\n",
       "      <td>0</td>\n",
       "      <td>0.0</td>\n",
       "      <td>16.3</td>\n",
       "      <td>0.9</td>\n",
       "    </tr>\n",
       "    <tr>\n",
       "      <th>4</th>\n",
       "      <td>0</td>\n",
       "      <td>1</td>\n",
       "      <td>1</td>\n",
       "      <td>0</td>\n",
       "      <td>0</td>\n",
       "      <td>0.0</td>\n",
       "      <td>0</td>\n",
       "      <td>4</td>\n",
       "      <td>5</td>\n",
       "      <td>0</td>\n",
       "      <td>0.0</td>\n",
       "      <td>16.2</td>\n",
       "      <td>0.9</td>\n",
       "    </tr>\n",
       "  </tbody>\n",
       "</table>\n",
       "</div>"
      ],
      "text/plain": [
       "   PANEL  PANEL_NUM  UNIT_NUM  STUB_NAME  STUB_NAME_NUM  STUB_LABEL_NUM  \\\n",
       "0      0          1         1          0              0             0.0   \n",
       "1      0          1         1          0              0             0.0   \n",
       "2      0          1         1          0              0             0.0   \n",
       "3      0          1         1          0              0             0.0   \n",
       "4      0          1         1          0              0             0.0   \n",
       "\n",
       "   STUB_LABEL  YEAR  YEAR_NUM  AGE  AGE_NUM  ESTIMATE   SE  \n",
       "0           0     0         1    0      0.0      10.0  0.5  \n",
       "1           0     1         2    0      0.0      14.8  0.7  \n",
       "2           0     2         3    0      0.0      16.3  0.8  \n",
       "3           0     3         4    0      0.0      16.3  0.9  \n",
       "4           0     4         5    0      0.0      16.2  0.9  "
      ]
     },
     "execution_count": 6,
     "metadata": {},
     "output_type": "execute_result"
    }
   ],
   "source": [
    "df.head()"
   ]
  },
  {
   "cell_type": "code",
   "execution_count": 7,
   "id": "6126fc8c",
   "metadata": {
    "execution": {
     "iopub.execute_input": "2023-05-22T12:12:06.490991Z",
     "iopub.status.busy": "2023-05-22T12:12:06.490090Z",
     "iopub.status.idle": "2023-05-22T12:12:06.498099Z",
     "shell.execute_reply": "2023-05-22T12:12:06.496923Z"
    },
    "papermill": {
     "duration": 0.019349,
     "end_time": "2023-05-22T12:12:06.500764",
     "exception": false,
     "start_time": "2023-05-22T12:12:06.481415",
     "status": "completed"
    },
    "tags": []
   },
   "outputs": [
    {
     "data": {
      "text/plain": [
       "(840, 13)"
      ]
     },
     "execution_count": 7,
     "metadata": {},
     "output_type": "execute_result"
    }
   ],
   "source": [
    "df.shape"
   ]
  },
  {
   "cell_type": "code",
   "execution_count": 8,
   "id": "86bb9a71",
   "metadata": {
    "execution": {
     "iopub.execute_input": "2023-05-22T12:12:06.517603Z",
     "iopub.status.busy": "2023-05-22T12:12:06.516644Z",
     "iopub.status.idle": "2023-05-22T12:12:06.524985Z",
     "shell.execute_reply": "2023-05-22T12:12:06.523719Z"
    },
    "papermill": {
     "duration": 0.019465,
     "end_time": "2023-05-22T12:12:06.527560",
     "exception": false,
     "start_time": "2023-05-22T12:12:06.508095",
     "status": "completed"
    },
    "tags": []
   },
   "outputs": [],
   "source": [
    "df = df.dropna()"
   ]
  },
  {
   "cell_type": "code",
   "execution_count": 9,
   "id": "4d2e472f",
   "metadata": {
    "execution": {
     "iopub.execute_input": "2023-05-22T12:12:06.544006Z",
     "iopub.status.busy": "2023-05-22T12:12:06.543615Z",
     "iopub.status.idle": "2023-05-22T12:12:06.562268Z",
     "shell.execute_reply": "2023-05-22T12:12:06.561092Z"
    },
    "papermill": {
     "duration": 0.029652,
     "end_time": "2023-05-22T12:12:06.564730",
     "exception": false,
     "start_time": "2023-05-22T12:12:06.535078",
     "status": "completed"
    },
    "tags": []
   },
   "outputs": [
    {
     "data": {
      "text/html": [
       "<div>\n",
       "<style scoped>\n",
       "    .dataframe tbody tr th:only-of-type {\n",
       "        vertical-align: middle;\n",
       "    }\n",
       "\n",
       "    .dataframe tbody tr th {\n",
       "        vertical-align: top;\n",
       "    }\n",
       "\n",
       "    .dataframe thead th {\n",
       "        text-align: right;\n",
       "    }\n",
       "</style>\n",
       "<table border=\"1\" class=\"dataframe\">\n",
       "  <thead>\n",
       "    <tr style=\"text-align: right;\">\n",
       "      <th></th>\n",
       "      <th>PANEL</th>\n",
       "      <th>PANEL_NUM</th>\n",
       "      <th>UNIT_NUM</th>\n",
       "      <th>STUB_NAME</th>\n",
       "      <th>STUB_NAME_NUM</th>\n",
       "      <th>STUB_LABEL_NUM</th>\n",
       "      <th>STUB_LABEL</th>\n",
       "      <th>YEAR</th>\n",
       "      <th>YEAR_NUM</th>\n",
       "      <th>AGE</th>\n",
       "      <th>AGE_NUM</th>\n",
       "      <th>ESTIMATE</th>\n",
       "      <th>SE</th>\n",
       "    </tr>\n",
       "  </thead>\n",
       "  <tbody>\n",
       "    <tr>\n",
       "      <th>0</th>\n",
       "      <td>0</td>\n",
       "      <td>1</td>\n",
       "      <td>1</td>\n",
       "      <td>0</td>\n",
       "      <td>0</td>\n",
       "      <td>0.0</td>\n",
       "      <td>0</td>\n",
       "      <td>0</td>\n",
       "      <td>1</td>\n",
       "      <td>0</td>\n",
       "      <td>0.0</td>\n",
       "      <td>10.0</td>\n",
       "      <td>0.5</td>\n",
       "    </tr>\n",
       "    <tr>\n",
       "      <th>1</th>\n",
       "      <td>0</td>\n",
       "      <td>1</td>\n",
       "      <td>1</td>\n",
       "      <td>0</td>\n",
       "      <td>0</td>\n",
       "      <td>0.0</td>\n",
       "      <td>0</td>\n",
       "      <td>1</td>\n",
       "      <td>2</td>\n",
       "      <td>0</td>\n",
       "      <td>0.0</td>\n",
       "      <td>14.8</td>\n",
       "      <td>0.7</td>\n",
       "    </tr>\n",
       "    <tr>\n",
       "      <th>2</th>\n",
       "      <td>0</td>\n",
       "      <td>1</td>\n",
       "      <td>1</td>\n",
       "      <td>0</td>\n",
       "      <td>0</td>\n",
       "      <td>0.0</td>\n",
       "      <td>0</td>\n",
       "      <td>2</td>\n",
       "      <td>3</td>\n",
       "      <td>0</td>\n",
       "      <td>0.0</td>\n",
       "      <td>16.3</td>\n",
       "      <td>0.8</td>\n",
       "    </tr>\n",
       "    <tr>\n",
       "      <th>3</th>\n",
       "      <td>0</td>\n",
       "      <td>1</td>\n",
       "      <td>1</td>\n",
       "      <td>0</td>\n",
       "      <td>0</td>\n",
       "      <td>0.0</td>\n",
       "      <td>0</td>\n",
       "      <td>3</td>\n",
       "      <td>4</td>\n",
       "      <td>0</td>\n",
       "      <td>0.0</td>\n",
       "      <td>16.3</td>\n",
       "      <td>0.9</td>\n",
       "    </tr>\n",
       "    <tr>\n",
       "      <th>4</th>\n",
       "      <td>0</td>\n",
       "      <td>1</td>\n",
       "      <td>1</td>\n",
       "      <td>0</td>\n",
       "      <td>0</td>\n",
       "      <td>0.0</td>\n",
       "      <td>0</td>\n",
       "      <td>4</td>\n",
       "      <td>5</td>\n",
       "      <td>0</td>\n",
       "      <td>0.0</td>\n",
       "      <td>16.2</td>\n",
       "      <td>0.9</td>\n",
       "    </tr>\n",
       "  </tbody>\n",
       "</table>\n",
       "</div>"
      ],
      "text/plain": [
       "   PANEL  PANEL_NUM  UNIT_NUM  STUB_NAME  STUB_NAME_NUM  STUB_LABEL_NUM  \\\n",
       "0      0          1         1          0              0             0.0   \n",
       "1      0          1         1          0              0             0.0   \n",
       "2      0          1         1          0              0             0.0   \n",
       "3      0          1         1          0              0             0.0   \n",
       "4      0          1         1          0              0             0.0   \n",
       "\n",
       "   STUB_LABEL  YEAR  YEAR_NUM  AGE  AGE_NUM  ESTIMATE   SE  \n",
       "0           0     0         1    0      0.0      10.0  0.5  \n",
       "1           0     1         2    0      0.0      14.8  0.7  \n",
       "2           0     2         3    0      0.0      16.3  0.8  \n",
       "3           0     3         4    0      0.0      16.3  0.9  \n",
       "4           0     4         5    0      0.0      16.2  0.9  "
      ]
     },
     "execution_count": 9,
     "metadata": {},
     "output_type": "execute_result"
    }
   ],
   "source": [
    "df.head()"
   ]
  },
  {
   "cell_type": "code",
   "execution_count": 10,
   "id": "18febcbf",
   "metadata": {
    "execution": {
     "iopub.execute_input": "2023-05-22T12:12:06.581215Z",
     "iopub.status.busy": "2023-05-22T12:12:06.580717Z",
     "iopub.status.idle": "2023-05-22T12:12:07.948771Z",
     "shell.execute_reply": "2023-05-22T12:12:07.947625Z"
    },
    "papermill": {
     "duration": 1.379804,
     "end_time": "2023-05-22T12:12:07.951638",
     "exception": false,
     "start_time": "2023-05-22T12:12:06.571834",
     "status": "completed"
    },
    "tags": []
   },
   "outputs": [
    {
     "name": "stderr",
     "output_type": "stream",
     "text": [
      "/opt/conda/lib/python3.10/site-packages/scipy/__init__.py:146: UserWarning: A NumPy version >=1.16.5 and <1.23.0 is required for this version of SciPy (detected version 1.23.5\n",
      "  warnings.warn(f\"A NumPy version >={np_minversion} and <{np_maxversion}\"\n"
     ]
    }
   ],
   "source": [
    "from sklearn.model_selection import train_test_split\n",
    "\n",
    "X_train, X_test, y_train, y_test = train_test_split(df.loc[:,df.columns != \"SE\"], df[\"SE\"], test_size=0.3)"
   ]
  },
  {
   "cell_type": "code",
   "execution_count": 11,
   "id": "e86d15b8",
   "metadata": {
    "execution": {
     "iopub.execute_input": "2023-05-22T12:12:07.968362Z",
     "iopub.status.busy": "2023-05-22T12:12:07.967669Z",
     "iopub.status.idle": "2023-05-22T12:12:08.125795Z",
     "shell.execute_reply": "2023-05-22T12:12:08.124787Z"
    },
    "papermill": {
     "duration": 0.1699,
     "end_time": "2023-05-22T12:12:08.128645",
     "exception": false,
     "start_time": "2023-05-22T12:12:07.958745",
     "status": "completed"
    },
    "tags": []
   },
   "outputs": [
    {
     "name": "stdout",
     "output_type": "stream",
     "text": [
      "This model has an RMSE of 0.43992068194660905\n",
      "\n"
     ]
    }
   ],
   "source": [
    "# Implement Linear Regression\n",
    "\n",
    "from sklearn.linear_model import LinearRegression\n",
    "\n",
    "reg = LinearRegression().fit(X_train, y_train)\n",
    "\n",
    "preds = reg.predict(X_test)\n",
    "\n",
    "RMSE = 0\n",
    "\n",
    "for i, entry in enumerate(preds):\n",
    "    RMSE += abs(entry - y_test.iloc[i])**2\n",
    "    \n",
    "RMSE = (RMSE/y_test.shape[0])**(.5)\n",
    "\n",
    "print(f\"This model has an RMSE of {RMSE}\\n\")"
   ]
  },
  {
   "cell_type": "code",
   "execution_count": 12,
   "id": "b7070bbe",
   "metadata": {
    "execution": {
     "iopub.execute_input": "2023-05-22T12:12:08.145813Z",
     "iopub.status.busy": "2023-05-22T12:12:08.144725Z",
     "iopub.status.idle": "2023-05-22T12:12:08.152434Z",
     "shell.execute_reply": "2023-05-22T12:12:08.151090Z"
    },
    "papermill": {
     "duration": 0.019749,
     "end_time": "2023-05-22T12:12:08.155609",
     "exception": false,
     "start_time": "2023-05-22T12:12:08.135860",
     "status": "completed"
    },
    "tags": []
   },
   "outputs": [],
   "source": [
    "# Implement SVM\n",
    "\n",
    "from sklearn.svm import SVR\n",
    "\n",
    "svr_rbf = SVR(kernel=\"rbf\", C=100, gamma=0.1, epsilon=0.1)\n",
    "svr_lin = SVR(kernel=\"linear\", C=100, gamma=\"auto\")\n",
    "svr_poly = SVR(kernel=\"poly\", C=100, gamma=\"auto\", degree=3, epsilon=0.1, coef0=1)"
   ]
  },
  {
   "cell_type": "code",
   "execution_count": 13,
   "id": "31bb3c00",
   "metadata": {
    "execution": {
     "iopub.execute_input": "2023-05-22T12:12:08.172103Z",
     "iopub.status.busy": "2023-05-22T12:12:08.171692Z",
     "iopub.status.idle": "2023-05-22T12:12:08.212726Z",
     "shell.execute_reply": "2023-05-22T12:12:08.211434Z"
    },
    "papermill": {
     "duration": 0.052693,
     "end_time": "2023-05-22T12:12:08.215470",
     "exception": false,
     "start_time": "2023-05-22T12:12:08.162777",
     "status": "completed"
    },
    "tags": []
   },
   "outputs": [
    {
     "name": "stdout",
     "output_type": "stream",
     "text": [
      "This model has an RMSE of 0.4164827213708397\n",
      "\n"
     ]
    }
   ],
   "source": [
    "preds = svr_rbf.fit(X_train, y_train).predict(X_test)\n",
    "\n",
    "RMSE = 0\n",
    "\n",
    "for i, entry in enumerate(preds):\n",
    "    RMSE += abs(entry - y_test.iloc[i])**2\n",
    "    \n",
    "RMSE = (RMSE/y_test.shape[0])**(.5)\n",
    "\n",
    "print(f\"This model has an RMSE of {RMSE}\\n\")"
   ]
  },
  {
   "cell_type": "code",
   "execution_count": 14,
   "id": "54524873",
   "metadata": {
    "execution": {
     "iopub.execute_input": "2023-05-22T12:12:08.233407Z",
     "iopub.status.busy": "2023-05-22T12:12:08.231916Z",
     "iopub.status.idle": "2023-05-22T12:12:15.776798Z",
     "shell.execute_reply": "2023-05-22T12:12:15.775346Z"
    },
    "papermill": {
     "duration": 7.557199,
     "end_time": "2023-05-22T12:12:15.780099",
     "exception": false,
     "start_time": "2023-05-22T12:12:08.222900",
     "status": "completed"
    },
    "tags": []
   },
   "outputs": [
    {
     "name": "stdout",
     "output_type": "stream",
     "text": [
      "This model has an RMSE of 0.44687546387186133\n",
      "\n"
     ]
    }
   ],
   "source": [
    "preds = svr_lin.fit(X_train, y_train).predict(X_test)\n",
    "\n",
    "RMSE = 0\n",
    "\n",
    "for i, entry in enumerate(preds):\n",
    "    RMSE += abs(entry - y_test.iloc[i])**2\n",
    "    \n",
    "RMSE = (RMSE/y_test.shape[0])**(.5)\n",
    "\n",
    "print(f\"This model has an RMSE of {RMSE}\\n\")"
   ]
  },
  {
   "cell_type": "code",
   "execution_count": 15,
   "id": "b1e069bf",
   "metadata": {
    "execution": {
     "iopub.execute_input": "2023-05-22T12:12:15.797422Z",
     "iopub.status.busy": "2023-05-22T12:12:15.796947Z",
     "iopub.status.idle": "2023-05-22T12:44:33.606110Z",
     "shell.execute_reply": "2023-05-22T12:44:33.604873Z"
    },
    "papermill": {
     "duration": 1937.828836,
     "end_time": "2023-05-22T12:44:33.616532",
     "exception": false,
     "start_time": "2023-05-22T12:12:15.787696",
     "status": "completed"
    },
    "tags": []
   },
   "outputs": [
    {
     "name": "stdout",
     "output_type": "stream",
     "text": [
      "This model has an RMSE of 4.363716690884403\n",
      "\n"
     ]
    }
   ],
   "source": [
    "preds = svr_poly.fit(X_train, y_train).predict(X_test)\n",
    "\n",
    "RMSE = 0\n",
    "\n",
    "for i, entry in enumerate(preds):\n",
    "    RMSE += abs(entry - y_test.iloc[i])**2\n",
    "    \n",
    "RMSE = (RMSE/y_test.shape[0])**(.5)\n",
    "\n",
    "print(f\"This model has an RMSE of {RMSE}\\n\")"
   ]
  },
  {
   "cell_type": "code",
   "execution_count": null,
   "id": "2a23abf5",
   "metadata": {
    "papermill": {
     "duration": 0.007937,
     "end_time": "2023-05-22T12:44:33.632249",
     "exception": false,
     "start_time": "2023-05-22T12:44:33.624312",
     "status": "completed"
    },
    "tags": []
   },
   "outputs": [],
   "source": []
  }
 ],
 "metadata": {
  "kernelspec": {
   "display_name": "Python 3",
   "language": "python",
   "name": "python3"
  },
  "language_info": {
   "codemirror_mode": {
    "name": "ipython",
    "version": 3
   },
   "file_extension": ".py",
   "mimetype": "text/x-python",
   "name": "python",
   "nbconvert_exporter": "python",
   "pygments_lexer": "ipython3",
   "version": "3.10.10"
  },
  "papermill": {
   "default_parameters": {},
   "duration": 1962.584528,
   "end_time": "2023-05-22T12:44:35.172825",
   "environment_variables": {},
   "exception": null,
   "input_path": "__notebook__.ipynb",
   "output_path": "__notebook__.ipynb",
   "parameters": {},
   "start_time": "2023-05-22T12:11:52.588297",
   "version": "2.4.0"
  }
 },
 "nbformat": 4,
 "nbformat_minor": 5
}
