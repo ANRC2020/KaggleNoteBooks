{
 "cells": [
  {
   "cell_type": "code",
   "execution_count": 1,
   "id": "bc8ee322",
   "metadata": {
    "_cell_guid": "b1076dfc-b9ad-4769-8c92-a6c4dae69d19",
    "_uuid": "8f2839f25d086af736a60e9eeb907d3b93b6e0e5",
    "execution": {
     "iopub.execute_input": "2023-05-22T12:03:11.033264Z",
     "iopub.status.busy": "2023-05-22T12:03:11.032514Z",
     "iopub.status.idle": "2023-05-22T12:03:11.057267Z",
     "shell.execute_reply": "2023-05-22T12:03:11.056072Z"
    },
    "papermill": {
     "duration": 0.037363,
     "end_time": "2023-05-22T12:03:11.060241",
     "exception": false,
     "start_time": "2023-05-22T12:03:11.022878",
     "status": "completed"
    },
    "tags": []
   },
   "outputs": [
    {
     "name": "stdout",
     "output_type": "stream",
     "text": [
      "/kaggle/input/online-chess-games/chess_games.csv\n"
     ]
    }
   ],
   "source": [
    "# This Python 3 environment comes with many helpful analytics libraries installed\n",
    "# It is defined by the kaggle/python Docker image: https://github.com/kaggle/docker-python\n",
    "# For example, here's several helpful packages to load\n",
    "\n",
    "import numpy as np # linear algebra\n",
    "import pandas as pd # data processing, CSV file I/O (e.g. pd.read_csv)\n",
    "\n",
    "# Input data files are available in the read-only \"../input/\" directory\n",
    "# For example, running this (by clicking run or pressing Shift+Enter) will list all files under the input directory\n",
    "\n",
    "import os\n",
    "for dirname, _, filenames in os.walk('/kaggle/input'):\n",
    "    for filename in filenames:\n",
    "        print(os.path.join(dirname, filename))\n",
    "\n",
    "# You can write up to 20GB to the current directory (/kaggle/working/) that gets preserved as output when you create a version using \"Save & Run All\" \n",
    "# You can also write temporary files to /kaggle/temp/, but they won't be saved outside of the current session"
   ]
  },
  {
   "cell_type": "code",
   "execution_count": 2,
   "id": "71d4edaa",
   "metadata": {
    "execution": {
     "iopub.execute_input": "2023-05-22T12:03:11.077071Z",
     "iopub.status.busy": "2023-05-22T12:03:11.076655Z",
     "iopub.status.idle": "2023-05-22T12:03:11.406384Z",
     "shell.execute_reply": "2023-05-22T12:03:11.405363Z"
    },
    "papermill": {
     "duration": 0.341796,
     "end_time": "2023-05-22T12:03:11.409455",
     "exception": false,
     "start_time": "2023-05-22T12:03:11.067659",
     "status": "completed"
    },
    "tags": []
   },
   "outputs": [],
   "source": [
    "df = pd.read_csv(\"/kaggle/input/online-chess-games/chess_games.csv\")"
   ]
  },
  {
   "cell_type": "code",
   "execution_count": 3,
   "id": "542a4561",
   "metadata": {
    "execution": {
     "iopub.execute_input": "2023-05-22T12:03:11.426199Z",
     "iopub.status.busy": "2023-05-22T12:03:11.425015Z",
     "iopub.status.idle": "2023-05-22T12:03:11.464913Z",
     "shell.execute_reply": "2023-05-22T12:03:11.463774Z"
    },
    "papermill": {
     "duration": 0.051006,
     "end_time": "2023-05-22T12:03:11.467430",
     "exception": false,
     "start_time": "2023-05-22T12:03:11.416424",
     "status": "completed"
    },
    "tags": []
   },
   "outputs": [
    {
     "data": {
      "text/html": [
       "<div>\n",
       "<style scoped>\n",
       "    .dataframe tbody tr th:only-of-type {\n",
       "        vertical-align: middle;\n",
       "    }\n",
       "\n",
       "    .dataframe tbody tr th {\n",
       "        vertical-align: top;\n",
       "    }\n",
       "\n",
       "    .dataframe thead th {\n",
       "        text-align: right;\n",
       "    }\n",
       "</style>\n",
       "<table border=\"1\" class=\"dataframe\">\n",
       "  <thead>\n",
       "    <tr style=\"text-align: right;\">\n",
       "      <th></th>\n",
       "      <th>game_id</th>\n",
       "      <th>rated</th>\n",
       "      <th>turns</th>\n",
       "      <th>victory_status</th>\n",
       "      <th>winner</th>\n",
       "      <th>time_increment</th>\n",
       "      <th>white_id</th>\n",
       "      <th>white_rating</th>\n",
       "      <th>black_id</th>\n",
       "      <th>black_rating</th>\n",
       "      <th>moves</th>\n",
       "      <th>opening_code</th>\n",
       "      <th>opening_moves</th>\n",
       "      <th>opening_fullname</th>\n",
       "      <th>opening_shortname</th>\n",
       "      <th>opening_response</th>\n",
       "      <th>opening_variation</th>\n",
       "    </tr>\n",
       "  </thead>\n",
       "  <tbody>\n",
       "    <tr>\n",
       "      <th>0</th>\n",
       "      <td>1</td>\n",
       "      <td>False</td>\n",
       "      <td>13</td>\n",
       "      <td>Out of Time</td>\n",
       "      <td>White</td>\n",
       "      <td>15+2</td>\n",
       "      <td>bourgris</td>\n",
       "      <td>1500</td>\n",
       "      <td>a-00</td>\n",
       "      <td>1191</td>\n",
       "      <td>d4 d5 c4 c6 cxd5 e6 dxe6 fxe6 Nf3 Bb4+ Nc3 Ba5...</td>\n",
       "      <td>D10</td>\n",
       "      <td>5</td>\n",
       "      <td>Slav Defense: Exchange Variation</td>\n",
       "      <td>Slav Defense</td>\n",
       "      <td>NaN</td>\n",
       "      <td>Exchange Variation</td>\n",
       "    </tr>\n",
       "    <tr>\n",
       "      <th>1</th>\n",
       "      <td>2</td>\n",
       "      <td>True</td>\n",
       "      <td>16</td>\n",
       "      <td>Resign</td>\n",
       "      <td>Black</td>\n",
       "      <td>5+10</td>\n",
       "      <td>a-00</td>\n",
       "      <td>1322</td>\n",
       "      <td>skinnerua</td>\n",
       "      <td>1261</td>\n",
       "      <td>d4 Nc6 e4 e5 f4 f6 dxe5 fxe5 fxe5 Nxe5 Qd4 Nc6...</td>\n",
       "      <td>B00</td>\n",
       "      <td>4</td>\n",
       "      <td>Nimzowitsch Defense: Kennedy Variation</td>\n",
       "      <td>Nimzowitsch Defense</td>\n",
       "      <td>NaN</td>\n",
       "      <td>Kennedy Variation</td>\n",
       "    </tr>\n",
       "    <tr>\n",
       "      <th>2</th>\n",
       "      <td>3</td>\n",
       "      <td>True</td>\n",
       "      <td>61</td>\n",
       "      <td>Mate</td>\n",
       "      <td>White</td>\n",
       "      <td>5+10</td>\n",
       "      <td>ischia</td>\n",
       "      <td>1496</td>\n",
       "      <td>a-00</td>\n",
       "      <td>1500</td>\n",
       "      <td>e4 e5 d3 d6 Be3 c6 Be2 b5 Nd2 a5 a4 c5 axb5 Nc...</td>\n",
       "      <td>C20</td>\n",
       "      <td>3</td>\n",
       "      <td>King's Pawn Game: Leonardis Variation</td>\n",
       "      <td>King's Pawn Game</td>\n",
       "      <td>NaN</td>\n",
       "      <td>Leonardis Variation</td>\n",
       "    </tr>\n",
       "    <tr>\n",
       "      <th>3</th>\n",
       "      <td>4</td>\n",
       "      <td>True</td>\n",
       "      <td>61</td>\n",
       "      <td>Mate</td>\n",
       "      <td>White</td>\n",
       "      <td>20+0</td>\n",
       "      <td>daniamurashov</td>\n",
       "      <td>1439</td>\n",
       "      <td>adivanov2009</td>\n",
       "      <td>1454</td>\n",
       "      <td>d4 d5 Nf3 Bf5 Nc3 Nf6 Bf4 Ng4 e3 Nc6 Be2 Qd7 O...</td>\n",
       "      <td>D02</td>\n",
       "      <td>3</td>\n",
       "      <td>Queen's Pawn Game: Zukertort Variation</td>\n",
       "      <td>Queen's Pawn Game</td>\n",
       "      <td>NaN</td>\n",
       "      <td>Zukertort Variation</td>\n",
       "    </tr>\n",
       "    <tr>\n",
       "      <th>4</th>\n",
       "      <td>5</td>\n",
       "      <td>True</td>\n",
       "      <td>95</td>\n",
       "      <td>Mate</td>\n",
       "      <td>White</td>\n",
       "      <td>30+3</td>\n",
       "      <td>nik221107</td>\n",
       "      <td>1523</td>\n",
       "      <td>adivanov2009</td>\n",
       "      <td>1469</td>\n",
       "      <td>e4 e5 Nf3 d6 d4 Nc6 d5 Nb4 a3 Na6 Nc3 Be7 b4 N...</td>\n",
       "      <td>C41</td>\n",
       "      <td>5</td>\n",
       "      <td>Philidor Defense</td>\n",
       "      <td>Philidor Defense</td>\n",
       "      <td>NaN</td>\n",
       "      <td>NaN</td>\n",
       "    </tr>\n",
       "  </tbody>\n",
       "</table>\n",
       "</div>"
      ],
      "text/plain": [
       "   game_id  rated  turns victory_status winner time_increment       white_id  \\\n",
       "0        1  False     13    Out of Time  White           15+2       bourgris   \n",
       "1        2   True     16         Resign  Black           5+10           a-00   \n",
       "2        3   True     61           Mate  White           5+10         ischia   \n",
       "3        4   True     61           Mate  White           20+0  daniamurashov   \n",
       "4        5   True     95           Mate  White           30+3      nik221107   \n",
       "\n",
       "   white_rating      black_id  black_rating  \\\n",
       "0          1500          a-00          1191   \n",
       "1          1322     skinnerua          1261   \n",
       "2          1496          a-00          1500   \n",
       "3          1439  adivanov2009          1454   \n",
       "4          1523  adivanov2009          1469   \n",
       "\n",
       "                                               moves opening_code  \\\n",
       "0  d4 d5 c4 c6 cxd5 e6 dxe6 fxe6 Nf3 Bb4+ Nc3 Ba5...          D10   \n",
       "1  d4 Nc6 e4 e5 f4 f6 dxe5 fxe5 fxe5 Nxe5 Qd4 Nc6...          B00   \n",
       "2  e4 e5 d3 d6 Be3 c6 Be2 b5 Nd2 a5 a4 c5 axb5 Nc...          C20   \n",
       "3  d4 d5 Nf3 Bf5 Nc3 Nf6 Bf4 Ng4 e3 Nc6 Be2 Qd7 O...          D02   \n",
       "4  e4 e5 Nf3 d6 d4 Nc6 d5 Nb4 a3 Na6 Nc3 Be7 b4 N...          C41   \n",
       "\n",
       "   opening_moves                        opening_fullname    opening_shortname  \\\n",
       "0              5        Slav Defense: Exchange Variation         Slav Defense   \n",
       "1              4  Nimzowitsch Defense: Kennedy Variation  Nimzowitsch Defense   \n",
       "2              3   King's Pawn Game: Leonardis Variation     King's Pawn Game   \n",
       "3              3  Queen's Pawn Game: Zukertort Variation    Queen's Pawn Game   \n",
       "4              5                        Philidor Defense     Philidor Defense   \n",
       "\n",
       "  opening_response    opening_variation  \n",
       "0              NaN   Exchange Variation  \n",
       "1              NaN    Kennedy Variation  \n",
       "2              NaN  Leonardis Variation  \n",
       "3              NaN  Zukertort Variation  \n",
       "4              NaN                  NaN  "
      ]
     },
     "execution_count": 3,
     "metadata": {},
     "output_type": "execute_result"
    }
   ],
   "source": [
    "df.head()"
   ]
  },
  {
   "cell_type": "code",
   "execution_count": 4,
   "id": "26a8055a",
   "metadata": {
    "execution": {
     "iopub.execute_input": "2023-05-22T12:03:11.484442Z",
     "iopub.status.busy": "2023-05-22T12:03:11.484011Z",
     "iopub.status.idle": "2023-05-22T12:03:11.499443Z",
     "shell.execute_reply": "2023-05-22T12:03:11.498129Z"
    },
    "papermill": {
     "duration": 0.027065,
     "end_time": "2023-05-22T12:03:11.502064",
     "exception": false,
     "start_time": "2023-05-22T12:03:11.474999",
     "status": "completed"
    },
    "tags": []
   },
   "outputs": [],
   "source": [
    "df.drop(labels=['game_id','opening_response'], inplace=True, axis=1)"
   ]
  },
  {
   "cell_type": "code",
   "execution_count": 5,
   "id": "ac141882",
   "metadata": {
    "execution": {
     "iopub.execute_input": "2023-05-22T12:03:11.518925Z",
     "iopub.status.busy": "2023-05-22T12:03:11.518549Z",
     "iopub.status.idle": "2023-05-22T12:03:11.525319Z",
     "shell.execute_reply": "2023-05-22T12:03:11.524041Z"
    },
    "papermill": {
     "duration": 0.018634,
     "end_time": "2023-05-22T12:03:11.528076",
     "exception": false,
     "start_time": "2023-05-22T12:03:11.509442",
     "status": "completed"
    },
    "tags": []
   },
   "outputs": [
    {
     "data": {
      "text/plain": [
       "(20058, 15)"
      ]
     },
     "execution_count": 5,
     "metadata": {},
     "output_type": "execute_result"
    }
   ],
   "source": [
    "df.shape"
   ]
  },
  {
   "cell_type": "code",
   "execution_count": 6,
   "id": "7df32437",
   "metadata": {
    "execution": {
     "iopub.execute_input": "2023-05-22T12:03:11.545694Z",
     "iopub.status.busy": "2023-05-22T12:03:11.545274Z",
     "iopub.status.idle": "2023-05-22T12:03:11.564871Z",
     "shell.execute_reply": "2023-05-22T12:03:11.563583Z"
    },
    "papermill": {
     "duration": 0.031502,
     "end_time": "2023-05-22T12:03:11.567566",
     "exception": false,
     "start_time": "2023-05-22T12:03:11.536064",
     "status": "completed"
    },
    "tags": []
   },
   "outputs": [
    {
     "data": {
      "text/html": [
       "<div>\n",
       "<style scoped>\n",
       "    .dataframe tbody tr th:only-of-type {\n",
       "        vertical-align: middle;\n",
       "    }\n",
       "\n",
       "    .dataframe tbody tr th {\n",
       "        vertical-align: top;\n",
       "    }\n",
       "\n",
       "    .dataframe thead th {\n",
       "        text-align: right;\n",
       "    }\n",
       "</style>\n",
       "<table border=\"1\" class=\"dataframe\">\n",
       "  <thead>\n",
       "    <tr style=\"text-align: right;\">\n",
       "      <th></th>\n",
       "      <th>rated</th>\n",
       "      <th>turns</th>\n",
       "      <th>victory_status</th>\n",
       "      <th>winner</th>\n",
       "      <th>time_increment</th>\n",
       "      <th>white_id</th>\n",
       "      <th>white_rating</th>\n",
       "      <th>black_id</th>\n",
       "      <th>black_rating</th>\n",
       "      <th>moves</th>\n",
       "      <th>opening_code</th>\n",
       "      <th>opening_moves</th>\n",
       "      <th>opening_fullname</th>\n",
       "      <th>opening_shortname</th>\n",
       "      <th>opening_variation</th>\n",
       "    </tr>\n",
       "  </thead>\n",
       "  <tbody>\n",
       "    <tr>\n",
       "      <th>0</th>\n",
       "      <td>False</td>\n",
       "      <td>13</td>\n",
       "      <td>Out of Time</td>\n",
       "      <td>White</td>\n",
       "      <td>15+2</td>\n",
       "      <td>bourgris</td>\n",
       "      <td>1500</td>\n",
       "      <td>a-00</td>\n",
       "      <td>1191</td>\n",
       "      <td>d4 d5 c4 c6 cxd5 e6 dxe6 fxe6 Nf3 Bb4+ Nc3 Ba5...</td>\n",
       "      <td>D10</td>\n",
       "      <td>5</td>\n",
       "      <td>Slav Defense: Exchange Variation</td>\n",
       "      <td>Slav Defense</td>\n",
       "      <td>Exchange Variation</td>\n",
       "    </tr>\n",
       "    <tr>\n",
       "      <th>1</th>\n",
       "      <td>True</td>\n",
       "      <td>16</td>\n",
       "      <td>Resign</td>\n",
       "      <td>Black</td>\n",
       "      <td>5+10</td>\n",
       "      <td>a-00</td>\n",
       "      <td>1322</td>\n",
       "      <td>skinnerua</td>\n",
       "      <td>1261</td>\n",
       "      <td>d4 Nc6 e4 e5 f4 f6 dxe5 fxe5 fxe5 Nxe5 Qd4 Nc6...</td>\n",
       "      <td>B00</td>\n",
       "      <td>4</td>\n",
       "      <td>Nimzowitsch Defense: Kennedy Variation</td>\n",
       "      <td>Nimzowitsch Defense</td>\n",
       "      <td>Kennedy Variation</td>\n",
       "    </tr>\n",
       "    <tr>\n",
       "      <th>2</th>\n",
       "      <td>True</td>\n",
       "      <td>61</td>\n",
       "      <td>Mate</td>\n",
       "      <td>White</td>\n",
       "      <td>5+10</td>\n",
       "      <td>ischia</td>\n",
       "      <td>1496</td>\n",
       "      <td>a-00</td>\n",
       "      <td>1500</td>\n",
       "      <td>e4 e5 d3 d6 Be3 c6 Be2 b5 Nd2 a5 a4 c5 axb5 Nc...</td>\n",
       "      <td>C20</td>\n",
       "      <td>3</td>\n",
       "      <td>King's Pawn Game: Leonardis Variation</td>\n",
       "      <td>King's Pawn Game</td>\n",
       "      <td>Leonardis Variation</td>\n",
       "    </tr>\n",
       "    <tr>\n",
       "      <th>3</th>\n",
       "      <td>True</td>\n",
       "      <td>61</td>\n",
       "      <td>Mate</td>\n",
       "      <td>White</td>\n",
       "      <td>20+0</td>\n",
       "      <td>daniamurashov</td>\n",
       "      <td>1439</td>\n",
       "      <td>adivanov2009</td>\n",
       "      <td>1454</td>\n",
       "      <td>d4 d5 Nf3 Bf5 Nc3 Nf6 Bf4 Ng4 e3 Nc6 Be2 Qd7 O...</td>\n",
       "      <td>D02</td>\n",
       "      <td>3</td>\n",
       "      <td>Queen's Pawn Game: Zukertort Variation</td>\n",
       "      <td>Queen's Pawn Game</td>\n",
       "      <td>Zukertort Variation</td>\n",
       "    </tr>\n",
       "    <tr>\n",
       "      <th>4</th>\n",
       "      <td>True</td>\n",
       "      <td>95</td>\n",
       "      <td>Mate</td>\n",
       "      <td>White</td>\n",
       "      <td>30+3</td>\n",
       "      <td>nik221107</td>\n",
       "      <td>1523</td>\n",
       "      <td>adivanov2009</td>\n",
       "      <td>1469</td>\n",
       "      <td>e4 e5 Nf3 d6 d4 Nc6 d5 Nb4 a3 Na6 Nc3 Be7 b4 N...</td>\n",
       "      <td>C41</td>\n",
       "      <td>5</td>\n",
       "      <td>Philidor Defense</td>\n",
       "      <td>Philidor Defense</td>\n",
       "      <td>NaN</td>\n",
       "    </tr>\n",
       "  </tbody>\n",
       "</table>\n",
       "</div>"
      ],
      "text/plain": [
       "   rated  turns victory_status winner time_increment       white_id  \\\n",
       "0  False     13    Out of Time  White           15+2       bourgris   \n",
       "1   True     16         Resign  Black           5+10           a-00   \n",
       "2   True     61           Mate  White           5+10         ischia   \n",
       "3   True     61           Mate  White           20+0  daniamurashov   \n",
       "4   True     95           Mate  White           30+3      nik221107   \n",
       "\n",
       "   white_rating      black_id  black_rating  \\\n",
       "0          1500          a-00          1191   \n",
       "1          1322     skinnerua          1261   \n",
       "2          1496          a-00          1500   \n",
       "3          1439  adivanov2009          1454   \n",
       "4          1523  adivanov2009          1469   \n",
       "\n",
       "                                               moves opening_code  \\\n",
       "0  d4 d5 c4 c6 cxd5 e6 dxe6 fxe6 Nf3 Bb4+ Nc3 Ba5...          D10   \n",
       "1  d4 Nc6 e4 e5 f4 f6 dxe5 fxe5 fxe5 Nxe5 Qd4 Nc6...          B00   \n",
       "2  e4 e5 d3 d6 Be3 c6 Be2 b5 Nd2 a5 a4 c5 axb5 Nc...          C20   \n",
       "3  d4 d5 Nf3 Bf5 Nc3 Nf6 Bf4 Ng4 e3 Nc6 Be2 Qd7 O...          D02   \n",
       "4  e4 e5 Nf3 d6 d4 Nc6 d5 Nb4 a3 Na6 Nc3 Be7 b4 N...          C41   \n",
       "\n",
       "   opening_moves                        opening_fullname    opening_shortname  \\\n",
       "0              5        Slav Defense: Exchange Variation         Slav Defense   \n",
       "1              4  Nimzowitsch Defense: Kennedy Variation  Nimzowitsch Defense   \n",
       "2              3   King's Pawn Game: Leonardis Variation     King's Pawn Game   \n",
       "3              3  Queen's Pawn Game: Zukertort Variation    Queen's Pawn Game   \n",
       "4              5                        Philidor Defense     Philidor Defense   \n",
       "\n",
       "     opening_variation  \n",
       "0   Exchange Variation  \n",
       "1    Kennedy Variation  \n",
       "2  Leonardis Variation  \n",
       "3  Zukertort Variation  \n",
       "4                  NaN  "
      ]
     },
     "execution_count": 6,
     "metadata": {},
     "output_type": "execute_result"
    }
   ],
   "source": [
    "df.head()"
   ]
  },
  {
   "cell_type": "code",
   "execution_count": 7,
   "id": "3aeb2011",
   "metadata": {
    "execution": {
     "iopub.execute_input": "2023-05-22T12:03:11.585348Z",
     "iopub.status.busy": "2023-05-22T12:03:11.584380Z",
     "iopub.status.idle": "2023-05-22T12:03:11.659039Z",
     "shell.execute_reply": "2023-05-22T12:03:11.657666Z"
    },
    "papermill": {
     "duration": 0.087142,
     "end_time": "2023-05-22T12:03:11.662471",
     "exception": false,
     "start_time": "2023-05-22T12:03:11.575329",
     "status": "completed"
    },
    "tags": []
   },
   "outputs": [],
   "source": [
    "df.dropna(inplace=True)"
   ]
  },
  {
   "cell_type": "code",
   "execution_count": 8,
   "id": "0f01f9c3",
   "metadata": {
    "execution": {
     "iopub.execute_input": "2023-05-22T12:03:11.680942Z",
     "iopub.status.busy": "2023-05-22T12:03:11.680516Z",
     "iopub.status.idle": "2023-05-22T12:03:11.687636Z",
     "shell.execute_reply": "2023-05-22T12:03:11.686437Z"
    },
    "papermill": {
     "duration": 0.019233,
     "end_time": "2023-05-22T12:03:11.690130",
     "exception": false,
     "start_time": "2023-05-22T12:03:11.670897",
     "status": "completed"
    },
    "tags": []
   },
   "outputs": [
    {
     "data": {
      "text/plain": [
       "(14398, 15)"
      ]
     },
     "execution_count": 8,
     "metadata": {},
     "output_type": "execute_result"
    }
   ],
   "source": [
    "df.shape"
   ]
  },
  {
   "cell_type": "code",
   "execution_count": 9,
   "id": "a290eb0f",
   "metadata": {
    "execution": {
     "iopub.execute_input": "2023-05-22T12:03:11.707840Z",
     "iopub.status.busy": "2023-05-22T12:03:11.707454Z",
     "iopub.status.idle": "2023-05-22T12:03:13.174717Z",
     "shell.execute_reply": "2023-05-22T12:03:13.173534Z"
    },
    "papermill": {
     "duration": 1.479426,
     "end_time": "2023-05-22T12:03:13.177622",
     "exception": false,
     "start_time": "2023-05-22T12:03:11.698196",
     "status": "completed"
    },
    "tags": []
   },
   "outputs": [],
   "source": [
    "arr = []\n",
    "\n",
    "for i in range(df.shape[0]):\n",
    "    arr.append(len(df.iloc[i]['moves'].split(\" \")))\n",
    "\n",
    "temp = pd.DataFrame(data = {'Move Lens': arr})"
   ]
  },
  {
   "cell_type": "code",
   "execution_count": 10,
   "id": "04852e19",
   "metadata": {
    "execution": {
     "iopub.execute_input": "2023-05-22T12:03:13.195953Z",
     "iopub.status.busy": "2023-05-22T12:03:13.195502Z",
     "iopub.status.idle": "2023-05-22T12:03:13.205190Z",
     "shell.execute_reply": "2023-05-22T12:03:13.204088Z"
    },
    "papermill": {
     "duration": 0.021593,
     "end_time": "2023-05-22T12:03:13.207811",
     "exception": false,
     "start_time": "2023-05-22T12:03:13.186218",
     "status": "completed"
    },
    "tags": []
   },
   "outputs": [
    {
     "data": {
      "text/html": [
       "<div>\n",
       "<style scoped>\n",
       "    .dataframe tbody tr th:only-of-type {\n",
       "        vertical-align: middle;\n",
       "    }\n",
       "\n",
       "    .dataframe tbody tr th {\n",
       "        vertical-align: top;\n",
       "    }\n",
       "\n",
       "    .dataframe thead th {\n",
       "        text-align: right;\n",
       "    }\n",
       "</style>\n",
       "<table border=\"1\" class=\"dataframe\">\n",
       "  <thead>\n",
       "    <tr style=\"text-align: right;\">\n",
       "      <th></th>\n",
       "      <th>Move Lens</th>\n",
       "    </tr>\n",
       "  </thead>\n",
       "  <tbody>\n",
       "    <tr>\n",
       "      <th>0</th>\n",
       "      <td>13</td>\n",
       "    </tr>\n",
       "    <tr>\n",
       "      <th>1</th>\n",
       "      <td>16</td>\n",
       "    </tr>\n",
       "    <tr>\n",
       "      <th>2</th>\n",
       "      <td>61</td>\n",
       "    </tr>\n",
       "    <tr>\n",
       "      <th>3</th>\n",
       "      <td>61</td>\n",
       "    </tr>\n",
       "    <tr>\n",
       "      <th>4</th>\n",
       "      <td>5</td>\n",
       "    </tr>\n",
       "  </tbody>\n",
       "</table>\n",
       "</div>"
      ],
      "text/plain": [
       "   Move Lens\n",
       "0         13\n",
       "1         16\n",
       "2         61\n",
       "3         61\n",
       "4          5"
      ]
     },
     "execution_count": 10,
     "metadata": {},
     "output_type": "execute_result"
    }
   ],
   "source": [
    "temp.head()"
   ]
  },
  {
   "cell_type": "code",
   "execution_count": 11,
   "id": "cdd4dc4b",
   "metadata": {
    "execution": {
     "iopub.execute_input": "2023-05-22T12:03:13.227018Z",
     "iopub.status.busy": "2023-05-22T12:03:13.226586Z",
     "iopub.status.idle": "2023-05-22T12:03:13.590814Z",
     "shell.execute_reply": "2023-05-22T12:03:13.589727Z"
    },
    "papermill": {
     "duration": 0.377069,
     "end_time": "2023-05-22T12:03:13.593989",
     "exception": false,
     "start_time": "2023-05-22T12:03:13.216920",
     "status": "completed"
    },
    "tags": []
   },
   "outputs": [
    {
     "data": {
      "text/plain": [
       "<AxesSubplot: >"
      ]
     },
     "execution_count": 11,
     "metadata": {},
     "output_type": "execute_result"
    },
    {
     "data": {
      "image/png": "[encoded data removed]",
      "text/plain": [
       "<Figure size 640x480 with 1 Axes>"
      ]
     },
     "metadata": {},
     "output_type": "display_data"
    }
   ],
   "source": [
    "temp['Move Lens'].hist()"
   ]
  },
  {
   "cell_type": "code",
   "execution_count": 12,
   "id": "86364d9d",
   "metadata": {
    "execution": {
     "iopub.execute_input": "2023-05-22T12:03:13.614392Z",
     "iopub.status.busy": "2023-05-22T12:03:13.613984Z",
     "iopub.status.idle": "2023-05-22T12:03:13.663803Z",
     "shell.execute_reply": "2023-05-22T12:03:13.662416Z"
    },
    "papermill": {
     "duration": 0.06348,
     "end_time": "2023-05-22T12:03:13.666725",
     "exception": false,
     "start_time": "2023-05-22T12:03:13.603245",
     "status": "completed"
    },
    "tags": []
   },
   "outputs": [],
   "source": [
    "for col in df:\n",
    "    if df[col].dtype == 'object' or df[col].dtype == 'bool':\n",
    "        df[col] = df[col].factorize()[0]"
   ]
  },
  {
   "cell_type": "code",
   "execution_count": 13,
   "id": "2b3be955",
   "metadata": {
    "execution": {
     "iopub.execute_input": "2023-05-22T12:03:13.687123Z",
     "iopub.status.busy": "2023-05-22T12:03:13.686682Z",
     "iopub.status.idle": "2023-05-22T12:03:13.704981Z",
     "shell.execute_reply": "2023-05-22T12:03:13.703848Z"
    },
    "papermill": {
     "duration": 0.031642,
     "end_time": "2023-05-22T12:03:13.707687",
     "exception": false,
     "start_time": "2023-05-22T12:03:13.676045",
     "status": "completed"
    },
    "tags": []
   },
   "outputs": [
    {
     "data": {
      "text/html": [
       "<div>\n",
       "<style scoped>\n",
       "    .dataframe tbody tr th:only-of-type {\n",
       "        vertical-align: middle;\n",
       "    }\n",
       "\n",
       "    .dataframe tbody tr th {\n",
       "        vertical-align: top;\n",
       "    }\n",
       "\n",
       "    .dataframe thead th {\n",
       "        text-align: right;\n",
       "    }\n",
       "</style>\n",
       "<table border=\"1\" class=\"dataframe\">\n",
       "  <thead>\n",
       "    <tr style=\"text-align: right;\">\n",
       "      <th></th>\n",
       "      <th>rated</th>\n",
       "      <th>turns</th>\n",
       "      <th>victory_status</th>\n",
       "      <th>winner</th>\n",
       "      <th>time_increment</th>\n",
       "      <th>white_id</th>\n",
       "      <th>white_rating</th>\n",
       "      <th>black_id</th>\n",
       "      <th>black_rating</th>\n",
       "      <th>moves</th>\n",
       "      <th>opening_code</th>\n",
       "      <th>opening_moves</th>\n",
       "      <th>opening_fullname</th>\n",
       "      <th>opening_shortname</th>\n",
       "      <th>opening_variation</th>\n",
       "    </tr>\n",
       "  </thead>\n",
       "  <tbody>\n",
       "    <tr>\n",
       "      <th>0</th>\n",
       "      <td>0</td>\n",
       "      <td>13</td>\n",
       "      <td>0</td>\n",
       "      <td>0</td>\n",
       "      <td>0</td>\n",
       "      <td>0</td>\n",
       "      <td>1500</td>\n",
       "      <td>0</td>\n",
       "      <td>1191</td>\n",
       "      <td>0</td>\n",
       "      <td>0</td>\n",
       "      <td>5</td>\n",
       "      <td>0</td>\n",
       "      <td>0</td>\n",
       "      <td>0</td>\n",
       "    </tr>\n",
       "    <tr>\n",
       "      <th>1</th>\n",
       "      <td>1</td>\n",
       "      <td>16</td>\n",
       "      <td>1</td>\n",
       "      <td>1</td>\n",
       "      <td>1</td>\n",
       "      <td>1</td>\n",
       "      <td>1322</td>\n",
       "      <td>1</td>\n",
       "      <td>1261</td>\n",
       "      <td>1</td>\n",
       "      <td>1</td>\n",
       "      <td>4</td>\n",
       "      <td>1</td>\n",
       "      <td>1</td>\n",
       "      <td>1</td>\n",
       "    </tr>\n",
       "    <tr>\n",
       "      <th>2</th>\n",
       "      <td>1</td>\n",
       "      <td>61</td>\n",
       "      <td>2</td>\n",
       "      <td>0</td>\n",
       "      <td>1</td>\n",
       "      <td>2</td>\n",
       "      <td>1496</td>\n",
       "      <td>0</td>\n",
       "      <td>1500</td>\n",
       "      <td>2</td>\n",
       "      <td>2</td>\n",
       "      <td>3</td>\n",
       "      <td>2</td>\n",
       "      <td>2</td>\n",
       "      <td>2</td>\n",
       "    </tr>\n",
       "    <tr>\n",
       "      <th>3</th>\n",
       "      <td>1</td>\n",
       "      <td>61</td>\n",
       "      <td>2</td>\n",
       "      <td>0</td>\n",
       "      <td>2</td>\n",
       "      <td>3</td>\n",
       "      <td>1439</td>\n",
       "      <td>2</td>\n",
       "      <td>1454</td>\n",
       "      <td>3</td>\n",
       "      <td>3</td>\n",
       "      <td>3</td>\n",
       "      <td>3</td>\n",
       "      <td>3</td>\n",
       "      <td>3</td>\n",
       "    </tr>\n",
       "    <tr>\n",
       "      <th>5</th>\n",
       "      <td>0</td>\n",
       "      <td>5</td>\n",
       "      <td>3</td>\n",
       "      <td>2</td>\n",
       "      <td>3</td>\n",
       "      <td>4</td>\n",
       "      <td>1250</td>\n",
       "      <td>3</td>\n",
       "      <td>1002</td>\n",
       "      <td>4</td>\n",
       "      <td>4</td>\n",
       "      <td>4</td>\n",
       "      <td>4</td>\n",
       "      <td>4</td>\n",
       "      <td>4</td>\n",
       "    </tr>\n",
       "  </tbody>\n",
       "</table>\n",
       "</div>"
      ],
      "text/plain": [
       "   rated  turns  victory_status  winner  time_increment  white_id  \\\n",
       "0      0     13               0       0               0         0   \n",
       "1      1     16               1       1               1         1   \n",
       "2      1     61               2       0               1         2   \n",
       "3      1     61               2       0               2         3   \n",
       "5      0      5               3       2               3         4   \n",
       "\n",
       "   white_rating  black_id  black_rating  moves  opening_code  opening_moves  \\\n",
       "0          1500         0          1191      0             0              5   \n",
       "1          1322         1          1261      1             1              4   \n",
       "2          1496         0          1500      2             2              3   \n",
       "3          1439         2          1454      3             3              3   \n",
       "5          1250         3          1002      4             4              4   \n",
       "\n",
       "   opening_fullname  opening_shortname  opening_variation  \n",
       "0                 0                  0                  0  \n",
       "1                 1                  1                  1  \n",
       "2                 2                  2                  2  \n",
       "3                 3                  3                  3  \n",
       "5                 4                  4                  4  "
      ]
     },
     "execution_count": 13,
     "metadata": {},
     "output_type": "execute_result"
    }
   ],
   "source": [
    "df.head()"
   ]
  },
  {
   "cell_type": "code",
   "execution_count": 14,
   "id": "a348e6bc",
   "metadata": {
    "execution": {
     "iopub.execute_input": "2023-05-22T12:03:13.727519Z",
     "iopub.status.busy": "2023-05-22T12:03:13.727086Z",
     "iopub.status.idle": "2023-05-22T12:03:15.075936Z",
     "shell.execute_reply": "2023-05-22T12:03:15.074475Z"
    },
    "papermill": {
     "duration": 1.362019,
     "end_time": "2023-05-22T12:03:15.078733",
     "exception": false,
     "start_time": "2023-05-22T12:03:13.716714",
     "status": "completed"
    },
    "tags": []
   },
   "outputs": [
    {
     "name": "stderr",
     "output_type": "stream",
     "text": [
      "/opt/conda/lib/python3.10/site-packages/scipy/__init__.py:146: UserWarning: A NumPy version >=1.16.5 and <1.23.0 is required for this version of SciPy (detected version 1.23.5\n",
      "  warnings.warn(f\"A NumPy version >={np_minversion} and <{np_maxversion}\"\n"
     ]
    }
   ],
   "source": [
    "from sklearn.model_selection import train_test_split\n",
    "X_train, X_test, y_train, y_test = train_test_split(df.loc[:,df.columns != 'winner'], df['winner'], test_size=0.3)"
   ]
  },
  {
   "cell_type": "code",
   "execution_count": 15,
   "id": "87925fce",
   "metadata": {
    "execution": {
     "iopub.execute_input": "2023-05-22T12:03:15.099624Z",
     "iopub.status.busy": "2023-05-22T12:03:15.098554Z",
     "iopub.status.idle": "2023-05-22T12:03:15.771622Z",
     "shell.execute_reply": "2023-05-22T12:03:15.770385Z"
    },
    "papermill": {
     "duration": 0.687036,
     "end_time": "2023-05-22T12:03:15.774801",
     "exception": false,
     "start_time": "2023-05-22T12:03:15.087765",
     "status": "completed"
    },
    "tags": []
   },
   "outputs": [
    {
     "name": "stdout",
     "output_type": "stream",
     "text": [
      "0.5967592592592592\n"
     ]
    },
    {
     "name": "stderr",
     "output_type": "stream",
     "text": [
      "/opt/conda/lib/python3.10/site-packages/sklearn/linear_model/_logistic.py:458: ConvergenceWarning: lbfgs failed to converge (status=1):\n",
      "STOP: TOTAL NO. of ITERATIONS REACHED LIMIT.\n",
      "\n",
      "Increase the number of iterations (max_iter) or scale the data as shown in:\n",
      "    https://scikit-learn.org/stable/modules/preprocessing.html\n",
      "Please also refer to the documentation for alternative solver options:\n",
      "    https://scikit-learn.org/stable/modules/linear_model.html#logistic-regression\n",
      "  n_iter_i = _check_optimize_result(\n"
     ]
    }
   ],
   "source": [
    "from sklearn.linear_model import LogisticRegression\n",
    "\n",
    "LR = LogisticRegression().fit(X_train, y_train)\n",
    "\n",
    "preds = LR.predict(X_test)\n",
    "\n",
    "correct = 0\n",
    "\n",
    "for i, entry in enumerate(preds):\n",
    "    if entry == y_test.iloc[i]:\n",
    "        correct += 1\n",
    "\n",
    "print(correct/len(preds))"
   ]
  },
  {
   "cell_type": "code",
   "execution_count": 16,
   "id": "d19ddd16",
   "metadata": {
    "execution": {
     "iopub.execute_input": "2023-05-22T12:03:15.795445Z",
     "iopub.status.busy": "2023-05-22T12:03:15.794606Z",
     "iopub.status.idle": "2023-05-22T12:03:17.140901Z",
     "shell.execute_reply": "2023-05-22T12:03:17.139698Z"
    },
    "papermill": {
     "duration": 1.359894,
     "end_time": "2023-05-22T12:03:17.143768",
     "exception": false,
     "start_time": "2023-05-22T12:03:15.783874",
     "status": "completed"
    },
    "tags": []
   },
   "outputs": [],
   "source": [
    "# Importing LGBM and XGBOOST\n",
    "import lightgbm as lgb\n",
    "import xgboost as xgb"
   ]
  },
  {
   "cell_type": "code",
   "execution_count": 17,
   "id": "9979e0f8",
   "metadata": {
    "execution": {
     "iopub.execute_input": "2023-05-22T12:03:17.164871Z",
     "iopub.status.busy": "2023-05-22T12:03:17.164480Z",
     "iopub.status.idle": "2023-05-22T12:03:19.917801Z",
     "shell.execute_reply": "2023-05-22T12:03:19.916616Z"
    },
    "papermill": {
     "duration": 2.767248,
     "end_time": "2023-05-22T12:03:19.920370",
     "exception": false,
     "start_time": "2023-05-22T12:03:17.153122",
     "status": "completed"
    },
    "tags": []
   },
   "outputs": [
    {
     "name": "stdout",
     "output_type": "stream",
     "text": [
      "[12:03:17] WARNING: ../src/learner.cc:767: \n",
      "Parameters: { \"num_round\", \"silent\" } are not used.\n",
      "\n",
      "0.6986111111111111\n"
     ]
    }
   ],
   "source": [
    "xg=xgb.XGBClassifier(max_depth=7,learning_rate=0.05,silent=1,eta=1,num_round=50) \n",
    "  \n",
    "# Fitting the Model\n",
    "xg.fit(X_train,y_train) \n",
    "  \n",
    "preds = xg.predict(X_test)\n",
    "\n",
    "\n",
    "correct = 0\n",
    "\n",
    "for i, entry in enumerate(preds):\n",
    "    if entry == y_test.iloc[i]:\n",
    "        correct += 1\n",
    "\n",
    "print(correct/len(preds))\n"
   ]
  },
  {
   "cell_type": "code",
   "execution_count": 18,
   "id": "54b632f4",
   "metadata": {
    "execution": {
     "iopub.execute_input": "2023-05-22T12:03:19.943294Z",
     "iopub.status.busy": "2023-05-22T12:03:19.942449Z",
     "iopub.status.idle": "2023-05-22T12:03:21.099348Z",
     "shell.execute_reply": "2023-05-22T12:03:21.097538Z"
    },
    "papermill": {
     "duration": 1.171479,
     "end_time": "2023-05-22T12:03:21.101945",
     "exception": false,
     "start_time": "2023-05-22T12:03:19.930466",
     "status": "completed"
    },
    "tags": []
   },
   "outputs": [
    {
     "name": "stdout",
     "output_type": "stream",
     "text": [
      "[LightGBM] [Warning] Accuracy may be bad since you didn't explicitly set num_leaves OR 2^max_depth > num_leaves. (num_leaves=31).\n",
      "[LightGBM] [Warning] Accuracy may be bad since you didn't explicitly set num_leaves OR 2^max_depth > num_leaves. (num_leaves=31).\n",
      "[LightGBM] [Warning] Auto-choosing row-wise multi-threading, the overhead of testing was 0.005799 seconds.\n",
      "You can set `force_row_wise=true` to remove the overhead.\n",
      "And if memory is not enough, you can set `force_col_wise=true`.\n",
      "[LightGBM] [Info] Total Bins 2550\n",
      "[LightGBM] [Info] Number of data points in the train set: 10078, number of used features: 14\n",
      "[LightGBM] [Info] Start training from score -0.685240\n",
      "[LightGBM] [Info] Start training from score -0.804501\n",
      "[LightGBM] [Info] Start training from score -3.021666\n",
      "[LightGBM] [Warning] No further splits with positive gain, best gain: -inf\n",
      "[LightGBM] [Warning] No further splits with positive gain, best gain: -inf\n",
      "[LightGBM] [Warning] No further splits with positive gain, best gain: -inf\n",
      "[LightGBM] [Warning] No further splits with positive gain, best gain: -inf\n",
      "[LightGBM] [Warning] No further splits with positive gain, best gain: -inf\n",
      "[LightGBM] [Warning] No further splits with positive gain, best gain: -inf\n",
      "[LightGBM] [Warning] No further splits with positive gain, best gain: -inf\n",
      "[LightGBM] [Warning] No further splits with positive gain, best gain: -inf\n",
      "[LightGBM] [Warning] No further splits with positive gain, best gain: -inf\n",
      "[LightGBM] [Warning] No further splits with positive gain, best gain: -inf\n",
      "[LightGBM] [Warning] No further splits with positive gain, best gain: -inf\n",
      "[LightGBM] [Warning] No further splits with positive gain, best gain: -inf\n",
      "[LightGBM] [Warning] No further splits with positive gain, best gain: -inf\n",
      "[LightGBM] [Warning] No further splits with positive gain, best gain: -inf\n",
      "[LightGBM] [Warning] No further splits with positive gain, best gain: -inf\n",
      "[LightGBM] [Warning] No further splits with positive gain, best gain: -inf\n",
      "[LightGBM] [Warning] No further splits with positive gain, best gain: -inf\n",
      "[LightGBM] [Warning] No further splits with positive gain, best gain: -inf\n",
      "[LightGBM] [Warning] No further splits with positive gain, best gain: -inf\n",
      "[LightGBM] [Warning] No further splits with positive gain, best gain: -inf\n",
      "[LightGBM] [Warning] No further splits with positive gain, best gain: -inf\n",
      "[LightGBM] [Warning] No further splits with positive gain, best gain: -inf\n",
      "[LightGBM] [Warning] No further splits with positive gain, best gain: -inf\n",
      "[LightGBM] [Warning] No further splits with positive gain, best gain: -inf\n",
      "[LightGBM] [Warning] No further splits with positive gain, best gain: -inf\n",
      "[LightGBM] [Warning] No further splits with positive gain, best gain: -inf\n",
      "[LightGBM] [Warning] No further splits with positive gain, best gain: -inf\n",
      "[LightGBM] [Warning] No further splits with positive gain, best gain: -inf\n",
      "[LightGBM] [Warning] No further splits with positive gain, best gain: -inf\n",
      "[LightGBM] [Warning] No further splits with positive gain, best gain: -inf\n",
      "[LightGBM] [Warning] No further splits with positive gain, best gain: -inf\n",
      "[LightGBM] [Warning] No further splits with positive gain, best gain: -inf\n",
      "[LightGBM] [Warning] No further splits with positive gain, best gain: -inf\n",
      "[LightGBM] [Warning] No further splits with positive gain, best gain: -inf\n",
      "[LightGBM] [Warning] No further splits with positive gain, best gain: -inf\n",
      "[LightGBM] [Warning] No further splits with positive gain, best gain: -inf\n",
      "[LightGBM] [Warning] No further splits with positive gain, best gain: -inf\n",
      "[LightGBM] [Warning] No further splits with positive gain, best gain: -inf\n",
      "[LightGBM] [Warning] No further splits with positive gain, best gain: -inf\n",
      "[LightGBM] [Warning] No further splits with positive gain, best gain: -inf\n",
      "[LightGBM] [Warning] No further splits with positive gain, best gain: -inf\n",
      "[LightGBM] [Warning] No further splits with positive gain, best gain: -inf\n",
      "[LightGBM] [Warning] No further splits with positive gain, best gain: -inf\n",
      "[LightGBM] [Warning] No further splits with positive gain, best gain: -inf\n",
      "[LightGBM] [Warning] No further splits with positive gain, best gain: -inf\n",
      "0.8469907407407408\n"
     ]
    }
   ],
   "source": [
    "# Setting the Parameters and Training data for LightGBM Model\n",
    "data_train = lgb.Dataset(X_train,label = y_train)\n",
    "params= {}\n",
    "  \n",
    "# Usually set between 0 to 1.\n",
    "params['learning_rate']=0.5 \n",
    "  \n",
    "# GradientBoostingDecisionTree\n",
    "params['boosting_type']='gbdt' \n",
    "  \n",
    "# Multi-class since the target class has 6 classes.\n",
    "params['objective']='multiclass' \n",
    "  \n",
    "# # Metric for multi-class\n",
    "params['metric']='multi_logloss' \n",
    "params['max_depth']=7\n",
    "params['num_class']=3\n",
    "  \n",
    "# This value is not inclusive of the end value.\n",
    "# Hence we have 6 classes the value is set to 7.\n",
    "  \n",
    "# Training the LightGBM Model\n",
    "num_round =50\n",
    "\n",
    "lgbm = lgb.train(params,data_train,num_round)\n",
    "\n",
    "preds = lgbm.predict(X_test)\n",
    "\n",
    "temp = []\n",
    "\n",
    "for entry in preds:\n",
    "    entry = list(entry)\n",
    "    temp.append(entry.index(max(entry)))\n",
    "\n",
    "preds = temp\n",
    "    \n",
    "correct = 0\n",
    "\n",
    "for i, entry in enumerate(preds):\n",
    "    if entry == y_test.iloc[i]:\n",
    "        correct += 1\n",
    "\n",
    "print(correct/len(preds))\n"
   ]
  },
  {
   "cell_type": "code",
   "execution_count": null,
   "id": "ff1769a6",
   "metadata": {
    "papermill": {
     "duration": 0.009583,
     "end_time": "2023-05-22T12:03:21.122052",
     "exception": false,
     "start_time": "2023-05-22T12:03:21.112469",
     "status": "completed"
    },
    "tags": []
   },
   "outputs": [],
   "source": []
  }
 ],
 "metadata": {
  "kernelspec": {
   "display_name": "Python 3",
   "language": "python",
   "name": "python3"
  },
  "language_info": {
   "codemirror_mode": {
    "name": "ipython",
    "version": 3
   },
   "file_extension": ".py",
   "mimetype": "text/x-python",
   "name": "python",
   "nbconvert_exporter": "python",
   "pygments_lexer": "ipython3",
   "version": "3.10.10"
  },
  "papermill": {
   "default_parameters": {},
   "duration": 23.794986,
   "end_time": "2023-05-22T12:03:22.255348",
   "environment_variables": {},
   "exception": null,
   "input_path": "__notebook__.ipynb",
   "output_path": "__notebook__.ipynb",
   "parameters": {},
   "start_time": "2023-05-22T12:02:58.460362",
   "version": "2.4.0"
  }
 },
 "nbformat": 4,
 "nbformat_minor": 5
}
