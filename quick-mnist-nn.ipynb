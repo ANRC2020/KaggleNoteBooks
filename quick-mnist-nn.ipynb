{
 "cells": [
  {
   "cell_type": "code",
   "execution_count": 1,
   "id": "17a26db4",
   "metadata": {
    "_cell_guid": "b1076dfc-b9ad-4769-8c92-a6c4dae69d19",
    "_uuid": "8f2839f25d086af736a60e9eeb907d3b93b6e0e5",
    "execution": {
     "iopub.execute_input": "2023-05-22T11:45:40.595383Z",
     "iopub.status.busy": "2023-05-22T11:45:40.594898Z",
     "iopub.status.idle": "2023-05-22T11:45:40.621891Z",
     "shell.execute_reply": "2023-05-22T11:45:40.620451Z"
    },
    "papermill": {
     "duration": 0.036404,
     "end_time": "2023-05-22T11:45:40.625251",
     "exception": false,
     "start_time": "2023-05-22T11:45:40.588847",
     "status": "completed"
    },
    "tags": []
   },
   "outputs": [
    {
     "name": "stdout",
     "output_type": "stream",
     "text": [
      "/kaggle/input/mnist-in-csv/mnist_test.csv\n",
      "/kaggle/input/mnist-in-csv/mnist_train.csv\n"
     ]
    }
   ],
   "source": [
    "# This Python 3 environment comes with many helpful analytics libraries installed\n",
    "# It is defined by the kaggle/python Docker image: https://github.com/kaggle/docker-python\n",
    "# For example, here's several helpful packages to load\n",
    "\n",
    "import numpy as np # linear algebra\n",
    "import pandas as pd # data processing, CSV file I/O (e.g. pd.read_csv)\n",
    "\n",
    "# Input data files are available in the read-only \"../input/\" directory\n",
    "# For example, running this (by clicking run or pressing Shift+Enter) will list all files under the input directory\n",
    "\n",
    "import os\n",
    "for dirname, _, filenames in os.walk('/kaggle/input'):\n",
    "    for filename in filenames:\n",
    "        print(os.path.join(dirname, filename))\n",
    "\n",
    "# You can write up to 20GB to the current directory (/kaggle/working/) that gets preserved as output when you create a version using \"Save & Run All\" \n",
    "# You can also write temporary files to /kaggle/temp/, but they won't be saved outside of the current session"
   ]
  },
  {
   "cell_type": "code",
   "execution_count": 2,
   "id": "3b16e41e",
   "metadata": {
    "execution": {
     "iopub.execute_input": "2023-05-22T11:45:40.634515Z",
     "iopub.status.busy": "2023-05-22T11:45:40.633706Z",
     "iopub.status.idle": "2023-05-22T11:45:47.909965Z",
     "shell.execute_reply": "2023-05-22T11:45:47.908819Z"
    },
    "papermill": {
     "duration": 7.283906,
     "end_time": "2023-05-22T11:45:47.912742",
     "exception": false,
     "start_time": "2023-05-22T11:45:40.628836",
     "status": "completed"
    },
    "tags": []
   },
   "outputs": [],
   "source": [
    "df_train = pd.read_csv(\"/kaggle/input/mnist-in-csv/mnist_train.csv\")\n",
    "df_test = pd.read_csv(\"/kaggle/input/mnist-in-csv/mnist_test.csv\")"
   ]
  },
  {
   "cell_type": "code",
   "execution_count": 3,
   "id": "3a623085",
   "metadata": {
    "execution": {
     "iopub.execute_input": "2023-05-22T11:45:47.921516Z",
     "iopub.status.busy": "2023-05-22T11:45:47.921067Z",
     "iopub.status.idle": "2023-05-22T11:45:48.093116Z",
     "shell.execute_reply": "2023-05-22T11:45:48.091852Z"
    },
    "papermill": {
     "duration": 0.17977,
     "end_time": "2023-05-22T11:45:48.096040",
     "exception": false,
     "start_time": "2023-05-22T11:45:47.916270",
     "status": "completed"
    },
    "tags": []
   },
   "outputs": [],
   "source": [
    "y_train = df_train['label']\n",
    "X_train = df_train.loc[:, df_train.columns != 'label']\n",
    "y_test = df_test['label']\n",
    "X_test = df_test.loc[:, df_test.columns != 'label']"
   ]
  },
  {
   "cell_type": "code",
   "execution_count": 4,
   "id": "6529809d",
   "metadata": {
    "execution": {
     "iopub.execute_input": "2023-05-22T11:45:48.105272Z",
     "iopub.status.busy": "2023-05-22T11:45:48.104440Z",
     "iopub.status.idle": "2023-05-22T11:45:48.614884Z",
     "shell.execute_reply": "2023-05-22T11:45:48.613774Z"
    },
    "papermill": {
     "duration": 0.518215,
     "end_time": "2023-05-22T11:45:48.617815",
     "exception": false,
     "start_time": "2023-05-22T11:45:48.099600",
     "status": "completed"
    },
    "tags": []
   },
   "outputs": [],
   "source": [
    "temp = []\n",
    "\n",
    "for entry in y_train:\n",
    "    arr = [0] * 10\n",
    "    arr[entry] = 1\n",
    "    \n",
    "    temp.append(arr)\n",
    "\n",
    "y_train = pd.DataFrame(temp)\n",
    "\n",
    "temp = []\n",
    "\n",
    "for entry in y_test:\n",
    "    arr = [0] * 10\n",
    "    arr[entry] = 1\n",
    "    \n",
    "    temp.append(arr)\n",
    "\n",
    "y_test = pd.DataFrame(temp)"
   ]
  },
  {
   "cell_type": "code",
   "execution_count": 5,
   "id": "73cce5d3",
   "metadata": {
    "execution": {
     "iopub.execute_input": "2023-05-22T11:45:48.626318Z",
     "iopub.status.busy": "2023-05-22T11:45:48.625900Z",
     "iopub.status.idle": "2023-05-22T11:45:55.139011Z",
     "shell.execute_reply": "2023-05-22T11:45:55.137949Z"
    },
    "papermill": {
     "duration": 6.520544,
     "end_time": "2023-05-22T11:45:55.141747",
     "exception": false,
     "start_time": "2023-05-22T11:45:48.621203",
     "status": "completed"
    },
    "tags": []
   },
   "outputs": [],
   "source": [
    "# Create Models\n",
    "\n",
    "import tensorflow as tf\n",
    "from tensorflow import keras\n",
    "from keras import layers, Sequential"
   ]
  },
  {
   "cell_type": "code",
   "execution_count": 6,
   "id": "8e1aecb2",
   "metadata": {
    "execution": {
     "iopub.execute_input": "2023-05-22T11:45:55.150729Z",
     "iopub.status.busy": "2023-05-22T11:45:55.149683Z",
     "iopub.status.idle": "2023-05-22T11:59:18.619325Z",
     "shell.execute_reply": "2023-05-22T11:59:18.617948Z"
    },
    "papermill": {
     "duration": 804.701123,
     "end_time": "2023-05-22T11:59:19.846293",
     "exception": false,
     "start_time": "2023-05-22T11:45:55.145170",
     "status": "completed"
    },
    "tags": []
   },
   "outputs": [
    {
     "name": "stdout",
     "output_type": "stream",
     "text": [
      "Model: \"sequential\"\n",
      "_________________________________________________________________\n",
      "Layer (type)                 Output Shape              Param #   \n",
      "=================================================================\n",
      "dense (Dense)                (None, 784)               615440    \n",
      "_________________________________________________________________\n",
      "dense_1 (Dense)              (None, 784)               615440    \n",
      "_________________________________________________________________\n",
      "dense_2 (Dense)              (None, 450)               353250    \n",
      "_________________________________________________________________\n",
      "dense_3 (Dense)              (None, 450)               202950    \n",
      "_________________________________________________________________\n",
      "dense_4 (Dense)              (None, 10)                4510      \n",
      "=================================================================\n",
      "Total params: 1,791,590\n",
      "Trainable params: 1,791,590\n",
      "Non-trainable params: 0\n",
      "_________________________________________________________________\n",
      "Epoch 1/40\n",
      "1875/1875 [==============================] - 20s 10ms/step - loss: 0.7450 - accuracy: 0.9070 - val_loss: 0.2105 - val_accuracy: 0.9396\n",
      "Epoch 2/40\n",
      "1875/1875 [==============================] - 18s 10ms/step - loss: 0.1802 - accuracy: 0.9499 - val_loss: 0.1929 - val_accuracy: 0.9438\n",
      "Epoch 3/40\n",
      "1875/1875 [==============================] - 19s 10ms/step - loss: 0.1460 - accuracy: 0.9602 - val_loss: 0.1380 - val_accuracy: 0.9663\n",
      "Epoch 4/40\n",
      "1875/1875 [==============================] - 18s 10ms/step - loss: 0.1318 - accuracy: 0.9658 - val_loss: 0.1478 - val_accuracy: 0.9648\n",
      "Epoch 5/40\n",
      "1875/1875 [==============================] - 19s 10ms/step - loss: 0.1105 - accuracy: 0.9716 - val_loss: 0.2131 - val_accuracy: 0.9594\n",
      "Epoch 6/40\n",
      "1875/1875 [==============================] - 19s 10ms/step - loss: 0.1073 - accuracy: 0.9744 - val_loss: 0.1513 - val_accuracy: 0.9658\n",
      "Epoch 7/40\n",
      "1875/1875 [==============================] - 18s 10ms/step - loss: 0.0927 - accuracy: 0.9775 - val_loss: 0.1380 - val_accuracy: 0.9709\n",
      "Epoch 8/40\n",
      "1875/1875 [==============================] - 19s 10ms/step - loss: 0.0833 - accuracy: 0.9802 - val_loss: 0.1300 - val_accuracy: 0.9748\n",
      "Epoch 9/40\n",
      "1875/1875 [==============================] - 18s 10ms/step - loss: 0.0788 - accuracy: 0.9825 - val_loss: 0.1354 - val_accuracy: 0.9734\n",
      "Epoch 10/40\n",
      "1875/1875 [==============================] - 19s 10ms/step - loss: 0.0868 - accuracy: 0.9813 - val_loss: 0.1290 - val_accuracy: 0.9745\n",
      "Epoch 11/40\n",
      "1875/1875 [==============================] - 20s 10ms/step - loss: 0.0684 - accuracy: 0.9842 - val_loss: 0.1213 - val_accuracy: 0.9781\n",
      "Epoch 12/40\n",
      "1875/1875 [==============================] - 19s 10ms/step - loss: 0.0601 - accuracy: 0.9859 - val_loss: 0.1571 - val_accuracy: 0.9719\n",
      "Epoch 13/40\n",
      "1875/1875 [==============================] - 20s 10ms/step - loss: 0.0637 - accuracy: 0.9863 - val_loss: 0.1495 - val_accuracy: 0.9779\n",
      "Epoch 14/40\n",
      "1875/1875 [==============================] - 19s 10ms/step - loss: 0.0679 - accuracy: 0.9859 - val_loss: 0.1527 - val_accuracy: 0.9675\n",
      "Epoch 15/40\n",
      "1875/1875 [==============================] - 20s 11ms/step - loss: 0.0600 - accuracy: 0.9874 - val_loss: 0.1735 - val_accuracy: 0.9669\n",
      "Epoch 16/40\n",
      "1875/1875 [==============================] - 19s 10ms/step - loss: 0.0597 - accuracy: 0.9885 - val_loss: 0.2220 - val_accuracy: 0.9715\n",
      "Epoch 17/40\n",
      "1875/1875 [==============================] - 19s 10ms/step - loss: 0.0486 - accuracy: 0.9894 - val_loss: 0.2719 - val_accuracy: 0.9734\n",
      "Epoch 18/40\n",
      "1875/1875 [==============================] - 20s 11ms/step - loss: 0.0635 - accuracy: 0.9870 - val_loss: 0.1521 - val_accuracy: 0.9747\n",
      "Epoch 19/40\n",
      "1875/1875 [==============================] - 20s 10ms/step - loss: 0.0456 - accuracy: 0.9903 - val_loss: 0.1735 - val_accuracy: 0.9785\n",
      "Epoch 20/40\n",
      "1875/1875 [==============================] - 19s 10ms/step - loss: 0.0482 - accuracy: 0.9895 - val_loss: 0.1420 - val_accuracy: 0.9812\n",
      "Epoch 21/40\n",
      "1875/1875 [==============================] - 20s 11ms/step - loss: 0.0658 - accuracy: 0.9876 - val_loss: 0.2096 - val_accuracy: 0.9792\n",
      "Epoch 22/40\n",
      "1875/1875 [==============================] - 19s 10ms/step - loss: 0.0527 - accuracy: 0.9905 - val_loss: 0.2237 - val_accuracy: 0.9784\n",
      "Epoch 23/40\n",
      "1875/1875 [==============================] - 20s 11ms/step - loss: 0.0477 - accuracy: 0.9915 - val_loss: 0.1830 - val_accuracy: 0.9772\n",
      "Epoch 24/40\n",
      "1875/1875 [==============================] - 20s 10ms/step - loss: 0.0521 - accuracy: 0.9912 - val_loss: 0.1692 - val_accuracy: 0.9761\n",
      "Epoch 25/40\n",
      "1875/1875 [==============================] - 19s 10ms/step - loss: 0.0381 - accuracy: 0.9923 - val_loss: 0.1769 - val_accuracy: 0.9799\n",
      "Epoch 26/40\n",
      "1875/1875 [==============================] - 20s 11ms/step - loss: 0.0598 - accuracy: 0.9915 - val_loss: 0.1933 - val_accuracy: 0.9725\n",
      "Epoch 27/40\n",
      "1875/1875 [==============================] - 20s 11ms/step - loss: 0.0493 - accuracy: 0.9910 - val_loss: 0.2576 - val_accuracy: 0.9700\n",
      "Epoch 28/40\n",
      "1875/1875 [==============================] - 19s 10ms/step - loss: 0.0469 - accuracy: 0.9909 - val_loss: 0.2337 - val_accuracy: 0.9758\n",
      "Epoch 29/40\n",
      "1875/1875 [==============================] - 20s 11ms/step - loss: 0.0427 - accuracy: 0.9921 - val_loss: 0.4812 - val_accuracy: 0.9786\n",
      "Epoch 30/40\n",
      "1875/1875 [==============================] - 19s 10ms/step - loss: 0.0637 - accuracy: 0.9891 - val_loss: 0.1974 - val_accuracy: 0.9746\n",
      "Epoch 31/40\n",
      "1875/1875 [==============================] - 20s 11ms/step - loss: 0.0461 - accuracy: 0.9928 - val_loss: 0.2270 - val_accuracy: 0.9780\n",
      "Epoch 32/40\n",
      "1875/1875 [==============================] - 20s 11ms/step - loss: 0.0597 - accuracy: 0.9901 - val_loss: 0.2357 - val_accuracy: 0.9706\n",
      "Epoch 33/40\n",
      "1875/1875 [==============================] - 20s 10ms/step - loss: 0.0641 - accuracy: 0.9879 - val_loss: 0.7183 - val_accuracy: 0.9691\n",
      "Epoch 34/40\n",
      "1875/1875 [==============================] - 20s 11ms/step - loss: 0.0714 - accuracy: 0.9863 - val_loss: 0.2638 - val_accuracy: 0.9735\n",
      "Epoch 35/40\n",
      "1875/1875 [==============================] - 21s 11ms/step - loss: 0.0553 - accuracy: 0.9908 - val_loss: 0.2717 - val_accuracy: 0.9724\n",
      "Epoch 36/40\n",
      "1875/1875 [==============================] - 20s 11ms/step - loss: 0.0653 - accuracy: 0.9882 - val_loss: 0.2863 - val_accuracy: 0.9660\n",
      "Epoch 37/40\n",
      "1875/1875 [==============================] - 21s 11ms/step - loss: 0.0883 - accuracy: 0.9837 - val_loss: 0.4904 - val_accuracy: 0.9688\n",
      "Epoch 38/40\n",
      "1875/1875 [==============================] - 21s 11ms/step - loss: 0.0738 - accuracy: 0.9878 - val_loss: 0.4990 - val_accuracy: 0.9751\n",
      "Epoch 39/40\n",
      "1875/1875 [==============================] - 19s 10ms/step - loss: 0.0876 - accuracy: 0.9853 - val_loss: 0.2558 - val_accuracy: 0.9557\n",
      "Epoch 40/40\n",
      "1875/1875 [==============================] - 20s 11ms/step - loss: 0.0717 - accuracy: 0.9870 - val_loss: 0.3369 - val_accuracy: 0.9596\n"
     ]
    },
    {
     "data": {
      "text/plain": [
       "<keras.callbacks.History at 0x7e1e2192bb50>"
      ]
     },
     "execution_count": 6,
     "metadata": {},
     "output_type": "execute_result"
    }
   ],
   "source": [
    "model = Sequential()\n",
    "\n",
    "model.add(layers.Dense(784, activation='relu', input_shape=(784,)))\n",
    "\n",
    "model.add(layers.Dense(784, activation='relu'))\n",
    "\n",
    "for i in range(2):\n",
    "    model.add(layers.Dense(450, activation='relu'))\n",
    "          \n",
    "model.add(layers.Dense(10, activation='sigmoid'))\n",
    "\n",
    "model.summary()\n",
    "          \n",
    "model.compile(loss='categorical_crossentropy', optimizer='adam', metrics=['accuracy'])\n",
    "\n",
    "model.fit(X_train, y_train, epochs=40, batch_size=32, validation_data = (X_test, y_test))\n"
   ]
  }
 ],
 "metadata": {
  "kernelspec": {
   "display_name": "Python 3",
   "language": "python",
   "name": "python3"
  },
  "language_info": {
   "codemirror_mode": {
    "name": "ipython",
    "version": 3
   },
   "file_extension": ".py",
   "mimetype": "text/x-python",
   "name": "python",
   "nbconvert_exporter": "python",
   "pygments_lexer": "ipython3",
   "version": "3.7.12"
  },
  "papermill": {
   "default_parameters": {},
   "duration": 835.60107,
   "end_time": "2023-05-22T11:59:24.412176",
   "environment_variables": {},
   "exception": null,
   "input_path": "__notebook__.ipynb",
   "output_path": "__notebook__.ipynb",
   "parameters": {},
   "start_time": "2023-05-22T11:45:28.811106",
   "version": "2.3.4"
  }
 },
 "nbformat": 4,
 "nbformat_minor": 5
}
