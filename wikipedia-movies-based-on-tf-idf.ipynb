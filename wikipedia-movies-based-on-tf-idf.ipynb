{
 "cells": [
  {
   "cell_type": "code",
   "execution_count": 1,
   "id": "b8f98840",
   "metadata": {
    "_cell_guid": "b1076dfc-b9ad-4769-8c92-a6c4dae69d19",
    "_uuid": "8f2839f25d086af736a60e9eeb907d3b93b6e0e5",
    "execution": {
     "iopub.execute_input": "2023-05-22T12:14:44.687026Z",
     "iopub.status.busy": "2023-05-22T12:14:44.686610Z",
     "iopub.status.idle": "2023-05-22T12:14:44.705591Z",
     "shell.execute_reply": "2023-05-22T12:14:44.704165Z"
    },
    "papermill": {
     "duration": 0.030556,
     "end_time": "2023-05-22T12:14:44.710225",
     "exception": false,
     "start_time": "2023-05-22T12:14:44.679669",
     "status": "completed"
    },
    "tags": []
   },
   "outputs": [
    {
     "name": "stdout",
     "output_type": "stream",
     "text": [
      "/kaggle/input/wikipedia-movies/2000s-movies.csv\n",
      "/kaggle/input/wikipedia-movies/2010s-movies.csv\n",
      "/kaggle/input/wikipedia-movies/1990s-movies.csv\n",
      "/kaggle/input/wikipedia-movies/2020s-movies.csv\n",
      "/kaggle/input/wikipedia-movies/1980s-movies.csv\n"
     ]
    }
   ],
   "source": [
    "# This Python 3 environment comes with many helpful analytics libraries installed\n",
    "# It is defined by the kaggle/python Docker image: https://github.com/kaggle/docker-python\n",
    "# For example, here's several helpful packages to load\n",
    "\n",
    "import numpy as np # linear algebra\n",
    "import pandas as pd # data processing, CSV file I/O (e.g. pd.read_csv)\n",
    "\n",
    "# Input data files are available in the read-only \"../input/\" directory\n",
    "# For example, running this (by clicking run or pressing Shift+Enter) will list all files under the input directory\n",
    "\n",
    "import os\n",
    "for dirname, _, filenames in os.walk('/kaggle/input'):\n",
    "    for filename in filenames:\n",
    "        print(os.path.join(dirname, filename))\n",
    "\n",
    "# You can write up to 20GB to the current directory (/kaggle/working/) that gets preserved as output when you create a version using \"Save & Run All\" \n",
    "# You can also write temporary files to /kaggle/temp/, but they won't be saved outside of the current session"
   ]
  },
  {
   "cell_type": "code",
   "execution_count": 2,
   "id": "f9f5a1aa",
   "metadata": {
    "execution": {
     "iopub.execute_input": "2023-05-22T12:14:44.721928Z",
     "iopub.status.busy": "2023-05-22T12:14:44.720808Z",
     "iopub.status.idle": "2023-05-22T12:14:45.987045Z",
     "shell.execute_reply": "2023-05-22T12:14:45.986094Z"
    },
    "papermill": {
     "duration": 1.274825,
     "end_time": "2023-05-22T12:14:45.989842",
     "exception": false,
     "start_time": "2023-05-22T12:14:44.715017",
     "status": "completed"
    },
    "tags": []
   },
   "outputs": [],
   "source": [
    "df = pd.DataFrame(columns=['title', 'image', 'plot'])\n",
    "\n",
    "for dirname, _, filenames in os.walk('/kaggle/input'):\n",
    "    for filename in filenames:\n",
    "        temp = pd.read_csv(f\"{os.path.join(dirname, filename)}\")\n",
    "        df = pd.concat([df, temp], ignore_index=True)"
   ]
  },
  {
   "cell_type": "code",
   "execution_count": 3,
   "id": "3fda5424",
   "metadata": {
    "execution": {
     "iopub.execute_input": "2023-05-22T12:14:46.001612Z",
     "iopub.status.busy": "2023-05-22T12:14:46.000946Z",
     "iopub.status.idle": "2023-05-22T12:14:46.039222Z",
     "shell.execute_reply": "2023-05-22T12:14:46.038025Z"
    },
    "papermill": {
     "duration": 0.047935,
     "end_time": "2023-05-22T12:14:46.042296",
     "exception": false,
     "start_time": "2023-05-22T12:14:45.994361",
     "status": "completed"
    },
    "tags": []
   },
   "outputs": [
    {
     "name": "stdout",
     "output_type": "stream",
     "text": [
      "(15838, 3)\n"
     ]
    },
    {
     "data": {
      "text/html": [
       "<div>\n",
       "<style scoped>\n",
       "    .dataframe tbody tr th:only-of-type {\n",
       "        vertical-align: middle;\n",
       "    }\n",
       "\n",
       "    .dataframe tbody tr th {\n",
       "        vertical-align: top;\n",
       "    }\n",
       "\n",
       "    .dataframe thead th {\n",
       "        text-align: right;\n",
       "    }\n",
       "</style>\n",
       "<table border=\"1\" class=\"dataframe\">\n",
       "  <thead>\n",
       "    <tr style=\"text-align: right;\">\n",
       "      <th></th>\n",
       "      <th>title</th>\n",
       "      <th>image</th>\n",
       "      <th>plot</th>\n",
       "    </tr>\n",
       "  </thead>\n",
       "  <tbody>\n",
       "    <tr>\n",
       "      <th>0</th>\n",
       "      <td>1 Day</td>\n",
       "      <td>https://upload.wikimedia.org/wikipedia/en/c/c7...</td>\n",
       "      <td>Flash (Dylan Duffus) receives a phone call fro...</td>\n",
       "    </tr>\n",
       "    <tr>\n",
       "      <th>1</th>\n",
       "      <td>1 Night in China</td>\n",
       "      <td>https://upload.wikimedia.org/wikipedia/en/5/53...</td>\n",
       "      <td>The film features scenes of Laurer and Waltman...</td>\n",
       "    </tr>\n",
       "    <tr>\n",
       "      <th>2</th>\n",
       "      <td>2 Fast 2 Furious</td>\n",
       "      <td>https://upload.wikimedia.org/wikipedia/en/9/9d...</td>\n",
       "      <td>After aiding known felon Dominic Toretto in hi...</td>\n",
       "    </tr>\n",
       "    <tr>\n",
       "      <th>3</th>\n",
       "      <td>2B (film)</td>\n",
       "      <td>https://upload.wikimedia.org/wikipedia/en/3/3f...</td>\n",
       "      <td>Set in the near future, 2B portrays a familiar...</td>\n",
       "    </tr>\n",
       "    <tr>\n",
       "      <th>4</th>\n",
       "      <td>3 A.M. (2001 film)</td>\n",
       "      <td>https://upload.wikimedia.org/wikipedia/en/a/a7...</td>\n",
       "      <td>New York City taxi drivers Hershey, Rasha, and...</td>\n",
       "    </tr>\n",
       "  </tbody>\n",
       "</table>\n",
       "</div>"
      ],
      "text/plain": [
       "                title                                              image  \\\n",
       "0               1 Day  https://upload.wikimedia.org/wikipedia/en/c/c7...   \n",
       "1    1 Night in China  https://upload.wikimedia.org/wikipedia/en/5/53...   \n",
       "2    2 Fast 2 Furious  https://upload.wikimedia.org/wikipedia/en/9/9d...   \n",
       "3           2B (film)  https://upload.wikimedia.org/wikipedia/en/3/3f...   \n",
       "4  3 A.M. (2001 film)  https://upload.wikimedia.org/wikipedia/en/a/a7...   \n",
       "\n",
       "                                                plot  \n",
       "0  Flash (Dylan Duffus) receives a phone call fro...  \n",
       "1  The film features scenes of Laurer and Waltman...  \n",
       "2  After aiding known felon Dominic Toretto in hi...  \n",
       "3  Set in the near future, 2B portrays a familiar...  \n",
       "4  New York City taxi drivers Hershey, Rasha, and...  "
      ]
     },
     "execution_count": 3,
     "metadata": {},
     "output_type": "execute_result"
    }
   ],
   "source": [
    "print(df.shape)\n",
    "df.head()"
   ]
  },
  {
   "cell_type": "code",
   "execution_count": 4,
   "id": "8b6d1770",
   "metadata": {
    "execution": {
     "iopub.execute_input": "2023-05-22T12:14:46.054255Z",
     "iopub.status.busy": "2023-05-22T12:14:46.053749Z",
     "iopub.status.idle": "2023-05-22T12:14:46.115637Z",
     "shell.execute_reply": "2023-05-22T12:14:46.114047Z"
    },
    "papermill": {
     "duration": 0.071971,
     "end_time": "2023-05-22T12:14:46.119048",
     "exception": false,
     "start_time": "2023-05-22T12:14:46.047077",
     "status": "completed"
    },
    "tags": []
   },
   "outputs": [],
   "source": [
    "df['plot'] = df['plot'].str[:3000]"
   ]
  },
  {
   "cell_type": "code",
   "execution_count": 5,
   "id": "90483b29",
   "metadata": {
    "execution": {
     "iopub.execute_input": "2023-05-22T12:14:46.131804Z",
     "iopub.status.busy": "2023-05-22T12:14:46.131352Z",
     "iopub.status.idle": "2023-05-22T12:14:46.167610Z",
     "shell.execute_reply": "2023-05-22T12:14:46.166179Z"
    },
    "papermill": {
     "duration": 0.046098,
     "end_time": "2023-05-22T12:14:46.170857",
     "exception": false,
     "start_time": "2023-05-22T12:14:46.124759",
     "status": "completed"
    },
    "tags": []
   },
   "outputs": [
    {
     "data": {
      "text/plain": [
       "title    15838\n",
       "image    15838\n",
       "plot     15838\n",
       "dtype: int64"
      ]
     },
     "execution_count": 5,
     "metadata": {},
     "output_type": "execute_result"
    }
   ],
   "source": [
    "df.count()"
   ]
  },
  {
   "cell_type": "markdown",
   "id": "cd28fb25",
   "metadata": {
    "papermill": {
     "duration": 0.004544,
     "end_time": "2023-05-22T12:14:46.180479",
     "exception": false,
     "start_time": "2023-05-22T12:14:46.175935",
     "status": "completed"
    },
    "tags": []
   },
   "source": [
    "Implement TF-IDF"
   ]
  },
  {
   "cell_type": "code",
   "execution_count": 6,
   "id": "3e698391",
   "metadata": {
    "execution": {
     "iopub.execute_input": "2023-05-22T12:14:46.192416Z",
     "iopub.status.busy": "2023-05-22T12:14:46.191921Z",
     "iopub.status.idle": "2023-05-22T12:15:17.025774Z",
     "shell.execute_reply": "2023-05-22T12:15:17.024113Z"
    },
    "papermill": {
     "duration": 30.844211,
     "end_time": "2023-05-22T12:15:17.029590",
     "exception": false,
     "start_time": "2023-05-22T12:14:46.185379",
     "status": "completed"
    },
    "tags": []
   },
   "outputs": [
    {
     "name": "stderr",
     "output_type": "stream",
     "text": [
      "/opt/conda/lib/python3.10/site-packages/scipy/__init__.py:146: UserWarning: A NumPy version >=1.16.5 and <1.23.0 is required for this version of SciPy (detected version 1.23.5\n",
      "  warnings.warn(f\"A NumPy version >={np_minversion} and <{np_maxversion}\"\n"
     ]
    }
   ],
   "source": [
    "from sklearn.feature_extraction.text import TfidfVectorizer\n",
    "from sklearn.metrics.pairwise import cosine_similarity\n",
    "\n",
    "# Create a TF-IDF vectorizer\n",
    "tfidf = TfidfVectorizer(stop_words='english')\n",
    "\n",
    "# Fit and transform the plot column to TF-IDF vectors\n",
    "tfidf_matrix = tfidf.fit_transform(df['title'] + ' ' + df['plot'])\n",
    "\n",
    "# Compute cosine similarity matrix\n",
    "cosine_sim = cosine_similarity(tfidf_matrix, tfidf_matrix)"
   ]
  },
  {
   "cell_type": "markdown",
   "id": "e327b44d",
   "metadata": {
    "papermill": {
     "duration": 0.005006,
     "end_time": "2023-05-22T12:15:17.040612",
     "exception": false,
     "start_time": "2023-05-22T12:15:17.035606",
     "status": "completed"
    },
    "tags": []
   },
   "source": [
    "Generated a N X N matrix of similarity scores"
   ]
  },
  {
   "cell_type": "code",
   "execution_count": 7,
   "id": "96098ec6",
   "metadata": {
    "execution": {
     "iopub.execute_input": "2023-05-22T12:15:17.053470Z",
     "iopub.status.busy": "2023-05-22T12:15:17.052959Z",
     "iopub.status.idle": "2023-05-22T12:15:17.061638Z",
     "shell.execute_reply": "2023-05-22T12:15:17.060392Z"
    },
    "papermill": {
     "duration": 0.017868,
     "end_time": "2023-05-22T12:15:17.064150",
     "exception": false,
     "start_time": "2023-05-22T12:15:17.046282",
     "status": "completed"
    },
    "tags": []
   },
   "outputs": [
    {
     "data": {
      "text/plain": [
       "(15838, 15838)"
      ]
     },
     "execution_count": 7,
     "metadata": {},
     "output_type": "execute_result"
    }
   ],
   "source": [
    "cosine_sim.shape"
   ]
  },
  {
   "cell_type": "code",
   "execution_count": null,
   "id": "e6e08cf3",
   "metadata": {
    "papermill": {
     "duration": 0.00482,
     "end_time": "2023-05-22T12:15:17.074121",
     "exception": false,
     "start_time": "2023-05-22T12:15:17.069301",
     "status": "completed"
    },
    "tags": []
   },
   "outputs": [],
   "source": []
  }
 ],
 "metadata": {
  "kernelspec": {
   "display_name": "Python 3",
   "language": "python",
   "name": "python3"
  },
  "language_info": {
   "codemirror_mode": {
    "name": "ipython",
    "version": 3
   },
   "file_extension": ".py",
   "mimetype": "text/x-python",
   "name": "python",
   "nbconvert_exporter": "python",
   "pygments_lexer": "ipython3",
   "version": "3.10.10"
  },
  "papermill": {
   "default_parameters": {},
   "duration": 47.852852,
   "end_time": "2023-05-22T12:15:18.506366",
   "environment_variables": {},
   "exception": null,
   "input_path": "__notebook__.ipynb",
   "output_path": "__notebook__.ipynb",
   "parameters": {},
   "start_time": "2023-05-22T12:14:30.653514",
   "version": "2.4.0"
  }
 },
 "nbformat": 4,
 "nbformat_minor": 5
}
